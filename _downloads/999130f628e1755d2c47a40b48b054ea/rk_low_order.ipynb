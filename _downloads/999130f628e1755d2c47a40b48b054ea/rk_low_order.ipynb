{
  "cells": [
    {
      "cell_type": "markdown",
      "metadata": {},
      "source": [
        "\n# Comparing Runge-Kutta Methods\n\nHow simple can a Runge-Kutta method get to still yield \"good\" performance for attitude propagation?\n"
      ]
    },
    {
      "cell_type": "code",
      "execution_count": null,
      "metadata": {
        "collapsed": false
      },
      "outputs": [],
      "source": [
        "import time\n\nimport numpy as np\n\nimport mirage as mr\n\n\ndef omega_dot(w: np.ndarray, itensor: np.ndarray) -> np.ndarray:\n    wdot = np.array([0.0, 0.0, 0.0])\n    wdot[0] = -1 / itensor[0] * (itensor[2] - itensor[1]) * w[1] * w[2]\n    wdot[1] = -1 / itensor[1] * (itensor[0] - itensor[2]) * w[2] * w[0]\n    wdot[2] = -1 / itensor[2] * (itensor[1] - itensor[0]) * w[0] * w[1]\n    return wdot\n\n\ndef mrp_kde(s: np.ndarray, w: np.ndarray) -> np.ndarray:\n    s1, s2, s3 = s[0], s[1], s[2]\n    s12 = s1**2\n    s22 = s2**2\n    s32 = s3**2\n\n    m = (\n        1\n        / 4\n        * np.array(\n            [\n                [1 + s12 - s22 - s32, 2 * (s1 * s2 - s3), 2 * (s1 * s3 + s2)],\n                [2 * (s1 * s2 + s3), 1 - s12 + s22 - s32, 2 * (s2 * s3 - s1)],\n                [2 * (s1 * s3 - s2), 2 * (s2 * s3 + s1), 1 - s12 - s22 + s32],\n            ]\n        )\n    )\n    return m @ w\n\n\ndef tilde(v: np.ndarray) -> np.ndarray:\n    return np.array([[0.0, -v[2], v[1]], [v[2], 0.0, -v[0]], [-v[1], v[0], 0.0]])\n\n\ndef state_derivative_mrp(x, itensor):\n    xdot = 0 * x\n    s = x[:3]\n    w = x[3:6]\n    xdot[:3] = mrp_kde(s, w)\n    xdot[3:6] = omega_dot(w, itensor)\n    return xdot\n\n\ndef rk4_step(x0, h, itensor):\n    k1 = h * state_derivative_mrp(x0, itensor)\n    k2 = h * state_derivative_mrp(x0 + k1 / 2, itensor)\n    k3 = h * state_derivative_mrp(x0 + k2 / 2, itensor)\n    k4 = h * state_derivative_mrp(x0 + k3, itensor)\n    return x0 + k1 / 6 + k2 / 3 + k3 / 3 + k4 / 6\n\n\ndef rk2_step(x0, h, itensor):\n    k1 = h * state_derivative_mrp(x0, itensor)\n    k2 = h * state_derivative_mrp(x0 + k1 / 2, itensor)\n    return x0 + k2\n\n\ndef rk3_step(x0, h, itensor):\n    k1 = h * state_derivative_mrp(x0, itensor)\n    k2 = h * state_derivative_mrp(x0 + k1 / 2, itensor)\n    k3 = h * state_derivative_mrp(x0 + 2 * k2 - k1, itensor)\n    return x0 + 1 / 6 * (k1 + 4 * k2 + k3)\n\n\ndef integrate(x0: np.ndarray, h: float, intensor: np.ndarray, ntimes: int, method: str):\n    x0 = x0.copy()\n\n    t1 = time.time()\n    for _ in range(ntimes):\n        if method.lower() == 'rk2':\n            x0 = rk2_step(x0, h, itensor)\n        if method.lower() == 'rk3':\n            x0 = rk3_step(x0, h, itensor)\n        if method.lower() == 'rk4':\n            x0 = rk4_step(x0, h, itensor)\n\n    return x0, time.time() - t1\n\n\nif __name__ == '__main__':\n    h = 0.1\n    ntimes = 100\n    teval = np.linspace(0, h * ntimes, ntimes)\n\n    itensor = np.array([1.0, 2.0, 3.0])\n    s0 = np.array([1.0, 1.0, 1.0])\n    w0 = np.array([1.0, 4.0, 2.0])\n    q0 = mr.mrp_to_quat(s0)\n    x0 = np.concatenate((s0, w0))\n\n    xf, dt2 = integrate(x0, h, itensor, ntimes, method='rk2')\n    qf_rk2 = mr.mrp_to_quat(xf[:3])\n\n    xf, dt3 = integrate(x0, h, itensor, ntimes, method='rk3')\n    qf_rk3 = mr.mrp_to_quat(xf[:3])\n\n    xf, dt4 = integrate(x0, h, itensor, ntimes, method='rk4')\n    qf_rk4 = mr.mrp_to_quat(xf[:3])\n\n    mr.tic('RK45 time: ')\n    q_of_t, w_of_t = mr.integrate_rigid_attitude_dynamics(\n        q0, w0, np.diag(itensor), teval\n    )\n    mr.toc()\n    qf_rk45 = q_of_t[-1, :]\n\n    ang_deg = np.rad2deg(mr.quat_ang(qf_rk45, qf_rk2))\n    print(f'RK2 is {ang_deg:.2e} deg from RK45 in {dt2:.1e} sec')\n\n    ang_deg = np.rad2deg(mr.quat_ang(qf_rk45, qf_rk3))\n    print(f'RK3 is {ang_deg:.2e} deg from RK45 in {dt3:.1e} sec')\n\n    ang_deg = np.rad2deg(mr.quat_ang(qf_rk45, qf_rk4))\n    print(f'RK4 is {ang_deg:.2e} deg from RK45 in {dt4:.1e} sec')\n\n    obj = mr.SpaceObject('tess.obj')\n    # mrv.vis_attitude_motion(obj, q_of_t, framerate=30)"
      ]
    }
  ],
  "metadata": {
    "kernelspec": {
      "display_name": "Python 3",
      "language": "python",
      "name": "python3"
    },
    "language_info": {
      "codemirror_mode": {
        "name": "ipython",
        "version": 3
      },
      "file_extension": ".py",
      "mimetype": "text/x-python",
      "name": "python",
      "nbconvert_exporter": "python",
      "pygments_lexer": "ipython3",
      "version": "3.12.7"
    }
  },
  "nbformat": 4,
  "nbformat_minor": 0
}