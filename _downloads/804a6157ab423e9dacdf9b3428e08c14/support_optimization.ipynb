{
  "cells": [
    {
      "cell_type": "markdown",
      "metadata": {},
      "source": [
        "\n# Support Optimization Comparison\n\nComparing Durech and Kaasalainen's light curve inversion code to mine\n"
      ]
    },
    {
      "cell_type": "code",
      "execution_count": null,
      "metadata": {
        "collapsed": false
      },
      "outputs": [],
      "source": [
        "import numpy as np\n\nimport mirage as mr\n\nnum = 100\nns = mr.spiral_sample_sphere(num).reshape(-1, 3)\nns = ns[np.random.permutation(num), :]\naz = np.random.random(num) ** 2\n\negi = ns * az[:, None]\negi -= np.sum(egi, axis=0) / num\nns = mr.hat(egi)\n\nmr.tic()\nobj = mr.construct_mesh_from_egi(egi, implementation='fortran')\nmr.toc()\n\nimport pyvista as pv\n\npl = pv.Plotter()\npl.add_mesh(obj._mesh)\npl.show()"
      ]
    }
  ],
  "metadata": {
    "kernelspec": {
      "display_name": "Python 3",
      "language": "python",
      "name": "python3"
    },
    "language_info": {
      "codemirror_mode": {
        "name": "ipython",
        "version": 3
      },
      "file_extension": ".py",
      "mimetype": "text/x-python",
      "name": "python",
      "nbconvert_exporter": "python",
      "pygments_lexer": "ipython3",
      "version": "3.11.9"
    }
  },
  "nbformat": 4,
  "nbformat_minor": 0
}