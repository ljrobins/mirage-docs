{
  "cells": [
    {
      "cell_type": "markdown",
      "metadata": {},
      "source": [
        "\n# Space Weather\n\nPlotting the $K_p$, $A_p$, and F10.7 space weather indices\n"
      ]
    },
    {
      "cell_type": "code",
      "execution_count": null,
      "metadata": {
        "collapsed": false
      },
      "outputs": [],
      "source": [
        "import datetime\nimport os\n\nimport matplotlib.pyplot as plt\nimport pandas as pd\n\nimport mirage as mr\nimport mirage.vis as mrv"
      ]
    },
    {
      "cell_type": "markdown",
      "metadata": {},
      "source": [
        "Loading the space weather file and extracting the dates and indices\n\n"
      ]
    },
    {
      "cell_type": "code",
      "execution_count": null,
      "metadata": {
        "collapsed": false
      },
      "outputs": [],
      "source": [
        "urls_and_dirs = {\n    'https://celestrak.org/SpaceData/SW-Last5Years.csv': os.environ['DATADIR']\n}\n\nfor url, dir in urls_and_dirs.items():\n    mr.save_file_from_url(url, dir)\n\nsw_file_path = os.path.join(os.environ['DATADIR'], 'SW-Last5Years.csv')\nsw_df = pd.read_csv(sw_file_path, header=0)\ndates = [datetime.datetime.strptime(x, '%Y-%m-%d') for x in sw_df['DATE']]\nf107_1au = sw_df['F10.7_ADJ']\nf107_obs = sw_df['F10.7_OBS']\nap = sw_df['AP_AVG']\nkp = sw_df['KP_SUM']"
      ]
    },
    {
      "cell_type": "markdown",
      "metadata": {},
      "source": [
        "Plotting F10.7 radio flux\n\n"
      ]
    },
    {
      "cell_type": "code",
      "execution_count": null,
      "metadata": {
        "collapsed": false
      },
      "outputs": [],
      "source": [
        "plt.scatter(dates, f107_1au, s=1)\nplt.scatter(dates, f107_obs, s=1)\nmrv.texit('F10.7 Radio Flux', 'Date', 'F10.7', ['1 AU', 'Observed'])\nplt.show()"
      ]
    },
    {
      "cell_type": "markdown",
      "metadata": {},
      "source": [
        "Plotting the geomagnetic index $K_p$\n\n"
      ]
    },
    {
      "cell_type": "code",
      "execution_count": null,
      "metadata": {
        "collapsed": false
      },
      "outputs": [],
      "source": [
        "plt.scatter(dates, ap, s=1)\nmrv.texit('Equivalent Amplitude $A_p$', 'Date', '$A_p$')\nplt.show()"
      ]
    },
    {
      "cell_type": "markdown",
      "metadata": {},
      "source": [
        "Plotting the geomagnetic index $K_p$\n\n"
      ]
    },
    {
      "cell_type": "code",
      "execution_count": null,
      "metadata": {
        "collapsed": false
      },
      "outputs": [],
      "source": [
        "plt.scatter(dates, kp, s=1)\nmrv.texit('Range Index $K_p$', 'Date', '$K_p$')\nplt.show()"
      ]
    },
    {
      "cell_type": "markdown",
      "metadata": {},
      "source": [
        "Reference for the CSV format found [at CelesTrak](https://celestrak.org/SpaceData/SpaceWx-format.php)\n\n"
      ]
    }
  ],
  "metadata": {
    "kernelspec": {
      "display_name": "Python 3",
      "language": "python",
      "name": "python3"
    },
    "language_info": {
      "codemirror_mode": {
        "name": "ipython",
        "version": 3
      },
      "file_extension": ".py",
      "mimetype": "text/x-python",
      "name": "python",
      "nbconvert_exporter": "python",
      "pygments_lexer": "ipython3",
      "version": "3.11.10"
    }
  },
  "nbformat": 4,
  "nbformat_minor": 0
}