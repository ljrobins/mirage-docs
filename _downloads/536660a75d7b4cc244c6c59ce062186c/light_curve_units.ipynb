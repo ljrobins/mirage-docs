{
  "cells": [
    {
      "cell_type": "markdown",
      "metadata": {},
      "source": [
        "\n# Light Curve Units\n\nExpressing the same light curve in different units.\n"
      ]
    },
    {
      "cell_type": "code",
      "execution_count": null,
      "metadata": {
        "collapsed": false
      },
      "outputs": [],
      "source": [
        "import datetime\nfrom typing import Any\n\nimport matplotlib.pyplot as plt\nimport numpy as np\nimport seaborn as sns\n\nimport mirage as mr\nimport mirage.vis as mrv\n\n\ndef aligned_nadir_constrained_sun_attitude(\n    obj: mr.SpaceObject, dates: np.ndarray[datetime.datetime, Any]\n) -> mr.AlignedAndConstrainedAttitude:\n    r_obj_j2k = obj.propagate(dates)\n    sv = mr.sun(dates)\n    nadir = -mr.hat(r_obj_j2k)\n    return mr.AlignedAndConstrainedAttitude(\n        v_align=nadir, v_const=sv, dates=dates, axis_order=(1, 2, 0)\n    )"
      ]
    },
    {
      "cell_type": "markdown",
      "metadata": {},
      "source": [
        "Setting up analysis times\n\n"
      ]
    },
    {
      "cell_type": "code",
      "execution_count": null,
      "metadata": {
        "collapsed": false
      },
      "outputs": [],
      "source": [
        "date_start = mr.utc(2023, 5, 26)\n(dates, epsecs) = mr.date_arange(\n    date_start - mr.days(1), date_start, mr.seconds(100), return_epsecs=True\n)\nephr = epsecs / 3600  # Epoch hours\nintegration_time_s = 10.0  # Seconds"
      ]
    },
    {
      "cell_type": "markdown",
      "metadata": {},
      "source": [
        "Setting up the scenario objects\n\n"
      ]
    },
    {
      "cell_type": "code",
      "execution_count": null,
      "metadata": {
        "collapsed": false
      },
      "outputs": [],
      "source": [
        "obj = mr.SpaceObject('matlib_hylas4.obj', identifier='goes 15')\nbrdf = mr.Brdf('phong')\nstation = mr.Station(preset='pogs')\n# Observing from the Purdue Optical Ground Station in New Mexico"
      ]
    },
    {
      "cell_type": "markdown",
      "metadata": {},
      "source": [
        "Defining observation constraints on the station\n\n"
      ]
    },
    {
      "cell_type": "code",
      "execution_count": null,
      "metadata": {
        "collapsed": false
      },
      "outputs": [],
      "source": [
        "station.constraints = [\n    mr.SnrConstraint(3),\n    mr.ElevationConstraint(10),\n    mr.TargetIlluminatedConstraint(),\n    mr.ObserverEclipseConstraint(station),\n    mr.VisualMagnitudeConstraint(18),\n    mr.MoonExclusionConstraint(30),\n]"
      ]
    },
    {
      "cell_type": "markdown",
      "metadata": {},
      "source": [
        "Defining the object's attitude profile and mass properties\n\n"
      ]
    },
    {
      "cell_type": "code",
      "execution_count": null,
      "metadata": {
        "collapsed": false
      },
      "outputs": [],
      "source": [
        "obj_attitude = aligned_nadir_constrained_sun_attitude(obj, dates)"
      ]
    },
    {
      "cell_type": "markdown",
      "metadata": {},
      "source": [
        "Computing the full noisy light curve\n\n"
      ]
    },
    {
      "cell_type": "code",
      "execution_count": null,
      "metadata": {
        "collapsed": false
      },
      "outputs": [],
      "source": [
        "(lc_noisy_sampler, aux_data) = station.observe_light_curve(\n    obj,\n    obj_attitude,\n    brdf,\n    dates,\n    integration_time_s,\n    use_engine=True,\n    model_scale_factor=1,\n    show_window=True,\n    instances=1,\n    rotate_panels=True,\n)\nlc_noisy = lc_noisy_sampler()"
      ]
    },
    {
      "cell_type": "markdown",
      "metadata": {},
      "source": [
        "Extracting data and plotting results\n\n"
      ]
    },
    {
      "cell_type": "code",
      "execution_count": null,
      "metadata": {
        "collapsed": false
      },
      "outputs": [],
      "source": [
        "lc_clean = aux_data['lc_clean']\nsint = aux_data['sint']\n\nplt.figure(figsize=(10, 8))\nplt.subplot(4, 1, 1)\nsns.scatterplot(x=ephr, y=lc_noisy, linewidth=0.05, size=0.1)\n# sns.scatterplot(x=ephr, y=lc_clean, linewidth=0.05, size=0.05, color=\"k\")\nplt.xlim((0, np.max(ephr)))\nmrv.texit(\n    'Synthetic GOES 15 Light Curves',\n    '',\n    r'$\\left[\\mathrm{ADU} \\right]$',\n    ['Measurements'],\n)\n\nlc_noisy_irrad = lc_noisy / (sint * integration_time_s)\nlc_clean_irrad = lc_clean / (sint * integration_time_s)\nplt.subplot(4, 1, 2)\nsns.scatterplot(x=ephr, y=lc_noisy_irrad, linewidth=0.05, size=0.2)\n# sns.scatterplot(x=ephr, y=lc_clean_irrad, linewidth=0.05, size=0.1, color=\"k\")\nmrv.texit(\n    '',\n    '',\n    r'$I \\: \\left[ \\frac{W}{m^2} \\right]$',\n)\nplt.xlim((0, np.max(ephr)))\n\nlc_noisy_irrad_unit = lc_noisy_irrad * (aux_data['rmag_station_to_sat'] * 1e3) ** 2\nlc_clean_irrad_unit = lc_clean_irrad * (aux_data['rmag_station_to_sat'] * 1e3) ** 2\nplt.subplot(4, 1, 3)\nsns.scatterplot(x=ephr, y=lc_noisy_irrad_unit, linewidth=0.05, size=0.2)\n# sns.scatterplot(x=ephr, y=lc_clean_irrad_unit, linewidth=0.05, size=0.1, color=\"k\")\nmrv.texit(\n    '',\n    '',\n    r'$\\hat{I}$ [nondim]',\n)\nplt.xlim((0, np.max(ephr)))\n\nlc_noisy_mag = mr.irradiance_to_apparent_magnitude(lc_noisy_irrad)\nlc_clean_mag = mr.irradiance_to_apparent_magnitude(lc_clean_irrad)\nplt.subplot(4, 1, 4)\nsns.scatterplot(x=ephr, y=lc_noisy_mag, linewidth=0.05, size=0.05)\n# sns.scatterplot(x=ephr, y=lc_clean_mag, linewidth=0.05, size=0.1, color=\"k\")\nmrv.texit(\n    '',\n    f\"Hours after {date_start.strftime('%Y-%m-%d %H:%M:%S UTC')}\",\n    '$m$ [nondim]',\n)\nplt.xlim((0, np.max(ephr)))\nplt.tight_layout()\nplt.show()"
      ]
    }
  ],
  "metadata": {
    "kernelspec": {
      "display_name": "Python 3",
      "language": "python",
      "name": "python3"
    },
    "language_info": {
      "codemirror_mode": {
        "name": "ipython",
        "version": 3
      },
      "file_extension": ".py",
      "mimetype": "text/x-python",
      "name": "python",
      "nbconvert_exporter": "python",
      "pygments_lexer": "ipython3",
      "version": "3.11.10"
    }
  },
  "nbformat": 4,
  "nbformat_minor": 0
}