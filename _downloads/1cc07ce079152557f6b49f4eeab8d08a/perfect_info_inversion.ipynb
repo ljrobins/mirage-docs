{
  "cells": [
    {
      "cell_type": "markdown",
      "metadata": {},
      "source": [
        "\n# Perfect Information Inversion\n\nProviding a near-perfect brightness function, let's see how well we can recover the object's shape.\n"
      ]
    },
    {
      "cell_type": "code",
      "execution_count": null,
      "metadata": {
        "collapsed": false
      },
      "outputs": [],
      "source": [
        "import pyvista as pv\n\nimport mirage as mr\nimport mirage.vis as mrv\n\nn = int(1e4)\nsvb = mr.rand_unit_vectors(n)\novb = mr.rand_unit_vectors(n)\n\nbrdf = mr.Brdf('phong', 0.5, 0.5, 5)\n\nobj = mr.SpaceObject('cube.obj')\n\nbf = obj.convex_light_curve(brdf, svb, ovb)\n\negi = mr.optimize_egi(bf, svb, ovb, brdf)\n\nobj_rec = mr.construct_mesh_from_egi(egi)\n\npl = pv.Plotter()\nmrv.render_spaceobject(pl, obj)\nmrv.render_spaceobject(pl, obj_rec, color='red')\n\npl.show()"
      ]
    }
  ],
  "metadata": {
    "kernelspec": {
      "display_name": "Python 3",
      "language": "python",
      "name": "python3"
    },
    "language_info": {
      "codemirror_mode": {
        "name": "ipython",
        "version": 3
      },
      "file_extension": ".py",
      "mimetype": "text/x-python",
      "name": "python",
      "nbconvert_exporter": "python",
      "pygments_lexer": "ipython3",
      "version": "3.11.10"
    }
  },
  "nbformat": 4,
  "nbformat_minor": 0
}