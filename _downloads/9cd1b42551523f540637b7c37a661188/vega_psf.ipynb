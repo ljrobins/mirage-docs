{
  "cells": [
    {
      "cell_type": "markdown",
      "metadata": {},
      "source": [
        "\n# Vega PSF\n\nPlotting the point spread function of Vega\n"
      ]
    },
    {
      "cell_type": "code",
      "execution_count": null,
      "metadata": {
        "collapsed": false
      },
      "outputs": [],
      "source": [
        "import matplotlib.pyplot as plt\nimport numpy as np\nfrom matplotlib import colormaps\n\nimport mirage as mr\nimport mirage.vis as mrv\n\nstation = mr.Station()\ncatalog = mr.GaiaSpectralStarCatalog(station)\ninfo = mr.info_from_fits(\n    '/Volumes/Data 1/imgs/pogs/data_cal_qe/00168954.Mouse_click_position.fit',\n)\n\ncmap = colormaps['gray']\n\nplt.figure()\nim = plt.imshow(np.log10(info['ccd_adu']), cmap=cmap)\nim.set_clim(0, np.log10(station.telescope.ccd.full_well_capacity_adu - 2000))\nim.cmap.set_bad('k')\nim.cmap.set_over('m')\n\nplt.xlim(1430, 1690)\nplt.ylim(1232, 1028)\nmrv.texit('Vega', '', '', grid=False)\nplt.colorbar(\n    cax=mrv.get_cbar_ax(), label=r'$\\log_{10}\\left[ \\text{ADU} \\right]$', extend='both'\n)\n# plt.show()"
      ]
    },
    {
      "cell_type": "markdown",
      "metadata": {},
      "source": [
        "Let's mask out the central portion of the signal\n\n"
      ]
    },
    {
      "cell_type": "code",
      "execution_count": null,
      "metadata": {
        "collapsed": false
      },
      "outputs": [],
      "source": [
        "image = info['ccd_adu'][1028:1232, 1430:1690].astype(np.float64)\nxx, yy = np.meshgrid(\n    np.arange(image.shape[0]), np.arange(image.shape[1]), indexing='ij'\n)\nmax_coords = np.round(\n    [np.sum(xx * image / np.sum(image)), np.sum(yy * image / np.sum(image))]\n).astype(int)\nr = np.sqrt((xx - max_coords[0]) ** 2 + (yy - max_coords[1]) ** 2)\nimage = np.ma.array(image, mask=r < 15)\n\nplt.figure()\nplt.imshow(np.log10(image))\nplt.show()"
      ]
    }
  ],
  "metadata": {
    "kernelspec": {
      "display_name": "Python 3",
      "language": "python",
      "name": "python3"
    },
    "language_info": {
      "codemirror_mode": {
        "name": "ipython",
        "version": 3
      },
      "file_extension": ".py",
      "mimetype": "text/x-python",
      "name": "python",
      "nbconvert_exporter": "python",
      "pygments_lexer": "ipython3",
      "version": "3.11.9"
    }
  },
  "nbformat": 4,
  "nbformat_minor": 0
}