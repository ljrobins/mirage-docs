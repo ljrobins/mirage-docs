{
  "cells": [
    {
      "cell_type": "markdown",
      "metadata": {},
      "source": [
        "\n# Types of Light Curves\n\nPlotting light curves for a variety of object types and attitude profiles\n"
      ]
    },
    {
      "cell_type": "code",
      "execution_count": null,
      "metadata": {
        "collapsed": false
      },
      "outputs": [],
      "source": [
        "# isort: off\n\nimport datetime\nfrom typing import Any\n\nimport matplotlib.pyplot as plt\nimport numpy as np\nimport pyvista as pv\nfrom matplotlib.animation import FuncAnimation\nimport mirage as mr\nimport mirage.vis as mrv\nfrom PIL import Image"
      ]
    },
    {
      "cell_type": "markdown",
      "metadata": {},
      "source": [
        "Case 1: The light curve of a cube\n\n"
      ]
    },
    {
      "cell_type": "code",
      "execution_count": null,
      "metadata": {
        "collapsed": false
      },
      "outputs": [],
      "source": [
        "integration_time_s = 1.0  # seconds\nobj = mr.SpaceObject('cube.obj', identifier='GOES 15')\n\npl = pv.Plotter()\nmrv.render_spaceobject(pl, obj)\nmrv.plot_basis(\n    pl,\n    np.eye(3),\n    labels=['$\\hat{x}$', '$\\hat{y}$', '$\\hat{z}$'],\n    scale=np.max(mr.vecnorm(obj.v)),\n    shape_opacity=0.5,\n)\npl.show_bounds()\npl.show()"
      ]
    },
    {
      "cell_type": "markdown",
      "metadata": {},
      "source": [
        "Setup\n\n"
      ]
    },
    {
      "cell_type": "code",
      "execution_count": null,
      "metadata": {
        "collapsed": false
      },
      "outputs": [],
      "source": [
        "station = mr.Station(preset='pogs')\nbrdf = mr.Brdf(name='phong', cd=0.7, cs=0.3, n=5)\nattitude = mr.RbtfAttitude(\n    w0=0.1 * mr.hat(np.array([[1.0, 2.0, 1.0]])),\n    q0=np.array([0.0, 0.0, 0.0, 1.0]),\n    itensor=np.diag([1.0, 2.0, 3.0]),\n)\nidate = mr.utc(2023, 3, 26, 5)\ndates, epsecs = mr.date_arange(\n    idate, idate + mr.minutes(1), mr.seconds(1), return_epsecs=True\n)\n\nprint(attitude.w0)\nprint(idate)"
      ]
    },
    {
      "cell_type": "markdown",
      "metadata": {},
      "source": [
        "Determining inertial positions of the Sun, observer, and object\n\n"
      ]
    },
    {
      "cell_type": "code",
      "execution_count": null,
      "metadata": {
        "collapsed": false
      },
      "outputs": [],
      "source": [
        "r_obj_j2k = obj.propagate(dates)\nsv = mr.sun(dates)\nov = station.j2000_at_dates(dates)\nsvi = sv - r_obj_j2k\novi = ov - r_obj_j2k"
      ]
    },
    {
      "cell_type": "markdown",
      "metadata": {},
      "source": [
        "Plotting the spin and orientation over time\n\n"
      ]
    },
    {
      "cell_type": "code",
      "execution_count": null,
      "metadata": {
        "collapsed": false
      },
      "outputs": [],
      "source": [
        "q_of_t, w_of_t = attitude.propagate(epsecs)\ndcms_of_t = mr.quat_to_dcm(q_of_t)\nsvb = mr.stack_mat_mult_vec(dcms_of_t, svi)\novb = mr.stack_mat_mult_vec(dcms_of_t, ovi)\n\nplt.figure(figsize=(12, 3))\nplt.subplot(1, 4, 1)\nplt.plot(epsecs, q_of_t)\nmrv.texit('$q(t)$', 'Seconds after epoch', '', ['$q_1$', '$q_2$', '$q_3$', '$q_4$'])\nplt.subplot(1, 4, 2)\nplt.plot(epsecs, w_of_t)\nmrv.texit(\n    '$\\omega(t)$',\n    'Seconds after epoch',\n    r'$\\left[ \\frac{rad}{s} \\right]$',\n    ['$\\omega_1$', '$\\omega_2$', '$\\omega_3$'],\n)\nplt.subplot(1, 4, 3)\nplt.plot(epsecs, svb)\nmrv.texit(\n    '${}^{\\mathcal{B}}\\mathbf{r}_{\\mathrm{Sun}}(t) - {}^{\\mathcal{B}}\\mathbf{r}_{\\mathrm{obj}}(t)$',\n    'Seconds after epoch',\n    '[km]',\n    ['$x$', '$y$', '$z$'],\n)\nplt.subplot(1, 4, 4)\nplt.plot(epsecs, ovb)\nmrv.texit(\n    '${}^{\\mathcal{B}}\\mathbf{r}_{\\mathrm{obs}}(t) - {}^{\\mathcal{B}}\\mathbf{r}_{\\mathrm{obj}}(t)$',\n    'Seconds after epoch',\n    '[km]',\n    ['$x$', '$y$', '$z$'],\n)\nplt.tight_layout()\n# plt.show()\n\nsvb = mr.hat(svb)\novb = mr.hat(ovb)"
      ]
    },
    {
      "cell_type": "markdown",
      "metadata": {},
      "source": [
        "Plotting the reflection matrix\n\n"
      ]
    },
    {
      "cell_type": "code",
      "execution_count": null,
      "metadata": {
        "collapsed": false
      },
      "outputs": [],
      "source": [
        "G = brdf.compute_reflection_matrix(svb, ovb, obj.unique_normals)\nlc = G @ obj.unique_areas\n\nplt.imshow(G, cmap='plasma', aspect='auto', interpolation='none')\nmrv.texit('Reflection Matrix $G$', 'Normal index $i$', 'Time index $j$', grid=False)\n# plt.show()"
      ]
    },
    {
      "cell_type": "markdown",
      "metadata": {},
      "source": [
        "Plotting the light curve\n\n"
      ]
    },
    {
      "cell_type": "code",
      "execution_count": null,
      "metadata": {
        "collapsed": false
      },
      "outputs": [],
      "source": [
        "plt.plot(epsecs, lc)\nmrv.texit('Normalized Light Curve $\\hat{I}(t)$', 'Seconds after epoch', '[nondim]')\n# plt.show()"
      ]
    },
    {
      "cell_type": "markdown",
      "metadata": {},
      "source": [
        "Case 2: a box-wing\n\n"
      ]
    },
    {
      "cell_type": "code",
      "execution_count": null,
      "metadata": {
        "collapsed": false
      },
      "outputs": [],
      "source": [
        "obj = mr.SpaceObject('matlib_goes17.obj', identifier=26360)\nmsf = 0.1\n\npl = pv.Plotter()\nmrv.render_spaceobject(pl, obj)\nmrv.plot_basis(\n    pl,\n    np.eye(3),\n    labels=['$\\hat{x}$', '$\\hat{y}$', '$\\hat{z}$'],\n    scale=np.max(mr.vecnorm(obj.v)),\n    shape_opacity=0.5,\n)\npl.show_bounds()\n# pl.show()"
      ]
    },
    {
      "cell_type": "markdown",
      "metadata": {},
      "source": [
        "Setup\n\n"
      ]
    },
    {
      "cell_type": "code",
      "execution_count": null,
      "metadata": {
        "collapsed": false
      },
      "outputs": [],
      "source": [
        "station = mr.Station(preset='pogs')\nstation.constraints = [\n    mr.SnrConstraint(3),\n    mr.ElevationConstraint(15),\n    mr.TargetIlluminatedConstraint(),\n    mr.ObserverEclipseConstraint(station),\n    mr.MoonExclusionConstraint(30),\n]\nbrdf = mr.Brdf(name='phong')\nattitude = mr.RbtfAttitude(\n    w0=0.01 * mr.hat(np.array([[1.0, 0.0, 1.0]])),\n    q0=np.array([0.0, 0.0, 0.0, 1.0]),\n    itensor=np.diag([1.0, 2.0, 2.0]),\n)\nidate = mr.utc(2022, 12, 9, 8)\ndates, epsecs = mr.date_arange(\n    idate, idate + mr.minutes(30), mr.seconds(10), return_epsecs=True\n)\n\nprint(idate)\nprint(attitude.w0)"
      ]
    },
    {
      "cell_type": "markdown",
      "metadata": {},
      "source": [
        "Determining inertial positions of the Sun, observer, and object\n\n"
      ]
    },
    {
      "cell_type": "code",
      "execution_count": null,
      "metadata": {
        "collapsed": false
      },
      "outputs": [],
      "source": [
        "r_obj_j2k = obj.propagate(dates)\nsv = mr.sun(dates)\nov = station.j2000_at_dates(dates)\nsvi = sv - r_obj_j2k\novi = ov - r_obj_j2k\n\n# pl = pv.Plotter()\n# mrv.render_observation_scenario(pl, dates, station, mr.hat(-ovi), sensor_extent_km=36e3, night_lights=True)\n# pl.show()\n# endd"
      ]
    },
    {
      "cell_type": "markdown",
      "metadata": {},
      "source": [
        "Plotting the spin and orientation over time\n\n"
      ]
    },
    {
      "cell_type": "code",
      "execution_count": null,
      "metadata": {
        "collapsed": false
      },
      "outputs": [],
      "source": [
        "q_of_t, w_of_t = attitude.propagate(epsecs)\ndcms_of_t = mr.quat_to_dcm(q_of_t)\nsvb = mr.stack_mat_mult_vec(dcms_of_t, svi)\novb = mr.stack_mat_mult_vec(dcms_of_t, ovi)\n\nplt.figure(figsize=(12, 3))\nplt.subplot(1, 4, 1)\nplt.plot(epsecs, q_of_t)\nmrv.texit('$q(t)$', 'Seconds after epoch', '', ['$q_1$', '$q_2$', '$q_3$', '$q_4$'])\nplt.subplot(1, 4, 2)\nplt.plot(epsecs, w_of_t)\nmrv.texit(\n    '$\\omega(t)$',\n    'Seconds after epoch',\n    r'$\\left[ \\frac{rad}{s} \\right]$',\n    ['$\\omega_1$', '$\\omega_2$', '$\\omega_3$'],\n)\nplt.subplot(1, 4, 3)\nplt.plot(epsecs, svb)\nmrv.texit(\n    '${}^{\\mathcal{B}}\\mathbf{r}_{\\mathrm{Sun}}(t) - {}^{\\mathcal{B}}\\mathbf{r}_{\\mathrm{obj}}(t)$',\n    'Seconds after epoch',\n    '[km]',\n    ['$x$', '$y$', '$z$'],\n)\nplt.subplot(1, 4, 4)\nplt.plot(epsecs, ovb)\nmrv.texit(\n    '${}^{\\mathcal{B}}\\mathbf{r}_{\\mathrm{obs}}(t) - {}^{\\mathcal{B}}\\mathbf{r}_{\\mathrm{obj}}(t)$',\n    'Seconds after epoch',\n    '[km]',\n    ['$x$', '$y$', '$z$'],\n)\nplt.tight_layout()\nplt.show()"
      ]
    },
    {
      "cell_type": "markdown",
      "metadata": {},
      "source": [
        "Plotting the light curve\n\n"
      ]
    },
    {
      "cell_type": "code",
      "execution_count": null,
      "metadata": {
        "collapsed": false
      },
      "outputs": [],
      "source": [
        "lc, aux_data = station.observe_light_curve(\n    obj,\n    attitude,\n    brdf,\n    dates,\n    integration_time_s=integration_time_s,\n    use_engine=True,\n    model_scale_factor=msf,\n    save_imgs=True,\n    instances=1,\n)\n\nimgs = []\nfor i in range(len(dates)):\n    imgs.append(2 * np.array(Image.open(f'out/frame{i+1}.png'))[:, :, 0])"
      ]
    },
    {
      "cell_type": "markdown",
      "metadata": {},
      "source": [
        "save a gif animation of the images in the out/ directory\n\n"
      ]
    },
    {
      "cell_type": "code",
      "execution_count": null,
      "metadata": {
        "collapsed": false
      },
      "outputs": [],
      "source": [
        "fig = plt.figure(figsize=(10, 4))\nplt.subplot(1, 2, 1)\nim = plt.imshow(imgs[0], cmap='gray')\nmrv.texit('Rendered Scene', '', '')\nplt.xticks([])\nplt.yticks([])\nplt.subplot(1, 2, 2)\nlci = lc()\nplt.plot(epsecs, lci)\nplt.yscale('log')\npt = plt.scatter(epsecs[0], lci[0], color='r')\nplt.gca().set_aspect('auto')\nmrv.texit('Light Curve $I(t)$', 'Seconds after epoch', '[ADU]')\n\n\ndef animate(i):\n    im.set_data(imgs[i])\n    pt.set_offsets((epsecs[i], lci[i]))\n    return im, pt\n\n\nframes = len(dates)\nanim_time = 10\nfps = frames / anim_time\ninterval = 1000 / fps\nanim = FuncAnimation(fig, animate, frames=frames, interval=interval, blit=True)\nanim.save('out/animation.gif')\n\n\nlcs = np.array([lc() for i in range(1000)])\nmean_lcs = np.mean(lcs, axis=0)\nvar_lcs = np.var(lcs, axis=0)\n\nfor stdev in [1, 2, 3]:\n    plt.fill_between(\n        epsecs,\n        mean_lcs - (stdev - 1) * np.sqrt(var_lcs),\n        mean_lcs - stdev * np.sqrt(var_lcs),\n        alpha=0.4 - 0.1 * stdev,\n        color='b',\n        edgecolor=None,\n        label=f'{stdev}$\\sigma$',\n    )\n    plt.fill_between(\n        epsecs,\n        mean_lcs + (stdev - 1) * np.sqrt(var_lcs),\n        mean_lcs + stdev * np.sqrt(var_lcs),\n        alpha=0.4 - 0.1 * stdev,\n        color='b',\n        edgecolor=None,\n    )\n\nplt.plot(epsecs, mean_lcs, lw=1, color='k', label='Mean')\nplt.yscale('log')\nmrv.texit('Light Curve $I(t)$', 'Seconds after epoch', '[ADU]')\nplt.legend()\nplt.show()"
      ]
    },
    {
      "cell_type": "markdown",
      "metadata": {},
      "source": [
        "Without uncertainty\n\n"
      ]
    },
    {
      "cell_type": "code",
      "execution_count": null,
      "metadata": {
        "collapsed": false
      },
      "outputs": [],
      "source": [
        "plt.figure()\nlc, aux_data = station.observe_light_curve(\n    obj,\n    attitude,\n    brdf,\n    dates,\n    integration_time_s=integration_time_s,\n    use_engine=True,\n    model_scale_factor=msf,\n)\n\nlcs = np.array([lc() for i in range(1000)])\nmean_lcs = np.mean(lcs, axis=0)\n\nplt.plot(epsecs, mean_lcs, lw=1, color='k')\nplt.yscale('log')\nmrv.texit('Noiseless Light Curve $I(t)$', 'Seconds after epoch', '[ADU]')\nplt.legend()\nplt.show()"
      ]
    },
    {
      "cell_type": "markdown",
      "metadata": {},
      "source": [
        "Defining the object and attitude combos\n\n"
      ]
    },
    {
      "cell_type": "code",
      "execution_count": null,
      "metadata": {
        "collapsed": false
      },
      "outputs": [],
      "source": [
        "def aligned_nadir_constrained_sun_attitude(\n    obj: mr.SpaceObject, dates: np.ndarray[datetime.datetime, Any]\n) -> mr.AlignedAndConstrainedAttitude:\n    r_obj_j2k = obj.propagate(dates)\n    sv = mr.sun(dates)\n    nadir = -mr.hat(r_obj_j2k)\n    return mr.AlignedAndConstrainedAttitude(\n        v_align=nadir, v_const=sv, dates=dates, axis_order=(1, 2, 0)\n    )\n\n\nstation = mr.Station(preset='pogs')\nstation.constraints = [\n    mr.SnrConstraint(3),\n    mr.ElevationConstraint(10),\n    mr.TargetIlluminatedConstraint(),\n    mr.ObserverEclipseConstraint(station),\n    mr.VisualMagnitudeConstraint(18),\n    mr.MoonExclusionConstraint(10),\n]\n\ninertially_fixed_attitude = mr.SpinStabilizedAttitude(\n    0.0, np.array([1.0, 0.0, 0.0]), 2e5, 0.0\n)\ntumbling_attitude = mr.RbtfAttitude(\n    1e-2 * np.array([1.0, 0.0, 1.0]),\n    np.array([0.0, 0.0, 0.0, 1.0]),\n    np.diag([1.0, 2.0, 2.0]),\n)\nbrdf_specular = mr.Brdf(cd=0.2, cs=0.4, n=10, name='phong')\nbrdf_phong = mr.Brdf(name='phong')\n\ncombos = [\n    dict(\n        name='Lincoln Calibration Sphere 1',\n        obj=mr.SpaceObject('sphere_uv.obj', identifier='LCS 1'),\n        attitude=inertially_fixed_attitude,\n        brdf=brdf_specular,\n        size=1.16 / 2,\n    ),\n    dict(\n        name='Delta II Rocket Body',\n        obj=mr.SpaceObject('matlib_saturn_v_sii.obj', identifier=34382),\n        attitude=tumbling_attitude,\n        brdf=brdf_phong,\n        size=None,\n    ),\n]\n\nidate = mr.utc(2023, 3, 26, 5)\ndates = mr.date_arange(idate, idate + mr.days(1), mr.seconds(10))\n\nfor combo in combos:\n    if combo['size'] is not None:\n        vmax = np.max(mr.vecnorm(combo['obj'].v))\n        combo['obj'].v /= vmax / combo['size']\n        delattr(combo['obj'], 'file_name')\n    lc_sampler, _ = station.observe_light_curve(\n        obj=combo['obj'],\n        obj_attitude=combo['attitude'],\n        brdf=combo['brdf'],\n        dates=dates,\n        integration_time_s=integration_time_s,\n        use_engine=True,\n    )\n    lc = lc_sampler()\n\n    plt.figure(figsize=(10, 5))\n    plt.scatter(dates, lc, s=1)\n    mrv.texit(combo['name'], 'Date', 'ADU')\n    plt.show()"
      ]
    }
  ],
  "metadata": {
    "kernelspec": {
      "display_name": "Python 3",
      "language": "python",
      "name": "python3"
    },
    "language_info": {
      "codemirror_mode": {
        "name": "ipython",
        "version": 3
      },
      "file_extension": ".py",
      "mimetype": "text/x-python",
      "name": "python",
      "nbconvert_exporter": "python",
      "pygments_lexer": "ipython3",
      "version": "3.11.10"
    }
  },
  "nbformat": 4,
  "nbformat_minor": 0
}