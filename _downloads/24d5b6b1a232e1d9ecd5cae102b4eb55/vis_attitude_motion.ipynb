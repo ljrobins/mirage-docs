{
  "cells": [
    {
      "cell_type": "markdown",
      "metadata": {},
      "source": [
        "\n# Rigid Body Torque Free Attitudes\n\nAnimates the attitude motion of an object in torque free motion\n"
      ]
    },
    {
      "cell_type": "code",
      "execution_count": null,
      "metadata": {
        "collapsed": false
      },
      "outputs": [],
      "source": [
        "import numpy as np\n\nimport mirage as mr\nimport mirage.vis as mrv\n\n(dates, epsecs) = mr.date_linspace(\n    mr.now(), mr.now() + mr.seconds(10), 200, return_epsecs=True\n)\nobj = mr.SpaceObject('hylas4.obj', identifier=36411)\nobj.build_pyvista_mesh()\nitensor = np.diag((1.0, 2.0, 3.0))\nq0 = np.array([0, 0, 0, 1])\nwmag = 3  # rad/s"
      ]
    },
    {
      "cell_type": "markdown",
      "metadata": {},
      "source": [
        "Unstable rotation about the intermediate axis\n\n"
      ]
    },
    {
      "cell_type": "code",
      "execution_count": null,
      "metadata": {
        "collapsed": false
      },
      "outputs": [],
      "source": [
        "obj_attitude = mr.RbtfAttitude(\n    w0=wmag * mr.hat(np.array([0.1, 3, 0.1])),\n    q0=q0,\n    itensor=itensor,\n)\n(q, w) = obj_attitude.propagate(epsecs)\nmrv.vis_attitude_motion(\n    obj, q, 'tess_unstable.gif', framerate=20, background_color='white'\n)"
      ]
    },
    {
      "cell_type": "markdown",
      "metadata": {},
      "source": [
        "Black version of unstable motion\n\n"
      ]
    },
    {
      "cell_type": "code",
      "execution_count": null,
      "metadata": {
        "collapsed": false
      },
      "outputs": [],
      "source": [
        "mrv.vis_attitude_motion(\n    obj, q, 'tess_unstable_black.gif', framerate=20, background_color='black'\n)"
      ]
    },
    {
      "cell_type": "markdown",
      "metadata": {},
      "source": [
        "Spin and precession\n\n"
      ]
    },
    {
      "cell_type": "code",
      "execution_count": null,
      "metadata": {
        "collapsed": false
      },
      "outputs": [],
      "source": [
        "obj_attitude = mr.RbtfAttitude(\n    w0=wmag * mr.hat(np.array([0.1, 3, 0.1])),\n    q0=q0,\n    itensor=np.diag((1.0, 2.0, 2.0)),\n)\n(q, w) = obj_attitude.propagate(epsecs)\nmrv.vis_attitude_motion(obj, q, 'tess_sp.gif', framerate=20, background_color='white')"
      ]
    },
    {
      "cell_type": "markdown",
      "metadata": {},
      "source": [
        "Stable rotation about the first axis\n\n"
      ]
    },
    {
      "cell_type": "code",
      "execution_count": null,
      "metadata": {
        "collapsed": false
      },
      "outputs": [],
      "source": [
        "obj_attitude = mr.RbtfAttitude(\n    w0=wmag * mr.hat(np.array([1.0, 0.0, 0.0])),\n    q0=q0,\n    itensor=itensor,\n)\n(q, w) = obj_attitude.propagate(epsecs)\nmrv.vis_attitude_motion(\n    obj, q, 'tess_stable.gif', framerate=20, background_color='white'\n)"
      ]
    }
  ],
  "metadata": {
    "kernelspec": {
      "display_name": "Python 3",
      "language": "python",
      "name": "python3"
    },
    "language_info": {
      "codemirror_mode": {
        "name": "ipython",
        "version": 3
      },
      "file_extension": ".py",
      "mimetype": "text/x-python",
      "name": "python",
      "nbconvert_exporter": "python",
      "pygments_lexer": "ipython3",
      "version": "3.11.10"
    }
  },
  "nbformat": 4,
  "nbformat_minor": 0
}