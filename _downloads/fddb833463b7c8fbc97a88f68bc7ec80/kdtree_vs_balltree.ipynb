{
  "cells": [
    {
      "cell_type": "markdown",
      "metadata": {},
      "source": [
        "\n# KDTree vs BallTree\n\nBenchmarking tree searches in $R^3$\n"
      ]
    },
    {
      "cell_type": "code",
      "execution_count": null,
      "metadata": {
        "collapsed": false
      },
      "outputs": [],
      "source": [
        "import pyvista as pv\nfrom pykdtree.kdtree import KDTree as pyKD\nfrom scipy.spatial import KDTree as ssKD\nfrom sklearn.neighbors import BallTree as skBT\nfrom sklearn.neighbors import KDTree as skKD\n\nimport mirage as mr\nimport mirage.vis as mrv\n\nobj = mr.SpaceObject('stanford_bunny.obj')\npts = obj.face_centroids\n\nmr.tic('sklearn KDTree build')\nkt = skKD(pts, 10)\nmr.toc()\n\nmr.tic('sklearn BallTree build')\nbt = skBT(pts, 10)\nmr.toc()\n\nmr.tic('scipy KDTree build')\nkt2 = ssKD(pts, 10)\nmr.toc()\n\nmr.tic('pykdtree KDTree build')\nkt3 = pyKD(pts, 10)\nmr.toc()"
      ]
    },
    {
      "cell_type": "markdown",
      "metadata": {},
      "source": [
        "Querying benchmarks\n\n"
      ]
    },
    {
      "cell_type": "code",
      "execution_count": null,
      "metadata": {
        "collapsed": false
      },
      "outputs": [],
      "source": [
        "qpts = mr.rand_points_in_ball(1.0, int(1e5))\nmr.tic('sklearn kdtree query')\nkt.query(qpts)\nmr.toc()\n\nmr.tic('sklearn balltree query')\nbt.query(qpts)\nmr.toc()\n\nmr.tic('scipy kdtree query')\nkt2.query(qpts)\nmr.toc()\n\nmr.tic('pykdtree kdtree query')\nkt3.query(qpts)\nmr.toc()"
      ]
    },
    {
      "cell_type": "markdown",
      "metadata": {},
      "source": [
        "KDTree\n\n"
      ]
    },
    {
      "cell_type": "code",
      "execution_count": null,
      "metadata": {
        "collapsed": false
      },
      "outputs": [],
      "source": [
        "pl = pv.Plotter(window_size=(2 * 1080, 2 * 720))\npl.camera.zoom(4.0)\nmrv.render_spaceobject(pl, obj)\nmrv.plot_kdtree(pl, kt)\npl.show()\n\n# $$\n# BallTree\n\npl = pv.Plotter(window_size=(2 * 1080, 2 * 720))\npl.camera.zoom(4.0)\nmrv.render_spaceobject(pl, obj)\nmrv.plot_balltree(pl, bt)\npl.show()"
      ]
    }
  ],
  "metadata": {
    "kernelspec": {
      "display_name": "Python 3",
      "language": "python",
      "name": "python3"
    },
    "language_info": {
      "codemirror_mode": {
        "name": "ipython",
        "version": 3
      },
      "file_extension": ".py",
      "mimetype": "text/x-python",
      "name": "python",
      "nbconvert_exporter": "python",
      "pygments_lexer": "ipython3",
      "version": "3.11.10"
    }
  },
  "nbformat": 4,
  "nbformat_minor": 0
}