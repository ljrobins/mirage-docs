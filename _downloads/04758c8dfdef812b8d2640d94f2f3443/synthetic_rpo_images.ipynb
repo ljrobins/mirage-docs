{
  "cells": [
    {
      "cell_type": "markdown",
      "metadata": {},
      "source": [
        "\n# Synthetic RPO\n\nGenerating and displaying synthetic images of a nearby space object\n"
      ]
    },
    {
      "cell_type": "code",
      "execution_count": null,
      "metadata": {
        "collapsed": false
      },
      "outputs": [],
      "source": [
        "import json\nimport os\n\nimport matplotlib.pyplot as plt\nimport numpy as np\nfrom PIL import Image\n\nfrom mirage import synth as mrsyn"
      ]
    },
    {
      "cell_type": "markdown",
      "metadata": {},
      "source": [
        "Generating the dataset with key point selection UI enabled\n\n"
      ]
    },
    {
      "cell_type": "code",
      "execution_count": null,
      "metadata": {
        "collapsed": false
      },
      "outputs": [],
      "source": [
        "mrsyn.generate_synthetic_dataset(\n    'matlib_goes17.obj',\n    data_points=9,\n    key_point_count=10,\n    manual_key_point_selection=True,\n    max_phase_deg=30,\n)"
      ]
    },
    {
      "cell_type": "markdown",
      "metadata": {},
      "source": [
        "Loading the resulting data\n\n"
      ]
    },
    {
      "cell_type": "code",
      "execution_count": null,
      "metadata": {
        "collapsed": false
      },
      "outputs": [],
      "source": [
        "with open(os.path.join('out', 'iminfo.json'), 'r') as f:\n    iminfo = json.load(f)\n    kp_pix = np.array(iminfo['key_points']['image_pixels'])"
      ]
    },
    {
      "cell_type": "markdown",
      "metadata": {},
      "source": [
        "Plotting a grid of rendered images\n\n"
      ]
    },
    {
      "cell_type": "code",
      "execution_count": null,
      "metadata": {
        "collapsed": false
      },
      "outputs": [],
      "source": [
        "fig, axs = plt.subplots(3, 3)\nfor fnum in range(9):\n    plt.subplot(3, 3, fnum + 1)\n    with Image.open(os.path.join('out', f'frame{fnum}.png'), 'r') as im:\n        im_arr = np.array(im)\n        plt.imshow(im_arr[:, :, 0], cmap='gray')\n        plt.scatter(kp_pix[fnum, :, 0], kp_pix[fnum, :, 1], c='c', s=1)\n        plt.axis('off')\nfig.suptitle('Synthetic images of GOES-17 with Key Points', fontsize=12)\nplt.tight_layout()\nplt.show()"
      ]
    }
  ],
  "metadata": {
    "kernelspec": {
      "display_name": "Python 3",
      "language": "python",
      "name": "python3"
    },
    "language_info": {
      "codemirror_mode": {
        "name": "ipython",
        "version": 3
      },
      "file_extension": ".py",
      "mimetype": "text/x-python",
      "name": "python",
      "nbconvert_exporter": "python",
      "pygments_lexer": "ipython3",
      "version": "3.11.9"
    }
  },
  "nbformat": 4,
  "nbformat_minor": 0
}