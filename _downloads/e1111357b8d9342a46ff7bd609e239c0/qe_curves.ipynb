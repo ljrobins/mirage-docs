{
  "cells": [
    {
      "cell_type": "markdown",
      "metadata": {},
      "source": [
        "\n# Quantum Efficiency Curves\n\nComparing the quantum efficiencies for POGS and ZIMLAT\n"
      ]
    },
    {
      "cell_type": "code",
      "execution_count": null,
      "metadata": {
        "collapsed": false
      },
      "outputs": [],
      "source": [
        "import os\n\nimport matplotlib.pyplot as plt\nimport polars as pl\n\nimport mirage as mr  # noqa\n\ndf_zimlat = pl.read_csv(os.path.join(os.environ['DATADIR'], 'zimlat_qe.csv'))\ndf_pogs = pl.read_csv(\n    os.path.join(os.environ['DATADIR'], 'kaf16803_quantum_efficiency.csv')\n)\n\nplt.plot(df_zimlat['lambda_nm'], df_zimlat['qe'], label='ZIMLAT')\nplt.plot(df_pogs['lambda_nm'], df_pogs['qe'], label='POGS')\n\nplt.legend()\nplt.grid()\nplt.xlabel('Wavelength [nm]')\nplt.ylabel('Quantum efficiency')\nplt.tight_layout()\nplt.show()"
      ]
    }
  ],
  "metadata": {
    "kernelspec": {
      "display_name": "Python 3",
      "language": "python",
      "name": "python3"
    },
    "language_info": {
      "codemirror_mode": {
        "name": "ipython",
        "version": 3
      },
      "file_extension": ".py",
      "mimetype": "text/x-python",
      "name": "python",
      "nbconvert_exporter": "python",
      "pygments_lexer": "ipython3",
      "version": "3.11.10"
    }
  },
  "nbformat": 4,
  "nbformat_minor": 0
}