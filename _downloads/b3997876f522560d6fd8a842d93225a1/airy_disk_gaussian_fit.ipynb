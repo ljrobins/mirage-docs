{
  "cells": [
    {
      "cell_type": "markdown",
      "metadata": {},
      "source": [
        "\n# Airy Disk Gaussian Fit\nComparing the Airy disk diffraction pattern to its Gaussian approximation\n"
      ]
    },
    {
      "cell_type": "code",
      "execution_count": null,
      "metadata": {
        "collapsed": false
      },
      "outputs": [],
      "source": [
        "import matplotlib.pyplot as plt\nimport numpy as np\n\nimport mirage as mr\nimport mirage.vis as mrv\n\ntelescope = mr.Telescope(preset='pogs')\ntelescope.sensor_pixels = 400\ntelescope.pixel_scale = 0.005\ntelescope.fwhm = (\n    telescope.airy_disk_fwhm(550) * mr.AstroConstants.rad_to_arcsecond\n)  # arcseconds"
      ]
    },
    {
      "cell_type": "markdown",
      "metadata": {},
      "source": [
        "One dimensional falloff as a function of the distance from the center of the image\n\n"
      ]
    },
    {
      "cell_type": "code",
      "execution_count": null,
      "metadata": {
        "collapsed": false
      },
      "outputs": [],
      "source": [
        "c_all = 1000\nr_pix = np.linspace(0, telescope.sensor_pixels // 2, int(1e3))\ntheta_arcsec = r_pix * telescope.pixel_scale\ntheta_rad = mr.dms_to_rad(0, 0, theta_arcsec)\nairy_pattern = telescope.airy_disk_pattern(c_all, theta_rad, 550)\ngaussian_pattern = telescope.gaussian_diffraction_pattern(c_all, theta_rad)\n\nplt.figure(figsize=(6, 6))\nplt.plot(theta_arcsec, airy_pattern, label='Airy Disk')\nplt.plot(theta_arcsec, gaussian_pattern, label='Gaussian')\nmrv.texit('', 'Distance from center (arcseconds)', 'Normalized intensity')\nplt.legend()\nplt.show()"
      ]
    },
    {
      "cell_type": "markdown",
      "metadata": {},
      "source": [
        "Two dimensional renders\n\n"
      ]
    },
    {
      "cell_type": "code",
      "execution_count": null,
      "metadata": {
        "collapsed": false
      },
      "outputs": [],
      "source": [
        "obj_pos = (\n    telescope.sensor_pixels // 2 + np.random.rand(),\n    telescope.sensor_pixels // 2 + np.random.rand(),\n)\nx_pix, y_pix = np.meshgrid(\n    np.arange(telescope.sensor_pixels), np.arange(telescope.sensor_pixels)\n)\nr_dist = np.sqrt((x_pix - obj_pos[0]) ** 2 + (y_pix - obj_pos[1]) ** 2)\ntheta_grid_rad = mr.dms_to_rad(0, 0, r_dist * telescope.pixel_scale)\n\nmr.tic()\nairy_pattern = telescope.airy_disk_pattern(c_all, theta_grid_rad, 550)\nmr.toc()\nmr.tic()\ngaussian_pattern = telescope.gaussian_diffraction_pattern(c_all, theta_grid_rad)\nmr.toc()"
      ]
    },
    {
      "cell_type": "markdown",
      "metadata": {},
      "source": [
        "Let's look at the volume of both distributions\n\n"
      ]
    },
    {
      "cell_type": "code",
      "execution_count": null,
      "metadata": {
        "collapsed": false
      },
      "outputs": [],
      "source": [
        "print(f'Airy disk volume: {np.sum(airy_pattern):.4f}')\nprint(f'Gaussian volume: {np.sum(gaussian_pattern):.4f}')"
      ]
    },
    {
      "cell_type": "markdown",
      "metadata": {},
      "source": [
        "Visualize the Airy disk on the CCD grid\n\n"
      ]
    },
    {
      "cell_type": "code",
      "execution_count": null,
      "metadata": {
        "collapsed": false
      },
      "outputs": [],
      "source": [
        "plt.figure(figsize=(8, 4))\nplt.subplot(1, 2, 1)\nplt.imshow(\n    airy_pattern,\n    cmap='inferno',\n    extent=[x_pix.min(), x_pix.max(), y_pix.min(), y_pix.max()],\n)\nmrv.texit('Airy Diffraction', 'Pixels (x)', 'Pixels (y)', grid=False)\nplt.colorbar(label='Normalized intensity', cax=mrv.get_cbar_ax())\nplt.clim(0, np.max(airy_pattern))\nplt.subplot(1, 2, 2)\nplt.imshow(\n    gaussian_pattern,\n    cmap='inferno',\n    extent=[x_pix.min(), x_pix.max(), y_pix.min(), y_pix.max()],\n)\nmrv.texit('Gaussian Diffraction', 'Pixels (x)', 'Pixels (y)', grid=False)\nplt.colorbar(label='Normalized intensity', cax=mrv.get_cbar_ax())\nplt.clim(0, np.max(airy_pattern))\nplt.tight_layout()\nplt.show()"
      ]
    }
  ],
  "metadata": {
    "kernelspec": {
      "display_name": "Python 3",
      "language": "python",
      "name": "python3"
    },
    "language_info": {
      "codemirror_mode": {
        "name": "ipython",
        "version": 3
      },
      "file_extension": ".py",
      "mimetype": "text/x-python",
      "name": "python",
      "nbconvert_exporter": "python",
      "pygments_lexer": "ipython3",
      "version": "3.11.10"
    }
  },
  "nbformat": 4,
  "nbformat_minor": 0
}