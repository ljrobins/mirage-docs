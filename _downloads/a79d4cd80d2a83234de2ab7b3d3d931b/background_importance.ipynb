{
  "cells": [
    {
      "cell_type": "markdown",
      "metadata": {},
      "source": [
        "\n# Background Importance\n\nPlotting the changes in background signal values over the course of one night\n"
      ]
    },
    {
      "cell_type": "code",
      "execution_count": null,
      "metadata": {
        "collapsed": false
      },
      "outputs": [],
      "source": [
        "import datetime\n\nimport matplotlib.pyplot as plt\nimport numpy as np\n\nimport mirage as mr"
      ]
    },
    {
      "cell_type": "markdown",
      "metadata": {},
      "source": [
        "Defining a function we can use to plot various background signals\n\n"
      ]
    },
    {
      "cell_type": "code",
      "execution_count": null,
      "metadata": {
        "collapsed": false
      },
      "outputs": [],
      "source": [
        "res = 40\n\nlons = np.linspace(0, 2 * np.pi, res, endpoint=False)\nlats = np.linspace(np.deg2rad(15), np.pi / 2, res, endpoint=False)\ndlon = lons[1] - lons[0]\ndlat = lats[1] - lats[0]\n(g_az, g_el) = np.meshgrid(\n    lons,\n    lats,\n)\n\nlon_lims = (g_az, g_az + dlon)\nlat_lims = (g_el, g_el + dlat)\n\nareas = mr.lat_lon_cell_area(lon_lims_rad=lon_lims, lat_lims_rad=lat_lims, radius=1)\narea_int = areas.sum()  # total area in steradians that we're integrating over\n\n\ndef hemisphere_signal(\n    station: mr.Station,\n    dates: datetime.datetime,\n    integration_time_s: float,\n    signal_kwargs: dict,\n) -> None:\n    true_signals = [k for k in signal_kwargs.keys() if signal_kwargs[k]]\n    if len(true_signals) == len(signal_kwargs.keys()):\n        signal_type = 'All Signals'\n    else:\n        signal_type = true_signals[0].capitalize()\n\n    lde = []\n    for date in dates:\n        look_dirs = station.az_el_to_eci(g_az.flatten(), g_el.flatten(), date)\n        lde.append(look_dirs)\n\n    look_dirs_eci_eq_tiled = np.vstack(lde)\n    dates_tiled = np.repeat(dates, g_az.size)  # az, el, time\n\n    mr.tic(signal_type)\n    sb = station.sky_brightness(\n        dates_tiled, look_dirs_eci_eq_tiled, integration_time_s, **signal_kwargs\n    )\n    mr.toc()\n\n    print(f'Max:  {sb.max():.2e}')\n    print(f'Mean: {sb.mean():.2e}')\n    return sb"
      ]
    },
    {
      "cell_type": "markdown",
      "metadata": {},
      "source": [
        "Setting up observation conditions using an example Space Debris Telescope preset from Krag2003\nstation = mr.Station(preset=\"lmt\", lat_deg=33.776864, lon_deg=-84.363777) # Atlanta, GA\n\n"
      ]
    },
    {
      "cell_type": "code",
      "execution_count": null,
      "metadata": {
        "collapsed": false
      },
      "outputs": [],
      "source": [
        "station = mr.Station(preset='pogs')\nintegration_time_s = 1.0\ndate = mr.utc(2023, 10, 1, 0, 0, 0)"
      ]
    },
    {
      "cell_type": "markdown",
      "metadata": {},
      "source": [
        "Plotting the background signal for scattered moonlight\n\n"
      ]
    },
    {
      "cell_type": "code",
      "execution_count": null,
      "metadata": {
        "collapsed": false
      },
      "outputs": [],
      "source": [
        "signals = [\n    'moonlight',\n    'airglow',\n    'integrated_starlight',\n    'zodiac',\n    'pollution',\n    'twilight',\n]\ncs = ['k', 'm', 'c', 'b', 'r', 'g']\n\ndates = mr.date_arange(date, date + mr.hours(14), mr.hours(0.5))\nsun_ang_deg = np.rad2deg(mr.sun_angle_to_horizon(dates, station.itrf)).flatten()\nis_astro_dark = sun_ang_deg < -18.0\nis_nautical_dark = ~is_astro_dark & (sun_ang_deg < -12.0)\nis_civil_dark = ~is_astro_dark & ~is_nautical_dark & (sun_ang_deg < -6.0)\nis_light_dates = sun_ang_deg > 0.0\n\ndates = dates[~is_light_dates]\nhr_after_dark = mr.date_to_epsec(dates) / 3600\n\nplt.figure(figsize=(8, 4))\n\nsbs = []\n\nfor signal, c in zip(signals, cs):\n    kwargs = {s: (False if s is not signal else True) for s in signals}\n    sb = hemisphere_signal(station, dates, integration_time_s, kwargs)\n    sb = sb.reshape(dates.size, -1)\n    sbs.append(sb)\n\n    label = signal.replace('_', ' ').capitalize()\n    if len(label.split(' ')) > 1:\n        label = label.split(' ')[1].capitalize()\n    plt.subplot(1, 2, 1)\n    plt.plot(hr_after_dark, np.max(sb, axis=1), c=c, marker='+', label=label)\n    plt.xlabel('Hours after sunset')\n    plt.ylabel('Signal rate maximum [ADU / pix / s]')\n    plt.yscale('log')\n    plt.grid(visible=True)\n    plt.subplot(1, 2, 2)\n    plt.plot(hr_after_dark, np.mean(sb, axis=1), c=c, marker='+', label=label)\n    plt.xlabel('Hours after sunset')\n    plt.ylabel('Signal rate mean [ADU / pix / s]')\n    plt.yscale('log')\n    plt.grid(visible=True)\n\nplt.legend(loc='upper center', ncol=2, fancybox=True, shadow=True)\n\nplt.tight_layout()\nplt.show()"
      ]
    },
    {
      "cell_type": "markdown",
      "metadata": {},
      "source": [
        "Figuring out how likely a given look direction over the night will be dominated by a given source\n\n"
      ]
    },
    {
      "cell_type": "code",
      "execution_count": null,
      "metadata": {
        "collapsed": false
      },
      "outputs": [],
      "source": [
        "sbs = np.dstack(sbs)\nmc = np.argmax(sbs, axis=-1)\n\nareas = np.tile(areas.reshape(1, -1), (len(dates), 1))\n\n\nfor i, signal in enumerate(signals):\n    p = (\n        areas[mc == i].sum() / area_int / len(dates) * 100\n    )  # percent of area-time covered\n    print(signal, p)"
      ]
    }
  ],
  "metadata": {
    "kernelspec": {
      "display_name": "Python 3",
      "language": "python",
      "name": "python3"
    },
    "language_info": {
      "codemirror_mode": {
        "name": "ipython",
        "version": 3
      },
      "file_extension": ".py",
      "mimetype": "text/x-python",
      "name": "python",
      "nbconvert_exporter": "python",
      "pygments_lexer": "ipython3",
      "version": "3.11.10"
    }
  },
  "nbformat": 4,
  "nbformat_minor": 0
}