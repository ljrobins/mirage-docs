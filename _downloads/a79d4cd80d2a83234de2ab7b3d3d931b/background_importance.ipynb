{
  "cells": [
    {
      "cell_type": "markdown",
      "metadata": {},
      "source": [
        "\n# Background Importance\n\nPlotting the changes in background signal values over the course of one night\n"
      ]
    },
    {
      "cell_type": "code",
      "execution_count": null,
      "metadata": {
        "collapsed": false
      },
      "outputs": [],
      "source": [
        "import datetime\n\nimport matplotlib.pyplot as plt\nimport numpy as np\n\nimport mirage as mr"
      ]
    },
    {
      "cell_type": "markdown",
      "metadata": {},
      "source": [
        "Defining a function we can use to plot various background signals\n\n"
      ]
    },
    {
      "cell_type": "code",
      "execution_count": null,
      "metadata": {
        "collapsed": false
      },
      "outputs": [],
      "source": [
        "def hemisphere_signal(\n    station: mr.Station,\n    date: datetime.datetime,\n    signal_kwargs: dict,\n) -> None:\n    true_signals = [k for k in signal_kwargs.keys() if signal_kwargs[k]]\n    if len(true_signals) == len(signal_kwargs.keys()):\n        signal_type = 'All Signals'\n    else:\n        signal_type = true_signals[0].capitalize()\n\n    (g_az, g_el) = np.meshgrid(\n        np.linspace(0, 2 * np.pi, 50),\n        np.linspace(np.deg2rad(0), np.pi / 2, 50),\n    )\n\n    lde = []\n    for date in dates:\n        lde.append(station.az_el_to_eci(g_az.flatten(), g_el.flatten(), date))\n\n    look_dirs_eci_eq_tiled = np.vstack(lde)\n    dates_tiled = np.tile(dates, g_az.size)\n\n    mr.tic(signal_type)\n    sb = station.sky_brightness(dates_tiled, look_dirs_eci_eq_tiled, **signal_kwargs)\n    mr.toc()\n\n    print(f'Max:  {sb.max():.2e}')\n    print(f'Mean: {sb.mean():.2e}')\n    return sb"
      ]
    },
    {
      "cell_type": "markdown",
      "metadata": {},
      "source": [
        "Setting up observation conditions using an example Space Debris Telescope preset from Krag2003\nstation = mr.Station(preset=\"lmt\", lat_deg=33.776864, lon_deg=-84.363777) # Atlanta, GA\n\n"
      ]
    },
    {
      "cell_type": "code",
      "execution_count": null,
      "metadata": {
        "collapsed": false
      },
      "outputs": [],
      "source": [
        "station = mr.Station(preset='pogs')\nstation.telescope.integration_time = 1.0\ndate = mr.utc(2023, 10, 1, 0, 0, 0)"
      ]
    },
    {
      "cell_type": "markdown",
      "metadata": {},
      "source": [
        "Plotting the background signal for scattered moonlight\n\n"
      ]
    },
    {
      "cell_type": "code",
      "execution_count": null,
      "metadata": {
        "collapsed": false
      },
      "outputs": [],
      "source": [
        "signals = [\n    'moonlight',\n    'airglow',\n    'integrated_starlight',\n    'zodiac',\n    'pollution',\n    'twilight',\n]\ncs = ['k', 'm', 'c', 'b', 'r', 'g']\n\ndates = mr.date_arange(date, date + mr.hours(14), mr.hours(0.5))\nsun_ang_deg = np.rad2deg(mr.sun_angle_to_horizon(dates, station.itrf)).flatten()\nis_astro_dark = sun_ang_deg < -18.0\nis_nautical_dark = ~is_astro_dark & (sun_ang_deg < -12.0)\nis_civil_dark = ~is_astro_dark & ~is_nautical_dark & (sun_ang_deg < -6.0)\nis_light_dates = sun_ang_deg > 0.0\n\ndates = dates[~is_light_dates]\nhr_after_dark = mr.date_to_epsec(dates) / 3600\n\nplt.figure(figsize=(8, 4))\n\nfor signal, c in zip(signals, cs):\n    kwargs = {s: (False if s is not signal else True) for s in signals}\n    sb = hemisphere_signal(station, dates, kwargs)\n    sb = sb.reshape(-1, dates.size)\n    label = signal.replace('_', ' ').capitalize()\n    if len(label.split(' ')) > 1:\n        label = label.split(' ')[1].capitalize()\n    plt.subplot(1, 2, 1)\n    plt.plot(hr_after_dark, np.max(sb, axis=0), c=c, marker='+', label=label)\n    plt.xlabel('Hours after sunset')\n    plt.ylabel('Signal rate maximum [ADU / pix / s]')\n    plt.yscale('log')\n    plt.grid(visible=True)\n    plt.subplot(1, 2, 2)\n    plt.plot(hr_after_dark, np.mean(sb, axis=0), c=c, marker='+', label=label)\n    plt.xlabel('Hours after sunset')\n    plt.ylabel('Signal rate mean [ADU / pix / s]')\n    plt.yscale('log')\n    plt.grid(visible=True)\n\nplt.legend(loc='upper center', ncol=2, fancybox=True, shadow=True)\n\nplt.tight_layout()\nplt.show()"
      ]
    }
  ],
  "metadata": {
    "kernelspec": {
      "display_name": "Python 3",
      "language": "python",
      "name": "python3"
    },
    "language_info": {
      "codemirror_mode": {
        "name": "ipython",
        "version": 3
      },
      "file_extension": ".py",
      "mimetype": "text/x-python",
      "name": "python",
      "nbconvert_exporter": "python",
      "pygments_lexer": "ipython3",
      "version": "3.11.9"
    }
  },
  "nbformat": 4,
  "nbformat_minor": 0
}