{
  "cells": [
    {
      "cell_type": "markdown",
      "metadata": {},
      "source": [
        "\n# Importance Sampling Cook-Torrance\n"
      ]
    },
    {
      "cell_type": "code",
      "execution_count": null,
      "metadata": {
        "collapsed": false
      },
      "outputs": [],
      "source": [
        "import numpy as np\nimport pyvista as pv\n\nimport mirage as mr\nimport mirage.vis as mrv\n\nN = mr.hat(np.array([0.0, 0.0, 1.0]))\n# n = mr.rand_unit_vectors(1)\nO = mr.hat(np.array([0.0, -1.0, 1]))\nn_samples = int(1e5)\nOs = np.tile(O, (n_samples, 1))\nNs = np.tile(N, (n_samples, 1))\nLs = mr.rand_cone_vectors(N, np.pi / 2, n_samples)\n\nbrdf = mr.Brdf('cook-torrance', cd=0.0, cs=1.0, n=0.05)\na2 = brdf.n**2\nfrs = brdf.eval(Ls, Os, Ns)\nintegrand = frs * mr.dot(Ns, Ls)\nprint(np.sum(integrand) / n_samples * 2 * np.pi)\n\npl = pv.Plotter()\npl.add_mesh(pv.Plane(direction=N))\nmrv.plot_arrow(pl, (0, 0, 0), N)\nmrv.plot_arrow(pl, O, -O, color='green')\nmrv.scatter3(pl, 0.5 * Ls, scalars=frs, point_size=10, opacity=0.2)\npl.show()"
      ]
    },
    {
      "cell_type": "markdown",
      "metadata": {},
      "source": [
        "Now that we have a good estimate of the true integral value, let's begin down the road to importance sampling by understanding the Beckmann normal distribution function (NDF).\n\n"
      ]
    },
    {
      "cell_type": "code",
      "execution_count": null,
      "metadata": {
        "collapsed": false
      },
      "outputs": [],
      "source": [
        "e1 = np.random.rand(n_samples)\ne2 = np.random.rand(n_samples)\n\n# theta = np.arccos(np.sqrt((1-e1)/(e1*(a2-1)+1))) # GGX\ntheta = np.arctan(np.sqrt(a2 * e1 / (1 - e1)))  # GGX\nphi = 2 * np.pi * e2\nn_tangent = np.vstack(mr.sph_to_cart(phi, np.pi / 2 - theta)).T\n\nx = mr.hat(np.cross(mr.rand_unit_vectors(1), N))\ny = np.cross(N, x)\ndcm = np.vstack((x, y, N)).T\nwm = mr.stack_mat_mult_vec(dcm, n_tangent)  # The micro normal vector\nwo = Os\nwi = mr.reflect(wo, wm)\n\nF = mr.cook_torrance_fresnel_schlick(wm, wi, brdf.cs)\nG2 = mr.cook_torrance_g_smith(wi, Ns, wo, np.sqrt(a2))\nweight = mr.dot(wo, wm) / (mr.dot(wo, Ns) * mr.dot(wm, Ns))\nintegrand_importance = F * G2 * weight\nok = (mr.dot(Ns, wi) > 0.0) & (mr.dot(wi, wm) > 0.0)\nn_used_samples = np.sum(ok)\nprint(np.sum(integrand_importance[ok]) / n_used_samples)\n\n\n# brdf_vals = brdf.eval(wis, wo_, ns).flatten()\n# brdf_vals[is_below_horizon] = 0\n# print(np.sum(brdf_vals/p)/n_samples)\n\n# endd\n\npl = pv.Plotter()\npl.add_mesh(pv.Plane(direction=N))\nmrv.plot_arrow(pl, (0, 0, 0), N)\nmrv.plot_arrow(pl, O, -O, color='green')\n# mrv.scatter3(pl, 0.5*wos, scalars=ds, point_size=10)\nmrv.scatter3(pl, wi[ok.flatten(), :], point_size=5, opacity=0.2, scalars=weight[ok])\nmrv.scatter3(pl, wm, point_size=10, opacity=0.1, scalars=ok, cmap='plasma')\npl.show()"
      ]
    }
  ],
  "metadata": {
    "kernelspec": {
      "display_name": "Python 3",
      "language": "python",
      "name": "python3"
    },
    "language_info": {
      "codemirror_mode": {
        "name": "ipython",
        "version": 3
      },
      "file_extension": ".py",
      "mimetype": "text/x-python",
      "name": "python",
      "nbconvert_exporter": "python",
      "pygments_lexer": "ipython3",
      "version": "3.12.7"
    }
  },
  "nbformat": 4,
  "nbformat_minor": 0
}