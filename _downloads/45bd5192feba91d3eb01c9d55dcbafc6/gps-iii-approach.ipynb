{
  "cells": [
    {
      "cell_type": "markdown",
      "metadata": {},
      "source": [
        "\n# Relative orbit sequence\n"
      ]
    },
    {
      "cell_type": "code",
      "execution_count": null,
      "metadata": {
        "collapsed": false
      },
      "outputs": [],
      "source": [
        "import os\n\nimport matplotlib.pyplot as plt\nimport numpy as np\n\nimport mirage as mr\n\ncoe_chief = np.array([7000, 0.1, 10, 5, 5, 5])\ncoe_chase = coe_chief + np.array([0, 0.0005, 0.0005, 0.01, 0.01, 0.0])\ndates = mr.date_linspace(mr.now(), mr.now() + mr.hours(1.5), 100)\nrv0_chief = mr.coe_to_rv(coe_chief)\nrv0_chase = mr.coe_to_rv(coe_chase)\n\nrv_chase = mr.integrate_orbit_dynamics(rv0_chief, dates)\nr_chase = rv_chase[:, :3]\nrv_chief = mr.integrate_orbit_dynamics(rv0_chase, dates)\nr_chief = rv_chief[:, :3]\n\nobj_chief = mr.SpaceObject('matlib_hylas4.obj', identifier='goes 15')\nsv = mr.sun(dates)\nnadir = -mr.hat(r_chief)\natt_chief = mr.AlignedAndConstrainedAttitude(\n    v_align=nadir, v_const=sv, dates=dates, axis_order=(1, 2, 0)\n)\nsvi = mr.hat(mr.sun(dates))\ndcm_inertial_to_chief = att_chief.dcms_at_dates(dates)\nq_chief = mr.dcm_to_quat(dcm_inertial_to_chief)\nsvb = mr.stack_mat_mult_vec(dcm_inertial_to_chief, svi)\n\ncamera_z = mr.hat(r_chief - r_chase)\nref = mr.hat(np.cross(r_chief, rv_chief[:, 3:]))\ncamera_y = mr.hat(np.cross(camera_z, ref))\ncamera_x = np.cross(camera_y, camera_z)\ndcm_inertial_to_camera = np.swapaxes(\n    np.swapaxes(np.stack((camera_x, camera_y, camera_z), axis=-1), 0, 2), 0, 1\n)\nq_camera = mr.dcm_to_quat(dcm_inertial_to_camera)\n\n# mrv.vis_attitude_motion(obj_chief, mr.dcm_to_quat(att_chief.dcms_at_dates(dates)), fname='test.gif')"
      ]
    },
    {
      "cell_type": "markdown",
      "metadata": {},
      "source": [
        "Running the synthetic image generator\n\n"
      ]
    },
    {
      "cell_type": "code",
      "execution_count": null,
      "metadata": {
        "collapsed": false
      },
      "outputs": [],
      "source": [
        "import mirage.synth as mrsyn\n\nmrsyn.generate_synthetic_sequence(\n    'matlib_goes17.obj',\n    svb,\n    camera_pos=r_chase - r_chief,\n    q_camera=q_camera,\n    q_chief=q_chief,\n    fov_deg=37,\n)"
      ]
    },
    {
      "cell_type": "markdown",
      "metadata": {},
      "source": [
        "Making a matplotlib animation of the result\n\n"
      ]
    },
    {
      "cell_type": "code",
      "execution_count": null,
      "metadata": {
        "collapsed": false
      },
      "outputs": [],
      "source": [
        "from matplotlib.animation import FuncAnimation\n\nfig, ax = plt.subplots()\nax.set_aspect('equal')\nfig.patch.set_facecolor('black')\n\nims = []\nfor imname in sorted(\n    [x for x in os.listdir('out') if '.png' in x], key=lambda x: int(x[5:-4])\n):\n    ims.append(plt.imread(f'out/{imname}'))\n\nim = plt.imshow(ims[0][:, :, 0], cmap='gray')\n\n\ndef animate(i):\n    im.set_data(ims[i][:, :, 0])\n    return (im,)\n\n\nframes = len(dates)\nanim_time = 10\nfps = frames / anim_time\ninterval = 1000 / fps\nanim = FuncAnimation(fig, animate, frames=frames, interval=interval, blit=True)\nanim.save('rpo.mp4')\nplt.show()"
      ]
    }
  ],
  "metadata": {
    "kernelspec": {
      "display_name": "Python 3",
      "language": "python",
      "name": "python3"
    },
    "language_info": {
      "codemirror_mode": {
        "name": "ipython",
        "version": 3
      },
      "file_extension": ".py",
      "mimetype": "text/x-python",
      "name": "python",
      "nbconvert_exporter": "python",
      "pygments_lexer": "ipython3",
      "version": "3.11.9"
    }
  },
  "nbformat": 4,
  "nbformat_minor": 0
}