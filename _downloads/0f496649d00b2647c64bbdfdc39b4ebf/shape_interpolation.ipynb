{
  "cells": [
    {
      "cell_type": "markdown",
      "metadata": {},
      "source": [
        "\n# Shape Interpolation\n\nGiven two shapes as triangulated 3D models, how can we smoothly interpolate another model between them using signed distance fields\n"
      ]
    },
    {
      "cell_type": "code",
      "execution_count": null,
      "metadata": {
        "collapsed": false
      },
      "outputs": [],
      "source": [
        "import numpy as np\nimport pyvista as pv\n\nimport mirage as mr"
      ]
    },
    {
      "cell_type": "markdown",
      "metadata": {},
      "source": [
        "Animating the entire interpolation\n\n"
      ]
    },
    {
      "cell_type": "code",
      "execution_count": null,
      "metadata": {
        "collapsed": false
      },
      "outputs": [],
      "source": [
        "obj1 = mr.SpaceObject('icosahedron.obj').clean()\nobj2 = mr.SpaceObject('duck.obj').clean()\n\npl = pv.Plotter()\npl.open_gif('shape_interpolation.gif')\n\nfor frac1 in np.concatenate((np.linspace(0, 1, 20), np.linspace(1, 0, 20))):\n    weights = np.array([1 - frac1, frac1]).astype(float)\n    mr.tic()\n    obj_merged = mr.merge_shapes([obj1, obj2], weights)\n    mr.toc()\n    pl.add_mesh(obj_merged._mesh, color='lightblue', name='mesh', smooth_shading=True)\n    pl.add_text(\n        f'{weights[0]*100:3.0f}% Icosahedron \\n{weights[1]*100:3.0f}% Duck',\n        font='courier',\n        name='label',\n    )\n    pl.write_frame()\npl.close()"
      ]
    },
    {
      "cell_type": "markdown",
      "metadata": {},
      "source": [
        "Individual interpolation steps in a grid\n\n"
      ]
    },
    {
      "cell_type": "code",
      "execution_count": null,
      "metadata": {
        "collapsed": false
      },
      "outputs": [],
      "source": [
        "pl = pv.Plotter(shape=(2, 2))\n\nfor i, weight1 in enumerate(np.linspace(0, 1, 4)):\n    weights = np.array([1 - weight1, weight1]).astype(float)\n    obj_merged = mr.merge_shapes(\n        [\n            mr.SpaceObject('icosahedron.obj').clean(),\n            mr.SpaceObject('torus.obj').clean(),\n        ],\n        weights,\n    )\n    pl.subplot(i // 2, i % 2)\n    pl.add_mesh(obj_merged._mesh, color='lightblue', name='mesh', smooth_shading=True)\n    pl.add_text(\n        f'{weights[0]*100:3.0f}% Icosahedron \\n{weights[1]*100:3.0f}% Torus',\n        font='courier',\n        name='label',\n    )\npl.show()"
      ]
    }
  ],
  "metadata": {
    "kernelspec": {
      "display_name": "Python 3",
      "language": "python",
      "name": "python3"
    },
    "language_info": {
      "codemirror_mode": {
        "name": "ipython",
        "version": 3
      },
      "file_extension": ".py",
      "mimetype": "text/x-python",
      "name": "python",
      "nbconvert_exporter": "python",
      "pygments_lexer": "ipython3",
      "version": "3.11.9"
    }
  },
  "nbformat": 4,
  "nbformat_minor": 0
}