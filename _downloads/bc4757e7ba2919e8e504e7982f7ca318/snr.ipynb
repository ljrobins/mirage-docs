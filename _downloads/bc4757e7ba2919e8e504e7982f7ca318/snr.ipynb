{
  "cells": [
    {
      "cell_type": "markdown",
      "metadata": {},
      "source": [
        "\n# Signal-to-Noise Ratio (SNR)\nInvestigating the SNR applied to CCD images\n"
      ]
    },
    {
      "cell_type": "code",
      "execution_count": null,
      "metadata": {
        "collapsed": false
      },
      "outputs": [],
      "source": [
        "import matplotlib.pyplot as plt\nimport numpy as np\n\nimport mirage as mr\nimport mirage.vis as mrv\n\n\ndef ccd_snr(signal_grid: np.ndarray, noise_grid: np.ndarray) -> float:\n    return np.sum(signal_grid) / np.sqrt(np.sum(signal_grid) + np.sum(noise_grid))\n\n\ntelescope = mr.Telescope(preset='pogs')\ntelescope.sensor_pixels = np.array([50, 50])\ntelescope.pixel_scale = 0.2\n\nobj_pos = (\n    telescope.sensor_pixels[0] // 2 - 0.5,\n    telescope.sensor_pixels[1] // 2 - 0.5,\n)\nx_pix, y_pix = np.meshgrid(\n    np.arange(telescope.sensor_pixels[0]), np.arange(telescope.sensor_pixels[1])\n)\nr_dist = np.sqrt((x_pix - obj_pos[0]) ** 2 + (y_pix - obj_pos[1]) ** 2)\ntheta_grid_rad = mr.dms_to_rad(0, 0, r_dist * telescope.pixel_scale)\n\ndt = 0.3\nc_all = 1e4 * dt\nairy_pattern = telescope.gaussian_diffraction_pattern(c_all, theta_grid_rad)\nprint(f'Airy disk volume: {np.sum(airy_pattern):.4f}')\n\nplt.figure(figsize=(6, 6))\n\nbr_levels = [1e1, 1e2, 1e3, 5e3]\nfor i, c_background in enumerate(br_levels):\n    c_background *= dt\n    adu_grid = np.random.poisson(lam=airy_pattern + c_background).astype(float)\n\n    two_sigma_pixel_width = (\n        3 * telescope.fwhm / (2 * np.sqrt(2 * np.log(2))) / telescope.pixel_scale\n    )\n    two_sigma_pixel_area = np.pi * two_sigma_pixel_width**2\n\n    is_obj = r_dist < two_sigma_pixel_width\n    total_noise_and_signal = np.sum(adu_grid[is_obj])\n    total_signal = np.sum(airy_pattern[is_obj])\n\n    snr1 = 0.838 * c_all / np.sqrt(0.838 * c_all + two_sigma_pixel_area * c_background)\n    snr2 = ccd_snr(airy_pattern[is_obj], adu_grid[is_obj] - airy_pattern[is_obj])\n\n    print(f'Background mean: {c_background}')\n    print(f'SNR from means: {snr1:.2f} \\nSNR from samples: {snr2:.2f}')\n\n    plt.subplot(2, 2, i + 1)\n    plt.imshow(\n        adu_grid,\n        cmap='plasma',\n        extent=[x_pix.min(), x_pix.max(), y_pix.min(), y_pix.max()],\n    )\n    mrv.texit(f'SNR = {snr1:.1f}', '', '', grid=False)\n    plt.xticks([])\n    plt.yticks([])\n    plt.clim(0, np.max(adu_grid))\n    plt.colorbar(cax=mrv.get_cbar_ax(), label='ADU')\nplt.tight_layout()\nplt.show()"
      ]
    },
    {
      "cell_type": "markdown",
      "metadata": {},
      "source": [
        "Investigating the effect of integration time on SNR\n\n"
      ]
    },
    {
      "cell_type": "code",
      "execution_count": null,
      "metadata": {
        "collapsed": false
      },
      "outputs": [],
      "source": [
        "dts = np.linspace(0.1, 10, 40)\nc_background = 1e2\nc_all = 1e3\nsnrs = []\n\nfor dt in dts:\n    airy_pattern = telescope.gaussian_diffraction_pattern(c_all * dt, theta_grid_rad)\n    adu_grid = np.random.poisson(lam=airy_pattern + c_background * dt).astype(float)\n\n    two_sigma_pixel_width = (\n        3 * telescope.fwhm / (2 * np.sqrt(2 * np.log(2))) / telescope.pixel_scale\n    )\n    two_sigma_pixel_area = np.pi * two_sigma_pixel_width**2\n\n    is_obj = r_dist < two_sigma_pixel_width\n    snrs.append(ccd_snr(airy_pattern[is_obj], adu_grid[is_obj] - airy_pattern[is_obj]))\n\nsnrs = np.array(snrs)\n\n# finding the slope of the log-log plot\nm, b = np.polyfit(np.log10(dts), np.log10(snrs), 1)\nprint(f'SNR ~ x^{m:.2f}')\n\nplt.plot(dts, snrs)\nplt.scatter(dts, snrs)\nmrv.texit('', 'Integration Time (s)', 'SNR', ['$\\sqrt{\\Delta t} + \\mathrm{SNR}_0$'])\nplt.tight_layout()\nplt.show()"
      ]
    }
  ],
  "metadata": {
    "kernelspec": {
      "display_name": "Python 3",
      "language": "python",
      "name": "python3"
    },
    "language_info": {
      "codemirror_mode": {
        "name": "ipython",
        "version": 3
      },
      "file_extension": ".py",
      "mimetype": "text/x-python",
      "name": "python",
      "nbconvert_exporter": "python",
      "pygments_lexer": "ipython3",
      "version": "3.11.10"
    }
  },
  "nbformat": 4,
  "nbformat_minor": 0
}