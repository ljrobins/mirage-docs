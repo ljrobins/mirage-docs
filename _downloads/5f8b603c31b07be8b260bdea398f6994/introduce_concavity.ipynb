{
  "cells": [
    {
      "cell_type": "markdown",
      "metadata": {},
      "source": [
        "\n# Introducing Concavities\nThis example shows how to introduce concavities in a model using the method from :cite:p:`robinson2022`.\n"
      ]
    },
    {
      "cell_type": "code",
      "execution_count": null,
      "metadata": {
        "collapsed": false
      },
      "outputs": [],
      "source": [
        "import numpy as np\nimport pyvista as pv\n\nimport mirage as mr\nimport mirage.vis as mrv\n\nobj = mr.SpaceObject('icosahedron.obj', identifier='goes 15')\ndisp_dir = np.array([[1.0, 1.0, 1.0]]) / np.sqrt(3)\npsi_est = 45\nobj = obj.introduce_concavity(disp_dir, psi_est, linear_iter=3)\n\npl = pv.Plotter()\nmrv.render_spaceobject(pl, obj)\npl.camera.position = (4.0, 0.0, 0.0)\npl.show()"
      ]
    }
  ],
  "metadata": {
    "kernelspec": {
      "display_name": "Python 3",
      "language": "python",
      "name": "python3"
    },
    "language_info": {
      "codemirror_mode": {
        "name": "ipython",
        "version": 3
      },
      "file_extension": ".py",
      "mimetype": "text/x-python",
      "name": "python",
      "nbconvert_exporter": "python",
      "pygments_lexer": "ipython3",
      "version": "3.11.9"
    }
  },
  "nbformat": 4,
  "nbformat_minor": 0
}