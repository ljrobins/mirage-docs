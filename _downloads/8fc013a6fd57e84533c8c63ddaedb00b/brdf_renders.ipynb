{
  "cells": [
    {
      "cell_type": "markdown",
      "metadata": {},
      "source": [
        "\n# BRDFs in Action\n\nPlotting BRDF kernels and their rendered results\n"
      ]
    },
    {
      "cell_type": "code",
      "execution_count": null,
      "metadata": {
        "collapsed": false
      },
      "outputs": [],
      "source": [
        "import matplotlib.pyplot as plt\nimport numpy as np\nimport pyvista as pv\nfrom PIL import Image\n\nimport mirage as mr\nimport mirage.vis as mrv\n\nbrdfs = [\n    mr.Brdf('diffuse', 0.5, 0.0, 0),\n    mr.Brdf('oren-nayar', 0.5, 0.0, 0),\n    mr.Brdf('phong', 0.5, 0.5, 5),\n    mr.Brdf('blinn-phong', 0.5, 0.5, 5),\n    mr.Brdf('ashikhmin-shirley', 0.5, 0.5, 15),\n    mr.Brdf('cook-torrance', 0.5, 0.5, 0.3),\n    mr.Brdf('glossy', 0.5, 0.5, 0.9),\n]\n\nnum = 200\npl_shape = (3, 3)\narrow_scale = 0.5\nel_space, az_space = np.linspace(0.1, np.pi / 2, num), np.linspace(0, 2 * np.pi, num)\nel_grid, az_grid = np.meshgrid(el_space, az_space)"
      ]
    },
    {
      "cell_type": "markdown",
      "metadata": {},
      "source": [
        "Now we can iterate through a range of specular exponents and BRDFs to visualize how the BRDF varies\n\n"
      ]
    },
    {
      "cell_type": "code",
      "execution_count": null,
      "metadata": {
        "collapsed": false
      },
      "outputs": [],
      "source": [
        "pl = pv.Plotter(shape=pl_shape)\npl.set_background('white')\nfor i, brdf in enumerate(brdfs):\n    (xx, yy, zz) = mr.sph_to_cart(az_grid, el_grid, 0 * el_grid + 1)\n    O = np.hstack(\n        (\n            xx.reshape(((num**2, 1))),\n            yy.reshape(((num**2, 1))),\n            zz.reshape(((num**2, 1))),\n        )\n    )\n    L = mr.hat(np.tile(np.array([[0, 1, 1]]), (num**2, 1)))\n    N = mr.hat(np.tile(np.array([[0, 0, 1]]), (num**2, 1)))\n    b = brdf.eval(L, O, N).reshape(xx.shape)\n    mesh = pv.StructuredGrid(xx * b, yy * b, zz * b)\n    pl.subplot(i // 3, i % 3)\n    pl.add_text(f'{brdf.name.upper()}', font_size=18, font='courier', color='black')\n    pl.add_mesh(\n        mesh,\n        scalars=b.T.flatten(),\n        show_scalar_bar=False,\n        cmap='isolum',\n        smooth_shading=True,\n    )\n    mrv.plot_basis(\n        pl, np.eye(3), color='cornflowerblue', labels=['U', 'V', 'N'], scale=arrow_scale\n    )\n    mrv.plot_arrow(\n        pl,\n        origin=[0, 0, 0],\n        direction=L[0, :],\n        scale=arrow_scale,\n        color='yellow',\n        label='L',\n    )\n\npl.link_views()\npl.camera.position = (2.0, 0.0, 2.0)\npl.camera.focal_point = (0.0, 0.0, 0.0)\npl.show()"
      ]
    },
    {
      "cell_type": "markdown",
      "metadata": {},
      "source": [
        "Plotting rendered result with the same BRDFs\n\n"
      ]
    },
    {
      "cell_type": "code",
      "execution_count": null,
      "metadata": {
        "collapsed": false
      },
      "outputs": [],
      "source": [
        "ovb = mr.hat(np.tile(np.array([[-1.0, 0.0, 0.5]]), (1, 1)))\nsvb = mr.hat(np.tile(np.array([[-0.5, 0.0, 0.5]]), (1, 1)))\n\nfor i, brdf in enumerate(brdfs):\n    mr.run_light_curve_engine(\n        brdf, 'stanford_dragon.obj', svb, ovb, save_imgs=True, instances=1\n    )\n    plt.subplot(*pl_shape, i + 1)\n    im = np.asarray(Image.open('out/frame1.png'))\n    plt.imshow(im[:, :, 0], cmap='gray', alpha=(im[:, :, 1] > 0).astype(np.float32))\n    plt.xticks([])\n    plt.yticks([])\n    plt.title(brdf.name.upper())\nplt.tight_layout()\nplt.show()"
      ]
    }
  ],
  "metadata": {
    "kernelspec": {
      "display_name": "Python 3",
      "language": "python",
      "name": "python3"
    },
    "language_info": {
      "codemirror_mode": {
        "name": "ipython",
        "version": 3
      },
      "file_extension": ".py",
      "mimetype": "text/x-python",
      "name": "python",
      "nbconvert_exporter": "python",
      "pygments_lexer": "ipython3",
      "version": "3.11.9"
    }
  },
  "nbformat": 4,
  "nbformat_minor": 0
}