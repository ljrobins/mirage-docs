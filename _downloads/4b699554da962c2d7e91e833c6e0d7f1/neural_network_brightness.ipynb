{
  "cells": [
    {
      "cell_type": "markdown",
      "metadata": {},
      "source": [
        "\n# Neural Network Brightness\n\nTrains a neural network to predict the brightness of a specular cube in an arbitrary lighting and observation conditions and compares the results to the truth\n"
      ]
    },
    {
      "cell_type": "code",
      "execution_count": null,
      "metadata": {
        "collapsed": false
      },
      "outputs": [],
      "source": [
        "import matplotlib.pyplot as plt\nimport numpy as np\nimport seaborn as sns\n\nimport mirage as mr\nimport mirage.sim as mrsim"
      ]
    },
    {
      "cell_type": "markdown",
      "metadata": {},
      "source": [
        "Let's define the object and the BRDF\n\n"
      ]
    },
    {
      "cell_type": "code",
      "execution_count": null,
      "metadata": {
        "collapsed": false
      },
      "outputs": [],
      "source": [
        "obj = mr.SpaceObject('cube.obj')\nbrdf = mr.Brdf('phong', cd=0.5, cs=0.5, n=10)"
      ]
    },
    {
      "cell_type": "markdown",
      "metadata": {},
      "source": [
        "We now define the Multi-Layer Perceptron (MLP) brightness model. Note that the ``layers=(150, 50, 150)`` keyword argument defines the number of neurons in each densely-connected layer.\n\n"
      ]
    },
    {
      "cell_type": "code",
      "execution_count": null,
      "metadata": {
        "collapsed": false
      },
      "outputs": [],
      "source": [
        "mlp_bm = mrsim.MLPBrightnessModel(obj, brdf, use_engine=False)"
      ]
    },
    {
      "cell_type": "markdown",
      "metadata": {},
      "source": [
        "Now we train the model on a set number of training lighting and observation configurations. Usually ``1e5``-``1e6`` are required for a *good* fit\n\n"
      ]
    },
    {
      "cell_type": "code",
      "execution_count": null,
      "metadata": {
        "collapsed": false
      },
      "outputs": [],
      "source": [
        "num_train = int(1e3)\nmlp_bm.train(num_train)"
      ]
    },
    {
      "cell_type": "markdown",
      "metadata": {},
      "source": [
        "We can now simulate a torque-free attitude profile to inspect the quality of the fit\n\n"
      ]
    },
    {
      "cell_type": "code",
      "execution_count": null,
      "metadata": {
        "collapsed": false
      },
      "outputs": [],
      "source": [
        "t_eval = np.linspace(0, 10, 1000)\nq, _ = mr.propagate_attitude_torque_free(\n    np.array([0.0, 0.0, 0.0, 1.0]),\n    np.array([1.0, 1.0, 1.0]),\n    np.diag([1, 2, 3]),\n    t_eval,\n)\ndcm = mr.quat_to_dcm(q)\novb = mr.stack_mat_mult_vec(dcm, np.array([[1, 0, 0]]))\nsvb = mr.stack_mat_mult_vec(dcm, np.array([[0, 1, 0]]))"
      ]
    },
    {
      "cell_type": "markdown",
      "metadata": {},
      "source": [
        "Evaluating the model in its two available formats - as a native ``scikit-learn`` model and as an Open Neural Network eXchange (ONNX) model\n\n"
      ]
    },
    {
      "cell_type": "code",
      "execution_count": null,
      "metadata": {
        "collapsed": false
      },
      "outputs": [],
      "source": [
        "mr.tic('Evaluate trained model with sklearn')\nmdl_b_sklearn = mlp_bm.eval(ovb, svb, eval_mode_pref='sklearn')\nmr.toc()\nmr.tic('Evaluate trained model with onnx')\nmdl_b_onnx = mlp_bm.eval(ovb, svb, eval_mode_pref='onnx')\nmr.toc()"
      ]
    },
    {
      "cell_type": "markdown",
      "metadata": {},
      "source": [
        "We can save both of these representations to file:\n\n"
      ]
    },
    {
      "cell_type": "code",
      "execution_count": null,
      "metadata": {
        "collapsed": false
      },
      "outputs": [],
      "source": [
        "mlp_bm.save_to_file(save_as_format='onnx')\nmlp_bm.save_to_file(save_as_format='sklearn')"
      ]
    },
    {
      "cell_type": "markdown",
      "metadata": {},
      "source": [
        "Now we load the model from its ``.onxx`` file we just saved and evaluate the brightness\n\n"
      ]
    },
    {
      "cell_type": "code",
      "execution_count": null,
      "metadata": {
        "collapsed": false
      },
      "outputs": [],
      "source": [
        "mlp_bm.load_from_file(mlp_bm.onnx_file_name)\nmr.tic('Evaluate loaded model with onxx')\nmdl_onnx_loaded = mlp_bm.eval(ovb, svb, eval_mode_pref='onnx')\nmr.toc()"
      ]
    },
    {
      "cell_type": "markdown",
      "metadata": {},
      "source": [
        "And we do the same for the ``scikit-learn`` ``.plk`` file we saved\n\n"
      ]
    },
    {
      "cell_type": "code",
      "execution_count": null,
      "metadata": {
        "collapsed": false
      },
      "outputs": [],
      "source": [
        "mlp_bm.load_from_file(mlp_bm.sklearn_file_name)\nmr.tic('Evaluate loaded model with sklearn')\nmdl_sklearn_loaded = mlp_bm.eval(ovb, svb, eval_mode_pref='sklearn')\nmr.toc()"
      ]
    },
    {
      "cell_type": "markdown",
      "metadata": {},
      "source": [
        "We can easily confirm that all four model evaluations have produced the same prediction\n\n"
      ]
    },
    {
      "cell_type": "code",
      "execution_count": null,
      "metadata": {
        "collapsed": false
      },
      "outputs": [],
      "source": [
        "print(np.max(np.abs(mdl_b_sklearn - mdl_onnx_loaded)))\nprint(np.max(np.abs(mdl_b_onnx - mdl_onnx_loaded)))\nprint(np.max(np.abs(mdl_b_sklearn - mdl_sklearn_loaded)))\nprint(np.max(np.abs(mdl_b_onnx - mdl_sklearn_loaded)))"
      ]
    },
    {
      "cell_type": "markdown",
      "metadata": {},
      "source": [
        "We can now finish off by evaluating the true brightness in this attitude profile and plot the results\n\n"
      ]
    },
    {
      "cell_type": "code",
      "execution_count": null,
      "metadata": {
        "collapsed": false
      },
      "outputs": [],
      "source": [
        "true_b = mlp_bm.brightness(svb, ovb)\n\nplt.figure()\nsns.lineplot(x=t_eval, y=true_b, errorbar=None)\nsns.lineplot(x=t_eval, y=mdl_b_sklearn, errorbar=None)\nplt.title(f'Light Curves for {obj.file_name}, {num_train} Training Points')\nplt.xlabel('Time [s]')\nplt.ylabel('Normalized brightness')\nplt.legend(['True', 'Model'])\nplt.grid()\nplt.show()"
      ]
    },
    {
      "cell_type": "markdown",
      "metadata": {},
      "source": [
        "We can also train on magnitude data instead of irradiance:\n\n"
      ]
    },
    {
      "cell_type": "code",
      "execution_count": null,
      "metadata": {
        "collapsed": false
      },
      "outputs": [],
      "source": [
        "mlp_bm = mrsim.MLPBrightnessModel(obj, brdf, use_engine=True)\nmlp_bm.train(num_train)\n\nmr.tic('Evaluate trained model with onnx')\nmdl_b_onnx = mlp_bm.eval(ovb, svb)\nmr.toc()"
      ]
    },
    {
      "cell_type": "markdown",
      "metadata": {},
      "source": [
        "We can now finish off by evaluating the true brightness in this attitude profile and plot the results\n\n"
      ]
    },
    {
      "cell_type": "code",
      "execution_count": null,
      "metadata": {
        "collapsed": false
      },
      "outputs": [],
      "source": [
        "true_b = mlp_bm.brightness(svb, ovb)\n\nplt.figure()\nsns.lineplot(x=t_eval, y=true_b, errorbar=None)\nsns.lineplot(x=t_eval, y=mdl_b_onnx, errorbar=None)\nplt.title(f'Light Curves for {obj.file_name}, {num_train} Training Points')\nplt.xlabel('Time [s]')\nplt.ylabel('Apparent Magnitude')\nplt.legend(['True', 'Model'])\nplt.grid()\nplt.show()"
      ]
    }
  ],
  "metadata": {
    "kernelspec": {
      "display_name": "Python 3",
      "language": "python",
      "name": "python3"
    },
    "language_info": {
      "codemirror_mode": {
        "name": "ipython",
        "version": 3
      },
      "file_extension": ".py",
      "mimetype": "text/x-python",
      "name": "python",
      "nbconvert_exporter": "python",
      "pygments_lexer": "ipython3",
      "version": "3.11.10"
    }
  },
  "nbformat": 4,
  "nbformat_minor": 0
}