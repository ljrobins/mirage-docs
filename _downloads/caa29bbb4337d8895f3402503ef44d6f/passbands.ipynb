{
  "cells": [
    {
      "cell_type": "markdown",
      "metadata": {},
      "source": [
        "\n# Passbands\n\nPassbands for the Gaia and Johnson-Cousins photometric systems.\n"
      ]
    },
    {
      "cell_type": "code",
      "execution_count": null,
      "metadata": {
        "collapsed": false
      },
      "outputs": [],
      "source": [
        "import matplotlib.pyplot as plt\nimport numpy as np\nimport seaborn as sns\n\nimport mirage as mr\nimport mirage.vis as mrv\n\n\ndef plot_passband(lambdas, vals, label, color):\n    ax = plt.gca()\n    ax = sns.lineplot(x=lambdas, y=vals, color=color, alpha=0.5, label=label)\n    ax.fill_between(lambdas, vals, color=color, alpha=0.1)\n\n\nlambdas = np.linspace(300, 1200, 1000)\ng_pass = mr.gaia_passband(lambdas, 'G')\ng_bp_pass = mr.gaia_passband(lambdas, 'G_BP')\ng_rp_pass = mr.gaia_passband(lambdas, 'G_RP')\n\nccd = mr.ChargeCoupledDevice(preset='pogs')\nqe = ccd.quantum_efficiency(lambdas)\n\nplt.figure(figsize=(8, 4))\nplt.subplot(1, 2, 1)\nplot_passband(lambdas, g_pass, label='$G$', color='g')\nplot_passband(lambdas, g_bp_pass, label='$G_{BP}$', color='b')\nplot_passband(lambdas, g_rp_pass, label='$G_{RP}$', color='r')\n# plot_passband(lambdas, qe, label=\"QE\", color=\"k\")\nmrv.texit('Gaia Passbands', 'Wavelength [nm]', 'Transmission', grid=True)\nplt.legend()\n\nplt.subplot(1, 2, 2)\nplot_passband(\n    lambdas, mr.johnson_cousins_passbands(lambdas, 'U'), label='$U$', color='violet'\n)\nplot_passband(\n    lambdas, mr.johnson_cousins_passbands(lambdas, 'B'), label='$B$', color='c'\n)\nplot_passband(\n    lambdas, mr.johnson_cousins_passbands(lambdas, 'V'), label='$V$', color='g'\n)\nplot_passband(\n    lambdas, mr.johnson_cousins_passbands(lambdas, 'R'), label='$R$', color='r'\n)\nplot_passband(\n    lambdas, mr.johnson_cousins_passbands(lambdas, 'I'), label='$I$', color='maroon'\n)\n\nmrv.texit('Johnson-Cousins Passbands', 'Wavelength [nm]', 'Transmission', grid=True)\nplt.legend()\n\nplt.tight_layout()\nplt.show()"
      ]
    }
  ],
  "metadata": {
    "kernelspec": {
      "display_name": "Python 3",
      "language": "python",
      "name": "python3"
    },
    "language_info": {
      "codemirror_mode": {
        "name": "ipython",
        "version": 3
      },
      "file_extension": ".py",
      "mimetype": "text/x-python",
      "name": "python",
      "nbconvert_exporter": "python",
      "pygments_lexer": "ipython3",
      "version": "3.12.7"
    }
  },
  "nbformat": 4,
  "nbformat_minor": 0
}