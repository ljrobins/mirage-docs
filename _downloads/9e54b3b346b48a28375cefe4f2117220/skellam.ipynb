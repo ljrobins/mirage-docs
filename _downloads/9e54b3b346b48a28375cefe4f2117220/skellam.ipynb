{
  "cells": [
    {
      "cell_type": "markdown",
      "metadata": {},
      "source": [
        "\n# Skellam Distribution\n\nThe difference of two Poisson distributions\n"
      ]
    },
    {
      "cell_type": "code",
      "execution_count": null,
      "metadata": {
        "collapsed": false
      },
      "outputs": [],
      "source": [
        "import matplotlib.pyplot as plt\nimport numpy as np\nfrom scipy.special import iv\n\nn = int(1e6)  # samples\nlams = [10, 4]\ns1 = np.random.poisson(lam=lams[0], size=n)\ns2 = np.random.poisson(lam=lams[1], size=n)\n\np_skellam = (\n    lambda x, lam1, lam2: np.exp(-lam1 - lam2)\n    * (lam1 / lam2) ** (x / 2)\n    * iv(x, 2 * np.sqrt(lam1 * lam2))\n)\nxs = np.linspace(-20, 20)\npxs = p_skellam(xs, *lams)\ndiff = s1 - s2\n\nprint(f'Numerical  mean: {diff.mean():.3f}')\nprint(f'Analytical mean: {lams[0]-lams[1]:.3f}\\n')\nprint(f'Numerical  variance: {diff.var():.3f}')\nprint(f'Analytical variance: {lams[0]+lams[1]:.3f}')"
      ]
    },
    {
      "cell_type": "markdown",
      "metadata": {},
      "source": [
        "Let's plot these sampled random variables as well as the expected distribution of their difference\n\n"
      ]
    },
    {
      "cell_type": "code",
      "execution_count": null,
      "metadata": {
        "collapsed": false
      },
      "outputs": [],
      "source": [
        "plt.hist(\n    s1,\n    bins=range(s1.min(), s1.max() + 1),\n    alpha=0.8,\n    density=True,\n    align='left',\n    label='$N_1$',\n)\nplt.hist(\n    s2,\n    bins=range(s1.min(), s1.max() + 1),\n    alpha=0.8,\n    density=True,\n    align='left',\n    label='$N_2$',\n)\nplt.hist(\n    diff,\n    bins=range(diff.min(), diff.max() + 1),\n    alpha=0.4,\n    density=True,\n    align='left',\n    label='$K=N_1-N_2$',\n)\nplt.plot(xs, pxs, color='g', label='$Pr(K=k)$')\nplt.xlabel('$k$')\nplt.ylabel('p(k)')\nplt.legend()\nplt.xlim(-10, 25)\nplt.grid()\nplt.show()"
      ]
    }
  ],
  "metadata": {
    "kernelspec": {
      "display_name": "Python 3",
      "language": "python",
      "name": "python3"
    },
    "language_info": {
      "codemirror_mode": {
        "name": "ipython",
        "version": 3
      },
      "file_extension": ".py",
      "mimetype": "text/x-python",
      "name": "python",
      "nbconvert_exporter": "python",
      "pygments_lexer": "ipython3",
      "version": "3.11.10"
    }
  },
  "nbformat": 4,
  "nbformat_minor": 0
}