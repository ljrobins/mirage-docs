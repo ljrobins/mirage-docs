{
  "cells": [
    {
      "cell_type": "markdown",
      "metadata": {},
      "source": [
        "\n# POGS Sensitivity\n\nCalibrating the gain of the POGS CCD sensor\n"
      ]
    },
    {
      "cell_type": "code",
      "execution_count": null,
      "metadata": {
        "collapsed": false
      },
      "outputs": [],
      "source": [
        "import matplotlib.pyplot as plt\nimport numpy as np\n\nimport mirage.photo as mrp\n\nfits_path = '/Users/liamrobinson/Library/CloudStorage/OneDrive-purdue.edu/pogs/misc/00161292.48859.fit'\nheader, img = mrp.load_fits(fits_path)\nfor k, v in header.items():\n    print(k, v)\n\nimg = img.flatten() - 1000\nbr = img[img < np.percentile(img, 99.8)]\n\n\nf = 2.2\nmedian = np.median(br)\nprint(f'Observed std in e- from the median {np.sqrt(median/f)}')\nprint(f'Observed std in e- from the std {(br/f).std()}')\n\nvp = np.random.poisson(np.full(br.shape, median / f)) * f\nvg = np.random.normal(loc=median, scale=np.full(br.shape, br.std()))\n\nbins = np.arange(br.min(), br.max() + 1.1)\nbins2 = np.arange(br.min(), br.max() + 1.1, f)"
      ]
    },
    {
      "cell_type": "markdown",
      "metadata": {},
      "source": [
        "Plotting the distributions in ADU\n\n"
      ]
    },
    {
      "cell_type": "code",
      "execution_count": null,
      "metadata": {
        "collapsed": false
      },
      "outputs": [],
      "source": [
        "h1 = plt.hist(br, bins, density=True)[0]\nh2 = plt.hist(vp, bins2, density=True)[0]\nh3 = plt.hist(vg, bins, density=True)[0]\nplt.cla()\nplt.step(bins[1:], h1, label=f'Data $\\sigma={br.std():.1f}$')\nplt.plot(\n    bins[1:],\n    h3,\n    label=f'$N(\\mu={median:.1f}, \\sigma={br.std():.1f})$',\n    alpha=0.9,\n    linestyle='--',\n)\nplt.step(\n    bins2[1:], h2, label=f'$Pois(\\lambda={median:.1f}/{f:.2f})\\cdot {f:.2f}$', alpha=0.5\n)\nplt.xlabel('Pixel value [ADU]')\nplt.ylabel('Probility density')\nplt.title('Background Distribution after Bias Subtraction [ADU]')\nplt.legend()\nplt.grid()\nplt.show()"
      ]
    },
    {
      "cell_type": "markdown",
      "metadata": {},
      "source": [
        "# Plotting the distributions in ADU\nh1 = plt.hist(br, bins, density=True)[0]\nh2 = plt.hist(vp, bins2, density=True)[0]\nh3 = plt.hist(vg, bins, density=True)[0]\nplt.cla()\nplt.step(bins[1:], h1, label='data')\nplt.plot(\n    bins[1:],\n    h3,\n    label=f'$N(\\mu={median:.1f}, \\sigma={br.std():.1f})$',\n    alpha=0.9,\n    linestyle='--',\n)\nplt.step(\n    bins2[1:], h2, label=f'$Pois(\\lambda={median:.1f}/{f:.2f})\\cdot {f:.2f}$', alpha=0.5\n)\nplt.xlabel('Pixel value [ADU]')\nplt.ylabel('Probility density')\nplt.title('Background Distribution after Bias Subtraction [e-]')\nplt.legend()\nplt.grid()\nplt.show()\n\n"
      ]
    }
  ],
  "metadata": {
    "kernelspec": {
      "display_name": "Python 3",
      "language": "python",
      "name": "python3"
    },
    "language_info": {
      "codemirror_mode": {
        "name": "ipython",
        "version": 3
      },
      "file_extension": ".py",
      "mimetype": "text/x-python",
      "name": "python",
      "nbconvert_exporter": "python",
      "pygments_lexer": "ipython3",
      "version": "3.11.10"
    }
  },
  "nbformat": 4,
  "nbformat_minor": 0
}