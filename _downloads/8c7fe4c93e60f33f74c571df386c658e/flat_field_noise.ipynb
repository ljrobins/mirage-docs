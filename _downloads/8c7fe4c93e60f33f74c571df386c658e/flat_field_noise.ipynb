{
  "cells": [
    {
      "cell_type": "markdown",
      "metadata": {},
      "source": [
        "\n# Flat Fielding Error\n\nInvestigating how the\n"
      ]
    },
    {
      "cell_type": "code",
      "execution_count": null,
      "metadata": {
        "collapsed": false
      },
      "outputs": [],
      "source": [
        "import matplotlib.pyplot as plt\nimport numpy as np\n\n\ndef curve_for_k(mu_es: np.ndarray, k: float):\n    adu_vars = []\n    adu_meds = []\n    for mu_e in mu_es:\n        flat_field_effect = np.clip(\n            np.random.normal(loc=mu_e, scale=k * mu_e), 0, np.inf\n        )\n        e_data = np.random.poisson(flat_field_effect)\n        adu_data = e_data / g\n        adu_vars.append(np.var(adu_data))\n        adu_meds.append(np.median(adu_data))\n    return np.array(adu_meds), np.array(adu_vars)\n\n\nn = int(1e5)\nmus_adu = np.tile(np.linspace(0, 4e5), (n, 1)).T\ng = 5.6  # e- / ADU\nmu_es = mus_adu * g"
      ]
    },
    {
      "cell_type": "markdown",
      "metadata": {},
      "source": [
        "Plotting the growth in variance with the median\n\n"
      ]
    },
    {
      "cell_type": "code",
      "execution_count": null,
      "metadata": {
        "collapsed": false
      },
      "outputs": [],
      "source": [
        "for k in [0, 0.005, 0.01]:\n    adu_meds, adu_vars = curve_for_k(mu_es, k)\n    plt.plot(adu_meds, adu_vars, label=f'${k=}$', marker='o', markevery=5)\nplt.grid()\nplt.ylabel(r'Variance ($\\text{ADU}^2$)')\nplt.xlabel('Signal median ($ADU$)')\nplt.title('Flat Fielding Noise')\nplt.legend()\nplt.tight_layout()\nplt.show()"
      ]
    },
    {
      "cell_type": "markdown",
      "metadata": {},
      "source": [
        "Plotting the growth in standard deviation with the median\n\n"
      ]
    },
    {
      "cell_type": "code",
      "execution_count": null,
      "metadata": {
        "collapsed": false
      },
      "outputs": [],
      "source": [
        "n = int(1e5)\nmus_adu = np.tile(np.linspace(0, 5e3), (n, 1)).T\ng = 5.6  # e- / ADU\nmu_es = mus_adu * g\n\nfor k in [0, 0.005, 0.01]:\n    adu_meds, adu_vars = curve_for_k(mu_es, k)\n    plt.plot(adu_meds, np.sqrt(adu_vars), label=f'${k=}$', marker='o', markevery=5)\nplt.grid()\n# plt.ylabel(r'Variance ($\\text{ADU}^2$)')\nplt.ylabel(r'Standard deviation ($\\text{ADU}$)')\nplt.xlabel('Signal median ($ADU$)')\nplt.title('Flat Fielding Noise')\nplt.legend()\nplt.tight_layout()\nplt.show()"
      ]
    }
  ],
  "metadata": {
    "kernelspec": {
      "display_name": "Python 3",
      "language": "python",
      "name": "python3"
    },
    "language_info": {
      "codemirror_mode": {
        "name": "ipython",
        "version": 3
      },
      "file_extension": ".py",
      "mimetype": "text/x-python",
      "name": "python",
      "nbconvert_exporter": "python",
      "pygments_lexer": "ipython3",
      "version": "3.11.10"
    }
  },
  "nbformat": 4,
  "nbformat_minor": 0
}