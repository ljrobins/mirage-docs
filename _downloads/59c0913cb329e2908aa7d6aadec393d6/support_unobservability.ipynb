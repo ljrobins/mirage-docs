{
  "cells": [
    {
      "cell_type": "markdown",
      "metadata": {},
      "source": [
        "\n# Support Unobservability\n\nThis example shows how the support -- the final construction of the object -- is fundamentally unobservable from the light curve.\n"
      ]
    },
    {
      "cell_type": "code",
      "execution_count": null,
      "metadata": {
        "collapsed": false
      },
      "outputs": [],
      "source": [
        "import numpy as np\nimport pyvista as pv\n\nimport mirage as mr\nimport mirage.vis as mrv"
      ]
    },
    {
      "cell_type": "markdown",
      "metadata": {},
      "source": [
        "Defining the nominal object\n\n"
      ]
    },
    {
      "cell_type": "code",
      "execution_count": null,
      "metadata": {
        "collapsed": false
      },
      "outputs": [],
      "source": [
        "obj = mrv.SpaceObject('cube.obj')\n\nv2 = obj.v.copy()\nfor fi, ni in zip(obj.f, obj.face_normals):\n    for vind in fi:\n        v2[vind] += ni\n\nobj2 = mrv.SpaceObject(vertices_and_faces=(v2, obj.f))\n\npl = pv.Plotter()\nmrv.render_spaceobject(pl, obj)\nmrv.render_spaceobject(pl, obj2, color='gray')\npl.show()"
      ]
    },
    {
      "cell_type": "markdown",
      "metadata": {},
      "source": [
        "Calculating the irradiance difference for a change of 1 meter for one of the flat plates for an object in GEO\n\n"
      ]
    },
    {
      "cell_type": "code",
      "execution_count": null,
      "metadata": {
        "collapsed": false
      },
      "outputs": [],
      "source": [
        "r_geo = 42164.0\nr_plate = r_geo\nr_plate2 = r_geo - 1e-3\n\nirradiance_fraction_difference = 1 - (r_plate2 / r_plate) ** 2\n\nprint(\n    f'The irradiance due to the closer plate is {irradiance_fraction_difference*100}% different'\n)"
      ]
    },
    {
      "cell_type": "markdown",
      "metadata": {},
      "source": [
        "Figuring out the truncation losses in the CCD\n\n"
      ]
    },
    {
      "cell_type": "code",
      "execution_count": null,
      "metadata": {
        "collapsed": false
      },
      "outputs": [],
      "source": [
        "obs = mr.Station(preset='pogs')\nnpix = obs.telescope.get_airy_disk_pixels()\nccd_signal = 1e4\ntrunc_variance = npix**2 / 24\ntrunc_std = np.sqrt(trunc_variance)\n\nsignal_difference = ccd_signal * irradiance_fraction_difference\n\nprint(f'The number of pixels in the airy disk is {npix}')\nprint(f'The standard deviation of the truncation noise is {trunc_std} ADU')\nprint(\n    f'The difference in the signal due to plate distance is {signal_difference:.3e} ADU'\n)\nprint(\n    f'The truncation noise is {trunc_std / signal_difference} stronger than the signal difference'\n)\n\nSNR = signal_difference / np.sqrt(signal_difference + trunc_std)\n\nprint(f'The SNR is {SNR:.3e}')"
      ]
    }
  ],
  "metadata": {
    "kernelspec": {
      "display_name": "Python 3",
      "language": "python",
      "name": "python3"
    },
    "language_info": {
      "codemirror_mode": {
        "name": "ipython",
        "version": 3
      },
      "file_extension": ".py",
      "mimetype": "text/x-python",
      "name": "python",
      "nbconvert_exporter": "python",
      "pygments_lexer": "ipython3",
      "version": "3.11.10"
    }
  },
  "nbformat": 4,
  "nbformat_minor": 0
}