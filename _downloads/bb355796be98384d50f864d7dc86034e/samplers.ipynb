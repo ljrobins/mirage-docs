{
  "cells": [
    {
      "cell_type": "markdown",
      "metadata": {},
      "source": [
        "\n# Samplers\n\nVarious strategies for sampling vectors and quaternions\n"
      ]
    },
    {
      "cell_type": "code",
      "execution_count": null,
      "metadata": {
        "collapsed": false
      },
      "outputs": [],
      "source": [
        "import numpy as np\nimport pyvista as pv\n\nimport mirage as mr\nimport mirage.vis as mrv"
      ]
    },
    {
      "cell_type": "markdown",
      "metadata": {},
      "source": [
        "Sampling uniform unit vectors\n\n"
      ]
    },
    {
      "cell_type": "code",
      "execution_count": null,
      "metadata": {
        "collapsed": false
      },
      "outputs": [],
      "source": [
        "n = 1_000\npl = pv.Plotter()\nuv = mr.rand_unit_vectors(n)\nmrv.scatter3(pl, uv, point_size=10, color='c')\nmrv.two_sphere(pl)\npl.show()"
      ]
    },
    {
      "cell_type": "markdown",
      "metadata": {},
      "source": [
        "Sampling uniform vectors in a cone\n\n"
      ]
    },
    {
      "cell_type": "code",
      "execution_count": null,
      "metadata": {
        "collapsed": false
      },
      "outputs": [],
      "source": [
        "v = mr.rand_unit_vectors(1)\npl = pv.Plotter()\nuv = mr.rand_cone_vectors(v, np.pi / 10, n)\nmrv.scatter3(pl, uv, point_size=10, color='c')\nmrv.scatter3(pl, v, point_size=20, color='r')\nmrv.two_sphere(pl)\npl.view_isometric()\npl.show()"
      ]
    },
    {
      "cell_type": "markdown",
      "metadata": {},
      "source": [
        "Sampling uniform vectors in multiple cone\n\n"
      ]
    },
    {
      "cell_type": "code",
      "execution_count": null,
      "metadata": {
        "collapsed": false
      },
      "outputs": [],
      "source": [
        "v = mr.rand_unit_vectors(100)\npl = pv.Plotter()\nuv = mr.rand_cone_vectors(v, np.pi / 30, 100)\nmrv.scatter3(pl, uv, point_size=10, color='c')\nmrv.scatter3(pl, v, point_size=20, color='r')\nmrv.two_sphere(pl)\npl.view_isometric()\npl.show()"
      ]
    },
    {
      "cell_type": "markdown",
      "metadata": {},
      "source": [
        "Sampling uniformly in the volume of a ball\n\n"
      ]
    },
    {
      "cell_type": "code",
      "execution_count": null,
      "metadata": {
        "collapsed": false
      },
      "outputs": [],
      "source": [
        "pl = pv.Plotter()\nuv = mr.rand_points_in_ball(1.0, n)\nmrv.scatter3(pl, uv, point_size=10, cmap='cool', scalars=mr.vecnorm(uv))\nmrv.two_sphere(pl)\npl.view_isometric()\npl.show()"
      ]
    },
    {
      "cell_type": "markdown",
      "metadata": {},
      "source": [
        "Sampling uniformly in a spherical shell\n\n"
      ]
    },
    {
      "cell_type": "code",
      "execution_count": null,
      "metadata": {
        "collapsed": false
      },
      "outputs": [],
      "source": [
        "pl = pv.Plotter()\nuv = mr.rand_points_in_shell((0.6, 0.7), n)\nmrv.scatter3(pl, uv, point_size=10, cmap='cool', scalars=mr.vecnorm(uv))\nmrv.two_sphere(pl)\npl.view_isometric()\npl.show()"
      ]
    }
  ],
  "metadata": {
    "kernelspec": {
      "display_name": "Python 3",
      "language": "python",
      "name": "python3"
    },
    "language_info": {
      "codemirror_mode": {
        "name": "ipython",
        "version": 3
      },
      "file_extension": ".py",
      "mimetype": "text/x-python",
      "name": "python",
      "nbconvert_exporter": "python",
      "pygments_lexer": "ipython3",
      "version": "3.11.9"
    }
  },
  "nbformat": 4,
  "nbformat_minor": 0
}