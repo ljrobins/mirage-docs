{
  "cells": [
    {
      "cell_type": "markdown",
      "metadata": {},
      "source": [
        "\n# Torque-free Attitude Propagation\n\nComparing various methods for propagating torque-free rigid-body motion\n"
      ]
    },
    {
      "cell_type": "code",
      "execution_count": null,
      "metadata": {
        "collapsed": false
      },
      "outputs": [],
      "source": [
        "import matplotlib.pyplot as plt\nimport numpy as np\n\nimport mirage as mr\nimport mirage.vis as mrv\n\nitensor = np.diag([1.0, 1.0, 2.0])\n\nnum_time, num_ic = 10, 10\nntime = np.logspace(0, 1.0, num_time, dtype=np.int32) + 1\nnic = np.logspace(0, 1.0, num_ic, dtype=np.int32)\nnt_grid, ni_grid = np.meshgrid(ntime, nic)\n\nw0s = mr.rand_unit_vectors(max(nic))\nq0s = mr.rand_quaternions(max(nic))\n\nnt, ni = int(1e6), int(1e1)\nq0 = mr.rand_quaternions(ni)\nw0 = mr.rand_unit_vectors(ni)\nmr.tic()\nq_par, _ = mr.propagate_attitude_torque_free_axisymmetric(\n    q0, w0, itensor, np.linspace(0, 1, nt)\n)\ndt = mr.toc(return_elapsed_seconds=True)\nprint(f'Axisymmetric form: {nt * ni / dt:.2e} [quats/sec]')\n\nmr.tic()\nq_ana, _ = mr.propagate_attitude_torque_free(\n    q0[0, :], w0[0, :], itensor, np.linspace(0, 1, nt)\n)\ndt = mr.toc(return_elapsed_seconds=True)\nprint(f'Generalized form: {nt * 1 / dt:.2e} [quats/sec]')\n\nerr = np.max(\n    np.abs(mr.quat_upper_hemisphere(q_ana) - mr.quat_upper_hemisphere(q_par[0, :, :]))\n)\nprint(f'Max quaternion error: {err}')"
      ]
    },
    {
      "cell_type": "markdown",
      "metadata": {},
      "source": [
        "Let's test a whole grid of options to stress test these methods\n\n"
      ]
    },
    {
      "cell_type": "code",
      "execution_count": null,
      "metadata": {
        "collapsed": false
      },
      "outputs": [],
      "source": [
        "t_axi = np.zeros_like(nt_grid, dtype=np.float64)\nt_ana = np.zeros_like(nt_grid, dtype=np.float64)\nt_num = np.zeros_like(nt_grid, dtype=np.float64)\nfor k, (ni, nt) in enumerate(zip(ni_grid.flatten(), nt_grid.flatten())):\n    i, j = k // num_time, k % num_time\n    q0, w0 = q0s[:ni, :], w0s[:ni, :]\n    tspace = np.linspace(0, 1, nt)\n    mr.tic()\n    q_par = mr.propagate_attitude_torque_free_axisymmetric(q0, w0, itensor, tspace)\n    t_axi[i, j] = mr.toc(return_elapsed_seconds=True)\n    mr.tic()\n    for q, w in zip(q0, w0):\n        q_true1, _ = mr.propagate_attitude_torque_free(q, w, itensor, tspace)\n    t_ana[i, j] = mr.toc(return_elapsed_seconds=True)\n    mr.tic()\n    for q, w in zip(q0, w0):\n        q_true2, _ = mr.integrate_rigid_attitude_dynamics(q, w, itensor, tspace)\n    t_num[i, j] = mr.toc(return_elapsed_seconds=True)\n\nallt = np.log10(np.concatenate([t_num, t_ana, t_axi]).flatten())\ntlims = np.min(allt), np.max(allt)\ntitles = ['Numerical', 'Semi-analytic', 'Axisymmetric parallel']\nplt.figure(figsize=(10, 6))\nfor i, grid in enumerate([t_num, t_ana, t_axi], 1):\n    plt.subplot(1, 3, i)\n    plt.imshow(\n        np.log10(grid).T,\n        vmin=tlims[0],\n        vmax=tlims[1],\n        extent=(np.min(ntime), np.max(ntime), np.min(nic), np.max(nic)),\n    )\n    mrv.texit(\n        titles[i - 1],\n        'Number of times' if i == 2 else None,\n        'Number of ICs' if i == 1 else None,\n        grid=False,\n    )\n    if i == 3:\n        cb = plt.colorbar(label='$\\Delta t$ [sec]', cax=mrv.get_cbar_ax())\n        tics = cb.get_ticks()\n        cb.set_ticklabels([f'$10^{t}$' for t in tics])\n    plt.tight_layout()\nplt.show()"
      ]
    }
  ],
  "metadata": {
    "kernelspec": {
      "display_name": "Python 3",
      "language": "python",
      "name": "python3"
    },
    "language_info": {
      "codemirror_mode": {
        "name": "ipython",
        "version": 3
      },
      "file_extension": ".py",
      "mimetype": "text/x-python",
      "name": "python",
      "nbconvert_exporter": "python",
      "pygments_lexer": "ipython3",
      "version": "3.11.10"
    }
  },
  "nbformat": 4,
  "nbformat_minor": 0
}