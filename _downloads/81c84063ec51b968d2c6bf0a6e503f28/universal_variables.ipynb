{
  "cells": [
    {
      "cell_type": "markdown",
      "metadata": {},
      "source": [
        "\n# Universal Variables\n"
      ]
    },
    {
      "cell_type": "code",
      "execution_count": null,
      "metadata": {
        "collapsed": false
      },
      "outputs": [],
      "source": [
        "import matplotlib.pyplot as plt\nimport numpy as np\n\nimport mirage as mr\nimport mirage.vis as mrv"
      ]
    },
    {
      "cell_type": "code",
      "execution_count": null,
      "metadata": {
        "collapsed": false
      },
      "outputs": [],
      "source": [
        "Psi = np.linspace(-40, 180, 1000)\nc2c3 = mr.c2_c3(Psi)\n\nfig, ax = plt.subplots()\nax.plot(Psi, c2c3)\nmrv.texit(f\"\", \"$\\Psi$ [$rad^2$]\", \"$c(\\Psi)$\", legend=[\"$c_2(\\Psi)$\", \"$c_3(\\Psi)$\"])\nplt.ylim(0, 0.6)\nplt.show()"
      ]
    }
  ],
  "metadata": {
    "kernelspec": {
      "display_name": "Python 3",
      "language": "python",
      "name": "python3"
    },
    "language_info": {
      "codemirror_mode": {
        "name": "ipython",
        "version": 3
      },
      "file_extension": ".py",
      "mimetype": "text/x-python",
      "name": "python",
      "nbconvert_exporter": "python",
      "pygments_lexer": "ipython3",
      "version": "3.11.9"
    }
  },
  "nbformat": 4,
  "nbformat_minor": 0
}