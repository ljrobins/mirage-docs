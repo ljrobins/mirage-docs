{
  "cells": [
    {
      "cell_type": "markdown",
      "metadata": {},
      "source": [
        "\n# Conic Sensors\n\nPlotting conic sensors cones in 3D space\n"
      ]
    },
    {
      "cell_type": "code",
      "execution_count": null,
      "metadata": {
        "collapsed": false
      },
      "outputs": [],
      "source": [
        "import numpy as np\nimport pyvista as pv\n\nimport mirage as mr\nimport mirage.vis as mrv\n\ndate = mr.utc(2023, 9, 22, 19)\ndates = mr.date_linspace(date, date + mr.days(1), int(1e3))\nstation = mr.Station()\nobj = mr.SpaceObject('cube.obj', identifier=44333)\nr_sat = obj.propagate(dates)\nr_to_sat = r_sat[0, :] - station.j2000_at_dates(date)\nlook_dir_eci = mr.hat(r_to_sat)\n\npl = pv.Plotter()\nmrv.plot_conic_sensor(\n    pl,\n    station,\n    date,\n    look_dir_eci,\n    half_angle_deg=3,\n    extent=mr.vecnorm(r_to_sat),\n    show_edges=True,\n    color='lime',\n)\nmrv.plot_earth(pl, date=date, night_lights=True, atmosphere=True, borders=True)\nmrv.scatter3(pl, r_sat[0, :], point_size=20)\nmrv.plot3(pl, r_sat, line_width=5, lighting=False)\npl.camera.position = 2 * r_sat[0, :] + np.array([0.0, 10e3, 5e3])\npl.show()"
      ]
    }
  ],
  "metadata": {
    "kernelspec": {
      "display_name": "Python 3",
      "language": "python",
      "name": "python3"
    },
    "language_info": {
      "codemirror_mode": {
        "name": "ipython",
        "version": 3
      },
      "file_extension": ".py",
      "mimetype": "text/x-python",
      "name": "python",
      "nbconvert_exporter": "python",
      "pygments_lexer": "ipython3",
      "version": "3.11.10"
    }
  },
  "nbformat": 4,
  "nbformat_minor": 0
}