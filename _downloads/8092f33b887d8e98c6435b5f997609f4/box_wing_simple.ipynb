{
  "cells": [
    {
      "cell_type": "markdown",
      "metadata": {},
      "source": [
        "\n# Simple Box-Wing Light Curves\n"
      ]
    },
    {
      "cell_type": "code",
      "execution_count": null,
      "metadata": {
        "collapsed": false
      },
      "outputs": [],
      "source": [
        "import matplotlib.pyplot as plt\nimport numpy as np\nimport pyvista as pv\n\nimport mirage as mr\nimport mirage.vis as mrv\n\nstation = mr.Station()\nobj = mr.SpaceObject('matlib_goes17.obj', identifier='GOES 17')\n\na_pan = 3.0 * 1.27  # m^2\na_bus = 0.8 * 1.1  # m^2\ncd_pan = 0.5\ncs_pan = 0.5\nn_pan = 5\ncd_bus = 0.5\ncs_bus = 0.5\nn_bus = 5\n\nd0 = mr.utc(2024, 10, 18)\ndates, epsecs = mr.date_linspace(d0, d0 + mr.hours(14), 100, return_epsecs=True)\n\nr_obj = obj.propagate(dates)\nsvi = mr.sun(dates) - r_obj  # from obj to sun\novi = station.j2000_at_dates(dates) - r_obj  # from obj to obs\n\nf = (\n    mr.AstroConstants.sun_irradiance_vacuum\n    / mr.vecnorm(ovi) ** 2\n    / (mr.vecnorm(svi) / mr.AstroConstants.au_to_km) ** 2\n)\nf = f.flatten()\n\nattitude = mr.AlignedAndConstrainedAttitude(\n    -mr.hat(r_obj), mr.hat(svi), dates, axis_order=(2, 0, 1)\n)\n\nq_of_t, w_of_t = attitude.propagate(epsecs)\nd_of_t = mr.quat_to_dcm(q_of_t)  # inertial to body\n\nsvb = mr.stack_mat_mult_vec(d_of_t, svi)\novb = mr.stack_mat_mult_vec(d_of_t, ovi)\n\ns = mr.hat(svb)\no = mr.hat(ovb)\nh = mr.hat(s + o)\nfr_pan = cd_pan / np.pi + cs_pan * (n_pan + 2) / (2 * np.pi) * mr.dot(s, h) ** n_pan / (\n    4 * mr.dot(s, o)\n)\nfr_bus = cd_bus / np.pi + cs_bus * (n_bus + 2) / (2 * np.pi) * mr.dot(o, h) ** n_bus / (\n    4 * mr.dot(s, o)\n)\nlc_simp = ((a_bus * fr_bus + a_pan * fr_pan) * mr.rdot(s, o)).flatten()\n\nbrdf = mr.Brdf('blinn-phong', cd=0.5, cs=0.5, n=5)\n\nlc_fancy = mr.run_light_curve_engine(\n    brdf,\n    obj,\n    mr.hat(svb),\n    mr.hat(ovb),\n    show_window=True,\n    verbose=False,\n    rotate_panels=True,\n    frame_rate=1000,\n    instances=1,\n)\n\n# lc_sampler, info = station.observe_light_curve(obj, attitude, brdf, dates, integration_time_s=10, use_engine=True, rotate_panels=True)\n# lc = lc_sampler().flatten()\n# lc_fancy = info['lc_clean_norm'].flatten()\n\npercent_err_at_peak = np.abs(lc_simp.max() - lc_fancy.max()) / lc_fancy.max() * 100\nmedian_err = np.median(np.abs(lc_simp - lc_fancy))\nprint(percent_err_at_peak, median_err)\n\nplt.plot(epsecs / 3600, lc_fancy * f, 'k', linewidth=2.5, label='Full Rendered')\nplt.plot(epsecs / 3600, lc_simp * f, 'c--', linewidth=2, label='Simplified')\nplt.grid()\nplt.legend()\nplt.title('Integrated Irradiance from GOES 17')\nplt.xlabel('Hours after 00:00 Oct 18, 2024 UTC')\nplt.ylabel('Integrated Light Curve [W / $m^2$]')\nplt.show()"
      ]
    },
    {
      "cell_type": "markdown",
      "metadata": {},
      "source": [
        "Plotting the overall configuration\n\n"
      ]
    },
    {
      "cell_type": "code",
      "execution_count": null,
      "metadata": {
        "collapsed": false
      },
      "outputs": [],
      "source": [
        "obj = mr.SpaceObject('box_wing.obj')\nobj.shift_to_center_of_mass()\nobj.v[np.abs(obj.v[:, 0]) > 1.0, 0] *= 2\nobj = mr.SpaceObject(vertices_and_faces=(obj.v, obj.f))\n\ns = mr.hat(np.array([0.0, 0.5, 0.4]))\nnb = np.array([0.0, 1.0, 0.0])\nang = mr.angle_between_vecs(s, nb)\nrotm = mr.r1(-ang)\nfaces_to_rotate = mr.vecnorm(obj.face_centroids) > 0.58\nverts_to_rotate = np.unique(obj.f[faces_to_rotate.flatten()])\nobj.v[verts_to_rotate, :] = mr.stack_mat_mult_vec(rotm, obj.v[verts_to_rotate, :])\nobj = mr.SpaceObject(vertices_and_faces=(obj.v, obj.f))\n\np = pv.Plotter()\nmrv.render_spaceobject(p, obj, scalars=obj.face_areas, cmap='blues')\nmrv.plot_arrow(p, [0, 0, 0], [0, 1, 0], label='Nadir', color='green', scale=1.5)\nmrv.plot_arrow(p, [0, 0, 0], s, label='Sun', color='yellow', scale=1.5)\nmrv.plot_arrow(p, [0, 0, 0], [0, 1.0, 0.3], label='Observer', scale=1.5, color='Red')\np.show()"
      ]
    }
  ],
  "metadata": {
    "kernelspec": {
      "display_name": "Python 3",
      "language": "python",
      "name": "python3"
    },
    "language_info": {
      "codemirror_mode": {
        "name": "ipython",
        "version": 3
      },
      "file_extension": ".py",
      "mimetype": "text/x-python",
      "name": "python",
      "nbconvert_exporter": "python",
      "pygments_lexer": "ipython3",
      "version": "3.11.10"
    }
  },
  "nbformat": 4,
  "nbformat_minor": 0
}