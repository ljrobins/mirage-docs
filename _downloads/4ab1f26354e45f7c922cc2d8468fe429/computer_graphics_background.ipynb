{
  "cells": [
    {
      "cell_type": "markdown",
      "metadata": {},
      "source": [
        "\n# Graphics Background\n\nPlotting various transformations and concepts from computer graphics\n"
      ]
    },
    {
      "cell_type": "code",
      "execution_count": null,
      "metadata": {
        "collapsed": false
      },
      "outputs": [],
      "source": [
        "# isort: skip_file\n# isort: off\n\nimport numpy as np\nimport pyvista as pv\nimport mirage as mr\nimport mirage.vis as mrv\n\npv.set_plot_theme('document')\n\n\ndef orthographic_frustum_as_pyvista_mesh(\n    origin, direction, up, width, near, far\n) -> pv.PolyData:\n    box = pv.Box()\n    box.points[:, 0] *= width\n    box.points[:, 1] *= width\n    box.points[:, 2] *= far - near\n    v3 = mr.hat(direction)\n    v1 = mr.hat(np.cross(up, v3))\n    v2 = mr.hat(np.cross(v3, v1))\n    dcm = np.vstack((v1, v2, v3)).T\n    box.points = mr.stack_mat_mult_vec(dcm, box.points)\n    box.points += origin + direction * (far - near)\n    return box\n\n\ncamera = pv.Camera()\nnear_range = 0.3\nfar_range = 0.9\ncamera.clipping_range = (near_range, far_range)\ncamera.position = (1.0, -1.0, 0.0)\ncamera.up = (0.0, 1.1, 1.0)\nunit_vector = mr.hat(np.array(camera.direction))\n\nperspective_frustum = camera.view_frustum(1.0)\n\nposition = camera.position\nfocal_point = camera.focal_point\nline = pv.Line(position, focal_point)\n\nbunny_obj = mr.SpaceObject('stanford_bunny.obj')\nbunny = bunny_obj._mesh\nxyz = camera.position + unit_vector * 0.6 - np.mean(bunny.points, axis=0)\nbunny.points += np.array(xyz)\n\nP = mr.perspective_projection_matrix(camera.view_angle, 1, near_range, far_range)\nW = np.eye(4)\nM = np.eye(4)\nM[3, :3] = -xyz\nV = mr.look_at_matrix(camera.position, camera.focal_point, camera.up)\nMVP = P @ V @ M\n\northo_frustum = orthographic_frustum_as_pyvista_mesh(\n    camera.position, unit_vector, camera.up, 0.1, near_range, far_range\n)"
      ]
    },
    {
      "cell_type": "markdown",
      "metadata": {},
      "source": [
        "Plotting the camera view frustum for perspective projection\n\n"
      ]
    },
    {
      "cell_type": "code",
      "execution_count": null,
      "metadata": {
        "collapsed": false
      },
      "outputs": [],
      "source": [
        "pl = pv.Plotter(window_size=(2000, 1300), shape=(2, 1))\nfor i, frustum in enumerate([perspective_frustum, ortho_frustum]):\n    clipping_plane_opacity = (\n        np.abs(\n            mr.dot(\n                unit_vector.reshape(-1, 3), frustum.compute_normals()['Normals']\n            ).flatten()\n        )\n        > 0.99\n    ) * 0.2\n    pl.subplot(i, 0)\n    mrv.render_spaceobject(pl, bunny_obj)\n    pl.add_mesh(frustum, style='wireframe', line_width=5, color='k')\n    pl.add_mesh(frustum, color='orange', opacity=clipping_plane_opacity, line_width=5)\n    pl.add_mesh(line, color='k', line_width=5)\n\n    if i == 0:\n        pl.add_text(\n            'Perspective Projection',\n            font_size=25,\n            position='upper_edge',\n            color='k',\n            font='courier',\n        )\n    else:\n        pl.add_text(\n            'Orthographic Projection',\n            font_size=25,\n            position='upper_edge',\n            color='k',\n            font='courier',\n        )\n\n    if i == 0:\n        pl.add_point_labels(\n            [\n                position,\n                camera.position + unit_vector * near_range,\n                camera.position + unit_vector * far_range,\n                focal_point,\n            ],\n            ['$R_{cam}$', 'Near plane', 'Far plane', '$T_{cam}$'],\n            margin=0,\n            fill_shape=True,\n            font_size=30,\n            shape_color='white',\n            point_color='red',\n            text_color='black',\n            always_visible=True,\n        )\n    else:\n        pl.add_point_labels(\n            [\n                position,\n                focal_point,\n            ],\n            ['$R_{cam}$', '$T_{cam}$'],\n            margin=0,\n            fill_shape=True,\n            font_size=30,\n            shape_color='white',\n            point_color='red',\n            text_color='black',\n            always_visible=True,\n        )\n        near_range = 0.01\n\n    bunny_on_near_plane = bunny.copy()\n    x = mr.stack_mat_mult_vec(\n        P @ V @ M,\n        np.hstack(\n            (bunny_on_near_plane.points, np.ones((bunny_on_near_plane.n_points, 1)))\n        ),\n    )\n    bunny_on_near_plane.points = x[:, :3] / x[:, [3]]\n    bunny_on_near_plane.points[:, -1] = 0\n    bunny_on_near_plane.points *= near_range * mr.tand(camera.view_angle / 2) / 2\n    bunny_on_near_plane.points = mr.stack_mat_mult_vec(\n        V[:3, :3].T, bunny_on_near_plane.points\n    )\n    bunny_on_near_plane.rotate_vector(unit_vector, 180, inplace=True)\n    bunny_on_near_plane.points += camera.position + unit_vector * near_range\n\n    pl.add_mesh(bunny_on_near_plane, opacity=0.5)\n    pl.add_mesh(bunny_on_near_plane, opacity=0.1, color='k', style='wireframe')\n\n    mrv.plot_basis(\n        pl, M[:3, :3].T, 'M', origin=np.mean(bunny.points, axis=0), scale=0.2\n    )\n    mrv.plot_basis(pl, W[:3, :3].T, 'W', origin=np.zeros(3), scale=0.2)\n    mrv.plot_basis(pl, V[:3, :3].T, 'V', origin=camera.position, scale=0.2)\n    mrv.plot_arrow(\n        pl, camera.position, camera.up, label='$U_{cam}$', scale=0.15, color='c'\n    )\n\npl.link_views()\npl.camera.position = (1.1, 1.1, -0.5)\npl.camera.focal_point = camera.position + unit_vector * far_range\npl.camera.up = (0.0, 0.0, 1.0)\npl.camera.zoom(1.3)\npl.show()"
      ]
    }
  ],
  "metadata": {
    "kernelspec": {
      "display_name": "Python 3",
      "language": "python",
      "name": "python3"
    },
    "language_info": {
      "codemirror_mode": {
        "name": "ipython",
        "version": 3
      },
      "file_extension": ".py",
      "mimetype": "text/x-python",
      "name": "python",
      "nbconvert_exporter": "python",
      "pygments_lexer": "ipython3",
      "version": "3.11.9"
    }
  },
  "nbformat": 4,
  "nbformat_minor": 0
}