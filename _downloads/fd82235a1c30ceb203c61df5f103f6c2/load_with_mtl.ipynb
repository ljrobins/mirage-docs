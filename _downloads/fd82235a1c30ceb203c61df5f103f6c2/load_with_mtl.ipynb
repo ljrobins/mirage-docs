{
  "cells": [
    {
      "cell_type": "markdown",
      "metadata": {},
      "source": [
        "\n# Loading with MTL Properties\n"
      ]
    },
    {
      "cell_type": "code",
      "execution_count": null,
      "metadata": {
        "collapsed": false
      },
      "outputs": [],
      "source": [
        "import os\n\nimport numpy as np\n\nimport mirage as mr\n\nobj_name = 'cube.obj'\nobj_path = os.path.join(os.environ['MODELDIR'], obj_name)"
      ]
    },
    {
      "cell_type": "markdown",
      "metadata": {},
      "source": [
        "Let's take a look at what the obj file looks like\n\n"
      ]
    },
    {
      "cell_type": "code",
      "execution_count": null,
      "metadata": {
        "collapsed": false
      },
      "outputs": [],
      "source": [
        "with open(obj_path, 'r') as f:\n    print(f.read())"
      ]
    },
    {
      "cell_type": "markdown",
      "metadata": {},
      "source": [
        "And the mtl file\n\n"
      ]
    },
    {
      "cell_type": "code",
      "execution_count": null,
      "metadata": {
        "collapsed": false
      },
      "outputs": [],
      "source": [
        "with open(os.path.join(os.path.split(obj_path)[0], 'cube.mtl'), 'r') as f:\n    print(f.read())"
      ]
    },
    {
      "cell_type": "markdown",
      "metadata": {},
      "source": [
        "We interpret:\n\n- The red channel of Kd (in Blender this is the red channel of the base color) as $C_d$\n\n- The blue channel of Kd as $C_s$\n\n- The index of refraction Ni (IOR in Blender) as the specular exponent $n$\n\nFor more information on making an mesh in blender with per-face materials, see [this documentation page](https://docs.blender.org/manual/en/4.1/modeling/texts/editing.html#assigning-materials)\n\n"
      ]
    },
    {
      "cell_type": "code",
      "execution_count": null,
      "metadata": {
        "collapsed": false
      },
      "outputs": [],
      "source": [
        "mr.tic('Pure python load time')\nobj = mr.load_obj(obj_path)\nmr.toc()"
      ]
    },
    {
      "cell_type": "markdown",
      "metadata": {},
      "source": [
        "We can print the the cd, cs, and n attributes of the object, each of which should now have one entry per face\n\n"
      ]
    },
    {
      "cell_type": "code",
      "execution_count": null,
      "metadata": {
        "collapsed": false
      },
      "outputs": [],
      "source": [
        "print(f'{obj.cd=}')\nprint(f'{obj.cs=}')\nprint(f'{obj.n=}')"
      ]
    },
    {
      "cell_type": "markdown",
      "metadata": {},
      "source": [
        "Let's build a BRDF with these attributes. Note if validate=True, the BRDF initialization procedure will check for energy conservation\n\n"
      ]
    },
    {
      "cell_type": "code",
      "execution_count": null,
      "metadata": {
        "collapsed": false
      },
      "outputs": [],
      "source": [
        "brdf = mr.Brdf('phong', cd=obj.cd, cs=obj.cs, n=obj.n, validate=False)"
      ]
    },
    {
      "cell_type": "markdown",
      "metadata": {},
      "source": [
        "Now the BRDF will apply the material properties of each face when computing a convex LC\n\n"
      ]
    },
    {
      "cell_type": "code",
      "execution_count": null,
      "metadata": {
        "collapsed": false
      },
      "outputs": [],
      "source": [
        "npts = int(100)\nL = mr.rand_unit_vectors(npts)\nO = mr.rand_unit_vectors(npts)\nmr.tic('lc')\nlc1 = obj.convex_light_curve(brdf, L, O)\nmr.toc()"
      ]
    },
    {
      "cell_type": "markdown",
      "metadata": {},
      "source": [
        "Notice that you can also mix and match uniform and varying properties. Here $C_d$ has one entry per face, but the other two properties are uniform\n\n"
      ]
    },
    {
      "cell_type": "code",
      "execution_count": null,
      "metadata": {
        "collapsed": false
      },
      "outputs": [],
      "source": [
        "brdf.cd = np.tile(brdf.cd[[0]], brdf.cd.shape)\nbrdf.cs = 0.9\nbrdf.n = 1\nlc2 = obj.convex_light_curve(brdf, L, O)"
      ]
    }
  ],
  "metadata": {
    "kernelspec": {
      "display_name": "Python 3",
      "language": "python",
      "name": "python3"
    },
    "language_info": {
      "codemirror_mode": {
        "name": "ipython",
        "version": 3
      },
      "file_extension": ".py",
      "mimetype": "text/x-python",
      "name": "python",
      "nbconvert_exporter": "python",
      "pygments_lexer": "ipython3",
      "version": "3.11.10"
    }
  },
  "nbformat": 4,
  "nbformat_minor": 0
}