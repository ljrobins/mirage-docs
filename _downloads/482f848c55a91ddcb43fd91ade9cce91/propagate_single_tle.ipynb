{
  "cells": [
    {
      "cell_type": "markdown",
      "metadata": {},
      "source": [
        "\n# Propagating single TLE\n\nPropagates a single TLE for a given NORAD ID and propagates the trajectory\n"
      ]
    },
    {
      "cell_type": "code",
      "execution_count": null,
      "metadata": {
        "collapsed": false
      },
      "outputs": [],
      "source": [
        "import numpy as np\nimport pyvista as pv\n\nimport mirage as mr\nimport mirage.vis as mrv\n\ndate_space = mr.date_linspace(mr.today(), mr.today() + mr.hours(3), 1000)\n# Propagate out one day\n\nr_eci = mr.propagate_satnum_to_dates(dates=date_space, satnum=25544)\n# Propagates ISS, note that output is technically in TEME frame, but we'll treat it as if it's just ECI"
      ]
    },
    {
      "cell_type": "markdown",
      "metadata": {},
      "source": [
        "Let's scatter plot the object positions we've propagated\n\n"
      ]
    },
    {
      "cell_type": "code",
      "execution_count": null,
      "metadata": {
        "collapsed": false
      },
      "outputs": [],
      "source": [
        "pl = pv.Plotter()\nmrv.plot_earth(pl, date=date_space[0])\nmrv.plot3(\n    pl,\n    r_eci,\n    line_width=4,\n    lighting=False,\n)\npl.camera.focal_point = (0.0, 0.0, 0.0)\npl.camera.position = 25e3 * np.array([1, 1, 0.3])\npl.show()"
      ]
    }
  ],
  "metadata": {
    "kernelspec": {
      "display_name": "Python 3",
      "language": "python",
      "name": "python3"
    },
    "language_info": {
      "codemirror_mode": {
        "name": "ipython",
        "version": 3
      },
      "file_extension": ".py",
      "mimetype": "text/x-python",
      "name": "python",
      "nbconvert_exporter": "python",
      "pygments_lexer": "ipython3",
      "version": "3.12.7"
    }
  },
  "nbformat": 4,
  "nbformat_minor": 0
}