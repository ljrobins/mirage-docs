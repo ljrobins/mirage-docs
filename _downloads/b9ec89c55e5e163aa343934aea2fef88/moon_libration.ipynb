{
  "cells": [
    {
      "cell_type": "markdown",
      "metadata": {},
      "source": [
        "\n# Moon Librations\n\nAnimations the librations of the Moon: the apparent motion of the Moon as viewed from the Earth\n"
      ]
    },
    {
      "cell_type": "code",
      "execution_count": null,
      "metadata": {
        "collapsed": false
      },
      "outputs": [],
      "source": [
        "import pyvista as pv\n\nimport mirage as mr\nimport mirage.vis as mrv"
      ]
    },
    {
      "cell_type": "markdown",
      "metadata": {},
      "source": [
        "Let's animate the librations of the Moon over the course of a synodic month (the time required for the Moon to complete an orbit with respect to the Sun-Earth line).\n\n"
      ]
    },
    {
      "cell_type": "code",
      "execution_count": null,
      "metadata": {
        "collapsed": false
      },
      "outputs": [],
      "source": [
        "dates = mr.date_linspace(\n    mr.now(),\n    mr.now() + mr.days(mr.AstroConstants.moon_synodic_period_days),\n    100,\n)\npl = pv.Plotter()\npl.open_gif('moon_librations.gif', fps=20, subrectangles=True)\nfor i, date in enumerate(dates[:-1]):\n    mrv.plot_moon(pl, mode='eci', date=date)\n    pl.camera.view_angle = 1.0  # The Moon's angular size from the Earth is about 0.5 deg, so let's double that FOV\n    pl.camera.focal_point = pl.actors['moon'].user_matrix[\n        :3, -1\n    ]  # Focal point must be set before position, for some reason\n    pl.camera.position = (0.0, 0.0, 0.0)\n    pl.write_frame()\npl.close()"
      ]
    }
  ],
  "metadata": {
    "kernelspec": {
      "display_name": "Python 3",
      "language": "python",
      "name": "python3"
    },
    "language_info": {
      "codemirror_mode": {
        "name": "ipython",
        "version": 3
      },
      "file_extension": ".py",
      "mimetype": "text/x-python",
      "name": "python",
      "nbconvert_exporter": "python",
      "pygments_lexer": "ipython3",
      "version": "3.11.9"
    }
  },
  "nbformat": 4,
  "nbformat_minor": 0
}