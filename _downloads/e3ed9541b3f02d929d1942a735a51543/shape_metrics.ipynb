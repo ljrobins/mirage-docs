{
  "cells": [
    {
      "cell_type": "markdown",
      "metadata": {},
      "source": [
        "\n# Shape Comparison Metrics\nUsing Frueh and Oliker's delta-neighborhood metric to compare shapes.\n"
      ]
    },
    {
      "cell_type": "code",
      "execution_count": null,
      "metadata": {
        "collapsed": false
      },
      "outputs": [],
      "source": [
        "from typing import Tuple\n\nimport numpy as np\nimport pyvista as pv\nfrom scipy.optimize import minimize\n\nimport mirage as mr\nimport mirage.vis as mrv\n\np = mr.SpaceObject('gem.obj')\nv_vol1 = p.v / p.volume ** (1 / 3)\np = mr.SpaceObject(vertices_and_faces=(v_vol1 + 0.2, p.f.copy()))"
      ]
    },
    {
      "cell_type": "markdown",
      "metadata": {},
      "source": [
        "We need to find the in-sphere and out-sphere of the object. This optimization problem ends up boiling down to the\nlocation and radius of each sphere. Equivalently, we can just optimize the location of the origin to maximize the minimum support\n\n"
      ]
    },
    {
      "cell_type": "code",
      "execution_count": null,
      "metadata": {
        "collapsed": false
      },
      "outputs": [],
      "source": [
        "def compute_in_sphere(p: mr.SpaceObject) -> Tuple[np.ndarray, float]:\n    if not np.isclose(p.volume, 1):\n        v_vol1 = p.v / p.volume ** (1 / 3)\n        p = mr.SpaceObject(vertices_and_faces=(v_vol1, p.f.copy()))\n\n    def in_sphere_objective(x):\n        p2 = mr.SpaceObject(vertices_and_faces=(p.v.copy() - x, p.f.copy()))\n        return -np.min(p2.supports)\n\n    solver_kwargs = dict(jac='3-point', method='BFGS')\n    in_sol = minimize(in_sphere_objective, np.zeros(3), **solver_kwargs)\n    return in_sol.x, -in_sol.fun\n\n\ndef compute_out_sphere(p: mr.SpaceObject) -> Tuple[np.ndarray, float]:\n    if not np.isclose(p.volume, 1):\n        v_vol1 = p.v / p.volume ** (1 / 3)\n        p = mr.SpaceObject(vertices_and_faces=(v_vol1, p.f.copy()))\n\n    def out_sphere_objective(x):\n        return np.max(mr.vecnorm(p.v - x))\n\n    solver_kwargs = dict(jac='3-point', method='BFGS')\n    out_sol = minimize(out_sphere_objective, np.zeros(3), **solver_kwargs)\n    return out_sol.x, out_sol.fun\n\n\nmr.tic('Optimizing in-sphere')\nin_solx, in_solr = compute_in_sphere(p)\nmr.toc()\n\nmr.tic('Optimizing out-sphere')\nout_solx, out_solr = compute_out_sphere(p)\nmr.toc()\n\nprint(in_solx, in_solr)\nprint(out_solx, out_solr)\n\n\ndef delta_neighborhood(p1: mr.SpaceObject, p2: mr.SpaceObject) -> float:\n    _, R1 = compute_out_sphere(p1)\n    _, R2 = compute_out_sphere(p2)\n    _, r1 = compute_in_sphere(p1)\n    _, r2 = compute_in_sphere(p2)\n\n    ctilde = 2 * (R1 / r1) ** 2 / (R1 / r1 + R2 / r2)\n    return ctilde\n\n\npl = pv.Plotter()\nmrv.render_spaceobject(pl, p, opacity=0.8)\nmrv.two_sphere(pl, -in_solr, in_solx, color='r', opacity=0.3)\nmrv.two_sphere(pl, out_solr, out_solx, color='b', opacity=0.3)\nmrv.orbit_plotter(pl)\npl.show()"
      ]
    }
  ],
  "metadata": {
    "kernelspec": {
      "display_name": "Python 3",
      "language": "python",
      "name": "python3"
    },
    "language_info": {
      "codemirror_mode": {
        "name": "ipython",
        "version": 3
      },
      "file_extension": ".py",
      "mimetype": "text/x-python",
      "name": "python",
      "nbconvert_exporter": "python",
      "pygments_lexer": "ipython3",
      "version": "3.11.10"
    }
  },
  "nbformat": 4,
  "nbformat_minor": 0
}