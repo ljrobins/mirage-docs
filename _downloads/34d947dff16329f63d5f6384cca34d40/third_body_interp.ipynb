{
  "cells": [
    {
      "cell_type": "markdown",
      "metadata": {},
      "source": [
        "\n# Third Body Interpolation\nInterpolating the position of a third body for more efficient propagation with low error.\n"
      ]
    },
    {
      "cell_type": "code",
      "execution_count": null,
      "metadata": {
        "collapsed": false
      },
      "outputs": [],
      "source": [
        "import matplotlib.pyplot as plt\n\nimport mirage as mr\n\ntarget_body = ('jupiter', mr.jupiter)"
      ]
    },
    {
      "cell_type": "markdown",
      "metadata": {},
      "source": [
        "Define a date range and a set of points to interpolate\n\n"
      ]
    },
    {
      "cell_type": "code",
      "execution_count": null,
      "metadata": {
        "collapsed": false
      },
      "outputs": [],
      "source": [
        "npts = int(1e2)\ndates, epsecs = mr.date_linspace(\n    mr.now(),\n    mr.now() + mr.days(mr.AstroConstants.moon_sidereal_period_days),\n    npts,\n    return_epsecs=True,\n)\npts = target_body[1](dates)\nfine_dates, fine_epsecs = mr.date_linspace(\n    dates[0], dates[-1], dates.size * 10, return_epsecs=True\n)"
      ]
    },
    {
      "cell_type": "markdown",
      "metadata": {},
      "source": [
        "Building an interpolator\n\n"
      ]
    },
    {
      "cell_type": "code",
      "execution_count": null,
      "metadata": {
        "collapsed": false
      },
      "outputs": [],
      "source": [
        "mr.tic('Building interpolator')\ninterpolator = mr.SpiceInterpolator(target_body[0], dates)\nmr.toc()\nmr.tic('Interpolating')\npts_interp = interpolator(fine_epsecs)\nmr.toc()\nmr.tic('Computing true positions')\npts_fine_true = target_body[1](fine_dates)\nmr.toc()"
      ]
    },
    {
      "cell_type": "markdown",
      "metadata": {},
      "source": [
        "Plot the interpolated points\n\n"
      ]
    },
    {
      "cell_type": "code",
      "execution_count": null,
      "metadata": {
        "collapsed": false
      },
      "outputs": [],
      "source": [
        "pts_nd = pts / mr.AstroConstants.moon_orbit_semimajor_axis\npts_interp_nd = pts_interp / mr.AstroConstants.moon_orbit_semimajor_axis\nplt.figure()\nplt.scatter(pts_nd[:, 0], pts_nd[:, 1], label='Reference nodes')\nplt.scatter(pts_interp_nd[:, 0], pts_interp_nd[:, 1], s=1, label='Interpolated')\nplt.axis('equal')\nplt.title('Interpolated Moon Positions')\nplt.xlabel('X (nd)')\nplt.ylabel('Y (nd)')\nplt.legend()"
      ]
    },
    {
      "cell_type": "markdown",
      "metadata": {},
      "source": [
        "Computing the error of the interpolation\n\n"
      ]
    },
    {
      "cell_type": "code",
      "execution_count": null,
      "metadata": {
        "collapsed": false
      },
      "outputs": [],
      "source": [
        "plt.figure()\npts_error = pts_interp - pts_fine_true\npts_error_norm = mr.vecnorm(pts_error)\nplt.hist(pts_error_norm)\nplt.show()"
      ]
    }
  ],
  "metadata": {
    "kernelspec": {
      "display_name": "Python 3",
      "language": "python",
      "name": "python3"
    },
    "language_info": {
      "codemirror_mode": {
        "name": "ipython",
        "version": 3
      },
      "file_extension": ".py",
      "mimetype": "text/x-python",
      "name": "python",
      "nbconvert_exporter": "python",
      "pygments_lexer": "ipython3",
      "version": "3.11.10"
    }
  },
  "nbformat": 4,
  "nbformat_minor": 0
}