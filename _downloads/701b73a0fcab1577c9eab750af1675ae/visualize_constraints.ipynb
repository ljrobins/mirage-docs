{
  "cells": [
    {
      "cell_type": "markdown",
      "metadata": {},
      "source": [
        "\n# Horizon Masked Observations\n"
      ]
    },
    {
      "cell_type": "code",
      "execution_count": null,
      "metadata": {
        "collapsed": false
      },
      "outputs": [],
      "source": [
        "import datetime\n\nimport numpy as np\nimport pyvista as pv\nimport terrainman as tm\n\nimport mirage as mr\nimport mirage.vis as mrv"
      ]
    },
    {
      "cell_type": "markdown",
      "metadata": {},
      "source": [
        "Let's define an observation station right before an ISS pass\n\n"
      ]
    },
    {
      "cell_type": "code",
      "execution_count": null,
      "metadata": {
        "collapsed": false
      },
      "outputs": [],
      "source": [
        "date_start = datetime.datetime(2023, 5, 12, 0, 37, 0, tzinfo=datetime.timezone.utc)\ndates = date_start + mr.minutes(np.linspace(0, 11, 100))\nstation = mr.Station(\n    preset=\"pogs\",\n    lat_deg=43.65311150689344,\n    lon_deg=-70.19252101245867,\n    alt_km=0.0,\n    name=\"Peaks_Island_Maine\",\n    altitude_reference=\"terrain\",\n)"
      ]
    },
    {
      "cell_type": "markdown",
      "metadata": {},
      "source": [
        "And grab the ISS, which will propagate using the closest available TLEs for accuracy\n\n"
      ]
    },
    {
      "cell_type": "code",
      "execution_count": null,
      "metadata": {
        "collapsed": false
      },
      "outputs": [],
      "source": [
        "obj = mr.SpaceObject(\"tess.obj\", identifier=25544)\nbrdf = mr.Brdf(\"phong\")"
      ]
    },
    {
      "cell_type": "markdown",
      "metadata": {},
      "source": [
        "We can now apply a bunch of constraints to the observation, including a horizon mask for the local terrain\n\n"
      ]
    },
    {
      "cell_type": "code",
      "execution_count": null,
      "metadata": {
        "collapsed": false
      },
      "outputs": [],
      "source": [
        "station.constraints = [\n    mr.HorizonMaskConstraint(station),\n]\ntile = tm.TerrainDataHandler().load_tiles_containing(\n    station.lat_geod_deg, station.lon_deg\n)\nmask = mr.HorizonMask(\n    station.lat_geod_rad,\n    station.lon_rad,\n    station.name,\n)\nsz, deg_radius = 3000, 1.0\nlat_space = (station.lat_geod_deg + deg_radius) - np.linspace(0, 2 * deg_radius, sz)\nlon_space = (station.lon_deg - deg_radius) + np.linspace(0, 2 * deg_radius, sz)\nlat_grid, lon_grid = np.meshgrid(lat_space, lon_space)\nelev_grid = tile.interpolate(lat_grid, lon_grid) / 1e3\nelev_grid += mr.geoid_height_at_lla(station.lat_geod_rad, station.lon_rad)\nitrf_terrain = mr.lla_to_itrf(\n    np.deg2rad(lat_grid).flatten(),\n    np.deg2rad(lon_grid).flatten(),\n    elev_grid.flatten(),\n)"
      ]
    },
    {
      "cell_type": "markdown",
      "metadata": {},
      "source": [
        "We can now define the object's attitude profile and observe a light curve\n\n"
      ]
    },
    {
      "cell_type": "code",
      "execution_count": null,
      "metadata": {
        "collapsed": false
      },
      "outputs": [],
      "source": [
        "obj_attitude = mr.RbtfAttitude(\n    w0=0.000 * np.array([0, 1, 1]),\n    q0=mr.hat(np.array([0, 0, 0, 1])),\n    itensor=obj.principal_itensor,\n)\n\nobj_eci = obj.propagate(dates)\nstation_eci = station.j2000_at_dates(dates)\nlook_dir_eci = mr.hat(obj_eci - station_eci)\nhorizon_constraint = station.eval_constraints(look_dir_eci=look_dir_eci, dates=dates)"
      ]
    },
    {
      "cell_type": "markdown",
      "metadata": {},
      "source": [
        "We can now plot an animation of the pass with the horizon mask superimposed on the local terrain\n\n"
      ]
    },
    {
      "cell_type": "code",
      "execution_count": null,
      "metadata": {
        "collapsed": false
      },
      "outputs": [],
      "source": [
        "enu_terrain = (mr.ecef_to_enu(station.itrf) @ (itrf_terrain - station.itrf).T).T\ndem = pv.StructuredGrid(\n    enu_terrain[:, 0].reshape(elev_grid.shape),\n    enu_terrain[:, 1].reshape(elev_grid.shape),\n    enu_terrain[:, 2].reshape(elev_grid.shape),\n)\ndem[\"Elevation [km]\"] = elev_grid.flatten(order=\"F\")\ndem[\"Latitude\"] = lat_grid.flatten(order=\"F\")\ndem[\"Longitude\"] = lon_grid.flatten(order=\"F\")\n\nenu_rays = mr.az_el_to_enu(mask.az, mask.el)\n\npre_render_fcn = lambda pl: (\n    pl.add_mesh(\n        dem,\n        smooth_shading=True,\n        scalars=\"Elevation [km]\",\n        opacity=0.5,\n        show_scalar_bar=False,\n    ),\n    mrv.plot3(pl, enu_rays, color=\"c\", line_width=5),\n    mrv.plot3(\n        pl,\n        mr.az_el_to_enu(*station.eci_to_az_el(dates, look_dir_eci)),\n        line_width=5,\n    ),\n)\n\n\ndef render_fcn(pl: pv.Plotter, i: int, dates=None, horizon_constraint=None):\n    mrv.scatter3(\n        pl,\n        obj_enu[i, :].reshape((1, 3)),\n        point_size=40,\n        color=\"g\" if horizon_constraint[i] else \"r\",\n        name=\"obj_pos\",\n        lighting=False,\n    )\n    pl.camera.focal_point = obj_enu[i, :].flatten()\n    pl.camera.position = (0.0, 0.0, 0.0)\n    pl.camera.clipping_range = (0.01, 50e3)\n    pl.camera.up = (0.0, 0.0, 1.0)\n    pl.add_text(\n        f'Observing {obj.satnum}\\n{dates[i].strftime(\"%m/%d/%Y, %H:%M:%S\")} UTC\\nAZ = {np.rad2deg(az[i]):.2f} deg\\nEL = {np.rad2deg(el[i]):.2f} deg',\n        name=\"utc_str\",\n        font=\"courier\",\n        color=\"white\",\n    )\n\n\naz, el = station.eci_to_az_el(dates, look_dir_eci)\nobj_enu = mr.az_el_to_enu(az, el)\n\nmrv.render_video(\n    pre_render_fcn,\n    lambda pl, i: render_fcn(pl, i, dates, horizon_constraint),\n    lambda pl, i: None,\n    dates.size,\n    \"maine_iss_pass.gif\",\n    background_color=\"k\",\n)"
      ]
    }
  ],
  "metadata": {
    "kernelspec": {
      "display_name": "Python 3",
      "language": "python",
      "name": "python3"
    },
    "language_info": {
      "codemirror_mode": {
        "name": "ipython",
        "version": 3
      },
      "file_extension": ".py",
      "mimetype": "text/x-python",
      "name": "python",
      "nbconvert_exporter": "python",
      "pygments_lexer": "ipython3",
      "version": "3.11.9"
    }
  },
  "nbformat": 4,
  "nbformat_minor": 0
}