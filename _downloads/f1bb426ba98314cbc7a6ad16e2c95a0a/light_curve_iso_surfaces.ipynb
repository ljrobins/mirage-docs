{
  "cells": [
    {
      "cell_type": "markdown",
      "metadata": {},
      "source": [
        "\n# Brightness Isosurfaces\n\nPlotting all orientations of a cube that produce a certian brightness value at a given phase angle\n"
      ]
    },
    {
      "cell_type": "code",
      "execution_count": null,
      "metadata": {
        "collapsed": false
      },
      "outputs": [],
      "source": [
        "import numpy as np\nimport pyvista as pv\n\nimport mirage as mr\nimport mirage.vis as mrv\n\n# path = \"/Users/liamrobinson/Documents/mirage/mlp_model_train_on_irradiance_cube_brdf_phong_cd_0.5_cs_0.5_n_5.0_layers_50_50_50_50_50_50_50_50_50_50.onnx\"\n# mdl = mrs.MLPBrightnessModel(path=path)\nobj = mrv.SpaceObject('cube.obj')\nmdl = lambda svb, ovb: obj.convex_light_curve(\n    mr.Brdf('phong', cd=0.5, cs=0.5, n=5.0), svb, ovb\n)\nn = 150\nd_min = -np.pi\ngrid = pv.ImageData(\n    dimensions=(n, n, n),\n    spacing=(abs(d_min) / n * 2, abs(d_min) / n * 2, abs(d_min) / n * 2),\n    origin=(d_min, d_min, d_min),\n)\nrv = grid.points\n\nli = np.tile(np.array([[1, 0, 0]]), (n**3, 1))\noi = mr.hat(np.tile(np.array([[1, 1, 0]]), (n**3, 1)))\n\ndcms = mr.rv_to_dcm(rv)\nlb = mr.stack_mat_mult_vec(dcms, li)\nob = mr.stack_mat_mult_vec(dcms, oi)\nmr.tic()\nbv = mdl(lb, ob)  # Brightness values at sampled orientations\nmr.toc()\n\nprint(f'Mean brightness value: {np.mean(bv)}')\n\nmesh = grid.contour([np.mean(bv)], bv, method='marching_cubes')\nmtri = mesh.triangulate()\ninds = np.tile([False, True, True, True], (mtri.faces.size // 4,))\nmesh.smooth(n_iter=100, inplace=True)\nF = mtri.faces[inds].reshape(-1, 3)\nV = mtri.points\nv2v = (V.shape[0] // 3, V.shape[0] // 9)\ndist = mr.vecnorm(mesh.points)\nmesh.points[dist.flatten() > np.pi, :] = np.nan\n\npl = pv.Plotter(lighting=None)\npl.set_background('black')\n\npl.add_mesh(\n    mesh,\n    color='linen',\n    clim=(0, np.pi),\n    show_scalar_bar=False,\n    pbr=True,\n    metallic=0.2,\n    roughness=0.5,\n    diffuse=1,\n)\n\nlight = pv.Light((-2, 2, 0), (0, 0, 0), 'white')\npl.add_light(light)\n\nlight = pv.Light((2, 0, 0), (0, 0, 0), (0.7, 0.0862, 0.0549))\npl.add_light(light)\n\nlight = pv.Light((0, 0, 10), (0, 0, 0), 'white')\npl.add_light(light)\n\nmrv.two_sphere(pl, np.pi, color='linen', opacity=0.1)\n\npl.show()"
      ]
    },
    {
      "cell_type": "markdown",
      "metadata": {},
      "source": [
        "Making a simpler render\n\n"
      ]
    },
    {
      "cell_type": "code",
      "execution_count": null,
      "metadata": {
        "collapsed": false
      },
      "outputs": [],
      "source": [
        "pl = pv.Plotter()\n\npl.add_mesh(\n    mesh,\n    color='cornflowerblue',\n    show_scalar_bar=False,\n    pbr=True,\n    metallic=0.2,\n    roughness=0.5,\n    diffuse=1,\n)\n\nmrv.two_sphere(pl, np.pi, color='linen', opacity=0.1)\npl.add_text('Rotation vector space', font_size=14, font='courier')\npl.show_bounds(\n    grid='front',\n    location='outer',\n    all_edges=True,\n)\npl.show()"
      ]
    }
  ],
  "metadata": {
    "kernelspec": {
      "display_name": "Python 3",
      "language": "python",
      "name": "python3"
    },
    "language_info": {
      "codemirror_mode": {
        "name": "ipython",
        "version": 3
      },
      "file_extension": ".py",
      "mimetype": "text/x-python",
      "name": "python",
      "nbconvert_exporter": "python",
      "pygments_lexer": "ipython3",
      "version": "3.11.9"
    }
  },
  "nbformat": 4,
  "nbformat_minor": 0
}