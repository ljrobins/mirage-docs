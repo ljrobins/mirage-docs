{
  "cells": [
    {
      "cell_type": "markdown",
      "metadata": {},
      "source": [
        "\n# Background Signals\n\nThe mean background signal model due to various sources\n"
      ]
    },
    {
      "cell_type": "code",
      "execution_count": null,
      "metadata": {
        "collapsed": false
      },
      "outputs": [],
      "source": [
        "import datetime\n\nimport numpy as np\nimport pyvista as pv\n\nimport mirage as mr\nimport mirage.vis as mrv"
      ]
    },
    {
      "cell_type": "markdown",
      "metadata": {},
      "source": [
        "Defining a function we can use to plot various background signals\n\n"
      ]
    },
    {
      "cell_type": "code",
      "execution_count": null,
      "metadata": {
        "collapsed": false
      },
      "outputs": [],
      "source": [
        "def hemisphere_signal(\n    station: mr.Station,\n    date: datetime.datetime,\n    signal_kwargs: dict,\n) -> None:\n    true_signals = [k for k in signal_kwargs.keys() if signal_kwargs[k]]\n    if len(true_signals) == len(signal_kwargs.keys()):\n        signal_type = 'All Signals'\n    else:\n        signal_type = true_signals[0].capitalize()\n\n    pl = pv.Plotter()\n    c_grid = mrv.celestial_grid(30, 30)\n    c_grid = (station.eci_to_enu(date).T @ c_grid.T).T\n    (g_az, g_el) = np.meshgrid(\n        np.linspace(0, 2 * np.pi, 250, endpoint=False),\n        np.linspace(np.deg2rad(0), np.pi / 2, 250, endpoint=False),\n    )\n\n    look_dirs_eci_eq = station.az_el_to_eci(g_az.flatten(), g_el.flatten(), date)\n    dates = np.tile(date, (g_az.size, 1))\n    stat_eci = station.j2000_at_dates(date)\n\n    mr.tic()\n    sb = station.sky_brightness(\n        dates, look_dirs_eci_eq, **signal_kwargs, integration_time_s=1.0\n    )\n    mr.toc()\n    mrv.plot_earth(\n        pl,\n        date=date,\n        atmosphere=False,\n        borders=True,\n    )\n    r_dome = 500  # km\n    view_dist = 20e3  # km\n    zoom = 4.5\n    sargs = dict(\n        height=0.75,\n        vertical=True,\n        position_x=0.05,\n        position_y=0.05,\n        title_font_size=24,\n        label_font_size=20,\n        shadow=True,\n        n_labels=4,\n        fmt='%.3e',\n        font_family='courier',\n        color='white',\n    )\n\n    mrv.plot3(\n        pl,\n        stat_eci + 1.03 * r_dome * c_grid,\n        line_width=4,\n        color='linen',\n        lighting=False,\n    )\n\n    mrv.scatter3(\n        pl,\n        stat_eci + r_dome * look_dirs_eci_eq,\n        scalars=sb.flatten(),\n        cmap='bmy',\n        point_size=10,\n        lighting=False,\n        clim=[0, np.max(sb)],\n        scalar_bar_args=sargs,\n    )\n    pl.scalar_bar.SetTitle('[e-/pix]')\n    pl.camera.focal_point = stat_eci.flatten()\n    cpos = (stat_eci + mr.hat(stat_eci) * view_dist).flatten() - np.array([0, 0, 1e4])\n    pl.camera.position = cpos\n    pl.camera.zoom(zoom)\n\n    pl.add_text(\n        f'{signal_type}: {date.strftime(\"%m/%d/%Y, %H:%M:%S\")} UTC',\n        name='utc_str',\n        font='courier',\n        color='white',\n    )\n\n    pl.show()"
      ]
    },
    {
      "cell_type": "markdown",
      "metadata": {},
      "source": [
        "Setting up observation conditions using an example Space Debris Telescope preset from Krag2003\nstation = mr.Station(preset=\"lmt\", lat_deg=33.776864, lon_deg=-84.363777) # Atlanta, GA\n\n"
      ]
    },
    {
      "cell_type": "code",
      "execution_count": null,
      "metadata": {
        "collapsed": false
      },
      "outputs": [],
      "source": [
        "station = mr.Station(preset='pogs')\ndate = mr.utc(2023, 10, 1, 5, 45, 0)  # Fig 5.38"
      ]
    },
    {
      "cell_type": "markdown",
      "metadata": {},
      "source": [
        "Plotting the background signal for scattered moonlight\n\n"
      ]
    },
    {
      "cell_type": "code",
      "execution_count": null,
      "metadata": {
        "collapsed": false
      },
      "outputs": [],
      "source": [
        "signal_kwargs = {\n    'moonlight': True,\n    'airglow': False,\n    'integrated_starlight': False,\n    'zodiac': False,\n    'pollution': False,\n    'twilight': False,\n}\nhemisphere_signal(station, date, signal_kwargs)"
      ]
    },
    {
      "cell_type": "markdown",
      "metadata": {},
      "source": [
        "Plotting the background signal for integrated starlight\n\n"
      ]
    },
    {
      "cell_type": "code",
      "execution_count": null,
      "metadata": {
        "collapsed": false
      },
      "outputs": [],
      "source": [
        "signal_kwargs = {\n    'moonlight': False,\n    'airglow': False,\n    'integrated_starlight': True,\n    'zodiac': False,\n    'pollution': False,\n    'twilight': False,\n}\nhemisphere_signal(station, date, signal_kwargs)"
      ]
    },
    {
      "cell_type": "markdown",
      "metadata": {},
      "source": [
        "Plotting the background signal for light pollution\n\n"
      ]
    },
    {
      "cell_type": "code",
      "execution_count": null,
      "metadata": {
        "collapsed": false
      },
      "outputs": [],
      "source": [
        "signal_kwargs = {\n    'moonlight': False,\n    'airglow': False,\n    'integrated_starlight': False,\n    'zodiac': False,\n    'pollution': True,\n    'twilight': False,\n}\nhemisphere_signal(station, date, signal_kwargs)"
      ]
    },
    {
      "cell_type": "markdown",
      "metadata": {},
      "source": [
        "Plotting the background signal for zodiac light\n\n"
      ]
    },
    {
      "cell_type": "code",
      "execution_count": null,
      "metadata": {
        "collapsed": false
      },
      "outputs": [],
      "source": [
        "signal_kwargs = {\n    'moonlight': False,\n    'airglow': False,\n    'integrated_starlight': False,\n    'zodiac': True,\n    'pollution': False,\n    'twilight': False,\n}\nhemisphere_signal(station, date, signal_kwargs)"
      ]
    },
    {
      "cell_type": "markdown",
      "metadata": {},
      "source": [
        "Plotting the background signal for airglow\n\n"
      ]
    },
    {
      "cell_type": "code",
      "execution_count": null,
      "metadata": {
        "collapsed": false
      },
      "outputs": [],
      "source": [
        "signal_kwargs = {\n    'moonlight': False,\n    'airglow': True,\n    'integrated_starlight': False,\n    'zodiac': False,\n    'pollution': False,\n    'twilight': False,\n}\nhemisphere_signal(station, date, signal_kwargs)"
      ]
    },
    {
      "cell_type": "markdown",
      "metadata": {},
      "source": [
        "Plotting the background signal for scattered twilight\n\n"
      ]
    },
    {
      "cell_type": "code",
      "execution_count": null,
      "metadata": {
        "collapsed": false
      },
      "outputs": [],
      "source": [
        "signal_kwargs = {\n    'moonlight': False,\n    'airglow': False,\n    'integrated_starlight': False,\n    'zodiac': False,\n    'pollution': False,\n    'twilight': True,\n}\nhemisphere_signal(station, date - mr.hours(4), signal_kwargs)"
      ]
    },
    {
      "cell_type": "markdown",
      "metadata": {},
      "source": [
        "Plotting the full background signal with all sources enabled\n\n"
      ]
    },
    {
      "cell_type": "code",
      "execution_count": null,
      "metadata": {
        "collapsed": false
      },
      "outputs": [],
      "source": [
        "signal_kwargs = {\n    'moonlight': True,\n    'airglow': True,\n    'integrated_starlight': True,\n    'zodiac': True,\n    'pollution': True,\n    'twilight': True,\n}\nhemisphere_signal(station, date, signal_kwargs)"
      ]
    }
  ],
  "metadata": {
    "kernelspec": {
      "display_name": "Python 3",
      "language": "python",
      "name": "python3"
    },
    "language_info": {
      "codemirror_mode": {
        "name": "ipython",
        "version": 3
      },
      "file_extension": ".py",
      "mimetype": "text/x-python",
      "name": "python",
      "nbconvert_exporter": "python",
      "pygments_lexer": "ipython3",
      "version": "3.11.10"
    }
  },
  "nbformat": 4,
  "nbformat_minor": 0
}