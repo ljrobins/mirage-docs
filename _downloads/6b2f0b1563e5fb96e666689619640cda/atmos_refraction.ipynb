{
  "cells": [
    {
      "cell_type": "markdown",
      "metadata": {},
      "source": [
        "\n# Atmospheric Refraction\nComputing the effect of atmospheric refraction on observations\n"
      ]
    },
    {
      "cell_type": "code",
      "execution_count": null,
      "metadata": {
        "collapsed": false
      },
      "outputs": [],
      "source": [
        "import matplotlib.pyplot as plt\nimport numpy as np\n\nimport mirage as mr\nimport mirage.vis as mrv\n\ntrue_el = np.deg2rad(np.linspace(15.1, 90, int(1e3)))\natmos_pressure = 1028.4463393  # mbar\natmos_temp = 277.594  # Kelvin\n\napparent_el = mr.apparent_refacted_elevation(atmos_pressure, atmos_temp, true_el)\n\ntest_el_deg = 55.7\ntest_el_rad = np.deg2rad(test_el_deg)\napp_el_deg = np.rad2deg(\n    mr.apparent_refacted_elevation(atmos_pressure, atmos_temp, test_el_rad)\n)\ndelta_el_deg = app_el_deg - test_el_deg\ndelta_el_arcsec = delta_el_deg * 3600\nprint(f'True elevation: {test_el_deg} deg')\nprint(f'Apparent elevation: {app_el_deg} deg')\nprint(f'Refraction: {delta_el_arcsec} arcsec')\n\nplt.plot(np.rad2deg(true_el), np.rad2deg(apparent_el - true_el))\nmrv.texit(\n    'Atmospheric Refraction', 'True elevation $h$', \"Refraction $R = h' - h$ [deg]\"\n)\nplt.xlim(0, 90)\nplt.ylim(0, 0.53)\nplt.show()"
      ]
    }
  ],
  "metadata": {
    "kernelspec": {
      "display_name": "Python 3",
      "language": "python",
      "name": "python3"
    },
    "language_info": {
      "codemirror_mode": {
        "name": "ipython",
        "version": 3
      },
      "file_extension": ".py",
      "mimetype": "text/x-python",
      "name": "python",
      "nbconvert_exporter": "python",
      "pygments_lexer": "ipython3",
      "version": "3.11.10"
    }
  },
  "nbformat": 4,
  "nbformat_minor": 0
}