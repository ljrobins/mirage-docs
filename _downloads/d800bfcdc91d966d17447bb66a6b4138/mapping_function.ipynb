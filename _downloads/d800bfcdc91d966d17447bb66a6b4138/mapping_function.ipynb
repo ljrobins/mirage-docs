{
  "cells": [
    {
      "cell_type": "markdown",
      "metadata": {},
      "source": [
        "\n# Mapping Model\n\nModeling the shape of the CCD image\n"
      ]
    },
    {
      "cell_type": "markdown",
      "metadata": {},
      "source": [
        "It's important to understand where each pixel in the CCD originates from in the far field\n\n"
      ]
    },
    {
      "cell_type": "code",
      "execution_count": null,
      "metadata": {
        "collapsed": false
      },
      "outputs": [],
      "source": [
        "import matplotlib.pyplot as plt\nimport numpy as np\n\nimport mirage as mr\n\nstation = mr.Station()\nx, y = np.meshgrid(\n    np.arange(station.telescope.ccd.sensor_pixels[0]),\n    np.arange(station.telescope.ccd.sensor_pixels[1]),\n)\nmr.tic('Mapping')\nxd, yx = station.telescope.pixel_distortion(\n    x,\n    y,\n    station.telescope.ccd.sensor_pixels[0] // 2,\n    station.telescope.ccd.sensor_pixels[1] // 2,\n)\nmr.toc()\n\ndist = np.sqrt((x - xd) ** 2 + (y - yx) ** 2)\n\nplt.figure()\nplt.imshow(dist, cmap='cool')\nplt.colorbar(label='Apparent Distance from Pinhole Model [pix]')\ncp = plt.contour(dist, levels=[0.01, 0.1, 1, 2, 4, 7], colors='k')\nplt.clabel(cp, inline=True, fontsize=14)\nplt.title('POGS Pixel Distortion')\nplt.tight_layout()"
      ]
    },
    {
      "cell_type": "markdown",
      "metadata": {},
      "source": [
        "Corner of the image principal lines\n\n"
      ]
    },
    {
      "cell_type": "code",
      "execution_count": null,
      "metadata": {
        "collapsed": false
      },
      "outputs": [],
      "source": [
        "look_dir = np.array([[1.0, 0.0, 0.0]])\nup_dir = np.array([[0.0, 0.0, 1.0]])\n\nplt.figure()\nfor v in np.arange(0, 101, 10):\n    px = np.arange(0, 101, 10)\n    py = np.full_like(px, v)\n\n    for x, y in zip([px, py], [py, px]):\n        uvs = station.telescope.pixels_to_j2000_unit_vectors(\n            look_dir, up_dir, np.vstack((x, y)).T\n        )\n        pxd, pyd = station.telescope.j2000_unit_vectors_to_pixels(\n            look_dir, up_dir, uvs, add_distortion=True\n        )\n        kwargs = {}\n        if v != 0 and v != 100:\n            kwargs['alpha'] = 0.15\n            plt.scatter(pxd, pyd, c='m', marker='+', **kwargs)\n            plt.scatter(x, y, c='k', marker='+', **kwargs)\n        plt.plot(x, y, c='k', **kwargs)\n        plt.plot(pxd, pyd, c='m', **kwargs)\n\nplt.gca().invert_yaxis()\nplt.xlabel('x [pixels]')\nplt.ylabel('y [pixels]')\nplt.legend(\n    ['Distorted', 'Undistorted'],\n    loc='upper center',\n    bbox_to_anchor=(0.5, 1.10),\n    ncol=2,\n    fancybox=True,\n    shadow=True,\n)\nplt.xlabel('$x$ pixels')\nplt.ylabel('$y$ pixels')\nplt.show()"
      ]
    }
  ],
  "metadata": {
    "kernelspec": {
      "display_name": "Python 3",
      "language": "python",
      "name": "python3"
    },
    "language_info": {
      "codemirror_mode": {
        "name": "ipython",
        "version": 3
      },
      "file_extension": ".py",
      "mimetype": "text/x-python",
      "name": "python",
      "nbconvert_exporter": "python",
      "pygments_lexer": "ipython3",
      "version": "3.11.10"
    }
  },
  "nbformat": 4,
  "nbformat_minor": 0
}