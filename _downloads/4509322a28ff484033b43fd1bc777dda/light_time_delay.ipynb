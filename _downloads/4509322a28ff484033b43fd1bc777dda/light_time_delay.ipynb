{
  "cells": [
    {
      "cell_type": "markdown",
      "metadata": {},
      "source": [
        "\n# Light Time Delay\nCalculating the delay in observations due to light travel time\n"
      ]
    },
    {
      "cell_type": "code",
      "execution_count": null,
      "metadata": {
        "collapsed": false
      },
      "outputs": [],
      "source": [
        "import mirage as mr\n\nstation = mr.Station(preset='pogs')\ndates = mr.date_linspace(mr.now(), mr.now() + mr.minutes(1), 1e3)\nobj = mr.SpaceObject('cube.obj', identifier=44333)\n\nstation_pos_j2000 = station.j2000_at_dates(dates)\nobj_pos_j2000 = obj.propagate(dates)\n\ntau = mr.light_time_delay(station_pos_j2000, obj_pos_j2000)\n\nprint(tau)"
      ]
    }
  ],
  "metadata": {
    "kernelspec": {
      "display_name": "Python 3",
      "language": "python",
      "name": "python3"
    },
    "language_info": {
      "codemirror_mode": {
        "name": "ipython",
        "version": 3
      },
      "file_extension": ".py",
      "mimetype": "text/x-python",
      "name": "python",
      "nbconvert_exporter": "python",
      "pygments_lexer": "ipython3",
      "version": "3.12.7"
    }
  },
  "nbformat": 4,
  "nbformat_minor": 0
}