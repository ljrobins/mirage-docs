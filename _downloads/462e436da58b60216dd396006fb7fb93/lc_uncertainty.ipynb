{
  "cells": [
    {
      "cell_type": "markdown",
      "metadata": {},
      "source": [
        "\n# Light Curve Uncertainty\nPlotting a realistic light curve with uncertainty\n"
      ]
    },
    {
      "cell_type": "code",
      "execution_count": null,
      "metadata": {
        "collapsed": false
      },
      "outputs": [],
      "source": [
        "import matplotlib.pyplot as plt\nimport numpy as np\n\nimport mirage as mr\nimport mirage.vis as mrv\n\nitensor = np.diag([1.0, 2.0, 3.0])\nw0 = 1e-2 * mr.hat(np.array([[1.0, 2.0, 1.0]]))\nidate = mr.utc(2023, 2, 26, 0)\nobs_time = mr.minutes(20)\nobs_dt = mr.seconds(3)\n\nobj_file = 'cube.obj'\n\nstation = mr.Station(preset='pogs')\nbrdf = mr.Brdf(name='phong', cd=0.5, cs=0.0, n=0)\nattitude = mr.RbtfAttitude(w0=w0, q0=np.array([[0.0, 0.0, 0.0, 1.0]]), itensor=itensor)\ndates, epsecs = mr.date_arange(idate, idate + obs_time, obs_dt, return_epsecs=True)\n\nrmag = 3e3 * 1e3\ndiffuse_irrad = (\n    mr.AstroConstants.sun_irradiance_vacuum\n    * mr.normalized_light_curve_sphere(1.0, 1, np.pi / 2)\n    / rmag**2\n)\ndiffuse_mag = mr.irradiance_to_apparent_magnitude(diffuse_irrad)\n\nq_of_t, w_of_t = attitude.propagate(epsecs)\ndcms_of_t = mr.quat_to_dcm(q_of_t)\n\nobj = mr.SpaceObject(obj_file, identifier='goes 15')\nlc_ccd_signal_sampler, aux_data = station.observe_light_curve(\n    obj, attitude, brdf, dates, use_engine=False, model_scale_factor=0.5\n)\n\nprint(np.mean(aux_data['background_mean']))\n# endd\n\nplt.figure(figsize=(10, 5))\n\nplt.subplot(1, 2, 1)\nlcs_noisy_adu = np.array([lc_ccd_signal_sampler() for _ in range(1000)])\nlcs_noisy_irrad = lcs_noisy_adu / (\n    aux_data['sint'] * station.telescope.integration_time\n)\nlcs_noisy_mag = lcs_noisy_irrad\nvar_lcs = np.var(lcs_noisy_mag, axis=0)\nmean_lcs = np.mean(lcs_noisy_mag, axis=0)\n\nplt.plot(epsecs, mean_lcs, c='k')\nfor stdev in [1, 2, 3]:\n    plt.fill_between(\n        epsecs,\n        np.clip(mean_lcs - (stdev - 1) * np.sqrt(var_lcs), 0, np.inf),\n        np.clip(mean_lcs - stdev * np.sqrt(var_lcs), 0, np.inf),\n        alpha=0.4 - 0.1 * stdev,\n        color='b',\n        edgecolor=None,\n    )\n    plt.fill_between(\n        epsecs,\n        np.clip(mean_lcs + (stdev - 1) * np.sqrt(var_lcs), 0, np.inf),\n        np.clip(mean_lcs + stdev * np.sqrt(var_lcs), 0, np.inf),\n        alpha=0.4 - 0.1 * stdev,\n        color='b',\n        edgecolor=None,\n    )\nmrv.texit(\n    'Light Curve with Uncertainty',\n    'Epoch seconds',\n    'Recieved irradiance [W/m$^2$]',\n    grid=False,\n    legend=['Mean', '1$\\sigma$', '2$\\sigma$', '3$\\sigma$'],\n)\n\nplt.subplot(1, 2, 2)\nplt.plot(epsecs, aux_data['snr'], c='k')\nplt.ylim(0, np.max(aux_data['snr']) * 1.1)\nmrv.texit('CCD Signal to Noise Ratio', 'Epoch seconds', 'SNR')\nplt.tight_layout()\nplt.show()"
      ]
    },
    {
      "cell_type": "markdown",
      "metadata": {},
      "source": [
        "Sampling the same light curve on different nights throughout the month\n\n"
      ]
    },
    {
      "cell_type": "code",
      "execution_count": null,
      "metadata": {
        "collapsed": false
      },
      "outputs": [],
      "source": [
        "idate = mr.utc(2022, 11, 15, 0)\ndates, epsecs = mr.date_arange(idate, idate + obs_time, obs_dt, return_epsecs=True)\n\nfor nights in np.arange(4):\n    this_dates = dates + mr.days(nights * 60.0)\n    lc_ccd_signal_sampler, aux_data = station.observe_light_curve(\n        obj, attitude, brdf, this_dates, use_engine=False, model_scale_factor=0.5\n    )\n\n    print(np.mean(aux_data['background_mean']))\n\n    plt.subplot(2, 2, nights + 1)\n\n    lcs_noisy_adu = np.array([lc_ccd_signal_sampler() for _ in range(1000)])\n    lcs_noisy_irrad = lcs_noisy_adu / (\n        aux_data['sint'] * station.telescope.integration_time\n    )\n    lcs_noisy_mag = mr.irradiance_to_apparent_magnitude(lcs_noisy_irrad)\n    var_lcs = np.var(lcs_noisy_mag, axis=0)\n    mean_lcs = np.mean(lcs_noisy_mag, axis=0)\n\n    plt.plot(epsecs, mean_lcs, c='k', lw=1)\n    for stdev in [1, 2, 3]:\n        plt.fill_between(\n            epsecs,\n            np.clip(mean_lcs - (stdev - 1) * np.sqrt(var_lcs), 0, np.inf),\n            np.clip(mean_lcs - stdev * np.sqrt(var_lcs), 0, np.inf),\n            alpha=0.4 - 0.1 * stdev,\n            color='b',\n            edgecolor=None,\n        )\n        plt.fill_between(\n            epsecs,\n            np.clip(mean_lcs + (stdev - 1) * np.sqrt(var_lcs), 0, np.inf),\n            np.clip(mean_lcs + stdev * np.sqrt(var_lcs), 0, np.inf),\n            alpha=0.4 - 0.1 * stdev,\n            color='b',\n            edgecolor=None,\n        )\n    mrv.texit(\n        this_dates[0].strftime('%Y-%m-%d'),\n        '',\n        '',\n        grid=False,\n        legend=['Mean', '1$\\sigma$', '2$\\sigma$', '3$\\sigma$'] if nights == 0 else None,\n    )\n    plt.ylim(13, 18)\n    plt.gca().invert_yaxis()\n\nplt.gcf().supxlabel('Seconds after midnight UTC')\nplt.gcf().supylabel('Recieved irradiance [W/m$^2$]')\n\nplt.tight_layout()\nplt.show()"
      ]
    }
  ],
  "metadata": {
    "kernelspec": {
      "display_name": "Python 3",
      "language": "python",
      "name": "python3"
    },
    "language_info": {
      "codemirror_mode": {
        "name": "ipython",
        "version": 3
      },
      "file_extension": ".py",
      "mimetype": "text/x-python",
      "name": "python",
      "nbconvert_exporter": "python",
      "pygments_lexer": "ipython3",
      "version": "3.11.9"
    }
  },
  "nbformat": 4,
  "nbformat_minor": 0
}