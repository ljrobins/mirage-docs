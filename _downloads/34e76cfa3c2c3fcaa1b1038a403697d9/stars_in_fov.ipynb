{
  "cells": [
    {
      "cell_type": "markdown",
      "metadata": {},
      "source": [
        "\n# Stars in FOV\n\nComputing which stars are in the field of view\n"
      ]
    },
    {
      "cell_type": "code",
      "execution_count": null,
      "metadata": {
        "collapsed": false
      },
      "outputs": [],
      "source": [
        "import matplotlib.pyplot as plt\nimport numpy as np\n\nimport mirage as mr\nimport mirage.vis as mrv\n\n\ndef plot_telescope_fov(station: mr.Station, look_dir: np.ndarray, up_dir: np.ndarray):\n    sp = station.telescope.ccd.sensor_pixels\n    xy1 = np.vstack((np.arange(sp[0]), np.full(sp[0], 0))).T\n    xy2 = np.vstack((np.arange(sp[0]), np.full(sp[0], sp[1]))).T\n    xy3 = np.vstack((np.full(sp[1], 0), np.arange(sp[1]))).T\n    xy4 = np.vstack((np.full(sp[1], sp[0]), np.arange(sp[1]))).T\n\n    print(xy1)\n    print(xy2)\n    print(xy3)\n    print(xy4)\n\n    for xy in [xy1, xy2, xy3, xy4]:\n        uvs = station.telescope.pixels_to_j2000_unit_vectors(look_dir, up_dir, xy)\n        ras, decs = mr.eci_to_ra_dec(uvs)\n        plt.plot(ras, decs, linewidth=2, color='k')\n\n\nstation = mr.Station()\nstation.telescope.ccd.sensor_pixels[0] *= 1.5\ncatalog = mr.GaiaStarCatalog(station, date=mr.now())\n\nprint(f'Number of stars in catalog: {catalog._alpha.size}')\n\nlook_dir = mr.hat(np.array([[1.0, 1.0, 0.0]]))\nup_dir = np.array([[0.0, 0.0, 1.0]])\n\nfov_rad = station.telescope.fov_deg * np.pi / 180\n\nmr.tic()\nbrute_inds = np.argwhere(\n    mr.dot(catalog._uvs, look_dir).flatten() > np.cos(1.2 * fov_rad)\n).flatten()\nbrute_time = mr.toc(return_elapsed_seconds=True)\n\nmr.tic()\ntree_inds = catalog._tree.query_radius(look_dir, 1.2 * fov_rad)[0]\nt1 = mr.toc(return_elapsed_seconds=True)\n\nassert (\n    brute_inds.size == np.intersect1d(brute_inds, tree_inds).size\n), 'Brute force and tree search returned different numbers of stars!'\n\nmr.tic()\ntree_inds_in_fov = mr.unit_vector_inds_in_fov(\n    station.telescope, look_dir, up_dir, catalog._uvs[tree_inds]\n)\nt2 = mr.toc(return_elapsed_seconds=True)\n\nprint(f'Brute time total: {brute_time:.2e}')\nprint(f'Tree time total: {t1+t2:.2e}')\nprint(f'Factor speedup: {brute_time/(t1+t2):.1f}')"
      ]
    },
    {
      "cell_type": "markdown",
      "metadata": {},
      "source": [
        "Let's plot the tree solution\n\n"
      ]
    },
    {
      "cell_type": "code",
      "execution_count": null,
      "metadata": {
        "collapsed": false
      },
      "outputs": [],
      "source": [
        "plt.scatter(\n    catalog._alpha[tree_inds][~tree_inds_in_fov],\n    catalog._delta[tree_inds][~tree_inds_in_fov],\n    s=3,\n)\nplt.scatter(\n    catalog._alpha[tree_inds][tree_inds_in_fov],\n    catalog._delta[tree_inds][tree_inds_in_fov],\n    s=3,\n)\nplot_telescope_fov(station, look_dir, up_dir)\nmrv.texit('Stars in FOV', 'Right ascension [rad]', 'Declination [rad]')\nplt.gca().set_aspect('equal')\nplt.show()"
      ]
    }
  ],
  "metadata": {
    "kernelspec": {
      "display_name": "Python 3",
      "language": "python",
      "name": "python3"
    },
    "language_info": {
      "codemirror_mode": {
        "name": "ipython",
        "version": 3
      },
      "file_extension": ".py",
      "mimetype": "text/x-python",
      "name": "python",
      "nbconvert_exporter": "python",
      "pygments_lexer": "ipython3",
      "version": "3.11.10"
    }
  },
  "nbformat": 4,
  "nbformat_minor": 0
}