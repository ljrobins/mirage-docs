{
  "cells": [
    {
      "cell_type": "markdown",
      "metadata": {},
      "source": [
        "\n# GAIA Patched Catalog\n\nDisplays the patched GAIA catalog\n"
      ]
    },
    {
      "cell_type": "code",
      "execution_count": null,
      "metadata": {
        "collapsed": false
      },
      "outputs": [],
      "source": [
        "import os\n\nimport matplotlib.pyplot as plt\nimport numpy as np\n\nimport mirage as mr\nimport mirage.vis as mrv"
      ]
    },
    {
      "cell_type": "markdown",
      "metadata": {},
      "source": [
        "Let's set up a grid of directions to plot the starlight signal at in J2000\n\n"
      ]
    },
    {
      "cell_type": "code",
      "execution_count": null,
      "metadata": {
        "collapsed": false
      },
      "outputs": [],
      "source": [
        "dec_grid, ra_grid = np.meshgrid(\n    np.linspace(-np.pi / 2, np.pi / 2, 180),\n    np.linspace(-np.pi, np.pi, 360),\n    indexing='ij',\n)\nlook_dir_grid = mr.ra_dec_to_eci(ra_grid.flatten(), dec_grid.flatten())"
      ]
    },
    {
      "cell_type": "markdown",
      "metadata": {},
      "source": [
        "Conversion from $S_{10}$ to irradiance\n\n"
      ]
    },
    {
      "cell_type": "code",
      "execution_count": null,
      "metadata": {
        "collapsed": false
      },
      "outputs": [],
      "source": [
        "solid_angle_sterad = np.deg2rad(1) ** 2\nlambdas = np.linspace(1e-8, 1e-6, int(1e2))\nstrint = mr.proof_zero_mag_stellar_spectrum(lambdas)  # Approximately same as STRINT\ns10_to_irrad = (\n    10**-4 * solid_angle_sterad * np.rad2deg(1) ** 2 * np.trapz(strint, lambdas)\n)\nm_s10 = mr.irradiance_to_apparent_magnitude(s10_to_irrad)\ns10_to_irrad_true = np.rad2deg(1) ** 2 * mr.apparent_magnitude_to_irradiance(10)"
      ]
    },
    {
      "cell_type": "markdown",
      "metadata": {},
      "source": [
        "Let's first display the raw $S_{10}$ brightness of the patched catalog\n\n"
      ]
    },
    {
      "cell_type": "code",
      "execution_count": null,
      "metadata": {
        "collapsed": false
      },
      "outputs": [],
      "source": [
        "x = np.load(os.path.join(os.environ['SRCDIR'], '..', 'patched6.npz'))\nsignal_3d = x['isl']\nlims = x['mag_lims']\n\nstart_ind = np.argwhere(lims[:, 0] == 14).squeeze()\nsignal_2d = np.sum(signal_3d[:, :, start_ind:], axis=2)\n\nxx, yy = np.meshgrid(\n    np.linspace(-180, 180, signal_2d.shape[1]), np.linspace(-90, 90, signal_2d.shape[0])\n)\n\nplt.figure(figsize=(9, 4))\nplt.imshow(\n    np.flipud(np.log10(signal_2d)),\n    cmap='plasma',\n    extent=(-180, 180, -90, 90),\n)\n\nmrv.texit(\n    'Patched GAIA Catalog $m_{G} \\geq 14$',\n    'Right Ascension [deg]',\n    'Declination [deg]',\n    grid=False,\n)\nplt.colorbar(\n    label=r'Zenith signal $\\log_{10} \\: \\frac{W}{m^2\\cdot \\text{deg}^2}$',\n    cax=mrv.get_cbar_ax(),\n)\nplt.tight_layout()\nplt.show()"
      ]
    }
  ],
  "metadata": {
    "kernelspec": {
      "display_name": "Python 3",
      "language": "python",
      "name": "python3"
    },
    "language_info": {
      "codemirror_mode": {
        "name": "ipython",
        "version": 3
      },
      "file_extension": ".py",
      "mimetype": "text/x-python",
      "name": "python",
      "nbconvert_exporter": "python",
      "pygments_lexer": "ipython3",
      "version": "3.11.10"
    }
  },
  "nbformat": 4,
  "nbformat_minor": 0
}