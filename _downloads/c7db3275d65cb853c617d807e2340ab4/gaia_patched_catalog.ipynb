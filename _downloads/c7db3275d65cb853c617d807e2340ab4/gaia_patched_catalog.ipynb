{
  "cells": [
    {
      "cell_type": "markdown",
      "metadata": {},
      "source": [
        "\n# GAIA Patched Catalog\n\nDisplays the patched GAIA catalog\n"
      ]
    },
    {
      "cell_type": "code",
      "execution_count": null,
      "metadata": {
        "collapsed": false
      },
      "outputs": [],
      "source": [
        "import matplotlib.pyplot as plt\nimport numpy as np"
      ]
    },
    {
      "cell_type": "markdown",
      "metadata": {},
      "source": [
        "Let's set up a grid of directions to plot the starlight signal at in J2000\n\n"
      ]
    },
    {
      "cell_type": "code",
      "execution_count": null,
      "metadata": {
        "collapsed": false
      },
      "outputs": [],
      "source": [
        "import mirage as mr\nimport mirage.vis as mrv\n\ndec_grid, ra_grid = np.meshgrid(\n    np.linspace(-np.pi / 2, np.pi / 2, 180),\n    np.linspace(-np.pi, np.pi, 360),\n    indexing='ij',\n)\nlook_dir_grid = mr.ra_dec_to_eci(ra_grid.flatten(), dec_grid.flatten())"
      ]
    },
    {
      "cell_type": "markdown",
      "metadata": {},
      "source": [
        "Conversion from $S_{10}$ to irradiance\n\n"
      ]
    },
    {
      "cell_type": "code",
      "execution_count": null,
      "metadata": {
        "collapsed": false
      },
      "outputs": [],
      "source": [
        "solid_angle_sterad = np.deg2rad(1) ** 2\nlambdas = np.linspace(1e-8, 1e-6, int(1e2))\nstrint = mr.proof_zero_mag_stellar_spectrum(lambdas)  # Approximately same as STRINT\ns10_to_irrad = (\n    10**-4 * solid_angle_sterad * np.rad2deg(1) ** 2 * np.trapz(strint, lambdas)\n)\nm_s10 = mr.irradiance_to_apparent_magnitude(s10_to_irrad)\ns10_to_irrad_true = np.rad2deg(1) ** 2 * mr.apparent_magnitude_to_irradiance(10)"
      ]
    },
    {
      "cell_type": "markdown",
      "metadata": {},
      "source": [
        "Let's first display the raw $S_{10}$ brightness of the patched catalog\n\n"
      ]
    },
    {
      "cell_type": "code",
      "execution_count": null,
      "metadata": {
        "collapsed": false
      },
      "outputs": [],
      "source": [
        "f_star = mr.catalog_starlight_signal(\n    ra_grid, dec_grid\n)  # Units [10th magnitude stars / deg^2] = S_10\nstation = mr.Station()\nsignal = mr.integrated_starlight_signal(\n    station, look_dir_grid, look_dir_grid * mr.AstroConstants.earth_r_eq\n)\nsignal = np.log10(np.reshape(signal, ra_grid.shape))\nxx, yy = np.meshgrid(\n    np.linspace(-180, 180, signal.shape[1]), np.linspace(-90, 90, signal.shape[0])\n)\ncs = plt.contour(xx, yy, signal, levels=[1], colors='k', linestyles='solid')\nplt.gca().clabel(cs, inline=True, fontsize=10)\nplt.imshow(\n    np.flipud(signal),\n    cmap='plasma',\n    extent=(-180, 180, -90, 90),\n)\n\nmrv.texit(\n    'Patched GAIA Catalog $m \\geq 16$',\n    'Right Ascension [deg]',\n    'Declination [deg]',\n    grid=False,\n)\nplt.colorbar(label=r'Zenith signal $\\log_{10}\\text{[ADU]}$', cax=mrv.get_cbar_ax())\nplt.show()"
      ]
    },
    {
      "cell_type": "markdown",
      "metadata": {},
      "source": [
        "Now we define the telescope we want to perform the observations with, we'll use the Purdue Optical Ground Station (POGS)\n\n"
      ]
    },
    {
      "cell_type": "code",
      "execution_count": null,
      "metadata": {
        "collapsed": false
      },
      "outputs": [],
      "source": [
        "x, y, z = mr.sph_to_cart(ra_grid.flatten(), dec_grid.flatten())\nsample_dirs_eci = np.vstack((x, y, z)).T\n\nstation = mr.Station('pogs')\nsig = mr.integrated_starlight_signal(\n    station=station,\n    look_dirs_eci_eq=sample_dirs_eci,\n    obs_pos_eci_eq=sample_dirs_eci,\n)"
      ]
    },
    {
      "cell_type": "markdown",
      "metadata": {},
      "source": [
        "Now we reshape the signal into the original grid and display the plot as an image\nWe'll also overlay the Tycho 2 RA/Dec coordinates to confirm that both overlap correctly\n\n"
      ]
    },
    {
      "cell_type": "code",
      "execution_count": null,
      "metadata": {
        "collapsed": false
      },
      "outputs": [],
      "source": [
        "plt.imshow(\n    np.flipud(sig.reshape(dec_grid.shape)),\n    cmap='hot',\n    extent=(-180, 180, -90, 90),\n)\n\n# urls_and_dirs = {\n#     \"https://github.com/ljrobins/mirage-resources/raw/main/tycho2.json\": os.environ[\n#         \"DATADIR\"\n#     ],\n# }\n\n# for url, dir in urls_and_dirs.items():\n#     mr.save_file_from_url(url, dir)\n\nt2 = mr.load_json_data('tycho2.json')\ntycho2_ra_rad = t2['j2000_ra'][::10]\ntycho2_dec_rad = t2['j2000_dec'][::10]\nvm = t2['visual_magnitude'][::10]\n\nmrv.texit(\n    'Patched GAIA Catalog $m \\geq 16$',\n    'Right Ascension [deg]',\n    'Declination [deg]',\n    grid=False,\n)\nplt.colorbar(label='Total signal [e-/pix]', cax=mrv.get_cbar_ax())\nplt.show()"
      ]
    },
    {
      "cell_type": "markdown",
      "metadata": {},
      "source": [
        "We can also display the GAIA patched catalog and the Tycho 2 unit vectors on the ECI unit sphere:\n\n"
      ]
    },
    {
      "cell_type": "code",
      "execution_count": null,
      "metadata": {
        "collapsed": false
      },
      "outputs": [],
      "source": [
        "import pyvista as pv\n\ntycho2_unit_vectors = np.vstack(mr.sph_to_cart(az=tycho2_ra_rad, el=tycho2_dec_rad)).T\n\npl = pv.Plotter()\npl.set_background('black')\nmrv.scatter3(\n    pl,\n    sample_dirs_eci,\n    scalars=sig,\n    point_size=10,\n    cmap='fire',\n    opacity=sig / np.max(sig),\n)\nmrv.scatter3(\n    pl,\n    tycho2_unit_vectors,\n    scalars=1 - vm / np.max(vm),\n    point_size=0.05,\n    cmap='cool',\n)\nmrv.plot_basis(pl, np.eye(3), ['x', 'y', 'z'], scale=1.3, color='cyan')\npl.view_isometric()\npl.show()"
      ]
    }
  ],
  "metadata": {
    "kernelspec": {
      "display_name": "Python 3",
      "language": "python",
      "name": "python3"
    },
    "language_info": {
      "codemirror_mode": {
        "name": "ipython",
        "version": 3
      },
      "file_extension": ".py",
      "mimetype": "text/x-python",
      "name": "python",
      "nbconvert_exporter": "python",
      "pygments_lexer": "ipython3",
      "version": "3.11.9"
    }
  },
  "nbformat": 4,
  "nbformat_minor": 0
}