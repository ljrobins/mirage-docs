{
  "cells": [
    {
      "cell_type": "markdown",
      "metadata": {},
      "source": [
        "\n# Quaternion Sampling Efficiency\n\nComparing methods for sampling quaternions, with an emphasis on distributing the quaternions uniformly throughout orientation space (in the cosine distance sense)\n"
      ]
    },
    {
      "cell_type": "code",
      "execution_count": null,
      "metadata": {
        "collapsed": false
      },
      "outputs": [],
      "source": [
        "import matplotlib.pyplot as plt\nimport numpy as np\nfrom sklearn.neighbors import BallTree\n\nimport mirage as mr\nimport mirage.vis as mrv\n\nn = int(1e4)\n\nQ = mr.quat_upper_hemisphere(mr.quaternion_fibonacci_sample(n))\ncq = BallTree(Q).query(Q, k=2)[1][:, 1]\n\nang1 = np.rad2deg(mr.quat_ang(Q, Q[cq, :]))\n\nQ = mr.quat_upper_hemisphere(mr.rand_quaternions(n))\ncq = BallTree(Q).query(Q, k=2)[1][:, 1]\nang2 = np.rad2deg(mr.quat_ang(Q, Q[cq, :]))\n\n\nplt.hist(ang1, bins=30, label='Fibonacci', density=True)\nplt.hist(ang2, bins=30, alpha=0.7, label='Random', density=True)\nmrv.texit(\n    'Quaternion Sampling Comparison',\n    'Angle to nearest neighbor [deg]',\n    'Probability density',\n)\nplt.legend()\nplt.show()"
      ]
    }
  ],
  "metadata": {
    "kernelspec": {
      "display_name": "Python 3",
      "language": "python",
      "name": "python3"
    },
    "language_info": {
      "codemirror_mode": {
        "name": "ipython",
        "version": 3
      },
      "file_extension": ".py",
      "mimetype": "text/x-python",
      "name": "python",
      "nbconvert_exporter": "python",
      "pygments_lexer": "ipython3",
      "version": "3.11.10"
    }
  },
  "nbformat": 4,
  "nbformat_minor": 0
}