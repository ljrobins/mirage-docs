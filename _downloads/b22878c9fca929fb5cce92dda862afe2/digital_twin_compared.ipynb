{
  "cells": [
    {
      "cell_type": "markdown",
      "metadata": {},
      "source": [
        "\n# Digital Twin Animated\n\nAn animated gif of the real and simulated images taken by POGS\n"
      ]
    },
    {
      "cell_type": "code",
      "execution_count": null,
      "metadata": {
        "collapsed": false
      },
      "outputs": [],
      "source": [
        "import matplotlib.pyplot as plt\nimport numpy as np\n\nimport mirage as mr\n\n# info_path = \"/Users/liamrobinson/Library/CloudStorage/OneDrive-purdue.edu/2022-09-18_GPS_PRN14/ObservationData.mat\"\n# info_path = '/Users/liamrobinson/Library/CloudStorage/OneDrive-purdue.edu/2023-05-29 Telstar 19V/ObservationData.mat'\ninfo_path = '/Users/liamrobinson/Library/CloudStorage/OneDrive-purdue.edu/pogs/2023-07-30/ObservationData.mat'\n\nadd_distortion = True\nadd_refraction = True\nstation = mr.Station(preset='pogs')\nstation.telescope.gain = 0.25\nstation.telescope.fwhm = 3.0\nmr.tic('Loading star catalog')\ncatalog = mr.GaiaStarCatalog(station, mr.now() - mr.years(1))\nmr.toc()\n\nfig = plt.figure()\nplt.subplot(1, 2, 1)\nim_obs = plt.imshow(np.eye(4096), cmap='gray')\nplt.gca().get_xaxis().set_visible(False)\nplt.gca().get_yaxis().set_visible(False)\nplt.title('Observed')\nplt.subplot(1, 2, 2)\nim_synth = plt.imshow(np.eye(4096), cmap='gray')\nplt.title('Synthetic')\nplt.gca().get_xaxis().set_visible(False)\nplt.gca().get_yaxis().set_visible(False)\nplt.tight_layout()\n\ni = 100\nres = mr.generate_matched_image(\n    info_path,\n    i,\n    station,\n    catalog,\n    add_distortion,\n    add_refraction,\n    bias_variance=175,\n    noise=True,\n)\nimg_synth = np.log10(np.clip(res['img_sym'], 1, np.inf))\nimg = np.log10(np.clip(res['img'] - int(1e3), 1, np.inf))\n\nplt.subplot(1, 2, 1)\nim_obs.set_data(img)\nplt.clim(img.min(), img.max())\nplt.subplot(1, 2, 2)\nim_synth.set_data(img_synth)\nplt.clim(img.min(), img.max())\nplt.show()"
      ]
    }
  ],
  "metadata": {
    "kernelspec": {
      "display_name": "Python 3",
      "language": "python",
      "name": "python3"
    },
    "language_info": {
      "codemirror_mode": {
        "name": "ipython",
        "version": 3
      },
      "file_extension": ".py",
      "mimetype": "text/x-python",
      "name": "python",
      "nbconvert_exporter": "python",
      "pygments_lexer": "ipython3",
      "version": "3.11.10"
    }
  },
  "nbformat": 4,
  "nbformat_minor": 0
}