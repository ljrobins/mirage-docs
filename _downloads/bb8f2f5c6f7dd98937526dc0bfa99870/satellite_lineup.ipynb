{
  "cells": [
    {
      "cell_type": "markdown",
      "metadata": {},
      "source": [
        "\n# Satellite Lineup\n\nPlotting a variety of space objects against a soccer field background for size reference\n"
      ]
    },
    {
      "cell_type": "code",
      "execution_count": null,
      "metadata": {
        "collapsed": false
      },
      "outputs": [],
      "source": [
        "import numpy as np\nimport pyvista as pv\n\nimport mirage as mr\nimport mirage.vis as mrv\n\nmr.set_model_directory(\n    '/Users/liamrobinson/Documents/maintained-research/mirage-models/accurate_sats'\n)\nspace_objects = [\n    mr.SpaceObject('matlib_tdrs.obj', identifier=19548),\n    mr.SpaceObject('matlib_astra.obj', identifier=26853),  # ASTRA 2C\n    mr.SpaceObject('matlib_hylas4.obj', identifier=44333),  # AT&T T-16\n    mr.SpaceObject('matlib_hispasat_30w-6.obj', identifier=44333),  # AT&T T-16\n    mr.SpaceObject('matlib_telstar19v.obj', identifier=44333),  # AT&T T-16\n    mr.SpaceObject('matlib_tess.obj', identifier=43435),\n    mr.SpaceObject('matlib_landsat8.obj', identifier=39084),\n    mr.SpaceObject('matlib_saturn_v_sii.obj', identifier=43652),  # ATLAS 5 CENTAUR DEB\n    mr.SpaceObject('matlib_starlink_v1.obj', identifier=44743),  # STARLINK 1038\n]\n\nfor i in range(len(space_objects)):\n    so = space_objects[i]\n    rotm = np.eye(3)\n    if so.file_name in ['matlib_hispasat_30w-6.obj', 'matlib_landsat8.obj']:\n        rotm = mr.r3(-np.pi / 2)\n    if so.file_name in ['matlib_saturn_v_sii.obj']:\n        rotm = mr.r1(np.pi / 2)\n    if so.file_name in ['matlib_starlink_v1.obj']:\n        rotm = mr.r3(np.pi / 2) @ mr.r2(np.pi / 2)\n    so._mesh.points = (rotm @ so._mesh.points.T).T\n    so.v = (rotm @ so.v.T).T\n\n\nspace_objects = sorted(space_objects, key=lambda so: np.max(mr.vecnorm(so.v)))\nprint([x.file_name for x in space_objects])"
      ]
    },
    {
      "cell_type": "markdown",
      "metadata": {},
      "source": [
        "Let's plot the sorted set of objects\n\n"
      ]
    },
    {
      "cell_type": "code",
      "execution_count": null,
      "metadata": {
        "collapsed": false
      },
      "outputs": [],
      "source": [
        "pl = pv.Plotter()\n\nx_shift = 0\nfor i, so in enumerate(space_objects):\n    x_shift += 5 + 1.4 * i\n    mrv.render_spaceobject(pl, so, origin=np.array([x_shift, 0, 0]), color='linen')\n\nfield_length_m = 110\nimage = pv.read('field.jpg')\nfield_width_m = field_length_m * 1800 / 2880\nimage.spacing = (field_length_m / 2880, field_width_m / 1800, 0.0)\nimage.origin = ((x_shift - field_length_m + 5) / 2, -field_width_m / 2, -5)\npl.add_mesh(image, rgb=True)\n\npl.enable_anti_aliasing('ssaa')\npl.view_xy()\npl.camera.zoom(1.5)\npl.show()"
      ]
    }
  ],
  "metadata": {
    "kernelspec": {
      "display_name": "Python 3",
      "language": "python",
      "name": "python3"
    },
    "language_info": {
      "codemirror_mode": {
        "name": "ipython",
        "version": 3
      },
      "file_extension": ".py",
      "mimetype": "text/x-python",
      "name": "python",
      "nbconvert_exporter": "python",
      "pygments_lexer": "ipython3",
      "version": "3.11.10"
    }
  },
  "nbformat": 4,
  "nbformat_minor": 0
}