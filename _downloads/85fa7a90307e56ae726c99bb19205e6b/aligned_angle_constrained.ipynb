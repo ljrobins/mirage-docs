{
  "cells": [
    {
      "cell_type": "markdown",
      "metadata": {},
      "source": [
        "\n# Aligned and Constrained\n\nSimulates and animates an aligned and constrained attitude profile\n\n<div class=\"alert alert-info\"><h4>Note</h4><p>If you want to record a .mp4 video instead, try ``pl.open_movie(\"aligned_and_constrained.mov\", framerate=30, quality=9)``</p></div>\n"
      ]
    },
    {
      "cell_type": "code",
      "execution_count": null,
      "metadata": {
        "collapsed": false
      },
      "outputs": [],
      "source": [
        "import numpy as np\nimport pyvista as pv\n\nimport mirage as mr\nimport mirage.vis as mrv\n\ndata_points = 100\nobj = mr.SpaceObject('matlib_gps_iii.obj', identifier='NAVSTAR 80 (USA 309)')\njd0, jdf = 2459840.6618391783, 2459840.9182615164\ndate0, datef = mr.jd_to_date(jd0), mr.jd_to_date(jdf)\n(date_space, epsec_space) = mr.date_linspace(\n    date0, datef, data_points, return_epsecs=True\n)\n(r, v) = obj.propagate(date_space, return_velocity=True)\n\norbit_normal = mr.hat(np.cross(r, v))\nsat_nadir = -mr.hat(r)\nt = epsec_space / np.max(epsec_space) * 4 * np.pi\n\nsat_sun = mr.hat(mr.sun(date_space))\natt = mr.AlignedAndConstrainedAttitude(\n    sat_nadir, sat_sun, date_space, axis_order=(2, 0, 1)\n)\nc = att.dcms_at_dates(date_space)\nquat = mr.dcm_to_quat(c)\n(v1, v2, v3) = att.basis_vectors_at_dates(date_space)\n\nsun_in_body = mr.stack_mat_mult_vec(c, sat_sun)\nobs_in_body = mr.stack_mat_mult_vec(c, sat_nadir)\n\npl = pv.Plotter()\npl.open_gif('aligned_and_constrained.gif', fps=20)\n\nmrv.plot3(pl, r, color='cyan', line_width=10)\n\nomesh = obj._mesh.copy()\ncdist = 300\npdist = cdist / 4\npsize = 30\npl._on_first_render_request()\npl.render()\ncam_light = pv.Light(\n    color='white', attenuation_values=(0.0, 0.01, 0.0), positional=True\n)\n\nfor i in range(data_points - 1):\n    pl.camera.position = (\n        r[i, :] - cdist * sat_nadir[i, :] + cdist / 10 * orbit_normal[i, :]\n    )\n    pl.camera.focal_point = r[i, :]\n    mrv.render_spaceobject(\n        pl, obj, origin=r[i, :], scale=5, opacity=1.0, quat=quat[i, :], lighting=True\n    )\n    mrv.plot_arrow(pl, r[i, :], v1[i, :], scale=pdist, name='arr_v1')\n    mrv.plot_arrow(pl, r[i, :], v2[i, :], scale=pdist, name='arr_v2')\n    mrv.plot_arrow(pl, r[i, :], v3[i, :], scale=pdist, name='arr_v3')\n    mrv.plot_arrow(\n        pl,\n        r[i, :],\n        sat_sun[i, :],\n        scale=pdist,\n        name='arr_sun',\n        color='y',\n        label='Sun',\n    )\n    mrv.plot_earth(pl, date=date_space[i], atmosphere=True, night_lights=True)\n    cam_light.position = pl.camera.position\n    cam_light.focal_point = pl.camera.focal_point\n    if i == 0:\n        pl.add_light(cam_light)\n\n    pl.write_frame()\n    obj._mesh.copy_from(omesh)\npl.close()"
      ]
    }
  ],
  "metadata": {
    "kernelspec": {
      "display_name": "Python 3",
      "language": "python",
      "name": "python3"
    },
    "language_info": {
      "codemirror_mode": {
        "name": "ipython",
        "version": 3
      },
      "file_extension": ".py",
      "mimetype": "text/x-python",
      "name": "python",
      "nbconvert_exporter": "python",
      "pygments_lexer": "ipython3",
      "version": "3.11.10"
    }
  },
  "nbformat": 4,
  "nbformat_minor": 0
}