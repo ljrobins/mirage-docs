{
  "cells": [
    {
      "cell_type": "markdown",
      "metadata": {},
      "source": [
        "\n# PRNG Speed\n\nBenchmarking the speed of various numpy pseudorandom number generators\n"
      ]
    },
    {
      "cell_type": "code",
      "execution_count": null,
      "metadata": {
        "collapsed": false
      },
      "outputs": [],
      "source": [
        "from timeit import timeit\n\nimport matplotlib.pyplot as plt\nimport numpy as np\nimport pandas as pd\nimport seaborn as sns\nfrom numba import njit\n\nimport mirage as mr\n\nn = 4096**2  # the number of pixels in our CCD image\nmus = np.random.randint(100, 100000, size=n).reshape(-1, 16)"
      ]
    },
    {
      "cell_type": "markdown",
      "metadata": {},
      "source": [
        "Poisson PRNG\n\n"
      ]
    },
    {
      "cell_type": "code",
      "execution_count": null,
      "metadata": {
        "collapsed": false
      },
      "outputs": [],
      "source": [
        "names = ['MT19937', 'MT19937', 'PCG64', 'PCG64DXSM', 'Philox', 'SFC64']\ngens = [np.random.Generator(getattr(np.random, n)()).poisson for n in names]\ngens.append(mr.multithreaded_poisson)\nnames.append('SFC64 8 threads')\n\ndata = {'dt': [], 'name': []}\nfor i, (gen, name) in enumerate(zip(gens, names)):\n    mr.tic()\n    samples = gen(mus)\n    dt = mr.toc(return_elapsed_seconds=True)\n    if i > 0:\n        data['dt'].append(dt)\n        data['name'].append(name)\n\n\ng = sns.catplot(\n    data=pd.DataFrame(data),\n    kind='bar',\n    x='name',\n    y='dt',\n    errorbar='sd',\n    alpha=0.6,\n    height=6,\n)\ng.despine(left=True)\ng.set_axis_labels('', 'Time to sample image [s]')\ng.legend.set_title('')\nplt.title('Poisson sampling comparison')\nplt.grid()\ng.despine(left=True)\nplt.tight_layout()\nplt.show()"
      ]
    },
    {
      "cell_type": "markdown",
      "metadata": {},
      "source": [
        "Gaussian PRNG\n\n"
      ]
    },
    {
      "cell_type": "code",
      "execution_count": null,
      "metadata": {
        "collapsed": false
      },
      "outputs": [],
      "source": [
        "mus = np.random.randn(n).reshape(-1, 16)\nsigmas = np.abs(np.random.randn(n).reshape(-1, 16))\n\nnames = ['MT19937', 'MT19937', 'PCG64', 'PCG64DXSM', 'Philox', 'SFC64']\ngens = [np.random.Generator(getattr(np.random, n)()).normal for n in names]\ngens.append(mr.multithreaded_gaussian)\nnames.append('SFC64 8 threads')\n\ndata = {'dt': [], 'name': []}\nfor i, (gen, name) in enumerate(zip(gens, names)):\n    mr.tic()\n    samples = gen(mus, sigmas)\n    dt = mr.toc(return_elapsed_seconds=True)\n    if i > 0:\n        data['dt'].append(dt)\n        data['name'].append(name)\n\ng = sns.catplot(\n    data=pd.DataFrame(data),\n    kind='bar',\n    x='name',\n    y='dt',\n    errorbar='sd',\n    alpha=0.6,\n    height=6,\n)\ng.set_axis_labels('', 'Time to sample image [s]')\ng.legend.set_title('')\nplt.title('Gaussian sampling comparison')\nplt.grid()\ng.despine(left=True)\nplt.tight_layout()\nplt.show()"
      ]
    },
    {
      "cell_type": "markdown",
      "metadata": {},
      "source": [
        "Numba for sampling normals faster\n\n"
      ]
    },
    {
      "cell_type": "code",
      "execution_count": null,
      "metadata": {
        "collapsed": false
      },
      "outputs": [],
      "source": [
        "bit_gen = np.random.SFC64()\nnext_d = bit_gen.cffi.next_double\nstate_addr = bit_gen.cffi.state_address\n\n\n@njit\ndef normals_numba(n, state):\n    out = np.empty(n)\n    for i in range((n + 1) // 2):\n        x1 = 2.0 * next_d(state) - 1.0\n        x2 = 2.0 * next_d(state) - 1.0\n        r2 = x1 * x1 + x2 * x2\n        while r2 >= 1.0 or r2 == 0.0:\n            x1 = 2.0 * next_d(state) - 1.0\n            x2 = 2.0 * next_d(state) - 1.0\n            r2 = x1 * x1 + x2 * x2\n        f = np.sqrt(-2.0 * np.log(r2) / r2)\n        out[2 * i] = f * x1\n        if 2 * i + 1 < n:\n            out[2 * i + 1] = f * x2\n    return out\n\n\nn = 4096**2\n\n\ndef numbacall():\n    return normals_numba(n, state_addr)\n\n\nrg = np.random.Generator(bit_gen)\n\n\ndef numpycall():\n    return rg.normal(size=n)\n\n\n# Check that the functions work\nr1 = numbacall()\nr2 = numpycall()\nassert r1.shape == (n,)\nassert r1.shape == r2.shape\n\nt1 = timeit(numbacall, number=3)\nprint(f'{t1:.2f} secs for {n} PCG64 (Numba/SFC64) gaussian randoms')\nt2 = timeit(numpycall, number=3)\nprint(f'{t2:.2f} secs for {n} PCG64 (NumPy/SFC64) gaussian randoms')"
      ]
    }
  ],
  "metadata": {
    "kernelspec": {
      "display_name": "Python 3",
      "language": "python",
      "name": "python3"
    },
    "language_info": {
      "codemirror_mode": {
        "name": "ipython",
        "version": 3
      },
      "file_extension": ".py",
      "mimetype": "text/x-python",
      "name": "python",
      "nbconvert_exporter": "python",
      "pygments_lexer": "ipython3",
      "version": "3.11.9"
    }
  },
  "nbformat": 4,
  "nbformat_minor": 0
}