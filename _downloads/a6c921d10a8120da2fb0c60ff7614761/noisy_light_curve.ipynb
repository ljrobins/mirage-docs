{
  "cells": [
    {
      "cell_type": "markdown",
      "metadata": {},
      "source": [
        "\n# Noisy Light Curves\n\nSimulates torque-free rigid body motion for a simple object and computes the full light curve, informed by station constraints and a high-fidelity background signal model\n"
      ]
    },
    {
      "cell_type": "code",
      "execution_count": null,
      "metadata": {
        "collapsed": false
      },
      "outputs": [],
      "source": [
        "import matplotlib.pyplot as plt\nimport numpy as np\nimport seaborn as sns\n\nimport mirage as mr\nimport mirage.vis as mrv"
      ]
    },
    {
      "cell_type": "markdown",
      "metadata": {},
      "source": [
        "Setting up analysis times\n\n"
      ]
    },
    {
      "cell_type": "code",
      "execution_count": null,
      "metadata": {
        "collapsed": false
      },
      "outputs": [],
      "source": [
        "date_start = mr.utc(2023, 5, 20, 20, 45, 0)\nintegration_time_s = 10.0\n(dates, epsecs) = mr.date_arange(\n    date_start - mr.days(1), date_start, mr.seconds(10), return_epsecs=True\n)\nephr = epsecs / 3600  # Epoch hours"
      ]
    },
    {
      "cell_type": "markdown",
      "metadata": {},
      "source": [
        "Setting up the scenario objects\n\n"
      ]
    },
    {
      "cell_type": "code",
      "execution_count": null,
      "metadata": {
        "collapsed": false
      },
      "outputs": [],
      "source": [
        "obj = mr.SpaceObject('hylas4.obj', identifier='goes 15')\nbrdf = mr.Brdf('phong')\nstation = mr.Station(preset='pogs')\n# Observing from the Purdue Optical Ground Station in New Mexico"
      ]
    },
    {
      "cell_type": "markdown",
      "metadata": {},
      "source": [
        "Defining observation constraints on the station\n\n"
      ]
    },
    {
      "cell_type": "code",
      "execution_count": null,
      "metadata": {
        "collapsed": false
      },
      "outputs": [],
      "source": [
        "station.constraints = [\n    mr.SnrConstraint(3),\n    mr.ElevationConstraint(10),\n    mr.TargetIlluminatedConstraint(),\n    mr.ObserverEclipseConstraint(station),\n    mr.VisualMagnitudeConstraint(18),\n    mr.MoonExclusionConstraint(10),\n]"
      ]
    },
    {
      "cell_type": "markdown",
      "metadata": {},
      "source": [
        "Defining the object's attitude profile and mass properties\n\n"
      ]
    },
    {
      "cell_type": "code",
      "execution_count": null,
      "metadata": {
        "collapsed": false
      },
      "outputs": [],
      "source": [
        "obj_attitude = mr.RbtfAttitude(\n    w0=0.000 * np.array([0, 1, 1]),\n    q0=mr.hat(np.array([0, 0, 0, 1])),\n    itensor=obj.principal_itensor,\n)"
      ]
    },
    {
      "cell_type": "markdown",
      "metadata": {},
      "source": [
        "Computing the full noisy light curve\n\n"
      ]
    },
    {
      "cell_type": "code",
      "execution_count": null,
      "metadata": {
        "collapsed": false
      },
      "outputs": [],
      "source": [
        "(lc_noisy_sampler, aux_data) = station.observe_light_curve(\n    obj,\n    obj_attitude,\n    brdf,\n    dates,\n    integration_time_s=integration_time_s,\n    use_engine=True,\n)\nlc_noisy = lc_noisy_sampler()"
      ]
    },
    {
      "cell_type": "markdown",
      "metadata": {},
      "source": [
        "Extracting data and plotting results\n\n"
      ]
    },
    {
      "cell_type": "code",
      "execution_count": null,
      "metadata": {
        "collapsed": false
      },
      "outputs": [],
      "source": [
        "lc_clean = aux_data['lc_clean']\n\nsns.scatterplot(x=ephr, y=lc_noisy, linewidth=0.05, size=0.2)\nsns.scatterplot(x=ephr, y=lc_clean, linewidth=0.05, size=0.2, color='k')\nplt.xlim((0, np.max(ephr)))\nmrv.texit(\n    f'Light Curves for {obj.sat.satnum}',\n    'Epoch hours',\n    '[e-]',\n    ['Measurements', 'True Mean'],\n)\nplt.grid()\nplt.show()"
      ]
    }
  ],
  "metadata": {
    "kernelspec": {
      "display_name": "Python 3",
      "language": "python",
      "name": "python3"
    },
    "language_info": {
      "codemirror_mode": {
        "name": "ipython",
        "version": 3
      },
      "file_extension": ".py",
      "mimetype": "text/x-python",
      "name": "python",
      "nbconvert_exporter": "python",
      "pygments_lexer": "ipython3",
      "version": "3.11.10"
    }
  },
  "nbformat": 4,
  "nbformat_minor": 0
}