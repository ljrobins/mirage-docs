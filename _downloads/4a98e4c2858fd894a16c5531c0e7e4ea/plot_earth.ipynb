{
  "cells": [
    {
      "cell_type": "markdown",
      "metadata": {},
      "source": [
        "\n# Plotting Earth\n\nPlotting the Earth with a variety of options\n"
      ]
    },
    {
      "cell_type": "code",
      "execution_count": null,
      "metadata": {
        "collapsed": false
      },
      "outputs": [],
      "source": [
        "import datetime\n\nimport numpy as np\nimport pyvista as pv\n\nimport mirage as mr\nimport mirage.vis as mrv\n\nd0 = datetime.datetime(2022, 6, 4, 12, 0, 0, tzinfo=datetime.timezone.utc)\ndate_space_day = d0 + mr.days(np.linspace(0, 1, 50, endpoint=False))"
      ]
    },
    {
      "cell_type": "markdown",
      "metadata": {},
      "source": [
        "Just so that the thumbnail of this example is exciting, let's animate a full photorealistic Earth over the course of a day\n\n"
      ]
    },
    {
      "cell_type": "code",
      "execution_count": null,
      "metadata": {
        "collapsed": false
      },
      "outputs": [],
      "source": [
        "pl = pv.Plotter()\npl.open_gif('earth_day.gif', fps=15)\nfor date in date_space_day:\n    mrv.plot_earth(pl, date=date)\n    pl.camera.position = (40e3, 0.0, 0.0)\n    pl.write_frame()\npl.close()"
      ]
    },
    {
      "cell_type": "markdown",
      "metadata": {},
      "source": [
        "Night lights with latitude and longitude lines\n\n"
      ]
    },
    {
      "cell_type": "code",
      "execution_count": null,
      "metadata": {
        "collapsed": false
      },
      "outputs": [],
      "source": [
        "pl = pv.Plotter()\nmrv.plot_earth(\n    pl,\n    date=date,\n)\ngrid = mrv.celestial_grid(15, 15)\nmrv.plot3(\n    pl,\n    mr.AstroConstants.earth_r_eq * grid,\n    color='cornflowerblue',\n    line_width=5,\n    lighting=False,\n    opacity=0.2,\n)\npl.show()"
      ]
    }
  ],
  "metadata": {
    "kernelspec": {
      "display_name": "Python 3",
      "language": "python",
      "name": "python3"
    },
    "language_info": {
      "codemirror_mode": {
        "name": "ipython",
        "version": 3
      },
      "file_extension": ".py",
      "mimetype": "text/x-python",
      "name": "python",
      "nbconvert_exporter": "python",
      "pygments_lexer": "ipython3",
      "version": "3.11.10"
    }
  },
  "nbformat": 4,
  "nbformat_minor": 0
}