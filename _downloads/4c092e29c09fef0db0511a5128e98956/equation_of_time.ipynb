{
  "cells": [
    {
      "cell_type": "markdown",
      "metadata": {},
      "source": [
        "\n# The Equation of Time\n\nThe equation of time is the difference between apparent solar time and mean solar time. It is caused by the eccentricity of the Earth's orbit and the tilt of the Earth's axis. The equation of time is a periodic function with a period of one year.\n"
      ]
    },
    {
      "cell_type": "code",
      "execution_count": null,
      "metadata": {
        "collapsed": false
      },
      "outputs": [],
      "source": [
        "import matplotlib.pyplot as plt\nimport numpy as np\n\nimport mirage as mr\nimport mirage.vis as mrv\n\ndate0 = mr.utc(2023, 1, 1, 12)\ndates, epsecs = mr.date_arange(\n    date0, date0 + mr.years(1), mr.days(1), return_epsecs=True\n)\nyear_frac = epsecs / epsecs[-1]\n\nsun_pos = mr.sun(dates)\nsun_pos = mr.stack_mat_mult_vec(mr.j2000_to_itrf(dates), sun_pos)\nsun_lon = np.arctan2(sun_pos[:, 1], sun_pos[:, 0])\n\n\nplt.plot(\n    12 * year_frac, -sun_lon / (np.pi * 2) * 86400 / 60, label='Apparent solar time'\n)\nmrv.texit('The Equation of Time', 'Month of the Year', 'Minutes')\nplt.legend()\nplt.show()"
      ]
    }
  ],
  "metadata": {
    "kernelspec": {
      "display_name": "Python 3",
      "language": "python",
      "name": "python3"
    },
    "language_info": {
      "codemirror_mode": {
        "name": "ipython",
        "version": 3
      },
      "file_extension": ".py",
      "mimetype": "text/x-python",
      "name": "python",
      "nbconvert_exporter": "python",
      "pygments_lexer": "ipython3",
      "version": "3.12.7"
    }
  },
  "nbformat": 4,
  "nbformat_minor": 0
}