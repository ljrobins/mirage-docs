{
  "cells": [
    {
      "cell_type": "markdown",
      "metadata": {},
      "source": [
        "\n# Euler Angle Sequence\n\nThree consecutive axis rotations forming an Euler angle sequence\n"
      ]
    },
    {
      "cell_type": "code",
      "execution_count": null,
      "metadata": {
        "collapsed": false
      },
      "outputs": [],
      "source": [
        "# isort: off\nimport numpy as np\nimport vtk\nimport pyvista as pv\n\nvtk.__version__\n\nimport mirage as mr\nimport mirage.vis as mrv"
      ]
    },
    {
      "cell_type": "markdown",
      "metadata": {},
      "source": [
        "Let's get the body axis rotation matrices and define an Euler (3-1-3) sequence\n\n"
      ]
    },
    {
      "cell_type": "code",
      "execution_count": null,
      "metadata": {
        "collapsed": false
      },
      "outputs": [],
      "source": [
        "r1, r2, r3 = mr.r3(np.pi / 4), mr.r1(np.pi / 3), mr.r3(np.pi / 5)\na = np.eye(3)\nap = r1\napp = r2 @ ap\nappp = r3 @ app\nsc, d = 1.4, 0.5\npl = pv.Plotter(shape=(1, 3))\npl.subplot(0, 0)\nmrv.plot_basis(pl, a.T, labels='a')\nmrv.plot_basis(pl, ap.T, labels='b', color='blue', scale=sc)\nmrv.plot_angle_between(pl, a[0, :], ap[0, :], center=np.array([0, 0, 0]), dist=d)\npl.subplot(0, 1)\nmrv.plot_basis(pl, ap.T, labels='b', color='blue')\nmrv.plot_basis(pl, app.T, labels='c', color='green', scale=sc)\nmrv.plot_angle_between(pl, ap[1, :], app[1, :], center=np.array([0, 0, 0]), dist=d)\npl.subplot(0, 2)\nmrv.plot_basis(pl, app.T, labels='c', color='green')\nmrv.plot_basis(pl, appp.T, labels='d', color='red', scale=sc)\nmrv.plot_angle_between(pl, app[0, :], appp[0, :], center=np.array([0, 0, 0]), dist=d)\n\npl.link_views()\npl.view_isometric()\npl.camera.zoom(0.8)\npl.show()"
      ]
    }
  ],
  "metadata": {
    "kernelspec": {
      "display_name": "Python 3",
      "language": "python",
      "name": "python3"
    },
    "language_info": {
      "codemirror_mode": {
        "name": "ipython",
        "version": 3
      },
      "file_extension": ".py",
      "mimetype": "text/x-python",
      "name": "python",
      "nbconvert_exporter": "python",
      "pygments_lexer": "ipython3",
      "version": "3.11.9"
    }
  },
  "nbformat": 4,
  "nbformat_minor": 0
}