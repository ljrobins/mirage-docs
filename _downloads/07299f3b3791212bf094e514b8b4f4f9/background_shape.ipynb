{
  "cells": [
    {
      "cell_type": "markdown",
      "metadata": {},
      "source": [
        "\n# Background Shape\n\nInspecting the shape of the background in a POGS CCD image\n"
      ]
    },
    {
      "cell_type": "code",
      "execution_count": null,
      "metadata": {
        "collapsed": false
      },
      "outputs": [],
      "source": [
        "import matplotlib.pyplot as plt\nimport numpy as np\nimport pyvista as pv\nimport seaborn as sns"
      ]
    },
    {
      "cell_type": "markdown",
      "metadata": {},
      "source": [
        "Loading a fits image from the Purdue Optical Ground Station\n\n"
      ]
    },
    {
      "cell_type": "code",
      "execution_count": null,
      "metadata": {
        "collapsed": false
      },
      "outputs": [],
      "source": [
        "from astropy.io import fits\n\nimport mirage as mr\nimport mirage.vis as mrv"
      ]
    },
    {
      "cell_type": "markdown",
      "metadata": {},
      "source": [
        "Defining functions that compute the background of a CCD image\n\n"
      ]
    },
    {
      "cell_type": "markdown",
      "metadata": {},
      "source": [
        "Loading the CCD image\n\n"
      ]
    },
    {
      "cell_type": "code",
      "execution_count": null,
      "metadata": {
        "collapsed": false
      },
      "outputs": [],
      "source": [
        "with fits.open(\n    '/Volumes/Data 1/imgs/pogs/2022/2022-09-18_GPS_PRN14/00147425.fit'\n) as hdul:\n    ccd_adu = hdul[0].data"
      ]
    },
    {
      "cell_type": "markdown",
      "metadata": {},
      "source": [
        "Plotting the background values as a function of the distance from the center of the image\n\n"
      ]
    },
    {
      "cell_type": "code",
      "execution_count": null,
      "metadata": {
        "collapsed": false
      },
      "outputs": [],
      "source": [
        "br_mask_naive, _ = mr.image_background_naive(ccd_adu)\nim_center = np.array(ccd_adu.shape) / 2\nx_pix, y_pix = np.meshgrid(np.arange(ccd_adu.shape[1]), np.arange(ccd_adu.shape[0]))\nr_dist = np.sqrt((x_pix - im_center[0]) ** 2 + (y_pix - im_center[1]) ** 2)\n\nmr.tic('Parabola estimation')\nim_br_parabola = mr.image_background_parabola(ccd_adu)\nmr.toc()\n\nx = r_dist[br_mask_naive][::1000]\ny_real = ccd_adu[br_mask_naive][::1000]\ny_parabola = im_br_parabola[br_mask_naive][::1000]\ncmap = sns.color_palette('light:b', as_cmap=True)\nsns.kdeplot(\n    x=x,\n    y=y_real,\n    fill=True,\n    thresh=0,\n    levels=15,\n    alpha=0.5,\n    cmap=cmap,\n)\nplt.scatter(x, y_real, s=0.3, label='Real image density', alpha=0.1, color='b')\nplt.scatter(x, y_parabola, s=1, label='Parabolic fit', color='k')\nmrv.texit('', 'Distance from center [pix]', 'ADU', grid=False)\nplt.legend()\nplt.show()"
      ]
    },
    {
      "cell_type": "markdown",
      "metadata": {},
      "source": [
        "Plotting the parabolic fit to the background\n\n"
      ]
    },
    {
      "cell_type": "code",
      "execution_count": null,
      "metadata": {
        "collapsed": false
      },
      "outputs": [],
      "source": [
        "plt.imshow(im_br_parabola, cmap='plasma')\nmrv.texit('Image Parabola Fit', '', '', grid=False)\nplt.colorbar(cax=mrv.get_cbar_ax(), label='ADU')\nplt.show()"
      ]
    },
    {
      "cell_type": "markdown",
      "metadata": {},
      "source": [
        "Plotting the residual noise after accounting for the image background, compared to a Poisson fit\n\n"
      ]
    },
    {
      "cell_type": "code",
      "execution_count": null,
      "metadata": {
        "collapsed": false
      },
      "outputs": [],
      "source": [
        "ccd_minus_br = ccd_adu - im_br_parabola\nreal_br_mask, _ = mr.image_background_naive(ccd_minus_br)\nccd_minus_br_masked = ccd_minus_br[real_br_mask][::10]\nresidual_var = np.var(ccd_minus_br_masked)\nprint(f'Residual variance: {residual_var} [ADU^2]]')\nhist_kwargs = dict(\n    bins=np.arange(np.min(ccd_minus_br_masked), np.max(ccd_minus_br_masked)),\n    density=True,\n    alpha=0.8,\n)\nplt.hist(ccd_minus_br_masked, **hist_kwargs)\nplt.hist(\n    np.random.poisson(residual_var, size=ccd_minus_br_masked.size) - residual_var,\n    **hist_kwargs,\n)\nmrv.texit('Real backgrounds', 'ADU', 'Density', ['Image', 'Poisson fit'])\nplt.show()"
      ]
    },
    {
      "cell_type": "code",
      "execution_count": null,
      "metadata": {
        "collapsed": false
      },
      "outputs": [],
      "source": [
        "lims = [[1730, 1760], [1990, 2020]]\nx, y = np.meshgrid(\n    np.arange(lims[0][1] - lims[0][0]), np.arange(lims[1][1] - lims[1][0])\n)\ngrid = pv.StructuredGrid(\n    x, y, ccd_adu[lims[1][0] : lims[1][1], lims[0][0] : lims[0][1]] / 300\n)\nbr_grid = pv.StructuredGrid(\n    x, y, im_br_parabola[lims[1][0] : lims[1][1], lims[0][0] : lims[0][1]] / 300\n)\n\npl = pv.Plotter()\npl.add_mesh(\n    grid,\n    scalars=ccd_minus_br[lims[1][0] : lims[1][1], lims[0][0] : lims[0][1]].flatten(\n        order='f'\n    )\n    < 20,\n    cmap='plasma',\n    scalar_bar_args=dict(title='Background'),\n)\npl.add_text(\n    'Object Signal with Background',\n    font_size=12,\n    font='courier',\n    position='upper_left',\n    color='k',\n)\nmrv.orbit_plotter(pl, frames=120, shift=10)"
      ]
    }
  ],
  "metadata": {
    "kernelspec": {
      "display_name": "Python 3",
      "language": "python",
      "name": "python3"
    },
    "language_info": {
      "codemirror_mode": {
        "name": "ipython",
        "version": 3
      },
      "file_extension": ".py",
      "mimetype": "text/x-python",
      "name": "python",
      "nbconvert_exporter": "python",
      "pygments_lexer": "ipython3",
      "version": "3.11.9"
    }
  },
  "nbformat": 4,
  "nbformat_minor": 0
}