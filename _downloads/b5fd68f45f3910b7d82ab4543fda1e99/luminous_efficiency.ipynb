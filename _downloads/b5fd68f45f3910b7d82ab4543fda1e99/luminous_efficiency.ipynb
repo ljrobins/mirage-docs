{
  "cells": [
    {
      "cell_type": "markdown",
      "metadata": {},
      "source": [
        "\n# Luminous Efficiency Function\n\nPlotting the luminous efficiency function used to convert from candela to watts per steradian\n"
      ]
    },
    {
      "cell_type": "code",
      "execution_count": null,
      "metadata": {
        "collapsed": false
      },
      "outputs": [],
      "source": [
        "import matplotlib.pyplot as plt\nimport numpy as np\n\nimport mirage as mr\nimport mirage.vis as mrv\n\nlambdas = np.linspace(350, 800)  # [nm]\nkcd = 1 / mr.candela_to_watt_per_sr(np.ones_like(lambdas), lambdas=lambdas)\n\nplt.plot(lambdas, kcd)\nmrv.texit(\n    'Luminous Efficiency Function $K_{cd}$', 'Wavelength $\\lambda$ in [nm]', '$K_{cd}$'\n)\n\nplt.show()"
      ]
    }
  ],
  "metadata": {
    "kernelspec": {
      "display_name": "Python 3",
      "language": "python",
      "name": "python3"
    },
    "language_info": {
      "codemirror_mode": {
        "name": "ipython",
        "version": 3
      },
      "file_extension": ".py",
      "mimetype": "text/x-python",
      "name": "python",
      "nbconvert_exporter": "python",
      "pygments_lexer": "ipython3",
      "version": "3.12.7"
    }
  },
  "nbformat": 4,
  "nbformat_minor": 0
}