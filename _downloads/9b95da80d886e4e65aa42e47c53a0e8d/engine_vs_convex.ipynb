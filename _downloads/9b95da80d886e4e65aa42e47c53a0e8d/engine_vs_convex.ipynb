{
  "cells": [
    {
      "cell_type": "markdown",
      "metadata": {},
      "source": [
        "\n# Convex vs Engine Light Curves\n\nComparing light curves produced by the LightCurveEngine renderer and a simplified convex method\n"
      ]
    },
    {
      "cell_type": "code",
      "execution_count": null,
      "metadata": {
        "collapsed": false
      },
      "outputs": [],
      "source": [
        "import matplotlib.pyplot as plt\nimport numpy as np\nimport seaborn as sns\n\nimport mirage as mr"
      ]
    },
    {
      "cell_type": "markdown",
      "metadata": {},
      "source": [
        "Defining the object and BRDF\n\n"
      ]
    },
    {
      "cell_type": "code",
      "execution_count": null,
      "metadata": {
        "collapsed": false
      },
      "outputs": [],
      "source": [
        "obj = mr.SpaceObject('cylinder.obj')\nbrdf = mr.Brdf('phong', cd=0.1, cs=0.9, n=30)"
      ]
    },
    {
      "cell_type": "markdown",
      "metadata": {},
      "source": [
        "Defining the attitude profile\n\n"
      ]
    },
    {
      "cell_type": "code",
      "execution_count": null,
      "metadata": {
        "collapsed": false
      },
      "outputs": [],
      "source": [
        "t_eval = np.linspace(0, 10, int(1e3) + 1)\nq, _ = mr.propagate_attitude_torque_free(\n    mr.hat(np.array([0.0, 0.0, 0.0, 1.0])),\n    np.array([1.0, 1.0, 1.0]),\n    np.diag([1, 2, 3]),\n    t_eval,\n)\n\ndcm = mr.quat_to_dcm(q)\novb = mr.stack_mat_mult_vec(dcm, np.array([[1, 0, 0]]))\nsvb = mr.stack_mat_mult_vec(dcm, np.array([[0, 1, 0]]))"
      ]
    },
    {
      "cell_type": "markdown",
      "metadata": {},
      "source": [
        "We can now run the engine and compute a convex light curve:\n\n"
      ]
    },
    {
      "cell_type": "code",
      "execution_count": null,
      "metadata": {
        "collapsed": false
      },
      "outputs": [],
      "source": [
        "mr.tic()\nb_non_convex = mr.run_light_curve_engine(\n    brdf,\n    obj,\n    svb,\n    ovb,\n    instances=25,\n    instance_width_pix=540,\n)\nmr.toc()\nb_convex = obj.convex_light_curve(brdf, svb, ovb)\n\nprint(b_non_convex, b_convex)"
      ]
    },
    {
      "cell_type": "markdown",
      "metadata": {},
      "source": [
        "And plot the results\n\n"
      ]
    },
    {
      "cell_type": "code",
      "execution_count": null,
      "metadata": {
        "collapsed": false
      },
      "outputs": [],
      "source": [
        "plt.figure()\nsns.lineplot(x=t_eval, y=b_non_convex, errorbar=None)\nsns.lineplot(x=t_eval, y=b_convex, errorbar=None)\nplt.title(f'Light Curves for {obj.file_name}')\nplt.xlabel('Time [s]')\nplt.ylabel('Normalized brightness')\nplt.legend(['LightCurveEngine', 'Convex'])\nplt.grid()\n# plt.show()"
      ]
    },
    {
      "cell_type": "markdown",
      "metadata": {},
      "source": [
        "Plotting the error instead of the brightness values\n\n"
      ]
    },
    {
      "cell_type": "code",
      "execution_count": null,
      "metadata": {
        "collapsed": false
      },
      "outputs": [],
      "source": [
        "plt.figure()\nsns.lineplot(x=t_eval, y=b_non_convex - b_convex, errorbar=None)\nplt.title(f'Light Curves Error for {obj.file_name}')\nplt.xlabel('Time [s]')\nplt.ylabel('Normalized brightness error')\nplt.grid()\nplt.show()"
      ]
    },
    {
      "cell_type": "markdown",
      "metadata": {},
      "source": [
        "This is nice and small, which we like to see. If we repeat this process for a non-convex object, the error quickly becomes clear\n\n"
      ]
    },
    {
      "cell_type": "code",
      "execution_count": null,
      "metadata": {
        "collapsed": false
      },
      "outputs": [],
      "source": [
        "obj = mr.SpaceObject('tess.obj')\nbrdf = mr.Brdf('phong', cd=0.5, cs=0.5, n=5)\n\nb_non_convex = mr.run_light_curve_engine(brdf, obj, svb, ovb, instances=1)\nb_non_convex_rotating = mr.run_light_curve_engine(\n    brdf, obj, svb, ovb, instances=1, rotate_panels=True\n)\nb_convex = obj.convex_light_curve(brdf, svb, ovb)\n\n\nplt.figure()\nsns.lineplot(x=t_eval, y=b_non_convex, errorbar=None)\nsns.lineplot(x=t_eval, y=b_non_convex_rotating, errorbar=None)\nsns.lineplot(x=t_eval, y=b_convex, errorbar=None)\nplt.title(f'Light Curves for {obj.file_name}')\nplt.xlabel('Time [s]')\nplt.ylabel('Normalized brightness')\nplt.legend(['LightCurveEngine', 'LightCurveEngine - rotating panels', 'Convex'])\nplt.grid()\nplt.show()"
      ]
    }
  ],
  "metadata": {
    "kernelspec": {
      "display_name": "Python 3",
      "language": "python",
      "name": "python3"
    },
    "language_info": {
      "codemirror_mode": {
        "name": "ipython",
        "version": 3
      },
      "file_extension": ".py",
      "mimetype": "text/x-python",
      "name": "python",
      "nbconvert_exporter": "python",
      "pygments_lexer": "ipython3",
      "version": "3.12.7"
    }
  },
  "nbformat": 4,
  "nbformat_minor": 0
}