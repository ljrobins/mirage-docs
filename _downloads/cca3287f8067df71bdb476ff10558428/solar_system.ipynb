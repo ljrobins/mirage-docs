{
  "cells": [
    {
      "cell_type": "markdown",
      "metadata": {},
      "source": [
        "\n# Solar System\n\nPlotting the solar system planet directions with respect to the Earth at a given time\n"
      ]
    },
    {
      "cell_type": "code",
      "execution_count": null,
      "metadata": {
        "collapsed": false
      },
      "outputs": [],
      "source": [
        "import numpy as np\nimport pyvista as pv\n\nimport mirage as mr\nimport mirage.vis as mrv\n\ndate = mr.now()\n\nfcns = np.array(\n    [\n        mr.mercury,\n        mr.venus,\n        mr.mars,\n        mr.jupiter,\n        mr.saturn,\n        mr.uranus,\n        mr.neptune,\n        mr.moon,\n        mr.sun,\n        mr.pluto,\n    ]\n)\n\nlabels = np.array(\n    [\n        'Mercury',\n        'Venus',\n        'Mars',\n        'Jupiter',\n        'Saturn',\n        'Uranus',\n        'Neptune',\n        'Moon',\n        'Sun',\n        'Pluto',\n    ]\n)\n\nr = np.zeros((len(fcns), 3))\nfor i, fcn in enumerate(fcns):\n    r[i, :] = fcn(date)\n\npl = pv.Plotter()\nmrv.plot_earth(pl, date=date, lighting=False)\n\nmag = 20000\nplanet_dirs = mr.hat(r)\n\nfor pi, labeli in zip(planet_dirs, labels):\n    mrv.plot_arrow(\n        pl,\n        np.zeros(3),\n        pi,\n        color='lime',\n        label=labeli,\n        name=labeli,\n        scale=mag * 0.8,\n        font_size=15,\n    )\ngrid = mrv.celestial_grid()\nmrv.plot3(\n    pl,\n    mag * grid,\n    color='cornflowerblue',\n    line_width=5,\n    lighting=False,\n    opacity=0.2,\n)\n\nmrv.orbit_plotter(pl)"
      ]
    },
    {
      "cell_type": "markdown",
      "metadata": {},
      "source": [
        "We can also plot the whole solar system by using SPICE interpolation\n\n"
      ]
    },
    {
      "cell_type": "code",
      "execution_count": null,
      "metadata": {
        "collapsed": false
      },
      "outputs": [],
      "source": [
        "bodies = np.array(\n    [\n        'Mercury',\n        'Venus',\n        'Mars',\n        'Jupiter',\n        'Saturn',\n        'Uranus',\n    ]\n)\nperiods = mr.days(\n    np.array([87.97, 224.7, 686.98, 4332.589, 10759.22, 30688.5, 60182, 90560])\n)\n\nr_all = []\nfor body, period in zip(bodies, periods):\n    print(body)\n    dates, epsecs = mr.date_linspace(date, date + period, 100, return_epsecs=True)\n    fine_dates, fine_epsecs = mr.date_linspace(\n        dates[0], dates[-1], dates.size * 10, return_epsecs=True\n    )\n    r_all.append(mr.SpiceInterpolator(body, fine_dates)(fine_epsecs))"
      ]
    }
  ],
  "metadata": {
    "kernelspec": {
      "display_name": "Python 3",
      "language": "python",
      "name": "python3"
    },
    "language_info": {
      "codemirror_mode": {
        "name": "ipython",
        "version": 3
      },
      "file_extension": ".py",
      "mimetype": "text/x-python",
      "name": "python",
      "nbconvert_exporter": "python",
      "pygments_lexer": "ipython3",
      "version": "3.12.7"
    }
  },
  "nbformat": 4,
  "nbformat_minor": 0
}