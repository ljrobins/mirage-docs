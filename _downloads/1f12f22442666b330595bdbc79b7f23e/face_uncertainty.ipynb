{
  "cells": [
    {
      "cell_type": "markdown",
      "metadata": {},
      "source": [
        "\n# Face Uncertainty\n\nMore rigorously defining the uncertainty in the faces of an estimated object\n"
      ]
    },
    {
      "cell_type": "markdown",
      "metadata": {},
      "source": [
        "Setting up the observation conditions\n\n"
      ]
    },
    {
      "cell_type": "code",
      "execution_count": null,
      "metadata": {
        "collapsed": false
      },
      "outputs": [],
      "source": [
        "# isort: off\n\nimport matplotlib.pyplot as plt\nimport numpy as np\nimport pyvista as pv\n\nimport mirage as mr\nimport mirage.vis as mrv\n\nitensor = np.diag([1.0, 2.0, 3.0])\nw0 = 9e-2 * mr.hat(np.array([[1.0, 2.0, 0.0]]))\nidate = mr.utc(2023, 1, 1, 5)\nobs_time = mr.hours(4)\nobs_dt = mr.seconds(10)\n\nobj_file = 'collapsed_cube.obj'\n\nstation = mr.Station(preset='pogs')\nbrdf = mr.Brdf(name='phong', cd=0.5, cs=0.3, n=10)\nobj = mr.SpaceObject(obj_file, identifier='goes 15')\n\ndates, epsecs = mr.date_arange(idate, idate + obs_time, obs_dt, return_epsecs=True)\n\nattitude = mr.RbtfAttitude(w0=w0, q0=np.array([[0.0, 0.0, 0.0, 1.0]]), itensor=itensor)\nq_of_t, w_of_t = attitude.propagate(epsecs)"
      ]
    },
    {
      "cell_type": "markdown",
      "metadata": {},
      "source": [
        "Computing the light curve\n\n"
      ]
    },
    {
      "cell_type": "code",
      "execution_count": null,
      "metadata": {
        "collapsed": false
      },
      "outputs": [],
      "source": [
        "lc_ccd_signal_sampler, aux_data = station.observe_light_curve(\n    obj, attitude, brdf, dates, use_engine=False, model_scale_factor=1\n)"
      ]
    },
    {
      "cell_type": "markdown",
      "metadata": {},
      "source": [
        "Inversion from the noisy light curve\n\n"
      ]
    },
    {
      "cell_type": "code",
      "execution_count": null,
      "metadata": {
        "collapsed": false
      },
      "outputs": [],
      "source": [
        "sun_body = aux_data['sun_vector_object_body']\nobs_body = aux_data['observer_vector_object_body']\n\nlc_ccd_signal = lc_ccd_signal_sampler()\nlc_noisy_irrad = lc_ccd_signal / (aux_data['sint'] * station.telescope.integration_time)\nlc_noisy_unit_irrad = (\n    lc_noisy_irrad\n    * (aux_data['rmag_station_to_sat'] * 1e3) ** 2\n    / mr.AstroConstants.sun_irradiance_vacuum\n)\n\negi_opt_initial, egi_opt = mr.optimize_egi(\n    lc_noisy_unit_irrad[~lc_noisy_unit_irrad.mask],\n    sun_body[~lc_noisy_unit_irrad.mask, :],\n    obs_body[~lc_noisy_unit_irrad.mask, :],\n    brdf,\n    merge_iter=1,\n    merge_angle=np.pi / 6,\n    return_all=True,\n    num_candidates=1000,\n)\nrec_obj = mr.construct_mesh_from_egi(mr.close_egi(egi_opt))"
      ]
    },
    {
      "cell_type": "markdown",
      "metadata": {},
      "source": [
        "Plotting the reconstructed and truth objects\n\n"
      ]
    },
    {
      "cell_type": "code",
      "execution_count": null,
      "metadata": {
        "collapsed": false
      },
      "outputs": [],
      "source": [
        "pl = pv.Plotter(shape=(1, 2))\npl.subplot(0, 0)\nmrv.render_spaceobject(pl, obj)\npl.subplot(0, 1)\nmrv.render_spaceobject(pl, rec_obj)\npl.show()"
      ]
    },
    {
      "cell_type": "markdown",
      "metadata": {},
      "source": [
        "Plotting the reflection matrix of the reconstructed object\n\n"
      ]
    },
    {
      "cell_type": "code",
      "execution_count": null,
      "metadata": {
        "collapsed": false
      },
      "outputs": [],
      "source": [
        "G_rec = brdf.compute_reflection_matrix(\n    sun_body[~lc_noisy_unit_irrad.mask, :],\n    obs_body[~lc_noisy_unit_irrad.mask, :],\n    rec_obj.unique_normals,\n)\n\nis_g_full_rank = np.linalg.matrix_rank(G_rec) == G_rec.shape[1]\nprint(f'Is G full rank? {is_g_full_rank}')\n\nplt.imshow(G_rec, aspect='auto', cmap='plasma')\nmrv.texit(\n    'Reconstructed Object Reflection Matrix $G$',\n    'Normal index',\n    'Time index',\n    grid=False,\n)\nplt.clim([0, 1])\nplt.colorbar(cax=mrv.get_cbar_ax(), label='Normalized irradiance per unit area')\nplt.show()"
      ]
    },
    {
      "cell_type": "markdown",
      "metadata": {},
      "source": [
        "Plotting the expected normalized irradiance from each facet at each time\n\n"
      ]
    },
    {
      "cell_type": "code",
      "execution_count": null,
      "metadata": {
        "collapsed": false
      },
      "outputs": [],
      "source": [
        "total_expected_norm_irrad = np.sum(G_rec * rec_obj.unique_areas, axis=0)\nu_quantity = 1 - (total_expected_norm_irrad - np.min(total_expected_norm_irrad)) / (\n    np.max(total_expected_norm_irrad) - np.min(total_expected_norm_irrad)\n)\n\nplt.bar(np.arange(len(total_expected_norm_irrad)), total_expected_norm_irrad)\nmrv.texit(\n    'Expected Normalized Irradiance $a_j\\sum_{i}{G_{ij}}$',\n    'Normal index',\n    'Total normalized irradiance',\n    grid=False,\n)\nplt.show()"
      ]
    },
    {
      "cell_type": "markdown",
      "metadata": {},
      "source": [
        "Plotting the light curve error at each timestep\n\n"
      ]
    },
    {
      "cell_type": "code",
      "execution_count": null,
      "metadata": {
        "collapsed": false
      },
      "outputs": [],
      "source": [
        "if hasattr(obj, 'file_name'):\n    delattr(obj, 'file_name')\nlc_rec = mr.run_light_curve_engine(\n    brdf,\n    obj,\n    sun_body[~lc_noisy_unit_irrad.mask, :],\n    obs_body[~lc_noisy_unit_irrad.mask, :],\n)\nlc_err = np.abs(lc_rec - lc_noisy_unit_irrad[~lc_noisy_unit_irrad.mask])\nplt.figure(figsize=(7, 5))\nplt.plot(epsecs[~lc_noisy_unit_irrad.mask], lc_err, c='k')\nplt.xlabel('Epoch seconds')\nplt.ylabel('Normalized irradiance [W/m$^2$]')\nplt.legend(['Noisy', 'Reconstructed'])\nplt.tight_layout()\nplt.show()"
      ]
    },
    {
      "cell_type": "markdown",
      "metadata": {},
      "source": [
        "Attributing that light curve error to each face and plotting\n\n"
      ]
    },
    {
      "cell_type": "code",
      "execution_count": null,
      "metadata": {
        "collapsed": false
      },
      "outputs": [],
      "source": [
        "total_err_per_face = np.sum(\n    lc_err.reshape(-1, 1) * (rec_obj.unique_areas * G_rec), axis=0\n)\nu_quality = (total_err_per_face - np.min(total_err_per_face)) / (\n    np.max(total_err_per_face) - np.min(total_err_per_face)\n)"
      ]
    },
    {
      "cell_type": "markdown",
      "metadata": {},
      "source": [
        "This has all been wrapped in a single function:\n\n"
      ]
    },
    {
      "cell_type": "code",
      "execution_count": null,
      "metadata": {
        "collapsed": false
      },
      "outputs": [],
      "source": [
        "fu = mr.face_uncertainty(\n    rec_obj,\n    sun_body[~lc_noisy_unit_irrad.mask, :],\n    obs_body[~lc_noisy_unit_irrad.mask, :],\n    brdf,\n    lc_noisy_unit_irrad[~lc_noisy_unit_irrad.mask],\n)"
      ]
    },
    {
      "cell_type": "markdown",
      "metadata": {},
      "source": [
        "Plotting various uncertainties\n\n"
      ]
    },
    {
      "cell_type": "code",
      "execution_count": null,
      "metadata": {
        "collapsed": false
      },
      "outputs": [],
      "source": [
        "pl = pv.Plotter()\nmrv.render_spaceobject(pl, rec_obj, scalars=u_quantity[rec_obj.unique_to_all])\npl.add_text('$u_{quantity}$')\npl.show()\npl = pv.Plotter()\nmrv.render_spaceobject(pl, rec_obj, scalars=u_quality[rec_obj.unique_to_all])\npl.add_text('$u_{quality}$')\npl.show()\n\npl = pv.Plotter()\nmrv.render_spaceobject(pl, rec_obj, scalars=fu)\npl.add_text('$u_j$')\npl.show()"
      ]
    }
  ],
  "metadata": {
    "kernelspec": {
      "display_name": "Python 3",
      "language": "python",
      "name": "python3"
    },
    "language_info": {
      "codemirror_mode": {
        "name": "ipython",
        "version": 3
      },
      "file_extension": ".py",
      "mimetype": "text/x-python",
      "name": "python",
      "nbconvert_exporter": "python",
      "pygments_lexer": "ipython3",
      "version": "3.11.9"
    }
  },
  "nbformat": 4,
  "nbformat_minor": 0
}