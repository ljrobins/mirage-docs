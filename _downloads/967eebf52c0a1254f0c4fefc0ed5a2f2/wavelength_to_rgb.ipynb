{
  "cells": [
    {
      "cell_type": "markdown",
      "metadata": {},
      "source": [
        "\n# Wavelength to RGB\nAn approximate conversion from wavelength to RGB values for plotting.\n"
      ]
    },
    {
      "cell_type": "code",
      "execution_count": null,
      "metadata": {
        "collapsed": false
      },
      "outputs": [],
      "source": [
        "import matplotlib.pyplot as plt\nimport numpy as np\n\nimport mirage.vis as mrv\n\nwavelengths = np.linspace(400, 700, 1000)\nrgbs = mrv.wavelength_to_rgb(wavelengths).reshape(1, -1, 3)\n\n\nplt.figure(figsize=(6, 2))\nplt.imshow(rgbs, extent=[wavelengths.min(), wavelengths.max(), 0, 50])\nplt.yticks([])\nplt.xlabel('Wavelength (nm)')\nplt.title('Wavelength to RGB')\nplt.gca().invert_xaxis()\nplt.show()\n\n\ndef srgb_transfer(rgb):\n    srgb_lo = rgb * 12.92\n    srgb_hi = 1.055 * rgb ** (1 / 2.4) - 0.055\n    SRGB = (rgb > 0.0031308) * srgb_hi + (rgb <= 0.0031308) * srgb_lo\n    return SRGB\n\n\ndef srgb_transfer_inverse(srgb):\n    rgb_lo = srgb / 12.92\n    rgb_hi = ((srgb + 0.055) / 1.055) ** 2.4\n    linearRGB = (srgb > 0.04045) * rgb_hi + (srgb < 0.04045) * rgb_lo\n    return linearRGB"
      ]
    }
  ],
  "metadata": {
    "kernelspec": {
      "display_name": "Python 3",
      "language": "python",
      "name": "python3"
    },
    "language_info": {
      "codemirror_mode": {
        "name": "ipython",
        "version": 3
      },
      "file_extension": ".py",
      "mimetype": "text/x-python",
      "name": "python",
      "nbconvert_exporter": "python",
      "pygments_lexer": "ipython3",
      "version": "3.11.10"
    }
  },
  "nbformat": 4,
  "nbformat_minor": 0
}