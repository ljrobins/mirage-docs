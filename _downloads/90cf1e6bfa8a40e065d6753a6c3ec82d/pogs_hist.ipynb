{
  "cells": [
    {
      "cell_type": "markdown",
      "metadata": {},
      "source": [
        "\n# POGS Status\n\nThe weather status of the Purdue Optical Ground Station\n"
      ]
    },
    {
      "cell_type": "code",
      "execution_count": null,
      "metadata": {
        "collapsed": false
      },
      "outputs": [],
      "source": [
        "import datetime\nimport itertools\nimport os\n\nimport matplotlib.pyplot as plt\n\nimport mirage as mr  # noqa\n\nwith open(os.path.join(os.environ['DATADIR'], 'nmskies_state_changes.txt'), 'r') as f:\n    csv = f.read()\n\nvals = [x.split(',') for x in csv.split('\\n')]\nvals = [\n    {'date': datetime.datetime.strptime(x[0], '%Y-%m-%d %H:%M:%S.%f'), 'status': x[1]}\n    for x in vals[:-1]\n]\n\ncols = {\n    'fog': 'lightgray',\n    'clouds': 'gray',\n    'rain': 'b',\n    'open': 'g',\n    'daylight': 'y',\n    'wind': 'm',\n}\n\nseen = {}\nplt.figure(figsize=(10, 3))\nfor pair in itertools.pairwise(vals):\n    start_date = pair[0]['date']\n    end_date = pair[1]['date']\n    status = pair[1]['status']\n\n    label = status if status not in seen else '_'\n    plt.fill_between([start_date, end_date], 0, 1, color=cols[status], label=label)\n    seen[status] = True\n\nplt.yticks([])\nplt.autoscale(enable=True, tight=True)\nplt.title('POGS Status')\nplt.legend(bbox_to_anchor=(1.01, 1.01))\nplt.tight_layout()\nplt.show()"
      ]
    }
  ],
  "metadata": {
    "kernelspec": {
      "display_name": "Python 3",
      "language": "python",
      "name": "python3"
    },
    "language_info": {
      "codemirror_mode": {
        "name": "ipython",
        "version": 3
      },
      "file_extension": ".py",
      "mimetype": "text/x-python",
      "name": "python",
      "nbconvert_exporter": "python",
      "pygments_lexer": "ipython3",
      "version": "3.12.7"
    }
  },
  "nbformat": 4,
  "nbformat_minor": 0
}