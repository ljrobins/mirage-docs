{
  "cells": [
    {
      "cell_type": "markdown",
      "metadata": {},
      "source": [
        "\n# POGS Status\n\nThe weather status of the Purdue Optical Ground Station\n"
      ]
    },
    {
      "cell_type": "code",
      "execution_count": null,
      "metadata": {
        "collapsed": false
      },
      "outputs": [],
      "source": [
        "import numpy as np\nimport matplotlib.pyplot as plt\nimport datetime\nimport itertools\n\ncsv = \"\"\"2024-07-03 22:15:04.958184,clouds\n2024-07-04 07:59:04.628433,daylight\n2024-07-04 22:15:05.176451,clouds\n2024-07-05 00:53:04.358703,open\n2024-07-05 08:06:04.931694,daylight\n2024-07-05 22:15:04.495289,clouds\n2024-07-05 23:46:04.000372,fog\n2024-07-06 08:00:05.210266,daylight\n2024-07-06 22:14:04.767616,clouds\n2024-07-06 22:22:04.199623,open\n2024-07-07 08:12:04.496914,daylight\n2024-07-07 22:14:04.568198,clouds\n2024-07-07 22:22:04.940400,open\n2024-07-07 22:57:04.047537,clouds\n2024-07-08 08:01:04.548877,daylight\n2024-07-08 22:14:04.105869,clouds\n2024-07-08 22:26:04.537847,fog\n2024-07-09 08:01:05.409548,daylight\n2024-07-09 22:14:04.518691,clouds\n2024-07-10 05:26:05.673129,fog\n2024-07-10 08:02:04.294682,daylight\n2024-07-10 22:13:04.740676,clouds\n2024-07-10 22:32:04.169360,rain\n2024-07-10 23:42:05.737735,clouds\n2024-07-11 00:16:04.573813,open\n2024-07-11 01:16:05.626543,fog\n2024-07-11 02:47:04.845346,open\"\"\"\n\nvals = [x.split(',') for x in csv.split('\\n')]\nvals = [\n    {'date': datetime.datetime.strptime(x[0], '%Y-%m-%d %H:%M:%S.%f'), 'status': x[1]}\n    for x in vals\n]\n\ncols = {\n    'fog': 'lightgray',\n    'clouds': 'gray',\n    'rain': 'b',\n    'open': 'g',\n    'daylight': 'y',\n}\n\nseen = {}\nplt.figure(figsize=(10, 3))\nfor pair in itertools.pairwise(vals):\n    start_date = pair[0]['date']\n    end_date = pair[1]['date']\n    status = pair[1]['status']\n\n    label = status if status not in seen else '_'\n    plt.fill_between([start_date, end_date], 0, 1, color=cols[status], label=label)\n    seen[status] = True\n\nplt.yticks([])\nplt.autoscale(enable=True, tight=True)\nplt.title('POGS Status')\nplt.legend(bbox_to_anchor=(1.01, 1.01))\nplt.tight_layout()\nplt.show()"
      ]
    }
  ],
  "metadata": {
    "kernelspec": {
      "display_name": "Python 3",
      "language": "python",
      "name": "python3"
    },
    "language_info": {
      "codemirror_mode": {
        "name": "ipython",
        "version": 3
      },
      "file_extension": ".py",
      "mimetype": "text/x-python",
      "name": "python",
      "nbconvert_exporter": "python",
      "pygments_lexer": "ipython3",
      "version": "3.11.9"
    }
  },
  "nbformat": 4,
  "nbformat_minor": 0
}