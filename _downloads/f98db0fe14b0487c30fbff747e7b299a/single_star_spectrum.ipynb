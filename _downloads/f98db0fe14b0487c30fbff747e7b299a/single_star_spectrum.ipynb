{
  "cells": [
    {
      "cell_type": "markdown",
      "metadata": {},
      "source": [
        "\n# Calibrated Star Spectra\n\nComputing the apparent magnitude of a star from its absolute flux spectrum in a given passband\n"
      ]
    },
    {
      "cell_type": "code",
      "execution_count": null,
      "metadata": {
        "collapsed": false
      },
      "outputs": [],
      "source": [
        "import os\n\nimport matplotlib.pyplot as plt\nimport numpy as np\nfrom gaiaxpy import calibrate\nfrom scipy.interpolate import interp1d\n\nimport mirage as mr"
      ]
    },
    {
      "cell_type": "markdown",
      "metadata": {},
      "source": [
        "Let's use GAIA's calibrated spectra to compare with the CALSPEC spectra\n\n"
      ]
    },
    {
      "cell_type": "code",
      "execution_count": null,
      "metadata": {
        "collapsed": false
      },
      "outputs": [],
      "source": [
        "mags = {\n    'V': 11.78,\n    'B': 11.46,\n    'R': 11.93098,\n    'I': 12.11202,\n    'G': 11.72116,\n    'G_BP': 11.54143,\n    'G_RP': 12.06725,\n}\n\nexample_spec_path = os.path.join(os.environ['DATADIR'], 'stars', 'V2.SPSS001.ascii')\nif not os.path.exists(example_spec_path):\n    mr.save_file_from_url(\n        'http://gaiaextra.ssdc.asi.it:8080/reduced/2/SPSSpublic/V2.SPSS001.ascii',\n        os.path.join(os.environ['DATADIR'], 'stars'),\n    )\n\nlam_true, flux_true, flux_err_true = np.loadtxt(example_spec_path).T\nstar_id = 266077145295627520\n\nlam_cal = np.linspace(350, 1020, 72)\nspec = calibrate(\n    [star_id],\n    lam_cal,\n    username=os.environ['COSMOS_USERNAME'],\n    password=os.environ['COSMOS_PASSWORD'],\n    save_file=False,\n)\nflux_cal = spec[0]['flux'][0]\n\npassband = mr.passband_by_name(lam_cal, 'G')\nband_mag_from_cal_spec = mr.apparent_magnitude_in_band(lam_cal, flux_cal, 'G')\nprint(\n    f\"Calibrated G magnitude: {band_mag_from_cal_spec:.2f}, catalog error {band_mag_from_cal_spec - mags['G']:.3f}\"\n)\n\n# Computing the mean error\n\nflux_true_cal_lam = interp1d(lam_true, flux_true)(lam_cal)\npercent_error = np.abs((flux_cal - flux_true_cal_lam) / flux_true_cal_lam * 100)\nprint(np.percentile(percent_error, [1, 50, 99]))\n\nplt.figure(figsize=(7, 4))\nplt.subplot(1, 2, 1)\nplt.title('G191-B2B Absolute Spectra')\nplt.ylabel(r'$\\left[ \\frac{W}{m^2 \\cdot nm} \\right]$')\nplt.xlabel('Wavelength [nm]')\nplt.grid()\nplt.plot(lam_true, flux_true, 'k', linewidth=3, label='CALSPEC')\nplt.plot(lam_cal, flux_cal, 'r--', linewidth=2, label='GaiaXPy')\nplt.xlim(lam_cal.min(), lam_cal.max())\nplt.subplot(1, 2, 2)\nplt.title('G191-B2B $G$-Band Spectra')\nplt.ylabel(r'$\\left[ \\frac{W}{m^2 \\cdot nm} \\right]$')\nplt.xlabel('Wavelength [nm]')\nplt.grid()\nplt.plot(\n    lam_true,\n    flux_true * mr.passband_by_name(lam_true, 'G'),\n    'k',\n    linewidth=3,\n    label='CALSPEC',\n)\nplt.plot(\n    lam_cal,\n    flux_cal * mr.passband_by_name(lam_cal, 'G'),\n    'r--',\n    linewidth=2,\n    label='GaiaXPy',\n)\nplt.xlim(lam_cal.min(), lam_cal.max())\nplt.legend()\nplt.tight_layout()\nplt.show()"
      ]
    },
    {
      "cell_type": "markdown",
      "metadata": {},
      "source": [
        "Using precise fluxes for a given reference star\nhttp://gaiaextra.ssdc.asi.it:8080/SPSSV2extendedfluxtable_user_show.php?sizelimit=150\nAnd the Viziers info for this star to correlate IDs https://simbad.cds.unistra.fr/simbad/sim-id?Ident=G191-B2B&NbIdent=1&Radius=2&Radius.unit=arcmin&submit=submit+id\n\n"
      ]
    },
    {
      "cell_type": "code",
      "execution_count": null,
      "metadata": {
        "collapsed": false
      },
      "outputs": [],
      "source": [
        "plt.figure(figsize=(4, 6))\nfor band_name, mag_true in mags.items():\n    passband = mr.passband_by_name(lam_true, band_name)\n    band_mag_from_true_spec = mr.apparent_magnitude_in_band(\n        lam_true, flux_true, band_name\n    )\n    print(\n        f'{band_name} magnitude: {band_mag_from_true_spec:.2f}, error {band_mag_from_true_spec-mag_true:.3f}'\n    )\n\n    plt.subplot(2, 1, 1)\n    plt.plot(lam_true, passband, label=band_name)\n    plt.subplot(2, 1, 2)\n    plt.plot(lam_true, flux_true * passband, label=band_name)\n\nu = r'$\\left[ \\frac{W}{m^2 \\cdot nm} \\right]$'\nplt.subplot(2, 1, 1)\nplt.title('G191-B2B Spectra')\nplt.ylabel(f'Irradiance spectrum {u}')\nplt.grid()\nplt.subplot(2, 1, 2)\nplt.grid()\nplt.plot(lam_true, flux_true, label='CALSPEC Raw')\nplt.xlabel('Wavelength [nm]')\nplt.ylabel(f'Irradiance spectrum {u}')\n\nplt.legend()\nplt.tight_layout()\nplt.show()"
      ]
    }
  ],
  "metadata": {
    "kernelspec": {
      "display_name": "Python 3",
      "language": "python",
      "name": "python3"
    },
    "language_info": {
      "codemirror_mode": {
        "name": "ipython",
        "version": 3
      },
      "file_extension": ".py",
      "mimetype": "text/x-python",
      "name": "python",
      "nbconvert_exporter": "python",
      "pygments_lexer": "ipython3",
      "version": "3.12.7"
    }
  },
  "nbformat": 4,
  "nbformat_minor": 0
}