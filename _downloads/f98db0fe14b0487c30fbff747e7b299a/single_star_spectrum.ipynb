{
  "cells": [
    {
      "cell_type": "markdown",
      "metadata": {},
      "source": [
        "\n# Vega and Apparent Magnitudes\n\nComputing the apparent magnitude of a star from its absolute flux spectrum in a given passband\n"
      ]
    },
    {
      "cell_type": "code",
      "execution_count": null,
      "metadata": {
        "collapsed": false
      },
      "outputs": [],
      "source": [
        "import os\n\nimport matplotlib.pyplot as plt\nimport numpy as np\nfrom astropy.io import fits\nfrom gaiaxpy import calibrate\n\nimport mirage as mr"
      ]
    },
    {
      "cell_type": "markdown",
      "metadata": {},
      "source": [
        "Loading and plotting the Vega (Alpha Lyrae) spectrum\n\n"
      ]
    },
    {
      "cell_type": "code",
      "execution_count": null,
      "metadata": {
        "collapsed": false
      },
      "outputs": [],
      "source": [
        "vega_spec_path = os.path.join(os.environ['DATADIR'], 'stars', 'alpha_lyr_mod_004.fits')\nif not os.path.exists(vega_spec_path):\n    mr.save_file_from_url(\n        'https://archive.stsci.edu/hlsps/reference-atlases/cdbs/current_calspec/alpha_lyr_mod_004.fits',\n        os.path.join(os.environ['DATADIR'], 'stars'),\n    )\n\nwith fits.open(vega_spec_path) as hdul:\n    # https://archive.stsci.edu/hlsps/reference-atlases/cdbs/current_calspec/\n    data = np.vstack(hdul[1].data)\n    lambdas = data[:, 0] / 10\n    flux = data[:, 1]\n    valid = (lambdas > 300) & (lambdas < 1200)\n    flux = (\n        flux[valid] / 1e2\n    )  # converting from erg / s / cm^2 / Angstrom to W / m^2 / nm\n    lambdas = lambdas[valid]\n    np.savez(\n        os.path.join(os.environ['DATADIR'], 'stars', 'vega_spectrum.npz'),\n        lambdas=lambdas,\n        flux=flux,\n    )\n\ny = mr.vega_spectrum(lambdas)\nplt.plot(lambdas, y)\nplt.xlabel('Wavelength [nm]')\nplt.ylabel('Flux [W / m^2 / nm]')\nplt.title('Vega Spectrum')\nplt.grid()\nplt.xlim(300, 1200)\nplt.ylim(0, 1.02 * np.max(y))\nplt.tight_layout()\nplt.show()"
      ]
    },
    {
      "cell_type": "markdown",
      "metadata": {},
      "source": [
        "Using precise fluxes for a given reference star\nhttp://gaiaextra.ssdc.asi.it:8080/SPSSV2extendedfluxtable_user_show.php?sizelimit=150\n\n"
      ]
    },
    {
      "cell_type": "code",
      "execution_count": null,
      "metadata": {
        "collapsed": false
      },
      "outputs": [],
      "source": [
        "example_spec_path = os.path.join(os.environ['DATADIR'], 'stars', 'V2.SPSS001.ascii')\nif not os.path.exists(example_spec_path):\n    mr.save_file_from_url(\n        'http://gaiaextra.ssdc.asi.it:8080/reduced/2/SPSSpublic/V2.SPSS001.ascii',\n        os.path.join(os.environ['DATADIR'], 'stars'),\n    )\n\nstar_id = 266077145295627520\nlam_true, flux_true, flux_err_true = np.loadtxt(example_spec_path).T\nmags = [\n    ('V', 11.78),\n    ('B', 11.46),\n    ('R', 11.93098),\n    ('I', 12.11202),\n    ('G', 11.72116),\n    ('G_BP', 11.54143),\n    ('G_RP', 12.06725),\n]\n\nplt.figure(figsize=(4, 6))\nfor band_name, mag_true in mags:\n    passband = mr.passband_by_name(lam_true, band_name)\n    band_mag_from_true_spec = mr.apparent_magnitude_in_band(\n        lam_true, flux_true, band_name\n    )\n    print(\n        f'{band_name} magnitude: {band_mag_from_true_spec:.2f}, error {band_mag_from_true_spec-mag_true:.3f}'\n    )\n\n    plt.subplot(2, 1, 1)\n    plt.plot(lam_true, passband, label=band_name)\n    plt.subplot(2, 1, 2)\n    plt.plot(lam_true, flux_true * passband, label=band_name)\n\nplt.subplot(2, 1, 1)\nplt.title('G191-B2B Spectra')\nplt.ylabel('Irradiance spectrum [W/m^2/nm]')\nplt.grid()\nplt.subplot(2, 1, 2)\nplt.grid()\nplt.plot(lam_true, flux_true, label='CALSPEC Raw')\nplt.xlabel('Wavelength [nm]')\nplt.ylabel('Irradiance spectrum [W/m^2/nm]')\n\nplt.legend()\nplt.tight_layout()\nplt.show()"
      ]
    },
    {
      "cell_type": "markdown",
      "metadata": {},
      "source": [
        "Now let's use GAIA's calibrated spectra on a different star\n\n"
      ]
    },
    {
      "cell_type": "code",
      "execution_count": null,
      "metadata": {
        "collapsed": false
      },
      "outputs": [],
      "source": [
        "star_id = 5937173300407375616\ng_mag_true = 12.136271\nplt.figure(figsize=(4, 6))\nlam_cal = np.linspace(350, 1020, 20)\nspec = calibrate(\n    [star_id],\n    lam_cal,\n    username=os.environ['COSMOS_USERNAME'],\n    password=os.environ['COSMOS_PASSWORD'],\n    save_file=False,\n)\nflux_cal = spec[0]['flux'][0]\n\npassband = mr.passband_by_name(lam_cal, 'G')\nband_mag_from_cal_spec = mr.apparent_magnitude_in_band(lam_cal, flux_cal, 'G')\nprint(\n    f'{band_name} magnitude: {band_mag_from_cal_spec:.2f}, error {band_mag_from_cal_spec-g_mag_true:.3f}'\n)\n\nplt.subplot(2, 1, 1)\nplt.plot(lam_cal, passband, label=band_name)\nplt.subplot(2, 1, 2)\nplt.plot(lam_cal, flux_cal * passband, label=band_name)\n\n\nplt.subplot(2, 1, 1)\nplt.title('G191-B2B Spectra')\nplt.ylabel('Irradiance spectrum [W/m^2/nm]')\nplt.grid()\nplt.subplot(2, 1, 2)\nplt.grid()\nplt.plot(lam_cal, flux_cal, label='GAIA XP Raw')\nplt.xlabel('Wavelength [nm]')\nplt.ylabel('Irradiance spectrum [W/m^2/nm]')\n\nplt.legend()\nplt.tight_layout()\nplt.show()"
      ]
    }
  ],
  "metadata": {
    "kernelspec": {
      "display_name": "Python 3",
      "language": "python",
      "name": "python3"
    },
    "language_info": {
      "codemirror_mode": {
        "name": "ipython",
        "version": 3
      },
      "file_extension": ".py",
      "mimetype": "text/x-python",
      "name": "python",
      "nbconvert_exporter": "python",
      "pygments_lexer": "ipython3",
      "version": "3.11.9"
    }
  },
  "nbformat": 4,
  "nbformat_minor": 0
}