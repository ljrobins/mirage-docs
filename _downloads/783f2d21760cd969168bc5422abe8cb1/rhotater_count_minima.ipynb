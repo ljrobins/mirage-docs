{
  "cells": [
    {
      "cell_type": "markdown",
      "metadata": {},
      "source": [
        "\n# Attitude Inversion Minima\n"
      ]
    },
    {
      "cell_type": "code",
      "execution_count": null,
      "metadata": {
        "collapsed": false
      },
      "outputs": [],
      "source": [
        "import matplotlib.pyplot as plt\nimport numpy as np\nimport polars as pl\nimport pyvista as pv\n\nimport mirage as mr\nimport mirage.vis as mrv\n\nx = pl.read_parquet(\n    '/Users/liamrobinson/Documents/maintained-wip/rhotater/saved.parquet'\n)\n\nx = x.sort('fun')\nx = x.with_columns(jmag=np.linalg.norm(x['gradient'].to_numpy(), axis=1))\n\nxk = x['xk'].to_numpy()\nx0 = x['x0'].to_numpy()\nfun = x['fun'].to_numpy()\n\n\ndef compute_lc_from_x0(x0):\n    obj = mr.SpaceObject('cube.obj')\n\n    L = np.array([1.0, 0.0, 0.0])\n    O = mr.hat(np.array([1.0, 1.0, 0.0]))\n    brdf = mr.Brdf('phong', cd=0.5, cs=0.5, n=3)\n    if x0.size == 7:\n        itensor = np.abs(np.diag([1.0, 2.0, x0[-1]]))\n    if x0.size == 8:\n        itensor = np.abs(np.diag([1.0, x0[-2], x0[-1]]))\n    else:\n        itensor = np.diag([1.0, 2.0, 3.0])\n\n    q0 = mr.mrp_to_quat(x0[:3].reshape(1, -1))\n    teval = np.linspace(0, 6, 20)\n    w0 = x0[3:6] / teval.max()\n    q_of_t, w_of_t = mr.propagate_attitude_torque_free(q0, w0, itensor, teval)\n    c_of_t = mr.quat_to_dcm(q_of_t)\n\n    svb = mr.stack_mat_mult_vec(c_of_t, L)\n    ovb = mr.stack_mat_mult_vec(c_of_t, O)\n    lc = obj.convex_light_curve(brdf, svb, ovb)\n    return lc / np.linalg.norm(lc)\n\n\nx0i = xk[0]\nx0t = np.array([1.0, 2.0, 3.0, 5.0, 4.0, 2.0, 1.0, 2.0])  # the truth\nprint(' x0i = ti.Vector([' + ', '.join([f'{x:6.3f}' for x in x0i]) + '])')\nprint(' x0t = ti.Vector([' + ', '.join([f'{x:6.3f}' for x in x0t]) + '])')\n\nlc = compute_lc_from_x0(x0i)\nlct = compute_lc_from_x0(x0t)\n\n\nplt.plot(lct, linewidth=3, c='k', label='Observed')\nplt.plot(lc, 'c--', linewidth=2, label='Converged')\n\n\nlcs = []\nfor i in range(100):\n    lcs.append(compute_lc_from_x0(xk[i]))\n\nlc_std = np.array(lcs).std(axis=0)\nplt.fill_between(\n    np.arange(lc.size),\n    lc - 3 * lc_std,\n    lc + 3 * lc_std,\n    color='r',\n    alpha=0.3,\n    label=rf'$\\pm3\\sigma$ for top {len(lcs)}',\n)\n\n\nmrv.texit(\n    'Attitude inversion results - uniform cube',\n    'Epoch seconds',\n    'Normalized brightness',\n)\nplt.legend()\nplt.show()"
      ]
    },
    {
      "cell_type": "markdown",
      "metadata": {},
      "source": [
        "Now let's plot a histogram of solution loss function values\n\n"
      ]
    },
    {
      "cell_type": "code",
      "execution_count": null,
      "metadata": {
        "collapsed": false
      },
      "outputs": [],
      "source": [
        "s = xk[:, :3]\ns = mr.quat_to_mrp(mr.quat_upper_hemisphere(mr.mrp_to_quat(s)))\nw = xk[:, 3:6].copy()\nw[mr.vecnorm(w).flatten() > 4.0, :] = np.nan\n\nlf = np.log10(fun)\nloss_frac = (lf - lf.max()) / (lf.min() - lf.max())\n\nprint(loss_frac)\n\nplt.hist(fun, bins=np.geomspace(1e-4, 1e1, 100))\nplt.xscale('log')\nplt.yscale('log')\nplt.title('Solutions')\nplt.xlabel('Loss values')\nplt.ylabel('Count')\nplt.grid()\nplt.show()"
      ]
    },
    {
      "cell_type": "markdown",
      "metadata": {},
      "source": [
        "And the distribution of solutions in MRP space\n\n"
      ]
    },
    {
      "cell_type": "code",
      "execution_count": null,
      "metadata": {
        "collapsed": false
      },
      "outputs": [],
      "source": [
        "p = pv.Plotter()\np.set_background('k')\nmrv.scatter3(\n    p,\n    s,\n    scalars=loss_frac,\n    opacity=loss_frac,\n    cmap='hot',\n    point_size=5,\n    show_scalar_bar=False,\n)\n# p.show()\nmrv.orbit_plotter(p, gif_name='s_sols.gif', focus=(0.0, 0, 0))"
      ]
    },
    {
      "cell_type": "markdown",
      "metadata": {},
      "source": [
        "And the distribution of solutions in angular velocity space\n\n"
      ]
    },
    {
      "cell_type": "code",
      "execution_count": null,
      "metadata": {
        "collapsed": false
      },
      "outputs": [],
      "source": [
        "p = pv.Plotter()\np.set_background('k')\nmrv.scatter3(\n    p,\n    w,\n    scalars=loss_frac,\n    opacity=loss_frac,\n    cmap='cool',\n    point_size=5,\n    show_scalar_bar=False,\n)\n# p.show()\nmrv.orbit_plotter(p, gif_name='w_sols.gif', focus=(0, 0, 0))"
      ]
    }
  ],
  "metadata": {
    "kernelspec": {
      "display_name": "Python 3",
      "language": "python",
      "name": "python3"
    },
    "language_info": {
      "codemirror_mode": {
        "name": "ipython",
        "version": 3
      },
      "file_extension": ".py",
      "mimetype": "text/x-python",
      "name": "python",
      "nbconvert_exporter": "python",
      "pygments_lexer": "ipython3",
      "version": "3.11.10"
    }
  },
  "nbformat": 4,
  "nbformat_minor": 0
}