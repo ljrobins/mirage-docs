{
  "cells": [
    {
      "cell_type": "markdown",
      "metadata": {},
      "source": [
        "\n# Zodiacal Light\n"
      ]
    },
    {
      "cell_type": "code",
      "execution_count": null,
      "metadata": {
        "collapsed": false
      },
      "outputs": [],
      "source": [
        "import os\n\nimport matplotlib.pyplot as plt\nimport numpy as np\nfrom scipy.interpolate import RegularGridInterpolator\n\nimport mirage as mr  # noqa\n\nx = np.loadtxt(os.path.join(os.environ['DATADIR'], 'proof.zod'))\n\necliptic_lats = np.flip(np.unique(x[:, 0]))\n\necliptic_lons = np.unique(x[:, 1])\nvals = x[:, 2].reshape(ecliptic_lats.size, ecliptic_lons.size, order='f')\nf = RegularGridInterpolator((ecliptic_lats, ecliptic_lons), vals)\n\nplt.imshow(np.log10(vals), origin='lower', extent=[0, 180, -90, 90])\nplt.show()"
      ]
    }
  ],
  "metadata": {
    "kernelspec": {
      "display_name": "Python 3",
      "language": "python",
      "name": "python3"
    },
    "language_info": {
      "codemirror_mode": {
        "name": "ipython",
        "version": 3
      },
      "file_extension": ".py",
      "mimetype": "text/x-python",
      "name": "python",
      "nbconvert_exporter": "python",
      "pygments_lexer": "ipython3",
      "version": "3.11.10"
    }
  },
  "nbformat": 4,
  "nbformat_minor": 0
}