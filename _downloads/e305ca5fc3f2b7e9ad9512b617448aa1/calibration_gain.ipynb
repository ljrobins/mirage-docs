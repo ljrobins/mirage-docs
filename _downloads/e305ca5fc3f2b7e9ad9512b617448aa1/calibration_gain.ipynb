{
  "cells": [
    {
      "cell_type": "markdown",
      "metadata": {},
      "source": [
        "\n# CCD Gain\n\nComputing the gain of the POGS CCD from a set of twilight flats\n"
      ]
    },
    {
      "cell_type": "code",
      "execution_count": null,
      "metadata": {
        "collapsed": false
      },
      "outputs": [],
      "source": [
        "import os\nfrom itertools import pairwise\n\nimport matplotlib.pyplot as plt\nimport numpy as np\nimport scipy.optimize as optimize\n\nimport mirage as mr\n\n\ndef l1_fit(x, y):\n    \"\"\"\n    Fits a line to data using L1 regression.\n    \"\"\"\n\n    def cost_function(params, x, y):\n        m, b = params\n        return np.sum(np.abs(y - (m * x + b)))\n\n    initial_guess = [1, 0]  # Initial guess for slope and intercept\n    result = optimize.minimize(cost_function, initial_guess, args=(x, y))\n    return result.x  # m, b for y = mx * b\n\n\ndef calibrate_sky_flats_to_gain(flats_dir: str) -> np.ndarray:\n    # http://spiff.rit.edu/classes/phys445/lectures/gain/gain.html\n    # Under \"Measuring the gain -- a better technique\"\n    # as well as: https://www.mirametrics.com/tech_note_ccdgain.php\n    flats_paths = [os.path.join(flats_dir, f) for f in os.listdir(flats_dir)]\n\n    variances = []\n    means = []\n    flats_paths = sorted(\n        flats_paths, key=lambda x: int(os.path.split(x)[1].split('.')[0])\n    )\n\n    for flat_path1, flat_path2 in pairwise(flats_paths):\n        info1 = mr.info_from_fits(flat_path1, telescope=station.telescope, minimal=True)\n        info2 = mr.info_from_fits(flat_path2, telescope=station.telescope, minimal=True)\n\n        s1 = info1['ccd_adu'][*region] - 1010  # Subtracting the approximate bias level\n        s2 = info2['ccd_adu'][*region] - 1010\n        r = np.mean(s1) / np.mean(s2)\n        s2 = s2 * r\n        added = (s1 + s2) / 2\n        subed = (s1 - s2) / 2\n\n        mean_level = np.mean(added)\n        rms = np.std(subed)\n        variance = rms**2 / 2.0\n\n        means.append(mean_level)\n        variances.append(variance)\n\n    means = np.array(means)\n    variances = np.array(variances)\n    m, b = l1_fit(means, variances)\n    print(f'Gain: {1/m}')\n    plt.scatter(means, variances, marker='+')\n    plt.plot(means, means * m + b, label='best fit', color='k')\n    plt.legend()\n    plt.grid()\n    plt.ylabel('Signal variance')\n    plt.xlabel('Signal mean')\n    plt.show()\n\n\ndef calibrate_sky_flats_to_k(flats_dir: str, g: float, rc: float) -> np.ndarray:\n    # as well as: https://www.mirametrics.com/tech_note_ccdgain.php\n    flats_paths = [os.path.join(flats_dir, f) for f in os.listdir(flats_dir)]\n\n    ks = []\n    means = []\n    flats_paths = sorted(\n        flats_paths, key=lambda x: int(os.path.split(x)[1].split('.')[0])\n    )\n\n    for flat_path in flats_paths:\n        info = mr.info_from_fits(flat_path, telescope=station.telescope, minimal=True)\n        s = info['ccd_adu'][*region]\n        nc = np.std(s)\n        sc = np.mean(s - 1010)\n        k = np.sqrt((nc**2 - rc**2 - 1 / g * sc) / sc**2)\n        ks.append(k)\n        means.append(sc)\n\n    ks = np.array(ks)\n    means = np.array(means)\n\n    m, b = l1_fit(means, ks)\n    print('m, b')\n    plt.scatter(means, ks, marker='+')\n    plt.plot(means, means * m + b, label='best fit', color='k')\n    plt.legend()\n    plt.grid()\n    plt.ylabel('Estimated Flat Field Variance $k$')\n    plt.xlabel('Signal mean')\n    plt.show()\n\n\nregion = (slice(430, 480), slice(370, 420))\nstation = mr.Station()\nflats_dir = '/Users/liamrobinson/Downloads/2024_11_15/flat'\nread_noise = 10.24  # ADU\ngain = 5.6  # e-/ADU\n# calibrate_sky_flats_to_gain(flats_dir)\ncalibrate_sky_flats_to_k(flats_dir, gain, read_noise)"
      ]
    }
  ],
  "metadata": {
    "kernelspec": {
      "display_name": "Python 3",
      "language": "python",
      "name": "python3"
    },
    "language_info": {
      "codemirror_mode": {
        "name": "ipython",
        "version": 3
      },
      "file_extension": ".py",
      "mimetype": "text/x-python",
      "name": "python",
      "nbconvert_exporter": "python",
      "pygments_lexer": "ipython3",
      "version": "3.11.10"
    }
  },
  "nbformat": 4,
  "nbformat_minor": 0
}