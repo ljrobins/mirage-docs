{
  "cells": [
    {
      "cell_type": "markdown",
      "metadata": {},
      "source": [
        "\n# Airy Disk Diffraction\nPlotting the Airy disk diffraction pattern\n"
      ]
    },
    {
      "cell_type": "code",
      "execution_count": null,
      "metadata": {
        "collapsed": false
      },
      "outputs": [],
      "source": [
        "import matplotlib.pyplot as plt\nimport numpy as np\n\nimport mirage as mr\nimport mirage.vis as mrv\n\n# Parameters\ntelescope = mr.Telescope(preset='pogs')\ntelescope.sensor_pixels = 1000\ntelescope.pixel_scale = 0.05 / 20\n\nobj_pos = (\n    telescope.sensor_pixels // 2 + np.random.rand(),\n    telescope.sensor_pixels // 2 + np.random.rand(),\n)\nx_pix, y_pix = np.meshgrid(\n    np.arange(telescope.sensor_pixels), np.arange(telescope.sensor_pixels)\n)\nr_dist = np.sqrt((x_pix - obj_pos[0]) ** 2 + (y_pix - obj_pos[1]) ** 2)\ntheta_grid_rad = mr.dms_to_rad(0, 0, r_dist * telescope.pixel_scale)\n\nmr.tic()\ntotal_counts = 1\npattern = telescope.airy_disk_pattern(total_counts, theta_grid_rad, 550)\nmr.toc()\n\n\n# Visualize the Airy disk on the CCD grid\nplt.imshow(\n    np.log10(pattern),\n    cmap='gray',\n    extent=[x_pix.min(), x_pix.max(), y_pix.min(), y_pix.max()],\n)\nplt.title('Airy Disk on CCD Grid')\nplt.xlabel('Pixels (x)')\nplt.ylabel('Pixels (y)')\nplt.colorbar(label='Logarithmic Intensity', cax=mrv.get_cbar_ax())\nplt.clim(-8, np.max(np.log10(pattern)))\nplt.show()"
      ]
    },
    {
      "cell_type": "markdown",
      "metadata": {},
      "source": [
        "Plotting the same pattern at a range of wavelengths\n\n"
      ]
    },
    {
      "cell_type": "code",
      "execution_count": null,
      "metadata": {
        "collapsed": false
      },
      "outputs": [],
      "source": [
        "wavelengths = np.linspace(400, 700, 10)\nplt.figure(figsize=(6, 6))\npattern = np.zeros((pattern.shape[0], pattern.shape[1], 3))\nfor wavelength in wavelengths:\n    rgb_at_wavelength = mrv.wavelength_to_rgb(wavelength)\n    wavelength_pattern = telescope.airy_disk_pattern(1e5, theta_grid_rad, wavelength)\n    pattern += (\n        wavelength_pattern[..., np.newaxis]\n        * rgb_at_wavelength.reshape(1, 1, 3).astype(float)\n        / wavelengths.size\n    )\n\nplt.imshow(\n    np.log10(pattern) / np.max(np.log10(pattern)),\n    extent=[x_pix.min(), x_pix.max(), y_pix.min(), y_pix.max()],\n)\nmrv.texit(\n    'CCD Diffraction by Wavelength - Log Brightness',\n    'Pixels (x)',\n    'Pixels (y)',\n    grid=False,\n)\nplt.show()"
      ]
    },
    {
      "cell_type": "markdown",
      "metadata": {},
      "source": [
        "Plotting the same diffraction pattern at a range of wavelengths, weighted by the CCD quantum efficiency and Sun irradiance spectrum\n\n"
      ]
    },
    {
      "cell_type": "code",
      "execution_count": null,
      "metadata": {
        "collapsed": false
      },
      "outputs": [],
      "source": [
        "plt.figure(figsize=(6, 6))\npattern = np.zeros((pattern.shape[0], pattern.shape[1], 3))\nfor wavelength in wavelengths:\n    rgb_at_wavelength = mrv.wavelength_to_rgb(wavelength)\n    wavelength_pattern = (\n        telescope.ccd.quantum_efficiency(wavelength)\n        * telescope.airy_disk_pattern(1, theta_grid_rad, wavelength)\n        * mr.sun_spectrum(wavelength)\n    )\n    pattern += (\n        wavelength_pattern[..., np.newaxis]\n        * rgb_at_wavelength.reshape(1, 1, 3)\n        / wavelengths.size\n    )\npattern /= pattern.max()\nplt.imshow(pattern, extent=[x_pix.min(), x_pix.max(), y_pix.min(), y_pix.max()])\nmrv.texit('CCD Diffraction - Sun Spectrum', 'Pixels (x)', 'Pixels (y)', grid=False)\nplt.show()"
      ]
    }
  ],
  "metadata": {
    "kernelspec": {
      "display_name": "Python 3",
      "language": "python",
      "name": "python3"
    },
    "language_info": {
      "codemirror_mode": {
        "name": "ipython",
        "version": 3
      },
      "file_extension": ".py",
      "mimetype": "text/x-python",
      "name": "python",
      "nbconvert_exporter": "python",
      "pygments_lexer": "ipython3",
      "version": "3.11.10"
    }
  },
  "nbformat": 4,
  "nbformat_minor": 0
}