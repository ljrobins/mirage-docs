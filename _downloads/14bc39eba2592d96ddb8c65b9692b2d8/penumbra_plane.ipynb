{
  "cells": [
    {
      "cell_type": "markdown",
      "metadata": {},
      "source": [
        "\n# Penumbra Visualized\n\nVisualizing the penumbra and umbra of the Earth's shadow.\n"
      ]
    },
    {
      "cell_type": "code",
      "execution_count": null,
      "metadata": {
        "collapsed": false
      },
      "outputs": [],
      "source": [
        "import numpy as np\nimport pyvista as pv\n\nimport mirage as mr\nimport mirage.vis as mrv\n\ndate = mr.utc(2022, 12, 21)\n\nglim = 80e3\ndim = 3000\ngrid_space = np.linspace(-glim, glim, dim)\ngxx, gzz = np.meshgrid(grid_space, grid_space)\n\nrotm = mr.eci_to_sun_ec(date)\ngpts = np.vstack((gxx.flatten(), 0 * gxx.flatten(), gzz.flatten())).T\ngpts = gpts @ rotm.squeeze()\n\nmr.AstroConstants.sun_r_eq *= 10\nmr.tic()\nf_shadow = 1 - mr.sun_irradiance_fraction(date, gpts)\nmr.toc()\n\npl = pv.Plotter(window_size=(1600, 800))\nmrv.plot_earth(pl, date=date)\nmrv.scatter3(\n    pl,\n    gpts,\n    scalars=f_shadow,\n    point_size=8,\n    lighting=False,\n    cmap='bmy_r',\n    opacity=(f_shadow > 0) * 1,\n    scalar_bar_args={'title': 'Shadow Fraction'},\n)\npl.view_xz()\npl.camera.up = np.array([0, 0, -1]) @ rotm.squeeze()\npl.camera.position = np.array([0e3, -40e3, 0]) @ rotm.squeeze()\n\n# shift = np.array([-30e4, 0, 0]) @ rotm.squeeze()\n# pl.camera.position += shift\n# pl.camera.focal_point += shift\npl.camera.zoom(1.2)\npl.set_background('white')\n# pl.disable_parallel_projection()\npl.show()"
      ]
    }
  ],
  "metadata": {
    "kernelspec": {
      "display_name": "Python 3",
      "language": "python",
      "name": "python3"
    },
    "language_info": {
      "codemirror_mode": {
        "name": "ipython",
        "version": 3
      },
      "file_extension": ".py",
      "mimetype": "text/x-python",
      "name": "python",
      "nbconvert_exporter": "python",
      "pygments_lexer": "ipython3",
      "version": "3.12.7"
    }
  },
  "nbformat": 4,
  "nbformat_minor": 0
}