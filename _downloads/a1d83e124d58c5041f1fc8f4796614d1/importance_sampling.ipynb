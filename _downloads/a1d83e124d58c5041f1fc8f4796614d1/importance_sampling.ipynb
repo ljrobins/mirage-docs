{
  "cells": [
    {
      "cell_type": "markdown",
      "metadata": {},
      "source": [
        "\n# Importance Sampling\nReducing the variance of Monte Carlo integration\n"
      ]
    },
    {
      "cell_type": "code",
      "execution_count": null,
      "metadata": {
        "collapsed": false
      },
      "outputs": [],
      "source": [
        "import matplotlib.pyplot as plt\nimport numpy as np\nimport sympy as sp\nfrom scipy.stats.sampling import TransformedDensityRejection"
      ]
    },
    {
      "cell_type": "markdown",
      "metadata": {},
      "source": [
        "Let's say we want to estimate the integral of an unknown function $f(x)$\n\n"
      ]
    },
    {
      "cell_type": "code",
      "execution_count": null,
      "metadata": {
        "collapsed": false
      },
      "outputs": [],
      "source": [
        "x = sp.symbols('x')\nf_symbolic = sp.sin(np.pi * x)\nbounds = (0, 1)\nf = sp.lambdify(x, f_symbolic)\nxs = np.linspace(*bounds, 1000)\n\nplt.plot(xs, f(xs))\nplt.grid()\nplt.title('f(x)')\nplt.xlabel('x')\nplt.show()"
      ]
    },
    {
      "cell_type": "markdown",
      "metadata": {},
      "source": [
        "We can analytically compute the integral of this function\n\n"
      ]
    },
    {
      "cell_type": "code",
      "execution_count": null,
      "metadata": {
        "collapsed": false
      },
      "outputs": [],
      "source": [
        "int_symbolic = sp.integrate(f_symbolic, (x, 0, 1))\nprint(f'The analytic integral is {int_symbolic:.4f}')"
      ]
    },
    {
      "cell_type": "markdown",
      "metadata": {},
      "source": [
        "A naive attempt at Monte Carlo integration would be to uniformly take samples of the function over the integral and average them\n\n"
      ]
    },
    {
      "cell_type": "code",
      "execution_count": null,
      "metadata": {
        "collapsed": false
      },
      "outputs": [],
      "source": [
        "n = 10  # number of samples\nf_of_x_naive = f(np.random.rand(n))\nint_naive = f_of_x_naive.sum() / n\npercent_error_naive = (int_naive - int_symbolic) / int_symbolic * 100\n\nprint(\n    f'The naive Monte Carlo integral is {int_naive:.4f}, {percent_error_naive:.2f}% error'\n)"
      ]
    },
    {
      "cell_type": "markdown",
      "metadata": {},
      "source": [
        "The fundamental idea of importance sampling is that our Monte Carlo result will be better if we take samples from a distribution that looks like the true function, dividing each sample by its pdf likelihood. To accomplish this, let's select a pdf that might help\n\n"
      ]
    },
    {
      "cell_type": "code",
      "execution_count": null,
      "metadata": {
        "collapsed": false
      },
      "outputs": [],
      "source": [
        "class NewPdf:\n    def pdf(self, x: float) -> float:\n        # Note that this is slightly\n        return -6 * x**2 + 6 * x\n\n    def dpdf(self, x: float) -> float:\n        return -12 * x + 6\n\n\ndist = NewPdf()\npdf = TransformedDensityRejection(\n    dist, random_state=np.random.default_rng(), domain=[0, 1]\n)"
      ]
    },
    {
      "cell_type": "markdown",
      "metadata": {},
      "source": [
        "Let's try Monte Carlo integration again with the new pdf\n\n"
      ]
    },
    {
      "cell_type": "code",
      "execution_count": null,
      "metadata": {
        "collapsed": false
      },
      "outputs": [],
      "source": [
        "xs_sample = pdf.rvs(n)\nint_importance = (f(xs_sample) / dist.pdf(xs_sample)).sum() / n\npercent_error_importance = (int_importance - int_symbolic) / int_symbolic * 100\n\nprint(\n    f'The importance sampled integral is {int_importance:.4f}, {percent_error_importance:.2f}% error'\n)"
      ]
    },
    {
      "cell_type": "markdown",
      "metadata": {},
      "source": [
        "Let's take a look at the points we sampled\n\n"
      ]
    },
    {
      "cell_type": "code",
      "execution_count": null,
      "metadata": {
        "collapsed": false
      },
      "outputs": [],
      "source": [
        "true_pdf = f(xs) / int_symbolic\nplt.figure()\nplt.plot(xs, true_pdf)\nplt.plot(xs, dist.pdf(xs))\nplt.scatter(xs_sample, 0 * xs_sample, s=5, alpha=0.2)\nplt.grid()\nplt.title('probability')\nplt.xlabel('x')\nplt.legend(['true pdf', 'approximate pdf', 'samples'])\nplt.show()"
      ]
    }
  ],
  "metadata": {
    "kernelspec": {
      "display_name": "Python 3",
      "language": "python",
      "name": "python3"
    },
    "language_info": {
      "codemirror_mode": {
        "name": "ipython",
        "version": 3
      },
      "file_extension": ".py",
      "mimetype": "text/x-python",
      "name": "python",
      "nbconvert_exporter": "python",
      "pygments_lexer": "ipython3",
      "version": "3.11.9"
    }
  },
  "nbformat": 4,
  "nbformat_minor": 0
}