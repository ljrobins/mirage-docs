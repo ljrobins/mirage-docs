{
  "cells": [
    {
      "cell_type": "markdown",
      "metadata": {},
      "source": [
        "\n# Noise Addition Methods\n\nShowing that adding noise directly to apparent magnitudes is a bad idea\n"
      ]
    },
    {
      "cell_type": "code",
      "execution_count": null,
      "metadata": {
        "collapsed": false
      },
      "outputs": [],
      "source": [
        "import matplotlib.pyplot as plt\nimport numpy as np\n\nimport mirage as mr\n\nirrad = 1e-10 * np.ones(int(1e6))\nm = mr.irradiance_to_apparent_magnitude(irrad)\nsigma = 0.5\n\nm += np.random.normal(loc=0 * m, scale=sigma)\nirrad_m = mr.apparent_magnitude_to_irradiance(m)\n\nerr_m = (irrad_m - irrad) / irrad * 100\nmir = np.mean(err_m)\nprint(f'The mean error percent is nonzero: {mir}')\nprint(f'Notice that the median error is approximately zero: {np.median(err_m)}')\n\nplt.hist(err_m, bins=100, alpha=0.5, density=True)\nplt.vlines([mir, mir], *plt.ylim(), label=f'Mean error {mir:.2f}%')\nplt.xlabel('Percent error')\nplt.title(f'Gaussian noise ($\\sigma={sigma}$) applied to magnitudes')\nplt.ylabel('Probability density')\nplt.grid()\nplt.legend()\nplt.tight_layout()\nplt.show()"
      ]
    }
  ],
  "metadata": {
    "kernelspec": {
      "display_name": "Python 3",
      "language": "python",
      "name": "python3"
    },
    "language_info": {
      "codemirror_mode": {
        "name": "ipython",
        "version": 3
      },
      "file_extension": ".py",
      "mimetype": "text/x-python",
      "name": "python",
      "nbconvert_exporter": "python",
      "pygments_lexer": "ipython3",
      "version": "3.12.7"
    }
  },
  "nbformat": 4,
  "nbformat_minor": 0
}