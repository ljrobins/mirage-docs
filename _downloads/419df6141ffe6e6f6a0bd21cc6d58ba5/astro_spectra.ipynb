{
  "cells": [
    {
      "cell_type": "markdown",
      "metadata": {},
      "source": [
        "\n# Astronomical Spectra\n\nA few useful spectra for simulating CCD measurements\n"
      ]
    },
    {
      "cell_type": "code",
      "execution_count": null,
      "metadata": {
        "collapsed": false
      },
      "outputs": [],
      "source": [
        "import matplotlib.pyplot as plt\nimport numpy as np\n\nimport mirage as mr\nimport mirage.vis as mrv\n\nltest = np.linspace(370, 1050, int(1e4))\n\ntee = mr.atmospheric_transmission(ltest, 0, 0)\nccd = mr.ChargeCoupledDevice(preset='pogs')\nqe = ccd.quantum_efficiency(ltest)\nzm = mr.proof_zero_mag_stellar_spectrum(ltest)\nsm = mr.sun_spectrum(ltest)\n\n\nspectra_cols = ['C0', 'C1', 'C2', 'C3']\n\nlabels = [\n    ('Atmospheric transmission', 'nondim'),\n    ('Solar spectrum', r'$\\left[ \\frac{W}{m^2 \\cdot nm} \\right]$'),\n    ('Quantum efficiency', r'$\\left[ \\frac{W}{m^2 \\cdot nm} \\right]$'),\n    ('Zero magnitude spectrum', r'$\\left[ \\frac{e^{-}}{\\text{photon}} \\right]$'),\n]\n\nplt.figure(figsize=(8, 6))\nfor i, (col, y) in enumerate(zip(spectra_cols, [tee, sm, qe, zm])):\n    plt.subplot(2, 2, i + 1)\n    plt.plot(ltest, y, color=col)\n    plt.fill_between(ltest, y, color=col, alpha=0.1, label='_nolegend_')\n    mrv.texit(labels[i][0], 'Wavelength [nm]', labels[i][1])\n\nplt.tight_layout()\nplt.show()"
      ]
    }
  ],
  "metadata": {
    "kernelspec": {
      "display_name": "Python 3",
      "language": "python",
      "name": "python3"
    },
    "language_info": {
      "codemirror_mode": {
        "name": "ipython",
        "version": 3
      },
      "file_extension": ".py",
      "mimetype": "text/x-python",
      "name": "python",
      "nbconvert_exporter": "python",
      "pygments_lexer": "ipython3",
      "version": "3.11.9"
    }
  },
  "nbformat": 4,
  "nbformat_minor": 0
}