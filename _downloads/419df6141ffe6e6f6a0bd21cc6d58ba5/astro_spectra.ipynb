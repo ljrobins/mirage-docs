{
  "cells": [
    {
      "cell_type": "markdown",
      "metadata": {},
      "source": [
        "\n# Astronomical Spectra\n\nA few useful spectra for simulating CCD measurements\n"
      ]
    },
    {
      "cell_type": "code",
      "execution_count": null,
      "metadata": {
        "collapsed": false
      },
      "outputs": [],
      "source": [
        "import os\n\nimport matplotlib.pyplot as plt\nimport numpy as np\nfrom astropy.io import fits\n\nimport mirage as mr\nimport mirage.vis as mrv\n\nltest = np.linspace(300, 1050, int(1e4))\n\ntee = mr.atmospheric_transmission(ltest, 0, 0)\nccd = mr.ChargeCoupledDevice(preset='pogs')\nqe = ccd.quantum_efficiency(ltest)\nzm = mr.proof_zero_mag_stellar_spectrum(ltest)\nsm = mr.sun_spectrum(ltest)\n\nar = mr.airglow_radiance(ltest) * 1e-9\n\n\nlabels = [\n    ('Atmospheric transmission', 'nondim'),\n    ('Solar spectrum', r'$\\left[ \\frac{W}{m^2 \\cdot nm} \\right]$'),\n    ('Quantum efficiency', r'$\\left[ \\frac{W}{m^2 \\cdot nm} \\right]$'),\n    ('Zero magnitude spectrum', r'$\\left[ \\frac{W}{m^2 \\cdot nm } \\right]$'),\n    ('Airglow radiance', r'$\\left[ \\frac{W}{m^2 \\cdot nm \\cdot \\text{ster}} \\right]$'),\n]\n\nspecs = [tee, sm, qe, zm, ar]\nspectra_cols = [f'C{i}' for i in range(len(specs))]\n\nplt.figure(figsize=(8, 6))\nfor i, (col, y) in enumerate(zip(spectra_cols, specs)):\n    plt.subplot(2, 3, i + 1)\n    plt.plot(ltest, y, color=col)\n    plt.fill_between(ltest, y, color=col, alpha=0.1, label='_nolegend_')\n    mrv.texit(labels[i][0], 'Wavelength [nm]', labels[i][1])\n    plt.xlim(ltest.min(), ltest.max())\n    plt.ylim(0, plt.ylim()[1])\n\nplt.tight_layout()\nplt.show()"
      ]
    },
    {
      "cell_type": "markdown",
      "metadata": {},
      "source": [
        "Loading and plotting the Vega (Alpha Lyrae) spectrum\n\n"
      ]
    },
    {
      "cell_type": "code",
      "execution_count": null,
      "metadata": {
        "collapsed": false
      },
      "outputs": [],
      "source": [
        "vega_spec_path = os.path.join(os.environ['DATADIR'], 'stars', 'alpha_lyr_mod_004.fits')\nif not os.path.exists(vega_spec_path):\n    mr.save_file_from_url(\n        'https://archive.stsci.edu/hlsps/reference-atlases/cdbs/current_calspec/alpha_lyr_mod_004.fits',\n        os.path.join(os.environ['DATADIR'], 'stars'),\n    )\n\nwith fits.open(vega_spec_path) as hdul:\n    # https://archive.stsci.edu/hlsps/reference-atlases/cdbs/current_calspec/\n    data = np.vstack(hdul[1].data)\n    lambdas = data[:, 0] / 10\n    flux = data[:, 1]\n    valid = (lambdas > 300) & (lambdas < 1200)\n    flux = (\n        flux[valid] / 1e2\n    )  # converting from erg / s / cm^2 / Angstrom to W / m^2 / nm\n    lambdas = lambdas[valid]\n    np.savez(\n        os.path.join(os.environ['DATADIR'], 'stars', 'vega_spectrum.npz'),\n        lambdas=lambdas,\n        flux=flux,\n    )\n\ny = mr.vega_spectrum(lambdas)\nplt.plot(lambdas, y)\nplt.xlabel('Wavelength [nm]')\nplt.ylabel('Flux [W / m^2 / nm]')\nplt.title('Vega Spectrum')\nplt.grid()\nplt.xlim(300, 1200)\nplt.ylim(0, 1.02 * np.max(y))\nplt.tight_layout()\nplt.show()"
      ]
    }
  ],
  "metadata": {
    "kernelspec": {
      "display_name": "Python 3",
      "language": "python",
      "name": "python3"
    },
    "language_info": {
      "codemirror_mode": {
        "name": "ipython",
        "version": 3
      },
      "file_extension": ".py",
      "mimetype": "text/x-python",
      "name": "python",
      "nbconvert_exporter": "python",
      "pygments_lexer": "ipython3",
      "version": "3.12.7"
    }
  },
  "nbformat": 4,
  "nbformat_minor": 0
}