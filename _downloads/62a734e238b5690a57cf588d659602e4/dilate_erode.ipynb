{
  "cells": [
    {
      "cell_type": "markdown",
      "metadata": {},
      "source": [
        "\n# Dilation and Erosion\nDemonstrating how the binary image operations dilation and erosion can be used to build smooth background masks when the background is very noisy\n"
      ]
    },
    {
      "cell_type": "code",
      "execution_count": null,
      "metadata": {
        "collapsed": false
      },
      "outputs": [],
      "source": [
        "import cv2\nimport matplotlib.pyplot as plt\nimport numpy as np\nimport pyvista as pv\n\nfreq = np.array([0.689, 0.562, 0.683]) / 1.3\nnoise = pv.perlin_noise(1, freq, (0, 0, 0))\nn = 150\nnoise_power = 1e-1\ndim = (n, n)\nsampled = pv.sample_function(noise, bounds=(-10, 10, -10, 10, -10, 10), dim=(*dim, 1))\nz = sampled.active_scalars.reshape(dim).squeeze()\nz += np.random.randn(*dim) * noise_power\n\nopen_size = 5\nblur_size = 5\nn_frames = 10\n\nim = (z < 0).astype(np.uint8)\n\nplt.figure(figsize=(10, 4))\nplt.subplot(1, 3, 1)\nplt.imshow(im, interpolation='nearest', cmap='gray')\nplt.title('1. Naive Mask')\nplt.subplot(1, 3, 2)\nim = cv2.erode(im, np.ones((open_size, open_size), np.uint8), iterations=1)\nim = cv2.dilate(im, np.ones((open_size, open_size), np.uint8), iterations=1)\nplt.imshow(im, interpolation='nearest', cmap='gray')\nplt.title('2. Erosion & Dilation')\nplt.subplot(1, 3, 3)\nim = cv2.medianBlur(im, ksize=open_size)\nplt.imshow(im, interpolation='nearest', cmap='gray')\nplt.title('3. Median filter')\nplt.tight_layout()\n\nfor ax in plt.gcf().get_axes():\n    ax.set_xticks([])\n    ax.set_yticks([])\n\nplt.show()"
      ]
    }
  ],
  "metadata": {
    "kernelspec": {
      "display_name": "Python 3",
      "language": "python",
      "name": "python3"
    },
    "language_info": {
      "codemirror_mode": {
        "name": "ipython",
        "version": 3
      },
      "file_extension": ".py",
      "mimetype": "text/x-python",
      "name": "python",
      "nbconvert_exporter": "python",
      "pygments_lexer": "ipython3",
      "version": "3.11.10"
    }
  },
  "nbformat": 4,
  "nbformat_minor": 0
}