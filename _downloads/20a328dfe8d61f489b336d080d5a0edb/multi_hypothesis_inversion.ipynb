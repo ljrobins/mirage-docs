{
  "cells": [
    {
      "cell_type": "markdown",
      "metadata": {},
      "source": [
        "\n# Multiple Hypothesis Inversion\nInverting convex shapes from light curves with uncertainty\n"
      ]
    },
    {
      "cell_type": "code",
      "execution_count": null,
      "metadata": {
        "collapsed": false
      },
      "outputs": [],
      "source": [
        "import numpy as np\n\nimport mirage as mr\n\nitensor = np.diag([1.0, 2.0, 3.0])\nw0 = 1e-1 * mr.hat(np.array([[0.1, 2.0, 0.1]]))\nq0 = np.array([[0.0, 0.0, 0.0, 1.0]])\nidate = mr.utc(2023, 1, 1, 5)\nobs_time = mr.hours(3)\nobs_dt = mr.seconds(10)\npl_shape = (2, 1)\nnights = np.prod(pl_shape)\nlw = 3\n\n\n# station = mr.Station(preset=\"pogs\")\n# brdf = mr.Brdf(name=\"phong\", cd=0.5, cs=0.5, n=5)\n# brdf_inversion = brdf\n# # brdf_inversion = mr.Brdf(name='phong', cd=1, cs=0.0, n=5)\n# attitude = mr.RbtfAttitude(w0=w0, q0=q0, itensor=itensor)\n\n# dates = []\n# epsecs = []\n# for i in range(nights):\n#     d = mr.date_arange(idate, idate + obs_time, obs_dt)\n#     dates.append(d)\n#     idate += mr.days(1)\n# dates = np.concatenate(dates)\n# epsecs = np.array([(d - dates[0]).total_seconds() for d in dates])\n\n# q_of_t, w_of_t = attitude.propagate(epsecs)\n# model_scale_factor = 10.0\n\n# for obj_file in ['collapsed_cube.obj']:\n#     obj = mr.SpaceObject(obj_file).clean()\n#     obj.sat.satnum = 36411 # goes 15\n#     obj.shift_to_center_of_mass()\n\n#     # mrv.vis_attitude_motion(obj, q_of_t)\n#     # endd\n\n#     lc_ccd_signal_sampler, aux_data = station.observe_light_curve(\n#         obj, attitude, brdf, dates, use_engine=True, model_scale_factor=model_scale_factor\n#     )\n\n#     sun_body = aux_data[\"sun_vector_object_body\"]\n#     obs_body = aux_data[\"observer_vector_object_body\"]\n\n#     sint = aux_data[\"sint\"]\n#     lc_hat = aux_data[\"lc_clean_norm\"]\n#     constr = aux_data[\"all_constraints_satisfied\"]\n#     br_mean = aux_data[\"background_mean\"]\n#     airy_disk_pixels = aux_data[\"airy_disk_pixels\"]\n#     obs_to_moon = aux_data[\"obs_to_moon\"]\n#     lc_clean = aux_data[\"lc_clean\"]\n#     snr = aux_data[\"snr\"]\n\n#     # plt.figure(figsize=(7, 5))\n#     lcs_noisy_adu = np.array([lc_ccd_signal_sampler() for _ in range(1000)])\n#     lcs_noisy_irrad = lcs_noisy_adu / (\n#         aux_data[\"sint\"] * station.telescope.integration_time\n#     )\n#     lcs_noisy_unit_irrad = (\n#         lcs_noisy_irrad\n#         * (aux_data[\"rmag_station_to_sat\"] * 1e3) ** 2\n#         / mr.AstroConstants.sun_irradiance_vacuum\n#     )\n\n#     pl = pv.Plotter(shape=pl_shape)\n#     rec_objs = []\n#     lc_sampled = lcs_noisy_adu[0, :]\n#     lc = lcs_noisy_unit_irrad[0, :]\n#     for i in range(nights):\n#         inds = (np.array([i, i + 1]) / nights * lc.size).astype(int)\n\n#         lc_this = lc[inds[0] : inds[1]]\n#         sun_body_this = sun_body[inds[0] : inds[1], :]\n#         obs_body_this = obs_body[inds[0] : inds[1], :]\n\n#         egi_opt_initial, egi_opt = mr.optimize_egi(\n#             # lc_this / np.max(lc_this),\n#             lc_this,\n#             sun_body_this,\n#             obs_body_this,\n#             brdf_inversion,\n#             merge_iter=2,\n#             merge_angle=np.pi / 8,\n#             return_all=True,\n#         )\n\n#         # Inversion\n#         rec_obj = mr.construct_mesh_from_egi(mr.close_egi(egi_opt))\n#         # rec_obj = mr.SpaceObject(vertices_and_faces=(rec_obj.v / model_scale_factor, rec_obj.f))\n#         rec_obj = rec_obj.introduce_concavity(\n#             -mr.hat(np.sum(egi_opt_initial, axis=0)),\n#             np.random.uniform(0, 60) if np.random.rand() > 0.5 else 0,\n#             # 60,\n#             linear_iter=3,\n#             loop_iter=0,\n#         )\n#         rec_obj.shift_to_center_of_mass()\n#         rec_objs.append(rec_obj)\n\n#     err = []\n#     for i,rec_obj in enumerate(rec_objs):\n#         lc_hat = (\n#             mr.run_light_curve_engine(brdf, rec_obj, sun_body, obs_body)\n#         )\n#         err.append(np.linalg.norm(lc_hat - lc))\n#         print(f\"Error for night {i+1}: {err[-1]:.2e}\")\n#     err = np.array(err)\n#     weights = (1 - (err - np.min(err)) / (np.max(err) - np.min(err))) ** 2\n\n#     fu_lambdas = []\n#     for i, rec_obj in enumerate(rec_objs):\n#         inds = (np.array([i, i + 1]) / nights * lc.size).astype(int)\n\n#         lc_this = lc[inds[0] : inds[1]]\n#         sun_body_this = sun_body[inds[0] : inds[1], :]\n#         obs_body_this = obs_body[inds[0] : inds[1], :]\n#         snr_this = snr[inds[0] : inds[1]]\n\n#         print(f\"Computing face uncertainty {i+1}/{len(rec_objs)}\")\n\n#         fu = mr.face_uncertainty(rec_obj, sun_body_this, obs_body_this, brdf, lc_this)\n#         fu_lambdas.append(mr.SphericalWeight(rec_obj.unique_normals, (1-fu[rec_obj.all_to_unique]) * weights[i]))\n#         az,el,_ = mr.cart_to_sph(*rec_obj.face_normals.T)\n#         pl.subplot(i // pl_shape[0], i % pl_shape[1])\n#         # pv.plotting.opts.InterpolationType(0)\n#         mrv.render_spaceobject(pl, rec_obj, opacity=0.7)\n#         mrv.render_spaceobject(pl, obj, style=\"wireframe\", color=\"r\", line_width=lw)\n#         pl.add_text(\n#             f\"Night {i+1}\",\n#             font=\"courier\",\n#         )\n\n#         # az,el = np.meshgrid(np.linspace(0,2*np.pi,1000), np.linspace(-np.pi/2,np.pi/2,1000))\n#         # mr.tic()\n#         # vals = fu_lambdas[-1](az.flatten(), el.flatten()).reshape(az.shape)\n#         # plt.imshow(vals, extent=[0,2*np.pi,-np.pi/2,np.pi/2], origin='lower', cmap='cividis', aspect='auto')\n#         # mrv.texit(f\"Face Uncertainty Map\", \"Azimuth (rad)\", \"Elevation (rad)\", grid=True)\n#         # plt.colorbar()\n#         # mr.toc()\n#         # plt.show()\n\n#     pl.show()\n\n#     # %%\n#     # Merging the guesses and testing new error\n\n#     merged_obj = mr.merge_shapes(rec_objs, fu_lambdas)\n\n#     pl = pv.Plotter()\n#     mrv.render_spaceobject(pl, merged_obj, opacity=0.7)\n#     mrv.render_spaceobject(pl, obj, style=\"wireframe\", color=\"r\", line_width=lw)\n#     pl.add_text(\n#         f\"Merged Guess\",\n#         font=\"courier\",\n#     )\n#     # mrv.render_spaceobject(pl, rec_objs[0], style=\"wireframe\", color=\"b\")\n#     pl.show()\n\n#     lc_hat = (\n#         mr.run_light_curve_engine(brdf, merged_obj, sun_body, obs_body)\n#         * model_scale_factor**2\n#     )\n#     err = np.linalg.norm(lc_hat - lc)\n#     print(f\"New Error: {err:.2e}\")"
      ]
    }
  ],
  "metadata": {
    "kernelspec": {
      "display_name": "Python 3",
      "language": "python",
      "name": "python3"
    },
    "language_info": {
      "codemirror_mode": {
        "name": "ipython",
        "version": 3
      },
      "file_extension": ".py",
      "mimetype": "text/x-python",
      "name": "python",
      "nbconvert_exporter": "python",
      "pygments_lexer": "ipython3",
      "version": "3.11.9"
    }
  },
  "nbformat": 4,
  "nbformat_minor": 0
}