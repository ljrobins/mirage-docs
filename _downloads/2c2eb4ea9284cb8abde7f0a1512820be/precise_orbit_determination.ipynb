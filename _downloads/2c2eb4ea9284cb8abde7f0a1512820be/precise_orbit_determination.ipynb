{
  "cells": [
    {
      "cell_type": "markdown",
      "metadata": {},
      "source": [
        "\n# Precise Orbit Determination with Batch Least Squares\n"
      ]
    },
    {
      "cell_type": "code",
      "execution_count": null,
      "metadata": {
        "collapsed": false
      },
      "outputs": [],
      "source": [
        "import datetime\nfrom typing import Callable\n\nimport numpy as np\n\nimport mirage as mr"
      ]
    },
    {
      "cell_type": "markdown",
      "metadata": {},
      "source": [
        "First, let's define a station and a truth object\n\n"
      ]
    },
    {
      "cell_type": "code",
      "execution_count": null,
      "metadata": {
        "collapsed": false
      },
      "outputs": [],
      "source": [
        "station = mr.Station()\nobj = mr.SpaceObject('cube.obj', identifier=36411)"
      ]
    },
    {
      "cell_type": "markdown",
      "metadata": {},
      "source": [
        "Let's create three line of sight observations of the object\n\n"
      ]
    },
    {
      "cell_type": "code",
      "execution_count": null,
      "metadata": {
        "collapsed": false
      },
      "outputs": [],
      "source": [
        "dates_iod = mr.date_linspace(mr.now(), mr.now() + mr.minutes(1), 3)\nlhats_iod = station.object_line_of_sight(obj, dates_iod, apparent=False)\nras_rad, decs_rad = mr.eci_to_ra_dec(lhats_iod)\nrv2 = mr.gauss_iod(station, dates_iod, ras_rad, decs_rad)"
      ]
    },
    {
      "cell_type": "markdown",
      "metadata": {},
      "source": [
        "Now we collect a lot more observations\n\n"
      ]
    },
    {
      "cell_type": "code",
      "execution_count": null,
      "metadata": {
        "collapsed": false
      },
      "outputs": [],
      "source": [
        "dates_pod = mr.date_arange(mr.now(), mr.now() + mr.hours(1), mr.seconds(20))\nlhats_pod = station.object_line_of_sight(obj, dates_pod, apparent=False)\nras_rad, decs_rad = mr.eci_to_ra_dec(lhats_pod)"
      ]
    },
    {
      "cell_type": "markdown",
      "metadata": {},
      "source": [
        "Let's compute the H matrix for this observation set. We know that the H matrix is defined as the partial derivatives of the observations with respect to the state vector.\n\n"
      ]
    },
    {
      "cell_type": "code",
      "execution_count": null,
      "metadata": {
        "collapsed": false
      },
      "outputs": [],
      "source": [
        "def angles_only_measurement_model(state: np.ndarray, dates: np.ndarray) -> np.ndarray:\n    assert (\n        (state.shape[0] == len(dates))\n        if isinstance(dates, np.ndarray)\n        else state.size == 6\n    ), 'state and dates must have the same number of rows'\n    r = state.reshape(-1, 6)[:, :3]\n    r_station = station.j2000_at_dates(dates)\n    r_station_to_sat = r - r_station\n    return np.concatenate(mr.eci_to_ra_dec(r_station_to_sat)).reshape(-1, 2)\n\n\ndef angles_only_measurement_model_jacobian(\n    state: np.ndarray, dates: np.ndarray\n) -> np.ndarray:\n    assert (\n        (state.shape[0] == len(dates))\n        if isinstance(dates, np.ndarray)\n        else state.size == 6\n    ), 'state and dates must have the same number of rows'\n    r = state.reshape(-1, 6)[:, :3]\n    r_station = station.j2000_at_dates(dates)\n    r_station_to_sat = r - r_station\n    wsq = mr.vecnorm(r_station_to_sat[:, :2]).flatten() ** 2\n    w = np.sqrt(wsq)\n    rho_sq = mr.vecnorm(r_station_to_sat).flatten() ** 2\n\n    zero = np.zeros_like(wsq)\n    H = np.array(\n        [\n            [-r[:, 1] / wsq, r[:, 0] / wsq, zero, zero, zero, zero],\n            [\n                -r[:, 0] * r[:, 2] / (w * rho_sq),\n                -r[:, 1] * r[:, 2] / (w * rho_sq),\n                w / rho_sq,\n                zero,\n                zero,\n                zero,\n            ],\n        ]\n    ).squeeze()\n\n    H2 = H.transpose(2, 0, 1)\n    H2 = H2.reshape(-1, 6)\n    return H2\n\n\ndef lumve(\n    measurements: np.ndarray,\n    dates: np.ndarray[datetime.datetime],\n    measurement_model: Callable,\n    measurement_model_jacobian: Callable,\n    initial_state: np.ndarray,\n    initial_covariance: np.ndarray,\n) -> np.ndarray:\n    xk = initial_state\n    Pk = initial_covariance\n    for _ in range(10):\n        states = mr.integrate_orbit_dynamics(xk, dates)\n        H = measurement_model_jacobian(states, dates)\n        K = Pk @ H.T @ np.linalg.inv(H @ Pk @ H.T)\n        Pk = (np.eye(6) - K @ H) @ Pk\n        # xk += K @ (measurements - measurement_model(states, dates))\n        xk += (\n            np.linalg.inv(H.T @ H)\n            @ H.T\n            @ (measurements - measurement_model(states, dates))\n        )\n    return xk, Pk"
      ]
    },
    {
      "cell_type": "markdown",
      "metadata": {},
      "source": [
        "Now let's run the batch least squares algorithm\n\n"
      ]
    },
    {
      "cell_type": "code",
      "execution_count": null,
      "metadata": {
        "collapsed": false
      },
      "outputs": [],
      "source": [
        "measurements = np.vstack(mr.eci_to_ra_dec(lhats_pod)).T\ninitial_covariance = np.eye(6) * 1e-6\ninitial_state = rv2\n# xk, Pk = lumve(\n#     measurements,\n#     dates_pod,\n#     angles_only_measurement_model,\n#     angles_only_measurement_model_jacobian,\n#     initial_state,\n#     initial_covariance,\n# )"
      ]
    }
  ],
  "metadata": {
    "kernelspec": {
      "display_name": "Python 3",
      "language": "python",
      "name": "python3"
    },
    "language_info": {
      "codemirror_mode": {
        "name": "ipython",
        "version": 3
      },
      "file_extension": ".py",
      "mimetype": "text/x-python",
      "name": "python",
      "nbconvert_exporter": "python",
      "pygments_lexer": "ipython3",
      "version": "3.11.10"
    }
  },
  "nbformat": 4,
  "nbformat_minor": 0
}