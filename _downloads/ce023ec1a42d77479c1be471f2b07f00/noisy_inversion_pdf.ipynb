{
  "cells": [
    {
      "cell_type": "markdown",
      "metadata": {},
      "source": [
        "\n# Inversion PDF\n\nEstimating the probability density function for the surface of the object\n"
      ]
    },
    {
      "cell_type": "code",
      "execution_count": null,
      "metadata": {
        "collapsed": false
      },
      "outputs": [],
      "source": [
        "import numpy as np\nimport pyvista as pv\n\nimport mirage as mr\nimport mirage.vis as mrv\n\nnper = 10\nheight = 500\nmodel_scale_factor = [0.2, 0.1, 0.05, 0.04]\npl = pv.Plotter(\n    shape=(1, len(model_scale_factor)),\n    window_size=(height * len(model_scale_factor), height),\n)\n\nitensor = np.diag([1.0, 2.0, 3.0])\nw0 = 0.1 * mr.hat(np.array([[1.0, 2.0, 1.0]]))\nq0 = np.array([0.0, 0.0, 0.0, 1.0])\nidate = mr.utc(2023, 3, 26, 10)\nobs_time = mr.hours(3)\nobs_dt = mr.seconds(10)\nintegration_time_s = obs_dt.total_seconds()\n\nobj = mr.SpaceObject('cube.obj', identifier='goes 15')\nstation = mr.Station(preset='pogs')\nbrdf = mr.Brdf(name='phong', cd=0.5, cs=0.5, n=10)\nattitude = mr.RbtfAttitude(w0=w0, q0=q0, itensor=itensor)\ndates, epsecs = mr.date_arange(idate, idate + obs_time, obs_dt, return_epsecs=True)\n\nq_of_t, w_of_t = attitude.propagate(epsecs)\ndcms_of_t = mr.quat_to_dcm(q_of_t)\n\nstation.constraints = [\n    mr.SnrConstraint(3),\n    mr.ElevationConstraint(10),\n    mr.TargetIlluminatedConstraint(),\n    mr.ObserverEclipseConstraint(station),\n    mr.VisualMagnitudeConstraint(18),\n    mr.MoonExclusionConstraint(10),\n]\n\nfor i, msf in enumerate(model_scale_factor):\n    pl.subplot(0, i)\n    lc_ccd_signal_sampler, aux_data = station.observe_light_curve(\n        obj,\n        attitude,\n        brdf,\n        dates,\n        integration_time_s,\n        use_engine=True,\n        model_scale_factor=msf,\n    )\n\n    sun_body = aux_data['sun_vector_object_body']\n    obs_body = aux_data['observer_vector_object_body']\n\n    sint = aux_data['sint']\n    lc_hat = aux_data['lc_clean_norm']\n    constr = aux_data['all_constraints_satisfied']\n    br_mean = aux_data['background_mean']\n    airy_disk_pixels = aux_data['airy_disk_pixels']\n    obs_to_moon = aux_data['obs_to_moon']\n    lc_clean = aux_data['lc_clean']\n    snr = aux_data['snr']\n    mean_snr = np.mean(snr)\n\n    pl.add_text(\n        f'Width {2*msf:.2f} m\\nSNR = {mean_snr:.1f}',\n        font_size=12,\n        font='courier',\n        position='upper_left',\n        color='k',\n    )\n\n    rec_objs = []\n    for _ in range(nper):\n        lc_ccd_signal = lc_ccd_signal_sampler()\n        lc_noisy_irrad = lc_ccd_signal / (aux_data['sint'] * integration_time_s)\n        lc_noisy_unit_irrad = (\n            lc_noisy_irrad\n            * (aux_data['rmag_station_to_sat'] * 1e3) ** 2\n            / mr.AstroConstants.sun_irradiance_vacuum\n        )\n\n        egi_opt_initial, egi_opt = mr.optimize_egi(\n            lc_noisy_unit_irrad[~lc_noisy_unit_irrad.mask],\n            sun_body[~lc_noisy_unit_irrad.mask, :],\n            obs_body[~lc_noisy_unit_irrad.mask, :],\n            brdf,\n            merge_iter=1,\n            merge_angle=np.pi / 6,\n            return_all=True,\n            num_candidates=1000,\n        )\n        rec_obj = mr.construct_mesh_from_egi(mr.close_egi(egi_opt))\n        rec_objs.append(rec_obj)\n\n    grid = mr.r3_grid(1.2 * np.max(mr.vecnorm(obj.v)), 150)\n\n    for i, rec_obj in enumerate(rec_objs):\n        rec_obj.file_name = f'rec_obj_{i}.obj'\n        mrv.render_spaceobject(\n            pl, rec_obj, opacity=0.3, feature_edges=True, line_width=2\n        )\n        mrv.scatter3(pl, rec_obj.v, color='k', point_size=5)\n    pl.disable_anti_aliasing()\n    pl.view_isometric()\n\n# pl.link_views()\npl.show()"
      ]
    }
  ],
  "metadata": {
    "kernelspec": {
      "display_name": "Python 3",
      "language": "python",
      "name": "python3"
    },
    "language_info": {
      "codemirror_mode": {
        "name": "ipython",
        "version": 3
      },
      "file_extension": ".py",
      "mimetype": "text/x-python",
      "name": "python",
      "nbconvert_exporter": "python",
      "pygments_lexer": "ipython3",
      "version": "3.11.10"
    }
  },
  "nbformat": 4,
  "nbformat_minor": 0
}