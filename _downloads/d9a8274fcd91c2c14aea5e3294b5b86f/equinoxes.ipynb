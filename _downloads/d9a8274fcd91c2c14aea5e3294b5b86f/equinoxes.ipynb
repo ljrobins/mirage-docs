{
  "cells": [
    {
      "cell_type": "markdown",
      "metadata": {},
      "source": [
        "\n# Equinoxes and Solstices\n\nVisualizes the transformation from ITRF to J2000 over the course of a day and at special points of the year, highlighting the importance of the spring equinox\n"
      ]
    },
    {
      "cell_type": "code",
      "execution_count": null,
      "metadata": {
        "collapsed": false
      },
      "outputs": [],
      "source": [
        "import datetime\n\nimport numpy as np\nimport pyvista as pv\n\nimport mirage as mr\nimport mirage.vis as mrv"
      ]
    },
    {
      "cell_type": "markdown",
      "metadata": {},
      "source": [
        "Let's set up a space of dates over a single day\n\n"
      ]
    },
    {
      "cell_type": "code",
      "execution_count": null,
      "metadata": {
        "collapsed": false
      },
      "outputs": [],
      "source": [
        "ntimes = 4\ndate = mr.utc(2023, 12, 9, 12)\nbod = mr.beginning_of_day(date)\ndspace = mr.date_linspace(bod, bod + datetime.timedelta(days=1), ntimes)"
      ]
    },
    {
      "cell_type": "markdown",
      "metadata": {},
      "source": [
        "We can use :class:`mr.EarthFixedFrame` to set up the coordinate frame transformation we are about.\n\n"
      ]
    },
    {
      "cell_type": "code",
      "execution_count": null,
      "metadata": {
        "collapsed": false
      },
      "outputs": [],
      "source": [
        "frame_conversion = mr.EarthFixedFrame('itrf', 'j2000')"
      ]
    },
    {
      "cell_type": "markdown",
      "metadata": {},
      "source": [
        "We can then plot the basis vectors at each of the selected times, labeling them in each subplot\n\n"
      ]
    },
    {
      "cell_type": "code",
      "execution_count": null,
      "metadata": {
        "collapsed": false
      },
      "outputs": [],
      "source": [
        "def plot_bases_at_date(pl: pv.Plotter, d: datetime.datetime) -> None:\n    pl.add_text(d.strftime('%Y-%m-%d %H:%M:%S UTC'))\n    mrv.plot_earth(\n        pl,\n        mode='eci',\n        date=d,\n    )\n    mrv.plot_basis(\n        pl,\n        frame_conversion.rotms_at_dates(d),\n        color='r',\n        labels=['$ITRF_x$', '$ITRF_y$', '$z$'],\n        **label_kwargs,\n    )\n\n    mrv.plot_basis(\n        pl,\n        np.eye(3),\n        color='g',\n        labels=['$J2000_x$', '$J2000_y$', '$z$'],\n        **label_kwargs,\n    )\n\n\nlabel_kwargs = {\n    'shape_opacity': 0.3,\n    'font_size': 20,\n    'scale': 10e3,\n}\npl = pv.Plotter(shape=(ntimes // 2, ntimes // 2))\nfor i, d in enumerate(dspace):\n    pl.subplot(i // 2, i % 2)\n    plot_bases_at_date(pl, d)\n    pl.camera.position = (40e3, -40e3, 40e3)\npl.show()"
      ]
    },
    {
      "cell_type": "markdown",
      "metadata": {},
      "source": [
        "It's easy to get confused about what the vernal equinox really *is*. Is it a time? Is it a direction?\nTo dig into this, let's look at the transformation between ITRF and J2000 at noon on the equinoxes and solstices\n\n"
      ]
    },
    {
      "cell_type": "code",
      "execution_count": null,
      "metadata": {
        "collapsed": false
      },
      "outputs": [],
      "source": [
        "vernal_equinox = datetime.datetime(2023, 3, 19, 12, 0, 0, tzinfo=datetime.timezone.utc)\nsummer_solstice = datetime.datetime(2023, 6, 21, 12, 0, 0, tzinfo=datetime.timezone.utc)\nautumnal_solstice = datetime.datetime(\n    2023, 9, 23, 12, 0, 0, tzinfo=datetime.timezone.utc\n)\nwinter_solstice = datetime.datetime(\n    2023, 12, 21, 12, 0, 0, tzinfo=datetime.timezone.utc\n)\n\nimportant_dates = [\n    vernal_equinox,\n    summer_solstice,\n    autumnal_solstice,\n    winter_solstice,\n]\n\npl = pv.Plotter(shape=(ntimes // 2, ntimes // 2))\nfor i, d in enumerate(important_dates):\n    pl.subplot(i // 2, i % 2)\n    plot_bases_at_date(pl, d)\n    pl.camera.position = (40e3, -40e3, 40e3)\npl.show()"
      ]
    }
  ],
  "metadata": {
    "kernelspec": {
      "display_name": "Python 3",
      "language": "python",
      "name": "python3"
    },
    "language_info": {
      "codemirror_mode": {
        "name": "ipython",
        "version": 3
      },
      "file_extension": ".py",
      "mimetype": "text/x-python",
      "name": "python",
      "nbconvert_exporter": "python",
      "pygments_lexer": "ipython3",
      "version": "3.11.10"
    }
  },
  "nbformat": 4,
  "nbformat_minor": 0
}