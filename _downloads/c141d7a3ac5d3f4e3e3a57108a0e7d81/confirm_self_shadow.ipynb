{
  "cells": [
    {
      "cell_type": "markdown",
      "metadata": {},
      "source": [
        "\n# Self-Shadowing Methods\n\nComparing light curves produced by different shadowing methods\n"
      ]
    },
    {
      "cell_type": "code",
      "execution_count": null,
      "metadata": {
        "collapsed": false
      },
      "outputs": [],
      "source": [
        "import os\n\nimport matplotlib.pyplot as plt\nimport numpy as np\nimport polars as pl\n\nimport mirage as mr\n\nmr.set_model_directory(\n    '/Users/liamrobinson/Documents/maintained-research/mirage-models/Non-Convex/'\n)\nobj = mr.SpaceObject('irregular.obj')\n\nbrdf = mr.Brdf('blinn-phong', cd=0.5, cs=0.5, n=5.0)\ndf = pl.read_parquet(os.path.join(os.environ['SRCDIR'], '..', 'saved.parquet'))\nprint(df)\nx0 = np.array([0.0, 0.0, 0.0, -3.0, 3.0, 1.0])\nlc = [\n    0.341383,\n    0.197364,\n    0.123992,\n    0.118558,\n    0.144448,\n    0.199170,\n    0.281262,\n    0.420311,\n    0.634635,\n    0.868985,\n    1.099806,\n    1.296503,\n    1.425755,\n    1.462219,\n    1.400128,\n    1.286364,\n    1.145995,\n    1.006063,\n    0.886744,\n    0.765302,\n    0.624586,\n    0.485581,\n    0.408199,\n    0.407272,\n    0.409617,\n    0.467555,\n    0.470402,\n    0.466237,\n    0.426641,\n    0.379301,\n]\n\nitensor = np.diag([1.0, 2.0, 3.0])\nt = np.linspace(0, 1, len(lc), endpoint=False)\nsvi = np.tile(np.array([1.0, 0.0, 0.0]), (len(t), 1))\novi = np.tile(np.array([np.sqrt(2) / 2, np.sqrt(2) / 2, 0.0]), (len(t), 1))\n# ovi = np.array([np.cos(t), np.sin(t), 0.0*t]).T\n\ns0 = x0[:3]\nw0 = x0[3:]\n\nattitude = mr.RbtfAttitude(w0, mr.mrp_to_quat(s0), itensor)\nq_of_t, _ = attitude.propagate(t)\nc_of_t = mr.quat_to_dcm(q_of_t)\nsvb = mr.stack_mat_mult_vec(c_of_t, svi)\novb = mr.stack_mat_mult_vec(c_of_t, ovi)\n\nlc_engine = mr.run_light_curve_engine(\n    brdf, obj, svb, ovb, show_window=True, instances=1, frame_rate=40\n)\nlc_convex = obj.convex_light_curve(brdf, svb, ovb)\n\nplt.plot(lc_engine, 'k', linewidth=3, label='Rendered shadows')\nplt.plot(lc_convex, linewidth=2.5, label='Convex')\nplt.plot(lc, 'r--', linewidth=2.5, label='Analytic shadows')\nplt.grid()\nplt.xlabel('Timestep')\nplt.ylabel('Normalized irradiance')\nplt.legend()\nplt.show()"
      ]
    }
  ],
  "metadata": {
    "kernelspec": {
      "display_name": "Python 3",
      "language": "python",
      "name": "python3"
    },
    "language_info": {
      "codemirror_mode": {
        "name": "ipython",
        "version": 3
      },
      "file_extension": ".py",
      "mimetype": "text/x-python",
      "name": "python",
      "nbconvert_exporter": "python",
      "pygments_lexer": "ipython3",
      "version": "3.12.7"
    }
  },
  "nbformat": 4,
  "nbformat_minor": 0
}