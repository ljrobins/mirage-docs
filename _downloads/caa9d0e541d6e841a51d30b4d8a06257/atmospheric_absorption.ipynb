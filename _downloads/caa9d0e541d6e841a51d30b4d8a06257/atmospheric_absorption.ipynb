{
  "cells": [
    {
      "cell_type": "markdown",
      "metadata": {},
      "source": [
        "\n# ASTM Spectra\nStandardized Sun spectra at different airmasses\n"
      ]
    },
    {
      "cell_type": "code",
      "execution_count": null,
      "metadata": {
        "collapsed": false
      },
      "outputs": [],
      "source": [
        "import os\n\nimport matplotlib.pyplot as plt\nimport numpy as np\n\nimport mirage as mr\nimport mirage.vis as mrv\n\nsun_spectra = np.loadtxt(\n    os.path.join(os.environ[\"DATADIR\"], \"ASTMG173.csv\"), skiprows=2, delimiter=\",\"\n)\nlambdas_nm = sun_spectra[:, 0]\nsun_vacuum_w_m3 = sun_spectra[:, 1] * 1e9\nsun_global_w_m3 = sun_spectra[:, 2] * 1e9\nsun_direct_w_m3 = sun_spectra[:, 3] * 1e9\nss_proof = mr.sun_spectrum(lambdas_nm * 1e-9)\n\ni0 = np.trapz(sun_vacuum_w_m3, lambdas_nm * 1e-9)\nprint(i0)\nplt.plot(lambdas_nm, sun_vacuum_w_m3)\nplt.plot(lambdas_nm, sun_global_w_m3)\nplt.plot(lambdas_nm, sun_direct_w_m3)\nplt.plot(lambdas_nm, ss_proof)\nmrv.texit(\n    \"Sun Irradiance Spectra\",\n    \"Wavelength [nm]\",\n    r\"$\\left[ \\frac{W}{m^2 \\cdot m} \\right]$\",\n    [\"AM0\", \"AM1.5 Global\", \"AM1.5 Direct\", \"PROOF zero airmass\"],\n)\nplt.show()"
      ]
    }
  ],
  "metadata": {
    "kernelspec": {
      "display_name": "Python 3",
      "language": "python",
      "name": "python3"
    },
    "language_info": {
      "codemirror_mode": {
        "name": "ipython",
        "version": 3
      },
      "file_extension": ".py",
      "mimetype": "text/x-python",
      "name": "python",
      "nbconvert_exporter": "python",
      "pygments_lexer": "ipython3",
      "version": "3.11.9"
    }
  },
  "nbformat": 4,
  "nbformat_minor": 0
}