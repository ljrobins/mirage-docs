{
  "cells": [
    {
      "cell_type": "markdown",
      "metadata": {},
      "source": [
        "\n# Polar Motion\n\nPlotting polar motion components $x_p$ and $y_p$ over the past ~3 decades\n"
      ]
    },
    {
      "cell_type": "code",
      "execution_count": null,
      "metadata": {
        "collapsed": false
      },
      "outputs": [],
      "source": [
        "import numpy as np\nimport pyvista as pv\n\nimport mirage as mr"
      ]
    },
    {
      "cell_type": "markdown",
      "metadata": {},
      "source": [
        "Let's get the DCMS correcting for only polar motion over the past 3 decades\n\n"
      ]
    },
    {
      "cell_type": "code",
      "execution_count": null,
      "metadata": {
        "collapsed": false
      },
      "outputs": [],
      "source": [
        "dates, epsecs = mr.date_linspace(\n    mr.utc(1995, 1, 1), mr.utc(2023, 1, 1), 10000, return_epsecs=True\n)\ndt = epsecs / (mr.AstroConstants.earth_sec_in_day * 365.25)\ndcms = mr.EarthFixedFrame('itrf', 'gtod').rotms_at_dates(dates)\nxp, yp = (\n    mr.AstroConstants.rad_to_arcsecond * dcms[0, 2, :],\n    mr.AstroConstants.rad_to_arcsecond * dcms[2, 1, :],\n)"
      ]
    },
    {
      "cell_type": "markdown",
      "metadata": {},
      "source": [
        "We can plot things to see\n\n"
      ]
    },
    {
      "cell_type": "code",
      "execution_count": null,
      "metadata": {
        "collapsed": false
      },
      "outputs": [],
      "source": [
        "pl = pv.Plotter()\nlines = pv.MultipleLines(points=np.vstack((dt / 10, xp, yp)).T)\npl.add_mesh(lines, scalars=dt, line_width=5, cmap='isolum', show_scalar_bar=False)\npl.set_background('k')\npl.enable_anti_aliasing('ssaa')\npl.show_bounds(\n    grid='back',\n    location='outer',\n    ticks='both',\n    n_xlabels=5,\n    n_ylabels=2,\n    n_zlabels=2,\n    xtitle='Decades past 1995',\n    ytitle='xp [arcsec]',\n    ztitle='yp [arcsec]',\n    color='w',\n)\npl.show()"
      ]
    }
  ],
  "metadata": {
    "kernelspec": {
      "display_name": "Python 3",
      "language": "python",
      "name": "python3"
    },
    "language_info": {
      "codemirror_mode": {
        "name": "ipython",
        "version": 3
      },
      "file_extension": ".py",
      "mimetype": "text/x-python",
      "name": "python",
      "nbconvert_exporter": "python",
      "pygments_lexer": "ipython3",
      "version": "3.11.10"
    }
  },
  "nbformat": 4,
  "nbformat_minor": 0
}