{
  "cells": [
    {
      "cell_type": "markdown",
      "metadata": {},
      "source": [
        "\n# Propagating the catalog\n\nLoad the full TLE catalog and propagate all objects to a given epoch\n"
      ]
    },
    {
      "cell_type": "code",
      "execution_count": null,
      "metadata": {
        "collapsed": false
      },
      "outputs": [],
      "source": [
        "import datetime"
      ]
    },
    {
      "cell_type": "markdown",
      "metadata": {},
      "source": [
        "First, let's define a function that plots the catalog at a given date\n\n"
      ]
    },
    {
      "cell_type": "code",
      "execution_count": null,
      "metadata": {
        "collapsed": false
      },
      "outputs": [],
      "source": [
        "from typing import Callable\n\nimport numpy as np\nimport pyvista as pv\n\nimport mirage as mr\nimport mirage.vis as mrv\n\n\ndef plot_catalog_at_date(\n    pl: pv.Plotter,\n    date: datetime.datetime,\n    color: str = 'k',\n    scalars: Callable = None,\n    cmap: str = 'viridis',\n    point_size: int = 3,\n) -> None:\n    r_eci, _ = mr.propagate_catalog_to_dates(date)\n    mrv.plot_earth(\n        pl,\n        date=date,\n    )\n    mrv.scatter3(\n        pl,\n        r_eci,\n        show_scalar_bar=False,\n        point_size=point_size,\n        lighting=False,\n        color=color if scalars is None else None,\n        scalars=scalars(r_eci) if scalars is not None else None,\n        cmap=cmap,\n    )\n    pl.add_text(f'{date.day}/{date.month}/{date.year}', font='courier')\n    pl.camera.focal_point = (0.0, 0.0, 0.0)\n    pl.camera.position = 180e3 * np.array([0, 0.01, 1])"
      ]
    },
    {
      "cell_type": "markdown",
      "metadata": {},
      "source": [
        "## Space in 2023 compared with space in 2000\n\n"
      ]
    },
    {
      "cell_type": "code",
      "execution_count": null,
      "metadata": {
        "collapsed": false
      },
      "outputs": [],
      "source": [
        "pl = pv.Plotter(shape=(1, 2), window_size=(2000, 1000))\npl.subplot(0, 1)\nplot_catalog_at_date(pl, mr.today())\npl.disable_anti_aliasing()\npl.subplot(0, 0)\nplot_catalog_at_date(pl, mr.today() - mr.years(23))\npl.disable_anti_aliasing()\npl.link_views()\npl.background_color = 'white'\npl.show()"
      ]
    },
    {
      "cell_type": "markdown",
      "metadata": {},
      "source": [
        "## Space in 1980\n\n"
      ]
    },
    {
      "cell_type": "code",
      "execution_count": null,
      "metadata": {
        "collapsed": false
      },
      "outputs": [],
      "source": [
        "pl = pv.Plotter()\nplot_catalog_at_date(\n    pl,\n    mr.today(),\n    scalars=lambda r: (mr.vecnorm(r) < 42100)\n    + (mr.vecnorm(r) < 21_000)\n    + (mr.vecnorm(r) < 42190),\n    cmap='glasbey',\n    point_size=10,\n)\n\npl.open_gif('test.gif', fps=20)\nnframes = 150\nt = np.linspace(0, 2 * np.pi, nframes, endpoint=False)\npath_pts = np.array([np.sin(t), np.cos(t), np.zeros_like(t)]).T\npath_pts[:, 2] += 0.5\npath_pts = mr.hat(path_pts) * 18e4\npl.camera.center = (0.0, 0.0, 0.0)\nfor pt in path_pts:\n    pl.camera.position = pt\n    pl.write_frame()\npl.close()"
      ]
    }
  ],
  "metadata": {
    "kernelspec": {
      "display_name": "Python 3",
      "language": "python",
      "name": "python3"
    },
    "language_info": {
      "codemirror_mode": {
        "name": "ipython",
        "version": 3
      },
      "file_extension": ".py",
      "mimetype": "text/x-python",
      "name": "python",
      "nbconvert_exporter": "python",
      "pygments_lexer": "ipython3",
      "version": "3.12.7"
    }
  },
  "nbformat": 4,
  "nbformat_minor": 0
}