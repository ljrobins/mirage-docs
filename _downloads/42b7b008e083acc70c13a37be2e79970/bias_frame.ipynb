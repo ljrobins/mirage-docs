{
  "cells": [
    {
      "cell_type": "markdown",
      "metadata": {},
      "source": [
        "\n# Bias Frames\n\nCharacterizing the background bias of the POGS CCD\n"
      ]
    },
    {
      "cell_type": "code",
      "execution_count": null,
      "metadata": {
        "collapsed": false
      },
      "outputs": [],
      "source": [
        "import datetime\nimport os\n\nimport matplotlib.pyplot as plt\nimport numpy as np\nfrom astropy.io import fits\n\nimport mirage as mr\n\nbias_frames_dir = (\n    '/Users/liamrobinson/Library/CloudStorage/OneDrive-purdue.edu/pogs/bias_frames'\n)\nbias_fit_paths = [\n    os.path.join(bias_frames_dir, x)\n    for x in os.listdir(bias_frames_dir)\n    if (('-20' in x or '_temp_' not in x) and 'bias' in x.lower())\n]\n\nmeans = []\nvars = []\ndates = []\nmins = []\ntemps = []\ndata_betweens = []\nroi = (950, 1150)\nhot_count = []\n\nfor bias_fit_path in bias_fit_paths:\n    with fits.open(bias_fit_path) as hdul:\n        data = hdul[0].data\n        dates.append(\n            datetime.datetime.strptime(\n                hdul[0].header['DATE-OBS'], '%Y-%m-%dT%H:%M:%S.%f'\n            ).replace(tzinfo=datetime.timezone.utc)\n        )\n\nbias_fit_paths = np.asarray(bias_fit_paths)[np.argsort(dates)]\ndates = np.sort(dates)\n\nfor bias_fit_path in bias_fit_paths:\n    with fits.open(bias_fit_path) as hdul:\n        data = hdul[0].data\n        temps.append(hdul[0].header['SET-TEMP'])\n\n    dataf = data.flatten()\n    hot_pixels = dataf > roi[1]\n    dead_pixels = dataf < roi[0]\n    is_ok = ~hot_pixels & ~dead_pixels\n    data_betweens.append(dataf[is_ok])\n\n    hot_count.append(hot_pixels.sum())\n\n    mins.append(np.min(data))\n    means.append(np.mean(data_betweens[-1]))\n    vars.append(np.var(data_betweens[-1]))\n\nmins = np.array(mins)\nmeans = np.array(means)\nvars = np.array(vars)\ntemps = np.array(temps)\nepyr = (mr.date_to_jd(dates) - mr.date_to_jd(dates).min()) / 365.25\nhot_count = np.array(hot_count)\n\n\nplt.figure()\nfor date, data_between in zip(dates, data_betweens):\n    y, x = plt.hist(data_between, bins=range(roi[0], roi[1]), alpha=0.2, density=True)[\n        :2\n    ]\n    y_text = y.max()\n    x_text = x[np.argmax(y)]\n    plt.text(x_text, y_text - np.random.rand() * y_text / 10, date.strftime('%Y-%m-%d'))\nplt.xlabel('Bias signal [ADU]')\nplt.ylabel('Pixel value probability')\nplt.grid()\n\nplt.figure(figsize=(10, 3.5))\nplt.subplot(1, 3, 2)\nplt.plot(dates, vars, marker='+')\nplt.title('Variance')\nplt.grid()\nplt.subplot(1, 3, 1)\nplt.plot(dates, means, marker='+')\nplt.title('Mean')\nplt.grid()\nplt.subplot(1, 3, 3)\nplt.plot(dates, hot_count, marker='+')\nplt.title('Hot Pixels')\nplt.grid()\nplt.tight_layout()\n\nplt.show()"
      ]
    }
  ],
  "metadata": {
    "kernelspec": {
      "display_name": "Python 3",
      "language": "python",
      "name": "python3"
    },
    "language_info": {
      "codemirror_mode": {
        "name": "ipython",
        "version": 3
      },
      "file_extension": ".py",
      "mimetype": "text/x-python",
      "name": "python",
      "nbconvert_exporter": "python",
      "pygments_lexer": "ipython3",
      "version": "3.11.10"
    }
  },
  "nbformat": 4,
  "nbformat_minor": 0
}