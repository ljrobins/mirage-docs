{
  "cells": [
    {
      "cell_type": "markdown",
      "metadata": {},
      "source": [
        "\n# Restricted Circular IOD\n"
      ]
    },
    {
      "cell_type": "code",
      "execution_count": null,
      "metadata": {
        "collapsed": false
      },
      "outputs": [],
      "source": [
        "import matplotlib.pyplot as plt\nimport numpy as np\nimport pyvista as pv\nfrom scipy.optimize import root_scalar\n\nimport mirage as mr\nimport mirage.vis as mrv"
      ]
    },
    {
      "cell_type": "markdown",
      "metadata": {},
      "source": [
        "First, let's define a station and a truth object\n\n"
      ]
    },
    {
      "cell_type": "code",
      "execution_count": null,
      "metadata": {
        "collapsed": false
      },
      "outputs": [],
      "source": [
        "station = mr.Station()\nobj = mr.SpaceObject('cube.obj', identifier=25544)"
      ]
    },
    {
      "cell_type": "markdown",
      "metadata": {},
      "source": [
        "Now, let's create two RA/Dec observations of the object\n\n"
      ]
    },
    {
      "cell_type": "code",
      "execution_count": null,
      "metadata": {
        "collapsed": false
      },
      "outputs": [],
      "source": [
        "r_lims = [mr.AstroConstants.earth_r_eq, 1e6]\ndates = mr.date_linspace(mr.now(), mr.now() + mr.minutes(1), 2)\n\nr_sat_truth = obj.propagate(dates)\nr_station = station.j2000_at_dates(dates)\nr_station_to_sat_truth = r_sat_truth - r_station\nrho_truth = mr.vecnorm(r_station_to_sat_truth)\nline_of_sight_truth = mr.hat(r_station_to_sat_truth)\n\nra_truth, dec_truth = mr.eci_to_ra_dec(line_of_sight_truth)\n\nprint(f'ra_truth = {ra_truth} [rad]')\nprint(f'dec_truth = {dec_truth} [rad]')"
      ]
    },
    {
      "cell_type": "markdown",
      "metadata": {},
      "source": [
        "To check our work, we should be able to go in the opposite direction to recover the same satellite position vector\n\n"
      ]
    },
    {
      "cell_type": "code",
      "execution_count": null,
      "metadata": {
        "collapsed": false
      },
      "outputs": [],
      "source": [
        "line_of_sight_backwards = mr.ra_dec_to_eci(ra_truth, dec_truth)\nassert np.all(\n    np.abs(line_of_sight_backwards * rho_truth + r_station - r_sat_truth) < 1e-10\n), 'Something went wrong!'"
      ]
    },
    {
      "cell_type": "markdown",
      "metadata": {},
      "source": [
        "Now, let's add some noise to our observations\n\n"
      ]
    },
    {
      "cell_type": "code",
      "execution_count": null,
      "metadata": {
        "collapsed": false
      },
      "outputs": [],
      "source": [
        "sigma_obs_arcsec = 10.0\nsigma_obs_rad = mr.dms_to_rad(0, 0, sigma_obs_arcsec)\nra_obs = ra_truth + np.random.normal(0, sigma_obs_rad, size=ra_truth.shape)\ndec_obs = dec_truth + np.random.normal(0, sigma_obs_rad, size=dec_truth.shape)\n\nprint(f'ra_obs = {ra_obs} [rad]')\nprint(f'dec_obs = {dec_obs} [rad]')"
      ]
    },
    {
      "cell_type": "markdown",
      "metadata": {},
      "source": [
        "With these observations in hand, we can start to estimate things about the orbit\nWe know that the ranges to the object $\\rho_1$ and $\\rho_2$ are only a function of the semimajor axis $a$\n\n"
      ]
    },
    {
      "cell_type": "code",
      "execution_count": null,
      "metadata": {
        "collapsed": false
      },
      "outputs": [],
      "source": [
        "lhats = mr.ra_dec_to_eci(ra_obs, dec_obs)\nlhat1 = lhats[[0]]\nlhat2 = lhats[[1]]\nrtopo1 = r_station[[0]]\nrtopo2 = r_station[[1]]\n\nrho_1 = lambda a: (\n    -mr.dot(lhat1, rtopo1)\n    + np.sqrt(mr.dot(lhat1, rtopo1) ** 2 + a**2 - mr.vecnorm(rtopo1) ** 2)\n).flatten()\nrho_2 = lambda a: (\n    -mr.dot(lhat2, rtopo2)\n    + np.sqrt(mr.dot(lhat2, rtopo2) ** 2 + a**2 - mr.vecnorm(rtopo2) ** 2)\n).flatten()\nr_sat_1 = lambda a: rtopo1 + rho_1(a).reshape(-1, 1) * lhat1\nr_sat_2 = lambda a: rtopo2 + rho_2(a).reshape(-1, 1) * lhat2\nrhat_sat_1 = lambda a: mr.hat(r_sat_1(a))\nrhat_sat_2 = lambda a: mr.hat(r_sat_2(a))"
      ]
    },
    {
      "cell_type": "markdown",
      "metadata": {},
      "source": [
        "We know that a circular orbit has a constant true anomaly rate, equal to the mean motion $n = \\sqrt{\\mu/a^3}$\nThis means that the angle between the true position vectors of the object at the two observation times is equal to the mean motion times the time between the observations\n\n"
      ]
    },
    {
      "cell_type": "code",
      "execution_count": null,
      "metadata": {
        "collapsed": false
      },
      "outputs": [],
      "source": [
        "dt = (dates[1] - dates[0]).total_seconds()\nc = mr.AstroConstants.speed_of_light_vacuum\n\nphi_cm = lambda a: np.sqrt(mr.AstroConstants.earth_mu / a**3) * (\n    dt - rho_2(a) / np.inf + rho_1(a) / np.inf\n)"
      ]
    },
    {
      "cell_type": "markdown",
      "metadata": {},
      "source": [
        "Additionally, the angle between between the position vectors must satisfy the law of cosines\n\n"
      ]
    },
    {
      "cell_type": "code",
      "execution_count": null,
      "metadata": {
        "collapsed": false
      },
      "outputs": [],
      "source": [
        "phi_g = lambda a: np.arccos(mr.dot(rhat_sat_1(a), rhat_sat_2(a))).flatten()"
      ]
    },
    {
      "cell_type": "markdown",
      "metadata": {},
      "source": [
        "For an arbitrary $a$, the geometry and dynamics of the problem will not produce the same answer! We need to use a root-finding algorithm to find the value of $a$ that satisfies both equations\n\n"
      ]
    },
    {
      "cell_type": "code",
      "execution_count": null,
      "metadata": {
        "collapsed": false
      },
      "outputs": [],
      "source": [
        "sol = root_scalar(lambda a: phi_g(a) - phi_cm(a), bracket=r_lims)\nassert sol.converged, 'Something went wrong!'\na_est = sol.root  # The estimated semimajor axis in km\n\nprint(f'a_est = {a_est} [km]')\n\na = np.linspace(r_lims[0], r_lims[1], 1000)\n\nplt.plot(a, phi_g(a).flatten(), label=r'$\\phi_g$')\nplt.plot(a, phi_cm(a).flatten(), label=r'$\\phi_{cm}$')\nplt.plot(a_est, phi_g(a_est), 'o', color='black', label=r'$a_{est}$')\nplt.xlabel('Semimajor axis [km]')\nplt.ylabel('Elapsed Anomaly [rad]')\nplt.legend()\nplt.grid()\nplt.show()"
      ]
    },
    {
      "cell_type": "markdown",
      "metadata": {},
      "source": [
        "Now we can find the estimated position vectors at the two observation times\n\n"
      ]
    },
    {
      "cell_type": "code",
      "execution_count": null,
      "metadata": {
        "collapsed": false
      },
      "outputs": [],
      "source": [
        "r_sat_1_est = r_sat_1(a_est)\nr_sat_2_est = r_sat_2(a_est)"
      ]
    },
    {
      "cell_type": "markdown",
      "metadata": {},
      "source": [
        "From orbital mechanics, we know that the angular momentum direction is perpendicular to the orbital plane, and that the cross product of the position and velocity vectors is equal to the angular momentum vector\n\n"
      ]
    },
    {
      "cell_type": "code",
      "execution_count": null,
      "metadata": {
        "collapsed": false
      },
      "outputs": [],
      "source": [
        "hhat_est = mr.hat(np.cross(r_sat_1_est, r_sat_2_est))"
      ]
    },
    {
      "cell_type": "markdown",
      "metadata": {},
      "source": [
        "The velocity vector must be perpendicular to the position vector and the angular momentum vector, with magnitude equal to the circular velocity $v_c = \\sqrt{\\mu/a}$\n\n"
      ]
    },
    {
      "cell_type": "code",
      "execution_count": null,
      "metadata": {
        "collapsed": false
      },
      "outputs": [],
      "source": [
        "v_c_est = np.sqrt(mr.AstroConstants.earth_mu / a_est)\nvhat_est = mr.hat(np.cross(hhat_est, r_sat_1_est))\n\nv_est = v_c_est * vhat_est\n\nprint(f'v_est = {v_est} [km/s]')"
      ]
    },
    {
      "cell_type": "markdown",
      "metadata": {},
      "source": [
        "Let's see how well the estimated orbit matches the measurements\n\n"
      ]
    },
    {
      "cell_type": "code",
      "execution_count": null,
      "metadata": {
        "collapsed": false
      },
      "outputs": [],
      "source": [
        "lhat_synth1 = mr.hat(r_sat_1_est - r_station[[0]])\nlhat_synth2 = mr.hat(r_sat_2_est - r_station[[1]])\n\nra_synth1, dec_synth1 = mr.eci_to_ra_dec(lhat_synth1)\nra_synth2, dec_synth2 = mr.eci_to_ra_dec(lhat_synth2)\n\nprint(f'ra_error1 = {ra_synth1 - ra_obs[0]} [rad]')\nprint(f'dec_error1 = {dec_synth1 - dec_obs[0]} [rad]')\nprint(f'ra_error2 = {ra_synth2 - ra_obs[1]} [rad]')\nprint(f'dec_error2 = {dec_synth2 - dec_obs[1]} [rad]')"
      ]
    },
    {
      "cell_type": "markdown",
      "metadata": {},
      "source": [
        "Plotting the orbits\n\n"
      ]
    },
    {
      "cell_type": "code",
      "execution_count": null,
      "metadata": {
        "collapsed": false
      },
      "outputs": [],
      "source": [
        "dates_plot = mr.date_linspace(mr.now(), mr.now() + mr.hours(24), 1000)\n\nrv0 = np.hstack([r_sat_1_est, v_est])\nr_est_propagated = mr.integrate_orbit_dynamics(rv0, dates_plot)[:, :3]\nr_true_propagated = obj.propagate(dates_plot)\n\nprint(\n    f'maximum position error = {mr.vecnorm(r_est_propagated - r_true_propagated).max()} [km]'\n)\n\npl = pv.Plotter(window_size=(2500, 1400))\nmrv.plot3(pl, r_est_propagated, color='magenta', lighting=False, line_width=5)\nmrv.plot3(pl, r_true_propagated, color='lime', lighting=False, line_width=5)\n\nmrv.plot_earth(pl, date=mr.now())\npl.show()"
      ]
    },
    {
      "cell_type": "markdown",
      "metadata": {},
      "source": [
        "We could solve for other orbital elements:\nThe inclination of the orbit is the angle between the angular momentum vector and the inertial z-axis\n\n"
      ]
    },
    {
      "cell_type": "code",
      "execution_count": null,
      "metadata": {
        "collapsed": false
      },
      "outputs": [],
      "source": [
        "i_est = mr.angle_between_vecs(hhat_est, np.array([0, 0, 1])).squeeze()\n\nprint(f'i_est = {i_est} [rad]')"
      ]
    },
    {
      "cell_type": "markdown",
      "metadata": {},
      "source": [
        "The cross product of the inertial z-axis with angular momentum vector is the ascending node vector.\nThe right ascension of the ascending node is the angle between the ascending node vector and the inertial x-axis\n\n"
      ]
    },
    {
      "cell_type": "code",
      "execution_count": null,
      "metadata": {
        "collapsed": false
      },
      "outputs": [],
      "source": [
        "Omega_hat_est = mr.hat(np.cross(np.array([0, 0, 1]), hhat_est))\nOmega_est = mr.angle_between_vecs(Omega_hat_est, np.array([1, 0, 0])).squeeze()\nprint(f'Omega_est = {Omega_est} [rad]')"
      ]
    },
    {
      "cell_type": "markdown",
      "metadata": {},
      "source": [
        "The argument of latitude is the angle between the ascending node vector and the position vector at the first observation time\n\n"
      ]
    },
    {
      "cell_type": "code",
      "execution_count": null,
      "metadata": {
        "collapsed": false
      },
      "outputs": [],
      "source": [
        "u_est = mr.angle_between_vecs(Omega_hat_est, r_sat_1_est).squeeze()\nprint(f'u_est = {u_est} [rad]')"
      ]
    }
  ],
  "metadata": {
    "kernelspec": {
      "display_name": "Python 3",
      "language": "python",
      "name": "python3"
    },
    "language_info": {
      "codemirror_mode": {
        "name": "ipython",
        "version": 3
      },
      "file_extension": ".py",
      "mimetype": "text/x-python",
      "name": "python",
      "nbconvert_exporter": "python",
      "pygments_lexer": "ipython3",
      "version": "3.12.7"
    }
  },
  "nbformat": 4,
  "nbformat_minor": 0
}