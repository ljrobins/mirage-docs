{
  "cells": [
    {
      "cell_type": "markdown",
      "metadata": {},
      "source": [
        "\n# Light Curve Ambiguities\n\nDemonstrating various ways a light curve can be ambiguous as a function of the object and its attitude profile.\n"
      ]
    },
    {
      "cell_type": "code",
      "execution_count": null,
      "metadata": {
        "collapsed": false
      },
      "outputs": [],
      "source": [
        "import matplotlib.pyplot as plt\nimport numpy as np\n\nimport mirage as mr\nimport mirage.vis as mrv"
      ]
    },
    {
      "cell_type": "markdown",
      "metadata": {},
      "source": [
        "Albedo-area ambiguity\n\n"
      ]
    },
    {
      "cell_type": "code",
      "execution_count": null,
      "metadata": {
        "collapsed": false
      },
      "outputs": [],
      "source": [
        "brdf = mr.Brdf('cook-torrance', cd=0.5, cs=0.5, n=5.0)\ndates, epsecs = mr.date_linspace(\n    mr.now(), mr.now() + mr.seconds(5), 1000, return_epsecs=True\n)\nattitude = mr.RbtfAttitude(\n    w0=1.0 * mr.hat(np.array([[0.1, 0.0, 1.0]])),\n    q0=mr.hat(np.array([0.0, 0.0, 0.0, 1.0])),\n    itensor=np.diag([1.0, 2.0, 3.0]),\n)\nq_of_t, _ = attitude.propagate(epsecs)\nsvi = np.array([[1.0, 0.0, 0.0]])\novi = np.array([1.0, 1.0, 0.0])\n\nsvb = mr.stack_mat_mult_vec(mr.quat_to_dcm(q_of_t), svi)\novb = mr.stack_mat_mult_vec(mr.quat_to_dcm(q_of_t), ovi)\n\nsf = 5.0\nobj1 = mr.SpaceObject('cube.obj')\nobj2 = mr.SpaceObject('cube.obj')\nobj2.v *= sf\nobj2.build_properties()\n\nlc1 = obj1.convex_light_curve(brdf, svb, ovb)\nplt.plot(\n    epsecs, lc1, lw=3, label=f'1m cube, Cook-Torrance $C_d={brdf.cd}$, $C_s={brdf.cs}$'\n)\nbrdf.cd /= sf**2\nbrdf.cs /= sf**2\nlc2 = obj2.convex_light_curve(brdf, svb, ovb)\n\nplt.plot(\n    epsecs,\n    lc2,\n    '--',\n    lw=3,\n    label=f'{sf:.0f}m cube, Cook-Torrance $C_d={brdf.cd}$, $C_s={brdf.cs}$',\n)\nmrv.texit('Albedo-Area Ambiguity', 'Epoch seconds', 'Normalized irradiance')\nplt.legend()\nplt.ylim([np.min(lc1) * 0.8, np.max(lc1) * 1.2])\nplt.show()"
      ]
    },
    {
      "cell_type": "markdown",
      "metadata": {},
      "source": [
        "Observation geometry ambiguity\nWe know that the light curve is symmetric when the positions of the observer and sun are swapped.\n\n"
      ]
    },
    {
      "cell_type": "code",
      "execution_count": null,
      "metadata": {
        "collapsed": false
      },
      "outputs": [],
      "source": [
        "lc1 = obj1.convex_light_curve(brdf, svb, ovb)\nplt.plot(epsecs, lc1, lw=3, label='Nominal')\nlc2 = obj1.convex_light_curve(brdf, ovb, svb)\nplt.plot(epsecs, lc2, '--', lw=3, label='Swapped observer and Sun')\nmrv.texit('Observer Geometry Ambiguity', 'Epoch seconds', 'Normalized irradiance')\nplt.legend()\nplt.show()"
      ]
    },
    {
      "cell_type": "markdown",
      "metadata": {},
      "source": [
        "Non-convex observability\n\n"
      ]
    },
    {
      "cell_type": "code",
      "execution_count": null,
      "metadata": {
        "collapsed": false
      },
      "outputs": [],
      "source": [
        "# obj1 = mr.SpaceObject(\"cylinder.obj\")\n# obj2 = mr.SpaceObject(\"collapsed_cyl.obj\")\n\n# lc1 = obj1.convex_light_curve(brdf, svb, ovb)\n# plt.plot(epsecs, lc1, lw=3, label=f\"Convex\")\n# lc2 = obj2.convex_light_curve(brdf, svb, ovb)\n# plt.plot(epsecs, lc2, '--', lw=3, label=f\"Non-convex\")\n# mrv.texit('Non-convex Ambiguity', 'Epoch seconds', 'Normalized irradiance')\n# plt.legend()\n# plt.show()"
      ]
    }
  ],
  "metadata": {
    "kernelspec": {
      "display_name": "Python 3",
      "language": "python",
      "name": "python3"
    },
    "language_info": {
      "codemirror_mode": {
        "name": "ipython",
        "version": 3
      },
      "file_extension": ".py",
      "mimetype": "text/x-python",
      "name": "python",
      "nbconvert_exporter": "python",
      "pygments_lexer": "ipython3",
      "version": "3.11.10"
    }
  },
  "nbformat": 4,
  "nbformat_minor": 0
}