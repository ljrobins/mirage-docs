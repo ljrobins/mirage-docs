{
  "cells": [
    {
      "cell_type": "markdown",
      "metadata": {},
      "source": [
        "\n# AABB Trees\n\nBuilding an axis-aligned bounding box (AABB) for a given trimesh\n"
      ]
    },
    {
      "cell_type": "code",
      "execution_count": null,
      "metadata": {
        "collapsed": false
      },
      "outputs": [],
      "source": [
        "import numpy as np\nimport pyvista as pv\n\nimport mirage as mr\nimport mirage.vis as mrv\n\n\ndef ray_triangle_intersection(ray_origin, ray_direction, vertices):\n    vertex0 = vertices[0, :]\n    vertex1 = vertices[1, :]\n    vertex2 = vertices[2, :]\n    EPSILON = 1e-6\n    edge1, edge2 = vertex1 - vertex0, vertex2 - vertex0\n    h = np.cross(ray_direction, edge2)\n    a = np.dot(edge1, h)\n    if -EPSILON < a < EPSILON:\n        return None  # This means the ray is parallel to this triangle.\n\n    f = 1.0 / a\n    s = ray_origin - vertex0\n    u = f * np.dot(s, h)\n    if u < 0.0 or u > 1.0:\n        return None\n    q = np.cross(s, edge1)\n    v = f * np.dot(ray_direction, q)\n    if v < 0.0 or u + v > 1.0:\n        return None\n    t = f * np.dot(edge2, q)\n    if t > EPSILON:  # ray intersection\n        intersection_point = ray_origin + ray_direction * t\n        return t, u, v, intersection_point\n    else:  # This means that there is a line intersection but not a ray intersection.\n        return None\n\n\ndef ray_box_intersection(ray_origin, ray_direction, box_lims):\n    box_min = np.array([box_lims[0], box_lims[2], box_lims[4]])\n    box_max = np.array([box_lims[1], box_lims[3], box_lims[5]])\n    t_min = np.zeros(3, dtype=np.float32)\n    t_max = np.zeros(3, dtype=np.float32)\n\n    for i in range(3):  # Process each dimension independently\n        if ray_direction[i] != 0:\n            t_min[i] = (box_min[i] - ray_origin[i]) / ray_direction[i]\n            t_max[i] = (box_max[i] - ray_origin[i]) / ray_direction[i]\n        else:\n            t_min[i] = float('-inf') if ray_origin[i] < box_min[i] else float('inf')\n            t_max[i] = float('inf') if ray_origin[i] > box_max[i] else float('-inf')\n\n        if t_min[i] > t_max[i]:\n            t_min[i], t_max[i] = t_max[i], t_min[i]\n\n    final_t_min = max(t_min)\n    final_t_max = min(t_max)\n\n    if final_t_min > final_t_max or final_t_max < 0:\n        return None, None  # No intersection\n\n    # Calculate intersection points\n    intersection_min = ray_origin + final_t_min * ray_direction\n\n    return intersection_min, final_t_min\n\n\ndef points_in_box(points, bounds) -> np.ndarray[bool]:\n    check_pts = points[:, 0] > bounds[0]\n    check_pts &= points[:, 0] < bounds[1]\n    check_pts &= points[:, 1] > bounds[2]\n    check_pts &= points[:, 1] < bounds[3]\n    check_pts &= points[:, 2] > bounds[4]\n    check_pts &= points[:, 2] < bounds[5]\n    ret = np.argwhere(check_pts).flatten()\n    return ret\n\n\ndef build_boxes(\n    all_points: np.ndarray, split_verts: np.ndarray[int], max_depth: int, depth: int = 0\n):\n    if depth == max_depth:\n        return\n    boxes = {}\n    if split_verts.size == 0:\n        return\n    mins = np.min(all_points[split_verts, :], axis=0)\n    maxs = np.max(all_points[split_verts, :], axis=0)\n    split_axis = np.argmax(maxs - mins)\n    mid_pt = mins[split_axis] + (maxs[split_axis] - mins[split_axis]) / 2\n    if split_axis == 0:\n        boxes['left_bounds'] = (mins[0], mid_pt, mins[1], maxs[1], mins[2], maxs[2])\n        boxes['right_bounds'] = (mid_pt, maxs[0], mins[1], maxs[1], mins[2], maxs[2])\n    if split_axis == 1:\n        boxes['left_bounds'] = (mins[0], maxs[0], mins[1], mid_pt, mins[2], maxs[2])\n        boxes['right_bounds'] = (mins[0], maxs[0], mid_pt, maxs[1], mins[2], maxs[2])\n    if split_axis == 2:\n        boxes['left_bounds'] = (mins[0], maxs[0], mins[1], maxs[1], mins[2], mid_pt)\n        boxes['right_bounds'] = (mins[0], maxs[0], mins[1], maxs[1], mid_pt, maxs[2])\n\n    boxes['left_members'] = points_in_box(all_points, boxes['left_bounds'])\n    boxes['right_members'] = points_in_box(all_points, boxes['right_bounds'])\n    boxes['depth'] = depth\n\n    if depth + 1 == max_depth:\n        return boxes\n\n    boxes['left_leaves'] = build_boxes(\n        all_points, boxes['left_members'], max_depth=max_depth, depth=depth + 1\n    )\n    boxes['right_leaves'] = build_boxes(\n        all_points, boxes['right_members'], max_depth=max_depth, depth=depth + 1\n    )\n    if boxes['left_leaves'] is None:\n        del boxes['left_leaves']\n    if boxes['right_leaves'] is None:\n        del boxes['right_leaves']\n    return boxes\n\n\ndef aggregate_children(pl, boxes, block):\n    block.extend(\n        [pv.Box(bounds=boxes['left_bounds']), pv.Box(bounds=boxes['right_bounds'])]\n    )\n    if 'left_leaves' in boxes:\n        aggregate_children(pl, boxes['left_leaves'], block)\n    if 'right_leaves' in boxes:\n        aggregate_children(pl, boxes['right_leaves'], block)\n\n\ndef trace_indices(ray_origin, ray_direction, face_indices, faces_vertices):\n    f, v = faces_vertices\n    good_res = []\n    for fi in face_indices:\n        fiv = v[f[fi]]\n        res = ray_triangle_intersection(ray_origin, ray_direction, fiv)\n        if res is not None:\n            good_res.append(res)\n    return good_res\n\n\ndef trace_children(pl, ray_origin, ray_direction, boxes, faces_vertices):\n    lpt, ltime = ray_box_intersection(ray_origin, ray_direction, boxes['left_bounds'])\n    rpt, rtime = ray_box_intersection(ray_origin, ray_direction, boxes['right_bounds'])\n    go_left = None\n\n    if lpt is not None:  # and rpt is None (implied)\n        go_left = True\n    if rpt is not None:  # and lpt is None (implied)\n        go_left = False\n    if lpt is not None and rpt is not None:\n        if ltime < rtime:\n            go_left = True\n        if rtime < ltime:\n            go_left = False\n\n    if go_left:\n        if 'left_leaves' in boxes:\n            pl.add_mesh(\n                pv.Box(bounds=boxes['left_bounds']),\n                line_width=10,\n                style='wireframe',\n                color='k',\n            )\n            return trace_children(\n                pl, ray_origin, ray_direction, boxes['left_leaves'], faces_vertices\n            )\n        else:\n            return trace_indices(\n                ray_origin, ray_direction, boxes['left_members'], faces_vertices\n            )\n    else:\n        if 'right_leaves' in boxes:\n            pl.add_mesh(\n                pv.Box(bounds=boxes['right_bounds']),\n                line_width=10,\n                style='wireframe',\n                color='k',\n            )\n            return trace_children(\n                pl, ray_origin, ray_direction, boxes['right_leaves'], faces_vertices\n            )\n        else:\n            return trace_indices(\n                ray_origin, ray_direction, boxes['right_members'], faces_vertices\n            )\n\n\nobj = mr.SpaceObject('stanford_dragon.obj')\n\n\nobj.v = obj.v.astype(np.float32)\nmr.tic('Building AABB')\nboxes = build_boxes(\n    obj.face_centroids, np.arange(obj.face_centroids.shape[0]), max_depth=11\n)\nmr.toc()\n\n\npl = pv.Plotter()\nmrv.render_spaceobject(pl, obj, opacity=1.0)\nblock = pv.MultiBlock()\naggregate_children(pl, boxes, block)\npl.add_mesh(block, style='wireframe', color='r')\npl.camera.position = (3.5, 0.0, 0.0)\npl.show()"
      ]
    },
    {
      "cell_type": "markdown",
      "metadata": {},
      "source": [
        "Now that we have some boxes, let's see how much faster they make our raytracing\n\n"
      ]
    },
    {
      "cell_type": "code",
      "execution_count": null,
      "metadata": {
        "collapsed": false
      },
      "outputs": [],
      "source": [
        "ray_origin = 10 * np.array([0.1, 1.0, -0.1])\nray_direction = -mr.hat(ray_origin)\n\nmr.tic('Brute force tracing')\ngood_res = []\nfor f in obj.f:\n    x = ray_triangle_intersection(ray_origin, ray_direction, obj.v[f])\n    if x is not None:\n        good_res.append(x)\nmr.toc()\n\npl = pv.Plotter()\nmrv.render_spaceobject(pl, obj, opacity=1.0)\n\nfor x in good_res:\n    mrv.scatter3(pl, x[-1], point_size=40, color='m')\n\n\nmr.tic('AABB tracing')\nres = trace_children(pl, ray_origin, ray_direction, boxes, (obj.f, obj.v))\nmr.toc()\n\nfor x in res:\n    mrv.scatter3(pl, x[-1], point_size=100, color='lime', opacity=0.2)\n\npl.camera.position = (3.5, 0.0, 0.0)\npl.show()"
      ]
    }
  ],
  "metadata": {
    "kernelspec": {
      "display_name": "Python 3",
      "language": "python",
      "name": "python3"
    },
    "language_info": {
      "codemirror_mode": {
        "name": "ipython",
        "version": 3
      },
      "file_extension": ".py",
      "mimetype": "text/x-python",
      "name": "python",
      "nbconvert_exporter": "python",
      "pygments_lexer": "ipython3",
      "version": "3.11.10"
    }
  },
  "nbformat": 4,
  "nbformat_minor": 0
}