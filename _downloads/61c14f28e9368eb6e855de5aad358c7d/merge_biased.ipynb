{
  "cells": [
    {
      "cell_type": "markdown",
      "metadata": {},
      "source": [
        "\n# Merging with Bias\n\nMerging trimeshes using their SDFs with spherical bias weighting\n"
      ]
    },
    {
      "cell_type": "code",
      "execution_count": null,
      "metadata": {
        "collapsed": false
      },
      "outputs": [],
      "source": [
        "import numpy as np\nimport pyvista as pv\n\nimport mirage as mr\nimport mirage.vis as mrv\n\nobj1 = mr.SpaceObject('icosahedron.obj')\nobj2 = mr.SpaceObject('cube.obj')\nsdf1 = obj1.get_sdf()\nsdf2 = obj2.get_sdf()\n\n\n# The bias should be a function of azimuth and elevation, returning on [0,1]\nweighting1 = lambda az, el: 10\nweighting2 = lambda az, el: 10\n\nobj_merged = mr.merge_shapes([obj1, obj2], [weighting1, weighting2])\n\npl = pv.Plotter()\nmrv.render_spaceobject(pl, obj1, color='r', style='wireframe', line_width=5)\nmrv.render_spaceobject(pl, obj2, color='b', style='wireframe', line_width=5)\nmrv.render_spaceobject(pl, obj_merged, opacity=0.7)\npl.show()"
      ]
    },
    {
      "cell_type": "markdown",
      "metadata": {},
      "source": [
        "Let's visualize the gradient of the SDF\n\n"
      ]
    },
    {
      "cell_type": "code",
      "execution_count": null,
      "metadata": {
        "collapsed": false
      },
      "outputs": [],
      "source": [
        "grid = mr.r3_grid(np.max(mr.vecnorm(obj1.v)), 10)\ngaz, gel, _ = mr.cart_to_sph(*grid.points.T)\n\nsdfs = sdf1.query_grid(1.3 * np.max(mr.vecnorm(obj1.v)), 150)\npdata = pv.PolyData(grid.points)\npdata['SDF Gradient'] = sdf1.gradient(grid.points)\npdata['SDF Gradient'] = pdata['SDF Gradient'] * grid.spacing\npdata.active_vectors_name = 'SDF Gradient'\narrows = pdata.arrows\n\npl = pv.Plotter()\nmrv.render_spaceobject(pl, obj1, color='r', style='wireframe', line_width=5)\npl.add_mesh(arrows)\npl.show()"
      ]
    }
  ],
  "metadata": {
    "kernelspec": {
      "display_name": "Python 3",
      "language": "python",
      "name": "python3"
    },
    "language_info": {
      "codemirror_mode": {
        "name": "ipython",
        "version": 3
      },
      "file_extension": ".py",
      "mimetype": "text/x-python",
      "name": "python",
      "nbconvert_exporter": "python",
      "pygments_lexer": "ipython3",
      "version": "3.11.10"
    }
  },
  "nbformat": 4,
  "nbformat_minor": 0
}