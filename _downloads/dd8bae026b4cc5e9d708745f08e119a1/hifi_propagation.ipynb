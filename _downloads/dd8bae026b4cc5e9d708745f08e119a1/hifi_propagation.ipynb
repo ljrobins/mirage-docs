{
  "cells": [
    {
      "cell_type": "markdown",
      "metadata": {},
      "source": [
        "\n# Propagating with Perturbations\n\nPropagating an orbit with spherical harmonics and third body effects\n"
      ]
    },
    {
      "cell_type": "code",
      "execution_count": null,
      "metadata": {
        "collapsed": false
      },
      "outputs": [],
      "source": [
        "import numpy as np\nimport pyvista as pv\n\nimport mirage as mr\nimport mirage.vis as mrv"
      ]
    },
    {
      "cell_type": "markdown",
      "metadata": {},
      "source": [
        "Defining our initial condition and the propagation times\n\n"
      ]
    },
    {
      "cell_type": "code",
      "execution_count": null,
      "metadata": {
        "collapsed": false
      },
      "outputs": [],
      "source": [
        "n = 1\nrv0 = np.random.uniform(\n    low=[7_000, 0, -1_000, 0, 2.5, 7],\n    high=[8_000, 1_000, 0, 0.3, 2.8, 7.3],\n    size=(n, 6),\n)\ndates, epsecs = mr.date_linspace(\n    mr.now(), mr.now() + mr.days(50), 100_000, return_epsecs=True\n)"
      ]
    },
    {
      "cell_type": "markdown",
      "metadata": {},
      "source": [
        "Propagating with the full EGM96 gravity model and Sun/Moon third-body accelerations\n\n"
      ]
    },
    {
      "cell_type": "code",
      "execution_count": null,
      "metadata": {
        "collapsed": false
      },
      "outputs": [],
      "source": [
        "mr.tic()\nrv = mr.integrate_orbit_dynamics(\n    rv0,\n    dates,\n    gravity_harmonics_degree=4,\n    third_bodies=['sun', 'moon', 'jupiter'],\n    int_tol=1e-9,  # Because I want this example to render quickly\n)\nrv = rv.reshape((dates.size, 6, -1))\nmr.toc()\n\npl = pv.Plotter()\nmrv.plot_earth(pl, date=dates[0], night_lights=True, atmosphere=True)\nfor i in range(rv.shape[-1]):\n    r = rv[:, :3, i]\n    mrv.plot3(\n        pl,\n        r,\n        lighting=True,\n        scalars=epsecs,\n        cmap='twilight',\n        show_scalar_bar=False,\n        line_width=15,\n    )\npl.show()"
      ]
    }
  ],
  "metadata": {
    "kernelspec": {
      "display_name": "Python 3",
      "language": "python",
      "name": "python3"
    },
    "language_info": {
      "codemirror_mode": {
        "name": "ipython",
        "version": 3
      },
      "file_extension": ".py",
      "mimetype": "text/x-python",
      "name": "python",
      "nbconvert_exporter": "python",
      "pygments_lexer": "ipython3",
      "version": "3.11.10"
    }
  },
  "nbformat": 4,
  "nbformat_minor": 0
}