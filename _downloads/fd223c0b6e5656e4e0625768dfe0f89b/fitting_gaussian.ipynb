{
  "cells": [
    {
      "cell_type": "markdown",
      "metadata": {},
      "source": [
        "\n# Fitting Gaussians\n\nLet's fit a Gaussian to some scattered data\n"
      ]
    },
    {
      "cell_type": "code",
      "execution_count": null,
      "metadata": {
        "collapsed": false
      },
      "outputs": [],
      "source": [
        "import os\n\nimport matplotlib.pyplot as plt\nimport numpy as np\n\nimport mirage as mr\n\n\ndef plot_gaussian_fit(rv):\n    mean = rv.mean\n    mins = mean - 4 * np.sqrt(np.diag(rv.cov))\n    maxs = mean + 4 * np.sqrt(np.diag(rv.cov))\n    xpts = np.linspace(mins[0], maxs[0], 100)\n    ypts = np.linspace(mins[1], maxs[1], 100)\n    xx, yy = np.meshgrid(xpts, ypts)\n    prob = rv.pdf(np.vstack((xx.flatten(), yy.flatten())).T).reshape(xx.shape)\n\n    plt.contour(xpts, ypts, prob)\n    plt.colorbar()\n\n\ndata = np.loadtxt(os.path.join(os.environ[\"SRCDIR\"], \"..\", \"testfitdata.txt\"))\n\nrv_mle, inds = mr.fit_2d_gaussian(data, return_used_inds=True)\n\nplt.figure()\nplt.scatter(data[:, 0], data[:, 1], s=10, c=inds, cmap=\"cividis\")\nplt.scatter(rv_mle.mean[0], rv_mle.mean[1], marker=\"x\", s=30, c=\"m\")\nplt.axis(\"equal\")\nplot_gaussian_fit(rv_mle)\nplt.show()"
      ]
    }
  ],
  "metadata": {
    "kernelspec": {
      "display_name": "Python 3",
      "language": "python",
      "name": "python3"
    },
    "language_info": {
      "codemirror_mode": {
        "name": "ipython",
        "version": 3
      },
      "file_extension": ".py",
      "mimetype": "text/x-python",
      "name": "python",
      "nbconvert_exporter": "python",
      "pygments_lexer": "ipython3",
      "version": "3.11.9"
    }
  },
  "nbformat": 4,
  "nbformat_minor": 0
}