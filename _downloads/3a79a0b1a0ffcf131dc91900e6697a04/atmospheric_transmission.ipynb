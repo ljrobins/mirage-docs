{
  "cells": [
    {
      "cell_type": "markdown",
      "metadata": {},
      "source": [
        "\n# Atmospheric Transmission\n\nTransmission spectra using the LOWTRAN atmosphere model\n"
      ]
    },
    {
      "cell_type": "code",
      "execution_count": null,
      "metadata": {
        "collapsed": false
      },
      "outputs": [],
      "source": [
        "import os\n\nimport matplotlib.pyplot as plt\nimport numpy as np\n\nimport mirage as mr"
      ]
    },
    {
      "cell_type": "markdown",
      "metadata": {},
      "source": [
        "Variation due to zenith angle\n\n"
      ]
    },
    {
      "cell_type": "code",
      "execution_count": null,
      "metadata": {
        "collapsed": false
      },
      "outputs": [],
      "source": [
        "observer_altitude_km = 2.206\nlambdas = np.linspace(200, 1200, 200).astype(np.float32)\nzenith_angles = np.linspace(0, np.pi / 2.3, 5)\ntrans_interp = mr.individual_atmospheric_transmission(\n    lambdas, zenith_angles, observer_altitude_km\n)\n\nplt.figure()\nplt.plot(lambdas, trans_interp.T)\n\nplt.xlabel('Wavelength [nm]')\nplt.ylabel('Transmission (unitless)')\nplt.title('Atmospheric Transmission')\nplt.grid()\nplt.ylim(0, 1)\nplt.legend([f'{x:.1f} deg' for x in np.rad2deg(zenith_angles)])\nplt.show()"
      ]
    },
    {
      "cell_type": "markdown",
      "metadata": {},
      "source": [
        "Variation due to observer altitude\n\n"
      ]
    },
    {
      "cell_type": "code",
      "execution_count": null,
      "metadata": {
        "collapsed": false
      },
      "outputs": [],
      "source": [
        "zenith_angle = 0\n\nplt.figure()\n\nfor h in np.linspace(0, 5, 5):\n    trans_interp = mr.individual_atmospheric_transmission(lambdas, zenith_angle, h)\n    plt.plot(lambdas, trans_interp.T, label=f'{h:.1f} km')\n\nplt.xlabel('Wavelength [nm]')\nplt.ylabel('Transmission (unitless)')\nplt.title('Atmospheric Transmission')\nplt.grid()\nplt.ylim(0, 1)\nplt.legend()\n\nplt.show()"
      ]
    },
    {
      "cell_type": "markdown",
      "metadata": {},
      "source": [
        "Now let's interpolate the spectrum as a function of altitude and zenith angle\n\n"
      ]
    },
    {
      "cell_type": "code",
      "execution_count": null,
      "metadata": {
        "collapsed": false
      },
      "outputs": [],
      "source": [
        "trans_grid = []\nzenith_angles = np.linspace(0, np.pi / 2, 20).astype(np.float32)\naltitudes = np.linspace(0, 3, 12).astype(np.float32)\nfor h in altitudes:\n    trans_grid.append(mr.individual_atmospheric_transmission(lambdas, zenith_angles, h))\ntrans_grid = np.array(trans_grid).astype(np.float32)"
      ]
    },
    {
      "cell_type": "markdown",
      "metadata": {},
      "source": [
        "Let's save this grid so it can be used to interpolate transmission values elsewhere without calling LOWTRAN\n\n"
      ]
    },
    {
      "cell_type": "code",
      "execution_count": null,
      "metadata": {
        "collapsed": false
      },
      "outputs": [],
      "source": [
        "np.savez(\n    os.path.join(os.environ['DATADIR'], 'atmos_trans.npz'),\n    altitudes=altitudes,\n    zenith_angles=zenith_angles,\n    lambdas=lambdas,\n    trans_grid=trans_grid,\n)\n\ngl, gz = np.meshgrid(lambdas, zenith_angles)\nmr.tic()\nt = mr.atmospheric_transmission(gl, gz, 0)  # using this npz file\nmr.toc()"
      ]
    }
  ],
  "metadata": {
    "kernelspec": {
      "display_name": "Python 3",
      "language": "python",
      "name": "python3"
    },
    "language_info": {
      "codemirror_mode": {
        "name": "ipython",
        "version": 3
      },
      "file_extension": ".py",
      "mimetype": "text/x-python",
      "name": "python",
      "nbconvert_exporter": "python",
      "pygments_lexer": "ipython3",
      "version": "3.11.10"
    }
  },
  "nbformat": 4,
  "nbformat_minor": 0
}