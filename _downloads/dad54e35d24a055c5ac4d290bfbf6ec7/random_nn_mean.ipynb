{
  "cells": [
    {
      "cell_type": "markdown",
      "metadata": {},
      "source": [
        "\n# Closest Average Random Nearest Neighbor\n\nUsing a method from :cite:`bhattacharyya2003` to find the mean distance to the kth nearest neighbor for uniformly scattered points in n-dimensions\n"
      ]
    },
    {
      "cell_type": "code",
      "execution_count": null,
      "metadata": {
        "collapsed": false
      },
      "outputs": [],
      "source": [
        "import matplotlib.pyplot as plt\nimport numpy as np\nfrom scipy.special import gamma\nfrom sklearn.neighbors import BallTree\n\nimport mirage as mr\n\n\ndef dist_to_nearest_neighbor(pts: np.ndarray) -> np.ndarray:\n    nn_ind = BallTree(pts).query(pts, k=2)[1][:, 1]\n    return mr.vecnorm(pts - pts[nn_ind, :])\n\n\ndef uniform_pts_expected_distance_to_nn(\n    d: np.ndarray, n: np.ndarray, k: np.ndarray\n) -> np.ndarray:\n    t1 = gamma(d / 2 + 1) ** (1 / d) / np.pi**0.5\n    t2 = gamma(k + 1 / d) / gamma(k)\n    t3 = (1 / n) ** (1 / d)\n    rn = t1 * t2 * t3\n    return rn\n\n\nds = np.arange(2, 10)\nns = np.geomspace(10**1, 10**6, 100)\nk = 1\n\ndd, nn = np.meshgrid(ds, ns)\nzs = np.log10(uniform_pts_expected_distance_to_nn(dd, nn, k))\n\n# plt.gca().set_aspect()\nlevels = np.geomspace(zs.min(), zs.max(), 10)\n\nplt.contourf(ds, np.log10(ns), zs, levels=levels, cmap='plasma')\nplt.colorbar(label='Log distance to closest neighbor $\\log_{10}(d)$')\nplt.xlabel('Number of Dimensions')\nplt.ylabel('Log number of sampled points')\nplt.show()\n\nplt.figure()\n\nnpts = int(1e4)\nfor ndim in range(2, 12):\n    rn = uniform_pts_expected_distance_to_nn(ndim, npts, k=3)\n    x = np.random.rand(npts, ndim)\n    dn = dist_to_nearest_neighbor(x)\n    plt.hist(dn, log=True, bins=100, alpha=0.5, density=True)\n    plt.vlines(rn, 0, 2)\n    print(f'expect: {rn:.4}')\n    print(f'got: {np.mean(dn):.4}')\n\n# plt.xscale('log')\nplt.show()"
      ]
    }
  ],
  "metadata": {
    "kernelspec": {
      "display_name": "Python 3",
      "language": "python",
      "name": "python3"
    },
    "language_info": {
      "codemirror_mode": {
        "name": "ipython",
        "version": 3
      },
      "file_extension": ".py",
      "mimetype": "text/x-python",
      "name": "python",
      "nbconvert_exporter": "python",
      "pygments_lexer": "ipython3",
      "version": "3.11.10"
    }
  },
  "nbformat": 4,
  "nbformat_minor": 0
}