{
  "cells": [
    {
      "cell_type": "markdown",
      "metadata": {},
      "source": [
        "\n# Time Systems\n\nUses Astropy to extract exact offsets between various time systems\n"
      ]
    },
    {
      "cell_type": "code",
      "execution_count": null,
      "metadata": {
        "collapsed": false
      },
      "outputs": [],
      "source": [
        "import matplotlib.pyplot as plt\n\nimport mirage as mr\n\ndates = mr.date_linspace(mr.now() - mr.years(50), mr.now(), int(1e4))\n\ntai_minus_utc = mr.tai_minus_utc(dates)\ntt_minus_utc = mr.tt_minus_utc(dates)\nut1_minus_utc = mr.ut1_minus_utc(dates)\n\nplt.plot(dates, tt_minus_utc - tai_minus_utc)\nplt.plot(dates, tai_minus_utc - tai_minus_utc)\nplt.plot(dates, -tai_minus_utc)\nplt.plot(dates, ut1_minus_utc - tai_minus_utc)\n\nplt.legend(['TT', 'TAI', 'UTC', 'UT1'])\nplt.ylabel('Difference to TAI [sec]')\nplt.xlabel('Date')\nplt.show()"
      ]
    }
  ],
  "metadata": {
    "kernelspec": {
      "display_name": "Python 3",
      "language": "python",
      "name": "python3"
    },
    "language_info": {
      "codemirror_mode": {
        "name": "ipython",
        "version": 3
      },
      "file_extension": ".py",
      "mimetype": "text/x-python",
      "name": "python",
      "nbconvert_exporter": "python",
      "pygments_lexer": "ipython3",
      "version": "3.12.7"
    }
  },
  "nbformat": 4,
  "nbformat_minor": 0
}