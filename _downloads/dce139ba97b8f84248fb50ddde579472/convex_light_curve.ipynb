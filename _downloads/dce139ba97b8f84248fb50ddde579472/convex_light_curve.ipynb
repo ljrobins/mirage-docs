{
  "cells": [
    {
      "cell_type": "markdown",
      "metadata": {},
      "source": [
        "\n# Convex Light Curves\n\nSimulates torque-free rigid body motion for a simple object and computes the light curve\n"
      ]
    },
    {
      "cell_type": "code",
      "execution_count": null,
      "metadata": {
        "collapsed": false
      },
      "outputs": [],
      "source": [
        "import matplotlib.pyplot as plt\nimport numpy as np\nimport seaborn as sns\n\nimport mirage as mr"
      ]
    },
    {
      "cell_type": "markdown",
      "metadata": {},
      "source": [
        "To keep things simple, we'll just use a cube for this demo\n\n"
      ]
    },
    {
      "cell_type": "code",
      "execution_count": null,
      "metadata": {
        "collapsed": false
      },
      "outputs": [],
      "source": [
        "obj = mr.SpaceObject('cube.obj')\nbrdf = mr.Brdf('diffuse', cd=1.0, cs=0.0)"
      ]
    },
    {
      "cell_type": "markdown",
      "metadata": {},
      "source": [
        "Computing the quaternion time history of the object\n\n"
      ]
    },
    {
      "cell_type": "code",
      "execution_count": null,
      "metadata": {
        "collapsed": false
      },
      "outputs": [],
      "source": [
        "teval = np.linspace(0, 10, 1000)\nq, _ = mr.propagate_attitude_torque_free(\n    quat0=np.array([0.0, 0.0, 0.0, 1.0]),\n    omega0=np.array([1.0, 1.0, 1.0]),\n    itensor=np.diag([1, 2, 3]),\n    teval=teval,\n)\ndcm = mr.quat_to_dcm(q)  # Converting to quaternion"
      ]
    },
    {
      "cell_type": "markdown",
      "metadata": {},
      "source": [
        "Transforming fixed inertial Sun and Observer vectors into the body frame\n\n"
      ]
    },
    {
      "cell_type": "code",
      "execution_count": null,
      "metadata": {
        "collapsed": false
      },
      "outputs": [],
      "source": [
        "svi = np.array([[1, 0, 0]])\n# Sun vector in the inertial frame\nsvb = mr.stack_mat_mult_vec(dcm, svi)\n# Sun vector in the body frame\novi = np.array([[0, 1, 0]])\n# Observer vector in the inertial frame\novb = mr.stack_mat_mult_vec(dcm, ovi)\n# Observer vector in the body frame\n\nlc = obj.convex_light_curve(brdf, svb, ovb)\n\nplt.figure()\nsns.lineplot(x=teval, y=lc)\nplt.title('Convex Light Curves')\nplt.xlabel('Time [s]')\nplt.ylabel('Normalized brightness')\nplt.grid()\nplt.show()"
      ]
    }
  ],
  "metadata": {
    "kernelspec": {
      "display_name": "Python 3",
      "language": "python",
      "name": "python3"
    },
    "language_info": {
      "codemirror_mode": {
        "name": "ipython",
        "version": 3
      },
      "file_extension": ".py",
      "mimetype": "text/x-python",
      "name": "python",
      "nbconvert_exporter": "python",
      "pygments_lexer": "ipython3",
      "version": "3.11.10"
    }
  },
  "nbformat": 4,
  "nbformat_minor": 0
}