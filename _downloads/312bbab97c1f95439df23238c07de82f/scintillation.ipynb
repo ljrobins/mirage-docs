{
  "cells": [
    {
      "cell_type": "markdown",
      "metadata": {},
      "source": [
        "\n# Atmospheric Scintillation\nQuantifying the noise atmospheric turbulence introduces into photometry :cite:p:osborn2015:.\n"
      ]
    },
    {
      "cell_type": "code",
      "execution_count": null,
      "metadata": {
        "collapsed": false
      },
      "outputs": [],
      "source": [
        "import matplotlib.pyplot as plt\nimport numpy as np\n\nimport mirage as mr\n\nstation = mr.Station()\n\nt = 3  # Exposure time in seconds\nH = 8e3  # Scaleheight of the atmospheric turbulence, this is the generally accepted value\ntheta_z = 0.68  # Zenith angle\nfactor_of_safety = 1.5\n\nsigmay = station.scintillation_noise_std(theta_z, t, factor_of_safety=factor_of_safety)\nprint(sigmay)\n\nmad_percent = np.sqrt(2 / np.pi) * sigmay * 100\nprint(f'{mad_percent=}')\n\nx = np.random.normal(1, scale=sigmay, size=int(1e7))\nprint(sigma_y_num := np.sqrt((np.mean(x**2) - x.mean() ** 2) / x.mean() ** 2))\nplt.hist((x - 1) * 100, bins=100, density=True)\nprev_ylim = plt.ylim()\nplt.vlines(\n    np.array([-3 * sigmay, 3 * sigmay]) * 100,\n    *prev_ylim,\n    colors='k',\n    label='$\\pm 3 \\sigma$',\n)\nplt.ylim(*prev_ylim)\nplt.xlabel('Percent intensity deviation')\nplt.ylabel('Probability density')\nplt.grid()\nplt.title(\n    f\"POGS Atmospheric Scintillation, Young's Approximation (FOS ${factor_of_safety}$)\"\n)\nplt.legend()\nplt.tight_layout()\nplt.show()"
      ]
    }
  ],
  "metadata": {
    "kernelspec": {
      "display_name": "Python 3",
      "language": "python",
      "name": "python3"
    },
    "language_info": {
      "codemirror_mode": {
        "name": "ipython",
        "version": 3
      },
      "file_extension": ".py",
      "mimetype": "text/x-python",
      "name": "python",
      "nbconvert_exporter": "python",
      "pygments_lexer": "ipython3",
      "version": "3.11.10"
    }
  },
  "nbformat": 4,
  "nbformat_minor": 0
}