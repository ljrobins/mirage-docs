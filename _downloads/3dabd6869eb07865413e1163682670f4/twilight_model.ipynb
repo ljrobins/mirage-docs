{
  "cells": [
    {
      "cell_type": "markdown",
      "metadata": {},
      "source": [
        "\n# Twilight Model\n\nPlotting the zenith surface brightness of the ESO-Parnal twilight model\n"
      ]
    },
    {
      "cell_type": "code",
      "execution_count": null,
      "metadata": {
        "collapsed": false
      },
      "outputs": [],
      "source": [
        "import matplotlib.pyplot as plt\nimport numpy as np\n\nimport mirage as mr\nimport mirage.vis as mrv\n\ngammas = np.linspace(90, 130, 1000)\n\nmpsas = mr.twilight_zenith_mpsas(gammas)\n\nplt.plot(gammas, mpsas)\nplt.gca().invert_yaxis()\nmrv.texit(\n    'Twilight Model Brightness',\n    'Solar zenith angle [deg]',\n    'Surface brightness in $\\\\left[ \\\\frac{mag}{arcsecond^2} \\\\right]$',\n)\nplt.show()"
      ]
    }
  ],
  "metadata": {
    "kernelspec": {
      "display_name": "Python 3",
      "language": "python",
      "name": "python3"
    },
    "language_info": {
      "codemirror_mode": {
        "name": "ipython",
        "version": 3
      },
      "file_extension": ".py",
      "mimetype": "text/x-python",
      "name": "python",
      "nbconvert_exporter": "python",
      "pygments_lexer": "ipython3",
      "version": "3.12.7"
    }
  },
  "nbformat": 4,
  "nbformat_minor": 0
}