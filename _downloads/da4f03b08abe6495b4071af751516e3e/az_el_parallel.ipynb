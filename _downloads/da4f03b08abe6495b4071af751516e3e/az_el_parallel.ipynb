{
  "cells": [
    {
      "cell_type": "markdown",
      "metadata": {},
      "source": [
        "\n# Azimuth/Elevation Conversion\n\nGiven a station and a target in inertial space we can compute the azimuth and elevation of the object, or invert an azimuth and elevation into a new look direction\n"
      ]
    },
    {
      "cell_type": "code",
      "execution_count": null,
      "metadata": {
        "collapsed": false
      },
      "outputs": [],
      "source": [
        "import numpy as np\nimport pyvista as pv\n\nimport mirage as mr\nimport mirage.vis as mrv"
      ]
    },
    {
      "cell_type": "markdown",
      "metadata": {},
      "source": [
        "Let's use the Purdue Optical Ground Station for this example\n\n"
      ]
    },
    {
      "cell_type": "code",
      "execution_count": null,
      "metadata": {
        "collapsed": false
      },
      "outputs": [],
      "source": [
        "station = mr.Station(preset='pogs')\ndt0 = mr.utc(2023, 8, 13)\ndates = mr.date_linspace(dt0, dt0 + mr.days(1), int(1e4))"
      ]
    },
    {
      "cell_type": "markdown",
      "metadata": {},
      "source": [
        "Let's extract the station's position in J2000 and create an ECI look direction which is just outwards and down towards the equator\n\n"
      ]
    },
    {
      "cell_type": "code",
      "execution_count": null,
      "metadata": {
        "collapsed": false
      },
      "outputs": [],
      "source": [
        "station_j2k = station.j2000_at_dates(dates)\n\neci_pos = station_j2k * 2\neci_pos[:, -1] = 0\n\ntarget_dir_eci = mr.hat(eci_pos - station_j2k)"
      ]
    },
    {
      "cell_type": "markdown",
      "metadata": {},
      "source": [
        "We can then turn this target direction into an azimuth/elevation pair\n\n"
      ]
    },
    {
      "cell_type": "code",
      "execution_count": null,
      "metadata": {
        "collapsed": false
      },
      "outputs": [],
      "source": [
        "az, el = station.eci_to_az_el(dates, target_dir_eci)\nprint(f'{az[0]=} [rad]')\nprint(f'{el[0]=} [rad]')"
      ]
    },
    {
      "cell_type": "markdown",
      "metadata": {},
      "source": [
        "And easily invert that into the same unit vector direction\n\n"
      ]
    },
    {
      "cell_type": "code",
      "execution_count": null,
      "metadata": {
        "collapsed": false
      },
      "outputs": [],
      "source": [
        "eci_hat = station.az_el_to_eci(az, el, dates)\nprint(\n    f'ECI vector reconstruction error: {np.linalg.norm(target_dir_eci[0,:] - eci_hat[0,:])}'\n)"
      ]
    },
    {
      "cell_type": "markdown",
      "metadata": {},
      "source": [
        "We can also display this resulting unit vector as a ray cast out from the observer, hitting the target\n\n"
      ]
    },
    {
      "cell_type": "code",
      "execution_count": null,
      "metadata": {
        "collapsed": false
      },
      "outputs": [],
      "source": [
        "pl = pv.Plotter()\nstat_origin0 = station.j2000_at_dates(dates[0])\nmrv.plot_earth(pl, date=dates[0], high_def=True, atmosphere=False, borders=True)\nrotm = mr.EarthFixedFrame('itrf', 'j2000').rotms_at_dates(dates[0]) @ mr.enu_to_ecef(\n    station.itrf\n)\nmrv.plot_basis(\n    pl, rotm, labels=['E', 'N', 'U'], origin=stat_origin0, scale=1000, color='linen'\n)\nmrv.plot_arrow(\n    pl,\n    origin=stat_origin0,\n    direction=eci_hat[0, :],\n    scale=1000,\n    color='c',\n    label='To object',\n)\npl.camera.focal_point = stat_origin0\npl.camera.position = np.array(pl.camera.focal_point) + 10 * np.array([-500, -200, 200])\nprint(pl.camera.focal_point)\npl.show()"
      ]
    }
  ],
  "metadata": {
    "kernelspec": {
      "display_name": "Python 3",
      "language": "python",
      "name": "python3"
    },
    "language_info": {
      "codemirror_mode": {
        "name": "ipython",
        "version": 3
      },
      "file_extension": ".py",
      "mimetype": "text/x-python",
      "name": "python",
      "nbconvert_exporter": "python",
      "pygments_lexer": "ipython3",
      "version": "3.11.10"
    }
  },
  "nbformat": 4,
  "nbformat_minor": 0
}