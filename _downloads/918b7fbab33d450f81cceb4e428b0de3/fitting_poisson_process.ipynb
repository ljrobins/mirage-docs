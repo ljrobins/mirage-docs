{
  "cells": [
    {
      "cell_type": "markdown",
      "metadata": {},
      "source": [
        "\n# Fitting Poisson Variables\n\nFitting a random Poisson-distributed process to a set of data\n"
      ]
    },
    {
      "cell_type": "code",
      "execution_count": null,
      "metadata": {
        "collapsed": false
      },
      "outputs": [],
      "source": [
        "import matplotlib.pyplot as plt\nimport numpy as np\nimport seaborn as sns\nfrom scipy.stats import poisson\n\nimport mirage as mr\n\ndata_to_fit = np.random.poisson(3, int(1e5))  # Simulated Poisson data with lambda = 5\nlambda_est = mr.fit_poisson_process(data_to_fit)\n\nprint(f'Estimated rate parameter: {lambda_est}')\n\nx_plot = np.arange(0, 15)\n\nsns.histplot(data_to_fit, stat='density', binwidth=1)\nsns.histplot(poisson(lambda_est).rvs(data_to_fit.size), stat='density', binwidth=1)\n\nplt.show()"
      ]
    },
    {
      "cell_type": "markdown",
      "metadata": {},
      "source": [
        "Expected absolute error in a sample should be equal to the standard deviation\n\n"
      ]
    },
    {
      "cell_type": "code",
      "execution_count": null,
      "metadata": {
        "collapsed": false
      },
      "outputs": [],
      "source": [
        "print(f'Expected standard deviation: {np.sqrt(lambda_est)}')\nprint(f'Sample standard deviation: {np.std(data_to_fit)}')"
      ]
    }
  ],
  "metadata": {
    "kernelspec": {
      "display_name": "Python 3",
      "language": "python",
      "name": "python3"
    },
    "language_info": {
      "codemirror_mode": {
        "name": "ipython",
        "version": 3
      },
      "file_extension": ".py",
      "mimetype": "text/x-python",
      "name": "python",
      "nbconvert_exporter": "python",
      "pygments_lexer": "ipython3",
      "version": "3.11.10"
    }
  },
  "nbformat": 4,
  "nbformat_minor": 0
}