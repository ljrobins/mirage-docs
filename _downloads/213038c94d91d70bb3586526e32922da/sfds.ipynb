{
  "cells": [
    {
      "cell_type": "markdown",
      "metadata": {},
      "source": [
        "\n# Signed Distance Fields\n\nPlotting 2D and 3D Signed Distance Fields\n"
      ]
    },
    {
      "cell_type": "code",
      "execution_count": null,
      "metadata": {
        "collapsed": false
      },
      "outputs": [],
      "source": [
        "import matplotlib.pyplot as plt\nimport mesdf\nimport numpy as np\nimport pyvista as pv\n\nimport mirage as mr\nimport mirage.vis as mrv\n\nobj = mr.SpaceObject('stanford_bunny.obj').clean()\nobj.v -= np.mean(obj.v, axis=0)\n\nf = mesdf.SDF(obj.v, obj.f)\n\ngrid_width = 1.3 * np.max(mr.vecnorm(obj.v))\ngrid_density = 150\ngrid = mr.r3_grid(grid_width, grid_density)\nsdf_vals = -f(grid.points)"
      ]
    },
    {
      "cell_type": "markdown",
      "metadata": {},
      "source": [
        "Plotting a 2D slide of the SDF\n\n"
      ]
    },
    {
      "cell_type": "code",
      "execution_count": null,
      "metadata": {
        "collapsed": false
      },
      "outputs": [],
      "source": [
        "sdf_slice = sdf_vals.reshape(grid.dimensions)[:, grid_density // 2 + 10, :]\n\nplt.figure()\nplt.contour(\n    sdf_slice,\n    levels=np.linspace(np.min(sdf_slice), np.max(sdf_slice), 10),\n    colors='k',\n    extent=[-grid_width, grid_width, -grid_width, grid_width],\n)\nplt.imshow(\n    np.flipud(sdf_slice),\n    extent=[-grid_width, grid_width, -grid_width, grid_width],\n    cmap='RdBu',\n)\nmrv.texit('Signed Distance Field', 'x', 'y', grid=False)\nplt.colorbar(label='Signed Distance', cax=mrv.get_cbar_ax())\nplt.tight_layout()\nplt.show()"
      ]
    },
    {
      "cell_type": "markdown",
      "metadata": {},
      "source": [
        "Plotting the full 3D SDF\n\n"
      ]
    },
    {
      "cell_type": "code",
      "execution_count": null,
      "metadata": {
        "collapsed": false
      },
      "outputs": [],
      "source": [
        "pl = pv.Plotter(window_size=(1000, 1000))\n\nfor cval in np.linspace(np.min(sdf_vals), -np.min(sdf_vals), 7):\n    mesh1, mesh2 = grid.contour([cval], sdf_vals, method='flying_edges').clip(\n        'y', origin=(0.0, 0.0, 0.0), return_clipped=True\n    )\n    if mesh1.points.shape[0] > 0:\n        pl.add_mesh(\n            mesh1,\n            opacity=1.0,\n            scalars=cval * np.ones(mesh1.n_points),\n            cmap='coolwarm',\n            scalar_bar_args=dict(title='SDF Value'),\n            clim=[np.min(sdf_vals), -np.min(sdf_vals)],\n            smooth_shading=True,\n        )\n\npl.camera.position = (0.0, 0.6, 0.0)\npl.show()"
      ]
    },
    {
      "cell_type": "markdown",
      "metadata": {},
      "source": [
        "Animating an orbital path around the SDF\n\n"
      ]
    },
    {
      "cell_type": "code",
      "execution_count": null,
      "metadata": {
        "collapsed": false
      },
      "outputs": [],
      "source": [
        "pl = pv.Plotter()\n\nfor cval in np.linspace(np.min(sdf_vals), -np.min(sdf_vals), 10):\n    mesh = grid.contour([cval], sdf_vals, method='flying_edges')\n    if mesh.points.shape[0] > 0:\n        pl.add_mesh(\n            mesh,\n            opacity=0.1,\n            scalars=cval * np.ones(mesh.n_points),\n            cmap='coolwarm',\n            scalar_bar_args=dict(title='SDF Value'),\n        )\n\npl.open_gif('sdf_orbit.gif')\npath = pl.generate_orbital_path(n_points=36, shift=mesh.length / 3)\npl.orbit_on_path(path, write_frames=True)"
      ]
    }
  ],
  "metadata": {
    "kernelspec": {
      "display_name": "Python 3",
      "language": "python",
      "name": "python3"
    },
    "language_info": {
      "codemirror_mode": {
        "name": "ipython",
        "version": 3
      },
      "file_extension": ".py",
      "mimetype": "text/x-python",
      "name": "python",
      "nbconvert_exporter": "python",
      "pygments_lexer": "ipython3",
      "version": "3.11.9"
    }
  },
  "nbformat": 4,
  "nbformat_minor": 0
}