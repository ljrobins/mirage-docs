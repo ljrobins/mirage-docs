{
  "cells": [
    {
      "cell_type": "markdown",
      "metadata": {},
      "source": [
        "\n# Metropolis Hastings MCMC\n\nMarkov Chain Monte Carlo approximation of an unknown probability density\n"
      ]
    },
    {
      "cell_type": "code",
      "execution_count": null,
      "metadata": {
        "collapsed": false
      },
      "outputs": [],
      "source": [
        "import matplotlib.pyplot as plt\nimport numpy as np\n\npx = lambda x: np.exp(-(x**2)) * (2 + np.sin(5 * x) + np.sin(2 * x))\n\nsigma = 1.0\nq = (\n    lambda loc, x: 1\n    / (np.sqrt(2 * np.pi * sigma**2))\n    * np.exp(-1 / 2 * (x - loc) ** 2 / sigma**2)\n)\nq_sampler = lambda x: np.random.normal(loc=x, scale=sigma)\n\nxn = 0.0\nn_samples = 10000\nburn_in = 200\n\nxns = [xn]\nfor i in range(n_samples):\n    xsn = q_sampler(xn)\n    acceptance_probability = min(1, px(xsn) / px(xn))\n    if acceptance_probability > np.random.rand():  # if accepted\n        xn = xsn\n    else:\n        pass\n    if i >= burn_in:\n        xns.append(xn)\n\nx = np.linspace(-3, 3, 1000)\nps = np.trapz(px(x), x)\nplt.plot(x, px(x) / ps, label='True density')\nplt.hist(xns, bins=50, density=True, label=f'MCMC density, {n_samples} samples')\nplt.title(r'$p(x) = \\frac{1}{3.545} e^{-x^2}\\left(2 + \\sin 5x + \\sin 2x\\right)$')\nplt.grid()\nplt.legend()\nplt.xlabel('$x$')\nplt.ylabel('$p(x)$')\nplt.tight_layout()\nplt.show()"
      ]
    }
  ],
  "metadata": {
    "kernelspec": {
      "display_name": "Python 3",
      "language": "python",
      "name": "python3"
    },
    "language_info": {
      "codemirror_mode": {
        "name": "ipython",
        "version": 3
      },
      "file_extension": ".py",
      "mimetype": "text/x-python",
      "name": "python",
      "nbconvert_exporter": "python",
      "pygments_lexer": "ipython3",
      "version": "3.11.10"
    }
  },
  "nbformat": 4,
  "nbformat_minor": 0
}