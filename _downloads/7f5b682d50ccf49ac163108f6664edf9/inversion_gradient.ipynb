{
  "cells": [
    {
      "cell_type": "markdown",
      "metadata": {},
      "source": [
        "\n# EGI Jacobian\n\nComputing the change in the convex object guess (via its EGI) due to a change in the light curve\n"
      ]
    },
    {
      "cell_type": "code",
      "execution_count": null,
      "metadata": {
        "collapsed": false
      },
      "outputs": [],
      "source": [
        "import numpy as np\nimport pyvista as pv\n\nimport mirage as mr\nimport mirage.vis as mrv\n\nitensor = np.diag([1.0, 2.0, 3.0])\nw0 = 1e-2 * mr.hat(np.array([[1.0, 5.0, 0.0]]))\n# w0 = 1e-2 * mr.rand_unit_vectors(1)\nq0 = np.array([[0.0, 0.0, 0.0, 1.0]])\n# q0 = mr.rand_quaternions(1)\nidate = mr.utc(2023, 1, 1, 5)\nobs_time = mr.hours(3)\nobs_dt = mr.seconds(10)\npl_shape = (3, 3)\ninversions = pl_shape[0] * pl_shape[1]\n\nobj_file = 'cylinder.obj'\n\nstation = mr.Station(preset='pogs')\nbrdf = mr.Brdf(name='phong', cd=0.5, cs=0.0, n=10)\nbrdf_inversion = brdf\nattitude = mr.RbtfAttitude(w0=w0, q0=q0, itensor=itensor)\n\ndates, epsecs = mr.date_arange(idate, idate + obs_time, obs_dt, return_epsecs=True)\n\nq_of_t, w_of_t = attitude.propagate(epsecs)\ndcms_of_t = mr.quat_to_dcm(q_of_t)\n\nobj = mr.SpaceObject(obj_file, identifier='goes 15')\nlc_ccd_signal_sampler, aux_data = station.observe_light_curve(\n    obj, attitude, brdf, dates, use_engine=False, model_scale_factor=4\n)\n\nsun_body = aux_data['sun_vector_object_body']\nobs_body = aux_data['observer_vector_object_body']\nrmag = aux_data['rmag_station_to_sat']\n\nsint = aux_data['sint']\nlc_hat = aux_data['lc_clean_norm']\nconstr = aux_data['all_constraints_satisfied']\nbr_mean = aux_data['background_mean']\nairy_disk_pixels = aux_data['airy_disk_pixels']\nobs_to_moon = aux_data['obs_to_moon']\nlc_clean = aux_data['lc_clean']\nsnr = aux_data['snr']\n\n\nmr.tic()\nlc_sampled = lc_ccd_signal_sampler()\nmr.toc()\n\n# plt.plot(epsecs, lc_clean)\n# plt.scatter(epsecs, lc_sampled, s=2, c=\"r\")\n# plt.show()\n\n\nlc_normalized = (\n    lc_sampled\n    / (sint * station.telescope.integration_time)\n    * (rmag * 1e3) ** 2\n    / mr.AstroConstants.sun_irradiance_vacuum\n)\n\negi = mr.optimize_egi(lc_normalized, sun_body, obs_body, brdf)\n\n# G_actual = brdf.compute_reflection_matrix(sun_body, obs_body, egi)\n\n# plt.imshow(G_actual, extent=[-1,1,-1,1])\n# plt.show()\n# endd\n\n# print(G.shape, G_deep.shape, gel.shape)\n# endd"
      ]
    },
    {
      "cell_type": "markdown",
      "metadata": {},
      "source": [
        "Expected error in each light curve data point\n\n"
      ]
    },
    {
      "cell_type": "code",
      "execution_count": null,
      "metadata": {
        "collapsed": false
      },
      "outputs": [],
      "source": [
        "h = mr.optimize_supports_little(egi)\nrec_obj = mr.construct_from_egi_and_supports(egi, h)\nrec_obj.shift_to_center_of_mass()\nfu = mr.face_uncertainty(rec_obj, sun_body, obs_body, brdf, lc_sampled)\npl = pv.Plotter()\npv.plotting.opts.InterpolationType(0)\nmrv.render_spaceobject(pl, rec_obj, scalars=fu[rec_obj.unique_to_all])\nmrv.render_spaceobject(pl, obj, style='wireframe', color='r')\nmrv.plot_basis(pl, np.eye(3), ['x', 'y', 'z'])\n# mrv.scatter3(pl, mr.hat(egi), , cmap=\"plasma\", point_size=30)\npl.show()"
      ]
    }
  ],
  "metadata": {
    "kernelspec": {
      "display_name": "Python 3",
      "language": "python",
      "name": "python3"
    },
    "language_info": {
      "codemirror_mode": {
        "name": "ipython",
        "version": 3
      },
      "file_extension": ".py",
      "mimetype": "text/x-python",
      "name": "python",
      "nbconvert_exporter": "python",
      "pygments_lexer": "ipython3",
      "version": "3.11.9"
    }
  },
  "nbformat": 4,
  "nbformat_minor": 0
}