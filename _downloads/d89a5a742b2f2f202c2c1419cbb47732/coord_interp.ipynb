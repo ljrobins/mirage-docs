{
  "cells": [
    {
      "cell_type": "markdown",
      "metadata": {},
      "source": [
        "\n# Coordinate System Interpolation\n\nInterpolating the transformation between two coordinate systems.\n"
      ]
    },
    {
      "cell_type": "code",
      "execution_count": null,
      "metadata": {
        "collapsed": false
      },
      "outputs": [],
      "source": [
        "import matplotlib.pyplot as plt\nimport numpy as np\n\nimport mirage as mr\n\nstation = mr.Station()\n\ndates, epsecs = mr.date_linspace(\n    mr.now(), mr.now() + mr.hours(24), 1_00, return_epsecs=True\n)\nfine_dates, fine_epsecs = mr.date_linspace(\n    dates[0], dates[-1], dates.size * 10, return_epsecs=True\n)\ninterpolator = mr.FrameInterpolator('j2000', 'itrf', dates, max_surface_error_km=1e-4)\n\nmr.tic('Computing rotation matrices')\ndcms = mr.EarthFixedFrame('j2000', 'itrf').rotms_at_dates(dates)\nmr.toc()\n\nmr.tic('Computing rotation matrices, fine')\ndcms_fine = mr.EarthFixedFrame('j2000', 'itrf').rotms_at_dates(fine_dates)\nmr.toc()\n\nmr.tic('Evaluate interpolator')\nfine_dcms_interp = interpolator(fine_epsecs)\nmr.toc()"
      ]
    },
    {
      "cell_type": "markdown",
      "metadata": {},
      "source": [
        "Comparing with true values, via the error in the position of a station on the surface\n\n"
      ]
    },
    {
      "cell_type": "code",
      "execution_count": null,
      "metadata": {
        "collapsed": false
      },
      "outputs": [],
      "source": [
        "pos_err_interp = (\n    mr.stack_mat_mult_vec(fine_dcms_interp, station.j2000_at_dates(fine_dates))\n    - station.itrf\n)\n\nmean_pos_err = np.mean(mr.vecnorm(pos_err_interp))\nmax_pos_err = np.max(mr.vecnorm(pos_err_interp))\nprint(f'Mean position error: {mean_pos_err} km')\nprint(f'Max position error: {max_pos_err} km')"
      ]
    },
    {
      "cell_type": "markdown",
      "metadata": {},
      "source": [
        "Plotting\n\n"
      ]
    },
    {
      "cell_type": "code",
      "execution_count": null,
      "metadata": {
        "collapsed": false
      },
      "outputs": [],
      "source": [
        "plt.figure()\nplt.plot(fine_dates, mr.vecnorm(pos_err_interp))\nplt.xlabel('Date')\nplt.ylabel('Position Error (km)')\nplt.title('Position Error of Station on Earth Surface')\nplt.show()\n\nplt.figure()\nplt.hist(mr.vecnorm(pos_err_interp))\nplt.ylabel('Count')\nplt.xlabel('Position Error (km)')\nplt.title('Position Error of Station on Earth Surface')\nplt.show()"
      ]
    }
  ],
  "metadata": {
    "kernelspec": {
      "display_name": "Python 3",
      "language": "python",
      "name": "python3"
    },
    "language_info": {
      "codemirror_mode": {
        "name": "ipython",
        "version": 3
      },
      "file_extension": ".py",
      "mimetype": "text/x-python",
      "name": "python",
      "nbconvert_exporter": "python",
      "pygments_lexer": "ipython3",
      "version": "3.11.9"
    }
  },
  "nbformat": 4,
  "nbformat_minor": 0
}