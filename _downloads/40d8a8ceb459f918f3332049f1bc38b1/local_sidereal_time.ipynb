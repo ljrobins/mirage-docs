{
  "cells": [
    {
      "cell_type": "markdown",
      "metadata": {},
      "source": [
        "\n# Local Sidereal Time\nStudying the yearly variations in sidereal time\n"
      ]
    },
    {
      "cell_type": "code",
      "execution_count": null,
      "metadata": {
        "collapsed": false
      },
      "outputs": [],
      "source": [
        "import matplotlib.pyplot as plt\nimport numpy as np\n\nimport mirage as mr\nimport mirage.vis as mrv\n\nstations = [mr.Station(lon_deg=0.0), mr.Station(preset='pogs')]\ndates, epsecs = mr.date_arange(\n    mr.utc(2020, 1, 1, 12),\n    mr.utc(2020, 1, 1, 12) + mr.years(1),\n    mr.days(1),\n    return_epsecs=True,\n)"
      ]
    },
    {
      "cell_type": "markdown",
      "metadata": {},
      "source": [
        "We can see that as expected, Greenwich passes LST = 0 at noon on the vernal equinox (~80 days into the year). Rephrased, this means that at noon on the vernal equinox, the local meridian at Greenwich is pointing in the direction of inertial $\\\\hat{x}$, the first point of Aires, zero right ascension.\nOn the same date, the station in New Mexico is always facing 105 degrees earlier.\n\n"
      ]
    },
    {
      "cell_type": "code",
      "execution_count": null,
      "metadata": {
        "collapsed": false
      },
      "outputs": [],
      "source": [
        "for station in stations:\n    sid_time = np.rad2deg(mr.sidereal_hour_angle(station.lon_rad, dates)) / 360 * 24\n    plt.plot(epsecs / mr.AstroConstants.earth_sec_in_day, sid_time)\nmrv.texit(\n    'Local Sidereal Time at 12:00 UTC',\n    'Day of the year',\n    'Sidereal time [hr]',\n    [f'$\\lambda = {s.lon_deg:.2f}^\\circ$' for s in stations],\n)\nplt.ylim(0, 24)\nplt.xlim(0, 366)\nplt.show()"
      ]
    },
    {
      "cell_type": "markdown",
      "metadata": {},
      "source": [
        "For example, on June 2nd (day 153 of the year), the LST at 12:00 UTC is approximately 21.67/24 * 360 = 325 degrees. For an observation at ~6:00 UTC, we subtract another 6/24*360 degrees to yield LST = 235 degrees.\n\n"
      ]
    }
  ],
  "metadata": {
    "kernelspec": {
      "display_name": "Python 3",
      "language": "python",
      "name": "python3"
    },
    "language_info": {
      "codemirror_mode": {
        "name": "ipython",
        "version": 3
      },
      "file_extension": ".py",
      "mimetype": "text/x-python",
      "name": "python",
      "nbconvert_exporter": "python",
      "pygments_lexer": "ipython3",
      "version": "3.11.9"
    }
  },
  "nbformat": 4,
  "nbformat_minor": 0
}