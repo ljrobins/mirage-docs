{
  "cells": [
    {
      "cell_type": "markdown",
      "metadata": {},
      "source": [
        "\n# IAU-76 J2000 Reduction\n\nConverting an ITRF vector to J2000 using the IAU-76 nutation theory, comparing results to Vallado's Fundamentals of Astrodynamics 4th edition\n"
      ]
    },
    {
      "cell_type": "code",
      "execution_count": null,
      "metadata": {
        "collapsed": false
      },
      "outputs": [],
      "source": [
        "import numpy as np\n\nimport mirage as mr"
      ]
    },
    {
      "cell_type": "markdown",
      "metadata": {},
      "source": [
        "Truth values presented here are copied from Vallado Example 3-15 (pg. 230)\n\n"
      ]
    },
    {
      "cell_type": "code",
      "execution_count": null,
      "metadata": {
        "collapsed": false
      },
      "outputs": [],
      "source": [
        "date = mr.utc(2004, 4, 6, 7, 51, 28, 386_009)\n\nitrf_vallado = np.array([-1033.479_383_00, 7901.295_275_40, 6380.356_595_80])\ngtod_vallado = np.array([-1033.475_03_13, 7901.305_585_6, 6380.344_532_75])\ntod_vallado = np.array([5094.514_780_00, 6127.366_461_2, 6380.344_532_80])\nmod_vallado = np.array([5094.028_374_50, 6127.870_816_40, 6380.248_516_40])\nj2000_vallado = np.array([5102.509_600_00, 6123.011_530, 6378.136_30])\ngmst_vallado = 312.809_894_3\ngast_vallado = 312.806_765_4\n\ntt_vallado = 0.042_6236_319\nut1_minus_utc_vallado = -0.4399_619\ndelta_psi_vallado = -0.0034108\ndelta_eps_vallado = 0.0020316\neps_bar_vallado = 23.4387368\neps_vallado = 23.4407685"
      ]
    },
    {
      "cell_type": "markdown",
      "metadata": {},
      "source": [
        "We can now compute these values for ourselves\n\n"
      ]
    },
    {
      "cell_type": "code",
      "execution_count": null,
      "metadata": {
        "collapsed": false
      },
      "outputs": [],
      "source": [
        "tt_mine = mr.date_to_julian_centuries(date)\nut1_minus_utc_mine = mr.ut1_minus_utc(date)\ngmst_mine = mr.date_to_gmst(date)\ngast_mine = mr.date_to_gast(date)\ndelta_psi_mine, delta_eps_mine, eps_bar_mine = mr.delta_psi_delta_epsilon(date)\neps_mine = eps_bar_mine + delta_eps_mine"
      ]
    },
    {
      "cell_type": "markdown",
      "metadata": {},
      "source": [
        "We can compute the error in the assorted quantities we computed\n\n"
      ]
    },
    {
      "cell_type": "code",
      "execution_count": null,
      "metadata": {
        "collapsed": false
      },
      "outputs": [],
      "source": [
        "tt_error = tt_mine - tt_vallado\nut1_minus_utc_error = ut1_minus_utc_mine - ut1_minus_utc_vallado\ngmst_error = (np.rad2deg(gmst_mine) - gmst_vallado) / 360 * 86400\ngast_error = (np.rad2deg(gast_mine) - gast_vallado) / 360 * 86400\ndelta_psi_error = (\n    np.rad2deg(delta_psi_mine) - delta_psi_vallado\n) * mr.AstroConstants.deg_to_arcsecond\ndelta_eps_error = (\n    np.rad2deg(delta_eps_mine) - delta_eps_vallado\n) * mr.AstroConstants.deg_to_arcsecond\neps_bar_error = (\n    np.rad2deg(eps_bar_mine) - eps_bar_vallado\n) * mr.AstroConstants.deg_to_arcsecond\neps_error = (np.rad2deg(eps_mine) - eps_vallado) * mr.AstroConstants.deg_to_arcsecond"
      ]
    },
    {
      "cell_type": "markdown",
      "metadata": {},
      "source": [
        "And assert that these errors are sufficiently small to the Vallado values\n\n"
      ]
    },
    {
      "cell_type": "code",
      "execution_count": null,
      "metadata": {
        "collapsed": false
      },
      "outputs": [],
      "source": [
        "assert np.abs(tt_error) < 1e-6, 'TT error > 1e-6 days'\nassert np.abs(ut1_minus_utc_error) < 1e-3, 'UT1-UTC error > 1e-3 sec'\nassert np.abs(gmst_error) < 1e-3, 'GMST error > 1e-3 sec'\nassert all(np.abs(gast_error) < 1e-3), 'GAST error > 1e-3 sec'\nassert all(np.abs(delta_psi_error) < 1e-3), 'DeltaPsi error > 1e-3 arcsec'\nassert all(np.abs(delta_eps_error) < 1e-3), 'DeltaEpsilon error > 1e-3 arcsec'\nassert np.abs(eps_bar_error) < 1e-4, 'EpsilonBar error > 1e-4 arcsec'\nassert all(np.abs(eps_error) < 1e-3), 'Epsilon error > 1e-4 arcsec'"
      ]
    },
    {
      "cell_type": "markdown",
      "metadata": {},
      "source": [
        "As well as the individual frame transformations in the chain from ITRF to J2000.\nIn each transformation, we start with the truth Vallado value so that the error does not accumulate from earlier transformations. This lets us see how much error each transformation introduces by itself\n\n"
      ]
    },
    {
      "cell_type": "code",
      "execution_count": null,
      "metadata": {
        "collapsed": false
      },
      "outputs": [],
      "source": [
        "gtod_mine = mr.EarthFixedFrame('itrf', 'gtod').vecs_at_dates(date, itrf_vallado)\ntod_mine = mr.EarthFixedFrame('gtod', 'tod').vecs_at_dates(date, gtod_vallado)\nmod_mine = mr.EarthFixedFrame('tod', 'mod').vecs_at_dates(date, tod_vallado)\nj2000_mine = mr.EarthFixedFrame('mod', 'j2000').vecs_at_dates(date, mod_vallado)"
      ]
    },
    {
      "cell_type": "markdown",
      "metadata": {},
      "source": [
        "Likewise, we compute the componentwise errors in each transformation in meters\n\n"
      ]
    },
    {
      "cell_type": "code",
      "execution_count": null,
      "metadata": {
        "collapsed": false
      },
      "outputs": [],
      "source": [
        "gtod_error = 1e3 * (gtod_mine - gtod_vallado)\ntod_error = 1e3 * (tod_mine - tod_vallado)\nmod_error = 1e3 * (mod_mine - mod_vallado)\nj2000_error = 1e3 * (j2000_mine - j2000_vallado)"
      ]
    },
    {
      "cell_type": "markdown",
      "metadata": {},
      "source": [
        "And assert that these must also be small -- for now we use 1 meter as the target error accumulation per transformation\n\n"
      ]
    },
    {
      "cell_type": "code",
      "execution_count": null,
      "metadata": {
        "collapsed": false
      },
      "outputs": [],
      "source": [
        "assert all(np.abs(gtod_error) < 1), 'ITRF->GTOD error > 1 m'\nassert all(np.abs(tod_error) < 1), 'GTID->TOD error > 1 m'\nassert all(np.abs(mod_error) < 1), 'TOD->MOD error > 1 m'\nassert all(np.abs(j2000_error) < 1), 'MOD->J2000 error > 1 m'"
      ]
    },
    {
      "cell_type": "markdown",
      "metadata": {},
      "source": [
        "Let's collect these error results\n\n"
      ]
    },
    {
      "cell_type": "code",
      "execution_count": null,
      "metadata": {
        "collapsed": false
      },
      "outputs": [],
      "source": [
        "print(f'{tt_error=} [days]')\nprint(f'{ut1_minus_utc_error=} [sec]')\nprint(f'{gmst_error=} [sec]')\nprint(f'{gast_error=} [sec]')\nprint(f'{delta_psi_error=} [arcsec]')\nprint(f'{delta_eps_error=} [arcsec]')\nprint(f'{eps_bar_error=} [arcsec]')\nprint(f'{eps_error=} [arcsec]')\n\nprint('\\n')\nprint(f'{gtod_error=} [m]')\nprint(f'{tod_error=} [m]')\nprint(f'{mod_error=} [m]')\nprint(f'{j2000_error=} [m]')"
      ]
    },
    {
      "cell_type": "markdown",
      "metadata": {},
      "source": [
        "We can now perform a simultaneous transformation that deals with all the sub-rotations behind the scenes\n\n"
      ]
    },
    {
      "cell_type": "code",
      "execution_count": null,
      "metadata": {
        "collapsed": false
      },
      "outputs": [],
      "source": [
        "j2000_mine_combined = mr.EarthFixedFrame('itrf', 'j2000').vecs_at_dates(\n    date, itrf_vallado\n)\n\nprint(f'MINE: {j2000_mine_combined}')\nprint(f'VALL: {j2000_vallado}')\nprint(\n    f'Transformation error: {np.linalg.norm(j2000_mine_combined - j2000_vallado) * 1e3} [m]'\n)"
      ]
    },
    {
      "cell_type": "markdown",
      "metadata": {},
      "source": [
        "Finally, let's run the transformation in reverse to make sure we can both directions\n\n"
      ]
    },
    {
      "cell_type": "code",
      "execution_count": null,
      "metadata": {
        "collapsed": false
      },
      "outputs": [],
      "source": [
        "itrf_mine_combined = mr.EarthFixedFrame('j2000', 'itrf').vecs_at_dates(\n    date, j2000_vallado\n)\n\nprint(f'MINE: {itrf_mine_combined}')\nprint(f'VALL: {itrf_vallado}')\nprint(\n    f'Transformation error: {np.linalg.norm(itrf_mine_combined - itrf_vallado) * 1e3} [m]'\n)"
      ]
    }
  ],
  "metadata": {
    "kernelspec": {
      "display_name": "Python 3",
      "language": "python",
      "name": "python3"
    },
    "language_info": {
      "codemirror_mode": {
        "name": "ipython",
        "version": 3
      },
      "file_extension": ".py",
      "mimetype": "text/x-python",
      "name": "python",
      "nbconvert_exporter": "python",
      "pygments_lexer": "ipython3",
      "version": "3.11.10"
    }
  },
  "nbformat": 4,
  "nbformat_minor": 0
}