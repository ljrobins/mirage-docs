{
  "cells": [
    {
      "cell_type": "markdown",
      "metadata": {},
      "source": [
        "\n# Shape Uncertainty\nMeasuring the uncertainty in an inversion result\n"
      ]
    },
    {
      "cell_type": "markdown",
      "metadata": {},
      "source": [
        "Setting up the observation conditions\n\n"
      ]
    },
    {
      "cell_type": "code",
      "execution_count": null,
      "metadata": {
        "collapsed": false
      },
      "outputs": [],
      "source": [
        "import matplotlib.pyplot as plt\nimport numpy as np\nimport pyvista as pv\n\nimport mirage as mr\nimport mirage.vis as mrv\n\nitensor = np.diag([1.0, 2.0, 3.0])\nw0 = 9e-2 * mr.hat(np.array([[1.0, 1.0, 1.0]]))\nidate = mr.utc(2023, 1, 1, 5)\nobs_time = mr.hours(3)\nobs_dt = mr.seconds(10)\npl_shape = (3, 3)\ninversions = pl_shape[0] * pl_shape[1]\n\nobj_file = 'cylinder.obj'\n\nstation = mr.Station(preset='pogs')\nbrdf = mr.Brdf(name='phong', cd=0.5, cs=0.5, n=10)\nbrdf_inversion = brdf\nattitude = mr.RbtfAttitude(w0=w0, q0=np.array([[0.0, 0.0, 0.0, 1.0]]), itensor=itensor)\n\ndates, epsecs = mr.date_arange(idate, idate + obs_time, obs_dt, return_epsecs=True)\n\nq_of_t, w_of_t = attitude.propagate(epsecs)\ndcms_of_t = mr.quat_to_dcm(q_of_t)\n\nobj = mr.SpaceObject(obj_file, identifier='goes 15')\nlc_ccd_signal_sampler, aux_data = station.observe_light_curve(\n    obj, attitude, brdf, dates, use_engine=False, model_scale_factor=1\n)\n\nsun_body = aux_data['sun_vector_object_body']\nobs_body = aux_data['observer_vector_object_body']\n\nsint = aux_data['sint']\nlc_hat = aux_data['lc_clean_norm']\nconstr = aux_data['all_constraints_satisfied']\nbr_mean = aux_data['background_mean']\nairy_disk_pixels = aux_data['airy_disk_pixels']\nobs_to_moon = aux_data['obs_to_moon']\nlc_clean = aux_data['lc_clean']\nsnr = aux_data['snr']\n\n\nplt.figure(figsize=(7, 5))\nlcs_noisy_adu = np.array([lc_ccd_signal_sampler() for _ in range(1000)])\nlcs_noisy_irrad = lcs_noisy_adu / (\n    aux_data['sint'] * station.telescope.integration_time\n)\nlcs_noisy_unit_irrad = lcs_noisy_irrad * (aux_data['rmag_station_to_sat'] * 1e3) ** 2\nlcs_noisy_mag = mr.irradiance_to_apparent_magnitude(lcs_noisy_irrad)\nvar_lcs = np.var(lcs_noisy_mag, axis=0)\nmean_lcs = np.mean(lcs_noisy_mag, axis=0)\n\nplt.plot(epsecs, mean_lcs, c='k')\nfor stdev in [1, 2, 3]:\n    plt.fill_between(\n        epsecs,\n        mean_lcs - (stdev - 1) * np.sqrt(var_lcs),\n        mean_lcs - stdev * np.sqrt(var_lcs),\n        alpha=0.4 - 0.1 * stdev,\n        color='b',\n        edgecolor=None,\n    )\n    plt.fill_between(\n        epsecs,\n        mean_lcs + (stdev - 1) * np.sqrt(var_lcs),\n        mean_lcs + stdev * np.sqrt(var_lcs),\n        alpha=0.4 - 0.1 * stdev,\n        color='b',\n        edgecolor=None,\n    )\nmrv.texit(\n    'Light Curve with Uncertainty',\n    'Epoch seconds',\n    'Apparent Magnitude',\n    grid=False,\n    legend=['Mean', '1$\\sigma$', '2$\\sigma$', '3$\\sigma$'],\n)\nplt.show()\n\npl = pv.Plotter(shape=pl_shape)\nrec_objs = []\n\nfor i in range(inversions):\n    lc_this = lc_ccd_signal_sampler()\n\n    egi_opt_initial, egi_opt = mr.optimize_egi(\n        lc_this / np.max(lc_this),\n        sun_body,\n        obs_body,\n        brdf_inversion,\n        merge_iter=2,\n        merge_angle=np.pi / 8,\n        return_all=True,\n    )\n\n    # Inversion\n    rec_objs.append(mr.construct_mesh_from_egi(egi_opt))\n\nfor i, rec_obj in enumerate(rec_objs):\n    pl.subplot(i // pl_shape[0], i % pl_shape[1])\n    mrv.render_spaceobject(pl, rec_obj)\n    pl.add_text(\n        f'Sample {i+1}',\n        font='courier',\n    )\npl.show()"
      ]
    }
  ],
  "metadata": {
    "kernelspec": {
      "display_name": "Python 3",
      "language": "python",
      "name": "python3"
    },
    "language_info": {
      "codemirror_mode": {
        "name": "ipython",
        "version": 3
      },
      "file_extension": ".py",
      "mimetype": "text/x-python",
      "name": "python",
      "nbconvert_exporter": "python",
      "pygments_lexer": "ipython3",
      "version": "3.11.9"
    }
  },
  "nbformat": 4,
  "nbformat_minor": 0
}