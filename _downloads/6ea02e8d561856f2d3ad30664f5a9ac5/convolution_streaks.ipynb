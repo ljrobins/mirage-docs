{
  "cells": [
    {
      "cell_type": "markdown",
      "metadata": {},
      "source": [
        "\n# Convolution for Streaks\n"
      ]
    },
    {
      "cell_type": "code",
      "execution_count": null,
      "metadata": {
        "collapsed": false
      },
      "outputs": [],
      "source": [
        "import matplotlib.pyplot as plt\nimport numpy as np\n\nimport mirage as mr\nimport mirage.vis as mrv\n\ntelescope = mr.Telescope(preset='pogs')\ntelescope.sensor_pixels = 40\ntelescope.pixel_scale = 0.05\ntelescope.fwhm = (\n    telescope.airy_disk_fwhm(550.0) * mr.AstroConstants.rad_to_arcsecond\n)  # arcseconds\n\nc_all = 10\nobj_pos = (20, 20)\nx_pix, y_pix = np.meshgrid(\n    np.arange(telescope.sensor_pixels), np.arange(telescope.sensor_pixels)\n)\nr_dist = np.sqrt((x_pix - obj_pos[0] + 0.5) ** 2 + (y_pix - obj_pos[1] + 0.5) ** 2)\ntheta_grid_rad = mr.dms_to_rad(0, 0, r_dist * telescope.pixel_scale)\n\ngaussian_pattern = telescope.gaussian_diffraction_pattern(\n    c_all * 1 / 0.838, theta_grid_rad\n)\nkernel = mr.streak_convolution_kernel([1.0, 1.0], 30)\nres = mr.convolve_with_kernel(gaussian_pattern, kernel)"
      ]
    },
    {
      "cell_type": "markdown",
      "metadata": {},
      "source": [
        "Let's look at the volume of both distributions\n\n"
      ]
    },
    {
      "cell_type": "code",
      "execution_count": null,
      "metadata": {
        "collapsed": false
      },
      "outputs": [],
      "source": [
        "print(f'Gaussian volume: {np.sum(gaussian_pattern):.4f}')"
      ]
    },
    {
      "cell_type": "markdown",
      "metadata": {},
      "source": [
        "Visualize the Airy disk on the CCD grid\n\n"
      ]
    },
    {
      "cell_type": "code",
      "execution_count": null,
      "metadata": {
        "collapsed": false
      },
      "outputs": [],
      "source": [
        "plt.figure(figsize=(10, 4))\nplt.subplot(1, 3, 1)\nplt.imshow(\n    gaussian_pattern,\n    cmap='inferno',\n)\nmrv.texit('$\\kappa(x,y)$', 'x [pixels]', 'y [pixels]', grid=False)\nplt.colorbar(cax=mrv.get_cbar_ax())\nplt.clim(0, np.max(gaussian_pattern))\nplt.subplot(1, 3, 2)\nmrv.texit('$T(\\phi=\\pi/4)$', '$j$', '$i$', grid=False)\nplt.imshow(kernel, cmap='gray')\nplt.colorbar(cax=mrv.get_cbar_ax())\n\nplt.subplot(1, 3, 3)\nplt.imshow(res, cmap='inferno')\nmrv.texit('$T(\\phi=\\pi/4) \\star \\kappa(x,y)$', 'x [pixels]', 'y [pixels]', grid=False)\nplt.colorbar(cax=mrv.get_cbar_ax())\nplt.tight_layout()\nplt.show()"
      ]
    }
  ],
  "metadata": {
    "kernelspec": {
      "display_name": "Python 3",
      "language": "python",
      "name": "python3"
    },
    "language_info": {
      "codemirror_mode": {
        "name": "ipython",
        "version": 3
      },
      "file_extension": ".py",
      "mimetype": "text/x-python",
      "name": "python",
      "nbconvert_exporter": "python",
      "pygments_lexer": "ipython3",
      "version": "3.11.9"
    }
  },
  "nbformat": 4,
  "nbformat_minor": 0
}