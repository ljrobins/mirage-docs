{
  "cells": [
    {
      "cell_type": "markdown",
      "metadata": {},
      "source": [
        "\n# Background Signals at Zenith\nPlotting the general behavior of background signals for zodiac light, moonlight, and integrated starlight at zenith\n"
      ]
    },
    {
      "cell_type": "code",
      "execution_count": null,
      "metadata": {
        "collapsed": false
      },
      "outputs": [],
      "source": [
        "import numpy as np\nimport pyvista as pv\n\nimport mirage as mr\nimport mirage.vis as mrv"
      ]
    },
    {
      "cell_type": "markdown",
      "metadata": {},
      "source": [
        "Let's choose a point after sunset on the US east coast\n\n"
      ]
    },
    {
      "cell_type": "code",
      "execution_count": null,
      "metadata": {
        "collapsed": false
      },
      "outputs": [],
      "source": [
        "date = mr.utc(2023, 3, 1, 1)\nintegration_time_s = 1.0  # seconds"
      ]
    },
    {
      "cell_type": "markdown",
      "metadata": {},
      "source": [
        "We can then generate the background signals for a set of spiral points\n\n"
      ]
    },
    {
      "cell_type": "code",
      "execution_count": null,
      "metadata": {
        "collapsed": false
      },
      "outputs": [],
      "source": [
        "npts = int(1e6)\npts = 1e4 * mr.spiral_sample_sphere(npts)\nsv = np.tile(mr.hat(mr.sun(date)), (npts, 1))\nstation = mr.Station(preset='pogs')\ntdargs = (\n    station,\n    pts,\n    pts / 2 + 0.01,\n    integration_time_s,\n)\nss = mr.integrated_starlight_signal(*tdargs)\n\n\ndef plot_sig(pl, s, cmap, scale=1):\n    mrv.scatter3(\n        pl,\n        scale * pts,\n        scalars=s,\n        cmap=cmap,\n        opacity=(s - np.min(s)) / (np.max(s) - np.min(s)),\n        point_size=15,\n        show_scalar_bar=False,\n        lighting=False,\n    )\n\n\npl = pv.Plotter()\n(mrv.plot_earth(pl, mode='eci', date=date),)\nplot_sig(pl, ss, 'fire', scale=1.2)\npl.camera.position = (35e3, 35e3, -8e3)\n\nmrv.orbit_plotter(pl)"
      ]
    },
    {
      "cell_type": "markdown",
      "metadata": {},
      "source": [
        "A still frame\n\n"
      ]
    },
    {
      "cell_type": "code",
      "execution_count": null,
      "metadata": {
        "collapsed": false
      },
      "outputs": [],
      "source": [
        "pl = pv.Plotter()\n(mrv.plot_earth(pl, mode='eci', date=date),)\nplot_sig(pl, ss, 'fire', scale=1.2)\npl.camera.position = (35e3, 35e3, -8e3)\npl.show()"
      ]
    }
  ],
  "metadata": {
    "kernelspec": {
      "display_name": "Python 3",
      "language": "python",
      "name": "python3"
    },
    "language_info": {
      "codemirror_mode": {
        "name": "ipython",
        "version": 3
      },
      "file_extension": ".py",
      "mimetype": "text/x-python",
      "name": "python",
      "nbconvert_exporter": "python",
      "pygments_lexer": "ipython3",
      "version": "3.11.10"
    }
  },
  "nbformat": 4,
  "nbformat_minor": 0
}