{
  "cells": [
    {
      "cell_type": "markdown",
      "metadata": {},
      "source": [
        "\n# Star Catalogs\n\nInitializing and querying star catalogs\n"
      ]
    },
    {
      "cell_type": "code",
      "execution_count": null,
      "metadata": {
        "collapsed": false
      },
      "outputs": [],
      "source": [
        "import matplotlib.pyplot as plt\nimport numpy as np\n\nimport mirage as mr\nimport mirage.vis as mrv\n\nstation = mr.Station()\ndate = mr.now()\nmr.tic('Loading Gaia')\ngaia = mr.GaiaStarCatalog(station, date)\nmr.toc()\n\nmr.tic('Loading Tycho-2')\ntycho2 = mr.Tycho2StarCatalog(station, date)\nmr.toc()\n\neci_look_dir = mr.hat(np.array([1, 1, 0]))\nlook_ra, look_dec = mr.eci_to_ra_dec(eci_look_dir)\nscope_up_initial = np.array([0, 1, 0])\ntelescope = mr.Telescope(preset='pogs')\nmr.tic('Finding stars in frame for Tycho-2')\nif_uvs_tycho2, if_spec_tycho2 = tycho2.in_fov(eci_look_dir, scope_up_initial)\nmr.toc()\n\nprint(f'Tycho-2 found {if_uvs_tycho2.shape[0]} stars in frame')\n\nmr.tic('Finding stars in frame for Gaia')\nif_uvs_gaia, if_spec_gaia = gaia.in_fov(eci_look_dir, scope_up_initial)\nmr.toc()\n\nprint(f'Gaia found {if_uvs_gaia.shape[0]} stars in frame')"
      ]
    },
    {
      "cell_type": "markdown",
      "metadata": {},
      "source": [
        "Plotting the FOV stars\n\n"
      ]
    },
    {
      "cell_type": "code",
      "execution_count": null,
      "metadata": {
        "collapsed": false
      },
      "outputs": [],
      "source": [
        "gaia_pix_x, gaia_pix_y = telescope.j2000_unit_vectors_to_pixels(\n    eci_look_dir, scope_up_initial, if_uvs_gaia\n)\ntycho_pix_x, tycho_pix_y = telescope.j2000_unit_vectors_to_pixels(\n    eci_look_dir, scope_up_initial, if_uvs_tycho2\n)\n\nplt.figure()\nplt.scatter(gaia_pix_x, gaia_pix_y, s=20, c='black')\nplt.scatter(tycho_pix_x, tycho_pix_y, s=1, c='cyan')\nplt.title('Tycho-2 vs Gaia up close')\nplt.xlabel('RA (pixels)')\nplt.ylabel('Dec (pixels)')\nplt.gca().set_aspect('equal')\nplt.legend(['Gaia', 'Tycho-2'])\nplt.show()"
      ]
    },
    {
      "cell_type": "markdown",
      "metadata": {},
      "source": [
        "Star Aberration\n\n"
      ]
    },
    {
      "cell_type": "code",
      "execution_count": null,
      "metadata": {
        "collapsed": false
      },
      "outputs": [],
      "source": [
        "t2 = mr.load_json_data('tycho2.json')\nalpha_rad, delta_rad = t2['j2000_ra'], t2['j2000_dec']\nmr.tic()\nalpha_rad_app, delta_rad_app = mr.apparent_star_positons(\n    mr.now(), station.lat_geod_rad, alpha_rad, delta_rad\n)\nmr.toc()"
      ]
    },
    {
      "cell_type": "markdown",
      "metadata": {},
      "source": [
        "Plotting the resulting right ascensions and declinations\n\n"
      ]
    },
    {
      "cell_type": "code",
      "execution_count": null,
      "metadata": {
        "collapsed": false
      },
      "outputs": [],
      "source": [
        "plt.scatter(np.rad2deg(alpha_rad), np.rad2deg(delta_rad), s=2)\nplt.scatter(np.rad2deg(alpha_rad_app), np.rad2deg(delta_rad_app), s=2)\nplt.xlim(0, 1)\nplt.ylim(0, 1)\nmrv.texit(\n    'Apparent and True Star Positions',\n    'Right ascension [deg]',\n    'Declination [deg]',\n    ['True', 'Apparent'],\n)\nplt.show()"
      ]
    }
  ],
  "metadata": {
    "kernelspec": {
      "display_name": "Python 3",
      "language": "python",
      "name": "python3"
    },
    "language_info": {
      "codemirror_mode": {
        "name": "ipython",
        "version": 3
      },
      "file_extension": ".py",
      "mimetype": "text/x-python",
      "name": "python",
      "nbconvert_exporter": "python",
      "pygments_lexer": "ipython3",
      "version": "3.11.10"
    }
  },
  "nbformat": 4,
  "nbformat_minor": 0
}