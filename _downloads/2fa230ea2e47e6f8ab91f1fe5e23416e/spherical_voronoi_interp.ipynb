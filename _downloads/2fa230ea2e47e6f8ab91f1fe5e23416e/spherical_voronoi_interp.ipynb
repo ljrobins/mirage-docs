{
  "cells": [
    {
      "cell_type": "markdown",
      "metadata": {},
      "source": [
        "\n# Spherical Voronoi Interpolation\n"
      ]
    },
    {
      "cell_type": "code",
      "execution_count": null,
      "metadata": {
        "collapsed": false
      },
      "outputs": [],
      "source": [
        "import numpy as np\nimport pyvista as pv\n\nimport mirage as mr\nimport mirage.vis as mrv\n\nnref = int(1e2)\nref_pts = mr.spiral_sample_sphere(nref)\nref_weights = np.random.rand(nref)\n\nquery_pts = mr.rand_points_in_shell((0, 1), int(1e6))\n\nw1 = mr.SphericalWeight(ref_pts, ref_weights)\nmr.tic()\nquery_weights = w1.query_points(query_pts)\nmr.toc()\n\npl = pv.Plotter()\nmrv.scatter3(\n    pl,\n    query_pts,\n    scalars=query_weights,\n    point_size=10,\n    scalar_bar_args=dict(title='Weight'),\n)\nmrv.scatter3(pl, w1.ref_pts, color='r', point_size=20)\npl.camera.zoom(1.3)\npl.show()"
      ]
    },
    {
      "cell_type": "markdown",
      "metadata": {},
      "source": [
        "Defining a new set of weights and merging the two\n\n"
      ]
    },
    {
      "cell_type": "code",
      "execution_count": null,
      "metadata": {
        "collapsed": false
      },
      "outputs": [],
      "source": [
        "w2 = mr.SphericalWeight(mr.rand_unit_vectors(nref), np.random.rand(nref))\nm12 = w1 + w2\n\npl = pv.Plotter()\nmrv.scatter3(\n    pl,\n    query_pts,\n    scalars=m12.query_points(query_pts),\n    point_size=10,\n    scalar_bar_args=dict(title='Weight'),\n)\npl.show()"
      ]
    },
    {
      "cell_type": "markdown",
      "metadata": {},
      "source": [
        "Bilinear interpolation sampling\n\n"
      ]
    },
    {
      "cell_type": "code",
      "execution_count": null,
      "metadata": {
        "collapsed": false
      },
      "outputs": [],
      "source": [
        "pl = pv.Plotter()\nmrv.scatter3(\n    pl,\n    query_pts,\n    scalars=m12.query_points(query_pts, method='bilinear'),\n    point_size=10,\n    scalar_bar_args=dict(title='Weight'),\n)\nmrv.scatter3(pl, m12.ref_pts, color='r', point_size=20)\npl.show()"
      ]
    }
  ],
  "metadata": {
    "kernelspec": {
      "display_name": "Python 3",
      "language": "python",
      "name": "python3"
    },
    "language_info": {
      "codemirror_mode": {
        "name": "ipython",
        "version": 3
      },
      "file_extension": ".py",
      "mimetype": "text/x-python",
      "name": "python",
      "nbconvert_exporter": "python",
      "pygments_lexer": "ipython3",
      "version": "3.11.9"
    }
  },
  "nbformat": 4,
  "nbformat_minor": 0
}