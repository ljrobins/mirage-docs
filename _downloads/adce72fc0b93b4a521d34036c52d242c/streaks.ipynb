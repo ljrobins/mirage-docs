{
  "cells": [
    {
      "cell_type": "markdown",
      "metadata": {},
      "source": [
        "\n# Streak Detection and Centroiding\n\nDoing image processing to figure out where the streaks are on a FITS image\n"
      ]
    },
    {
      "cell_type": "code",
      "execution_count": null,
      "metadata": {
        "collapsed": false
      },
      "outputs": [],
      "source": [
        "import matplotlib.pyplot as plt\nimport numpy as np\nfrom matplotlib.animation import FuncAnimation, PillowWriter\n\nimport mirage as mr\nimport mirage.vis as mrv\n\nfits_path = '/Users/liamrobinson/Library/CloudStorage/OneDrive-purdue.edu/pogs/misc/00161295.48859.fit'\n\ninfo = mr.info_from_fits(fits_path)\nimg = info['ccd_adu']\nimg_raw = img.copy()\nimg_log10 = np.log10(img)\nimg = np.log10(np.clip(img - mr.image_background_parabola(img), 1, np.inf))\ntotal_pix_tracked = info['total_pix_tracked']\n\nimg[img < 1] = 0\nimg[np.isnan(img) | np.isinf(np.abs(img))] = 0\n\nstreak_length = 100"
      ]
    },
    {
      "cell_type": "markdown",
      "metadata": {},
      "source": [
        "Demonstrating the dependence of convolved variance on template streak direction\n\n"
      ]
    },
    {
      "cell_type": "code",
      "execution_count": null,
      "metadata": {
        "collapsed": false
      },
      "outputs": [],
      "source": [
        "plt.figure(figsize=(15, 5))\nthetas = np.linspace(0, np.pi, 30, endpoint=False)\nvars = np.zeros_like(thetas)\nimg_for_gif = img[::10, ::10]\n\n\ndef animate(i):\n    global vars\n    dir = np.array([np.cos(thetas[i]), np.sin(thetas[i])])\n    kernel = mr.streak_convolution_kernel(dir, streak_length)\n    conv_img = mr.streak_convolution(img_for_gif, dir, streak_length)\n    vars[i] = np.var(conv_img)\n    plt.subplot(1, 3, 1)\n    plt.gca().cla()\n    plt.imshow(conv_img)\n    mrv.texit('Convolved Image', '', '', grid=False)\n    plt.subplot(1, 3, 2)\n    plt.gca().cla()\n    plt.imshow(kernel)\n    mrv.texit(rf'Streak Kernel $\\theta={thetas[i]:2.2f}$ [rad]', '', '', grid=False)\n    plt.subplot(1, 3, 3)\n    plt.gca().cla()\n    plt.plot(thetas[: i + 1], vars[: i + 1])\n    plt.xlim(0, np.pi)\n    plt.ylim(0, 0.025)\n    mrv.texit(\n        'Convolved Image Variance', 'Streak angle [rad]', 'Variance [ndim]', grid=True\n    )\n    plt.pause(0.01)\n    plt.tight_layout()\n\n\nani = FuncAnimation(plt.gcf(), animate, repeat=True, frames=thetas.size, interval=50)\nwriter = PillowWriter(fps=10, bitrate=1800)\nwriter.setup(ani, 'streaks.gif', dpi=200)\nani.save('streaks.gif', writer=writer)\n\nplt.show()"
      ]
    },
    {
      "cell_type": "markdown",
      "metadata": {},
      "source": [
        "Find the centroids\n\n"
      ]
    },
    {
      "cell_type": "code",
      "execution_count": null,
      "metadata": {
        "collapsed": false
      },
      "outputs": [],
      "source": [
        "stars = mr.solve_star_centroids(info)\n\nprint(f'Found {len(stars)} streaks on the first pass')"
      ]
    },
    {
      "cell_type": "markdown",
      "metadata": {},
      "source": [
        "Rotating back into the original frame\n\n"
      ]
    },
    {
      "cell_type": "code",
      "execution_count": null,
      "metadata": {
        "collapsed": false
      },
      "outputs": [],
      "source": [
        "plt.imshow(img, cmap='gray')\nfor star in stars:\n    plt.plot(star['bbox'][:, 0], star['bbox'][:, 1], color='lime', linewidth=0.2)\nplt.scatter(\n    [star['centroid'][0] for star in stars],\n    [star['centroid'][1] for star in stars],\n    c=[star['brightness'] for star in stars],\n    cmap='cool',\n    s=10,\n)\n# label the colorbar with adu\nplt.colorbar(label='Total Star ADU')\nplt.xlim(0, img.shape[1])\nplt.ylim(0, img.shape[0])\nmrv.texit('True Image with Centroids', '', '', grid=False)\n\n# plt.subplot(1, 2, 2)\n# plt.imshow(np.log10(rotated_image_raw + rotated_image_raw.min() + 10), cmap=\"gist_stern\")\n# for star in stars:\n#     plt.plot(star[\"rotated_bbox\"][:, 0], star[\"rotated_bbox\"][:, 1], color=\"lime\", linewidth=0.2)\n\n# plt.scatter([star[\"rotated_centroid\"][0] for star in stars],\n#             [star[\"rotated_centroid\"][1] for star in stars],\n#             c=[star[\"brightness\"] for star in stars], cmap=\"plasma\")\n\nplt.show()"
      ]
    }
  ],
  "metadata": {
    "kernelspec": {
      "display_name": "Python 3",
      "language": "python",
      "name": "python3"
    },
    "language_info": {
      "codemirror_mode": {
        "name": "ipython",
        "version": 3
      },
      "file_extension": ".py",
      "mimetype": "text/x-python",
      "name": "python",
      "nbconvert_exporter": "python",
      "pygments_lexer": "ipython3",
      "version": "3.11.10"
    }
  },
  "nbformat": 4,
  "nbformat_minor": 0
}