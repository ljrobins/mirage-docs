{
  "cells": [
    {
      "cell_type": "markdown",
      "metadata": {},
      "source": [
        "\n# Shadow Functions\n\nComparing the effect of the atmosphere on penumbra shadow modeling\n"
      ]
    },
    {
      "cell_type": "code",
      "execution_count": null,
      "metadata": {
        "collapsed": false
      },
      "outputs": [],
      "source": [
        "import datetime\n\nimport matplotlib.pyplot as plt\nimport shado\n\nimport mirage as mr\nimport mirage.vis as mrv\n\n\ndef plot_shadow_function_for_dates(obj, dates) -> None:\n    plt.figure(figsize=(8, 4))\n    r = obj.propagate(dates)\n    s = mr.sun(dates)\n    sf = shado.shadow_function(r, s)\n    sf_mine = mr.sun_irradiance_fraction(dates, r)\n\n    plt.plot(dates, sf, label='Liu et al. 2019')\n    plt.plot(dates, sf_mine, label='Krag 2003')\n    mrv.texit(\n        f'{obj.sat.name}',\n        f\"Date UTC ({dates[0].strftime('%b %d %Y')})\",\n        'Irradiance fraction',\n    )\n    plt.legend()\n    plt.tight_layout()\n    plt.show()"
      ]
    },
    {
      "cell_type": "markdown",
      "metadata": {},
      "source": [
        "Galileo (MEO)\n\n"
      ]
    },
    {
      "cell_type": "code",
      "execution_count": null,
      "metadata": {
        "collapsed": false
      },
      "outputs": [],
      "source": [
        "galileo = mr.SpaceObject('cube.obj', identifier='2011-060A')\nd0 = mr.utc(2015, 1, 11, 18, 33, 34)\ngalileo_dates = mr.date_linspace(d0 - mr.minutes(1), d0 + mr.minutes(1), 100)\nplot_shadow_function_for_dates(galileo, galileo_dates)"
      ]
    },
    {
      "cell_type": "markdown",
      "metadata": {},
      "source": [
        "GRACE (LEO)\n\n"
      ]
    },
    {
      "cell_type": "code",
      "execution_count": null,
      "metadata": {
        "collapsed": false
      },
      "outputs": [],
      "source": [
        "grace = mr.SpaceObject('cube.obj', identifier='GRACE1')\nd0 = mr.utc(2007, 1, 20, 1, 27, 25)\ngrace_dates = mr.date_linspace(d0 - mr.seconds(20), d0 + mr.seconds(20), 100)\nplot_shadow_function_for_dates(grace, grace_dates)"
      ]
    },
    {
      "cell_type": "markdown",
      "metadata": {},
      "source": [
        "SL-3 R/B (LEO)\n\n"
      ]
    },
    {
      "cell_type": "code",
      "execution_count": null,
      "metadata": {
        "collapsed": false
      },
      "outputs": [],
      "source": [
        "sl3rb = mr.SpaceObject('cube.obj', identifier='1973-015B')\nd0, df = (\n    datetime.datetime.fromisoformat('2021-05-03 22:35:06.904337+02:00'),\n    datetime.datetime.fromisoformat('2021-05-03 22:36:38.541901+02:00'),\n)\nsl3rb_dates = mr.date_linspace(d0, df, 100)\nplot_shadow_function_for_dates(sl3rb, sl3rb_dates)"
      ]
    }
  ],
  "metadata": {
    "kernelspec": {
      "display_name": "Python 3",
      "language": "python",
      "name": "python3"
    },
    "language_info": {
      "codemirror_mode": {
        "name": "ipython",
        "version": 3
      },
      "file_extension": ".py",
      "mimetype": "text/x-python",
      "name": "python",
      "nbconvert_exporter": "python",
      "pygments_lexer": "ipython3",
      "version": "3.11.10"
    }
  },
  "nbformat": 4,
  "nbformat_minor": 0
}