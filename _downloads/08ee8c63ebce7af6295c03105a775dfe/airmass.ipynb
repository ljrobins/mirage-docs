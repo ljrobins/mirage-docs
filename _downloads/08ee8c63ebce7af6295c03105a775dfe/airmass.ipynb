{
  "cells": [
    {
      "cell_type": "markdown",
      "metadata": {},
      "source": [
        "\n# Airmass Function Comparison\nComparing the approximate and true airmass functions\n"
      ]
    },
    {
      "cell_type": "code",
      "execution_count": null,
      "metadata": {
        "collapsed": false
      },
      "outputs": [],
      "source": [
        "import matplotlib.pyplot as plt\nimport numpy as np\n\nimport mirage as mr\nimport mirage.vis as mrv\n\ntheta = np.linspace(0, np.pi / 2 - 0.01, int(1e3))\n\nplt.plot(theta, mr.relative_airmass(theta, approx=True))\nplt.plot(theta, mr.relative_airmass(theta, approx=False))\nplt.yscale('log')\nmrv.texit(\n    'Airmass Functions',\n    'Zenith Angle [rad]',\n    'Relative airmass',\n    [r'$\\sec\\theta$', 'Pickering'],\n)\nplt.show()"
      ]
    }
  ],
  "metadata": {
    "kernelspec": {
      "display_name": "Python 3",
      "language": "python",
      "name": "python3"
    },
    "language_info": {
      "codemirror_mode": {
        "name": "ipython",
        "version": 3
      },
      "file_extension": ".py",
      "mimetype": "text/x-python",
      "name": "python",
      "nbconvert_exporter": "python",
      "pygments_lexer": "ipython3",
      "version": "3.11.9"
    }
  },
  "nbformat": 4,
  "nbformat_minor": 0
}