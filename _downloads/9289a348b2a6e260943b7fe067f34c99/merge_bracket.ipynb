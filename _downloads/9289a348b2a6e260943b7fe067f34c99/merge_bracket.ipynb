{
  "cells": [
    {
      "cell_type": "markdown",
      "metadata": {},
      "source": [
        "\n# Shape Interpolation Bracket\n\nShape interpolating using SDFs for large numbers of input shapes\n"
      ]
    },
    {
      "cell_type": "markdown",
      "metadata": {},
      "source": [
        "Problem: Merging a bunch of objects all at once leads to terrible results\n\n"
      ]
    },
    {
      "cell_type": "code",
      "execution_count": null,
      "metadata": {
        "collapsed": false
      },
      "outputs": [],
      "source": [
        "import numpy as np\nimport pyvista as pv\n\nimport mirage as mr\nimport mirage.vis as mrv\n\nobjs = [mr.SpaceObject(x) for x in ['duck.obj', 'cylinder.obj']]\n\nw2 = mr.SphericalWeight(mr.spiral_sample_sphere(5), np.random.rand(5))\nweights = np.array([10, w2])\nobj_merged = mr.merge_shapes(objs, weights, grid_density=200)\n\npl = pv.Plotter()\nmrv.render_spaceobject(pl, obj_merged)\npl.show()"
      ]
    }
  ],
  "metadata": {
    "kernelspec": {
      "display_name": "Python 3",
      "language": "python",
      "name": "python3"
    },
    "language_info": {
      "codemirror_mode": {
        "name": "ipython",
        "version": 3
      },
      "file_extension": ".py",
      "mimetype": "text/x-python",
      "name": "python",
      "nbconvert_exporter": "python",
      "pygments_lexer": "ipython3",
      "version": "3.11.9"
    }
  },
  "nbformat": 4,
  "nbformat_minor": 0
}