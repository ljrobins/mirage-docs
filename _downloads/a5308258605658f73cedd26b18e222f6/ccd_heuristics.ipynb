{
  "cells": [
    {
      "cell_type": "markdown",
      "metadata": {},
      "source": [
        "\n# CCD Heuristics\n\nExamples to develop a better intuition for CCD counts from known sources\n"
      ]
    },
    {
      "cell_type": "code",
      "execution_count": null,
      "metadata": {
        "collapsed": false
      },
      "outputs": [],
      "source": [
        "import numpy as np\n\nimport mirage as mr\n\nz_obs = 0.0  # Point the telescope towards zenith\nstation = mr.Station(preset='pogs')\nprojected_irrad_per_pixel_area = mr.dms_to_rad(\n    0, 0, station.telescope.ccd.pixel_scale\n) ** 2 * mr.mpsas_to_irradiance_per_steradian(22)\nsint_val = mr.sint(station, z_obs)[0]\ncount_per_second_per_pixel = sint_val * projected_irrad_per_pixel_area\nprint(\n    f'For a telescope pointed towards zenith of 22 MPSAS sky, each pixel counts on average {count_per_second_per_pixel:.2f} per second'\n)"
      ]
    },
    {
      "cell_type": "markdown",
      "metadata": {},
      "source": [
        "We can also look at counts due to point sources. Note that these sources are actually spread across a few pixels, so the values are actually much lower on the CCD\n\n"
      ]
    },
    {
      "cell_type": "code",
      "execution_count": null,
      "metadata": {
        "collapsed": false
      },
      "outputs": [],
      "source": [
        "total_star_counts = sint_val * mr.apparent_magnitude_to_irradiance(16)\nprint(\n    f'A magnitude 16 star produces on average {total_star_counts:.2e} counts per second'\n)\n\ntotal_star_counts = sint_val * mr.apparent_magnitude_to_irradiance(8)\nprint(\n    f'A magnitude 8 star produces on average {total_star_counts:.2e} counts per second'\n)\n\nirrad_sphere = (\n    mr.normalized_light_curve_sphere(\n        cd_sphere=1.0, r_sphere_m=10, phase_angle_rad=np.pi / 2\n    )\n    / (40e6) ** 2\n)\nprint(\n    f'A 10-meter diffuse sphere in GEO produces on average {irrad_sphere*sint_val:.2e} counts per second'\n)"
      ]
    },
    {
      "cell_type": "markdown",
      "metadata": {},
      "source": [
        "The size in square pixels of a large GEO satellite when observed from the surface of the Earth by POGS\n\n"
      ]
    },
    {
      "cell_type": "code",
      "execution_count": null,
      "metadata": {
        "collapsed": false
      },
      "outputs": [],
      "source": [
        "station.telescope.ccd.pixel_scale = 1\nstation.telescope.aperture_diameter = 0.5\nsat_radius_m = 20\nsat_dist_m = (36e3) * 1e3\npscale = station.telescope.ccd.pixel_scale  # arcseconds / pixel\np_area_sterad = mr.dms_to_rad(0, 0, pscale) ** 2  # sterad / pixel ** 2\nangular_radius_of_sat_geo = np.arctan(sat_radius_m / sat_dist_m)\nangular_radius_of_sat_geo_pix = angular_radius_of_sat_geo / mr.dms_to_rad(\n    0, 0, station.telescope.ccd.pixel_scale\n)\n\nprint(f'A GEO satellite is {2*angular_radius_of_sat_geo_pix:.1f} pixels wide from POGS')\n\nsat_radius_m = 0.3\nsat_dist_m = (1000) * 1e3\npscale = station.telescope.ccd.pixel_scale  # arcseconds / pixel\np_area_sterad = mr.dms_to_rad(0, 0, pscale) ** 2  # sterad / pixel ** 2\nangular_radius_of_sat_leo = np.arctan(sat_radius_m / sat_dist_m)\nangular_radius_of_sat_leo_pix = angular_radius_of_sat_leo / mr.dms_to_rad(\n    0, 0, station.telescope.ccd.pixel_scale\n)\n\nprint(f'A LEO satellite is {2*angular_radius_of_sat_leo_pix:.1f} pixels wide from POGS')"
      ]
    },
    {
      "cell_type": "markdown",
      "metadata": {},
      "source": [
        "Airy disk size for GEO objects\n\n"
      ]
    },
    {
      "cell_type": "code",
      "execution_count": null,
      "metadata": {
        "collapsed": false
      },
      "outputs": [],
      "source": [
        "rayleigh_crit_rad = 1.22 * 550e-9 / station.telescope.aperture_diameter\nrayleigh_crit_pix = rayleigh_crit_rad / mr.dms_to_rad(\n    0, 0, station.telescope.ccd.pixel_scale\n)\nprint(\n    f'For GEO the Airy disk is {rayleigh_crit_pix/angular_radius_of_sat_geo_pix:.1f}x wider than the object itself'\n)\nprint(\n    f'For LEO the Airy disk is {rayleigh_crit_pix/angular_radius_of_sat_leo_pix:.1f}x wider than the object itself'\n)"
      ]
    }
  ],
  "metadata": {
    "kernelspec": {
      "display_name": "Python 3",
      "language": "python",
      "name": "python3"
    },
    "language_info": {
      "codemirror_mode": {
        "name": "ipython",
        "version": 3
      },
      "file_extension": ".py",
      "mimetype": "text/x-python",
      "name": "python",
      "nbconvert_exporter": "python",
      "pygments_lexer": "ipython3",
      "version": "3.11.10"
    }
  },
  "nbformat": 4,
  "nbformat_minor": 0
}