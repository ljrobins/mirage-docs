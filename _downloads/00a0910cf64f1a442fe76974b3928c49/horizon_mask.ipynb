{
  "cells": [
    {
      "cell_type": "markdown",
      "metadata": {},
      "source": [
        "\n# Horizon Masks\n\nBuilds a terrain-driven horizon mask for a given station and displays the result\n"
      ]
    },
    {
      "cell_type": "code",
      "execution_count": null,
      "metadata": {
        "collapsed": false
      },
      "outputs": [],
      "source": [
        "import numpy as np\nimport pyvista as pv\nimport terrainman as tm"
      ]
    },
    {
      "cell_type": "markdown",
      "metadata": {},
      "source": [
        "Defining the station at Katmandu, where ``station.name`` informs the name of the resulting mask file\n\n"
      ]
    },
    {
      "cell_type": "code",
      "execution_count": null,
      "metadata": {
        "collapsed": false
      },
      "outputs": [],
      "source": [
        "import mirage as mr\nimport mirage.vis as mrv\n\nstation = mr.Station(\n    preset=\"pogs\",\n    lat_deg=27.7172,\n    lon_deg=85.3240,\n    alt_km=0,\n    name=\"Katmandu\",\n    altitude_reference=\"terrain\",\n)"
      ]
    },
    {
      "cell_type": "markdown",
      "metadata": {},
      "source": [
        "Loads a terrain tile containing the station and create a mask for the station location\n\n"
      ]
    },
    {
      "cell_type": "code",
      "execution_count": null,
      "metadata": {
        "collapsed": false
      },
      "outputs": [],
      "source": [
        "tile = tm.TerrainDataHandler().load_tiles_containing(\n    station.lat_geod_deg, station.lon_deg\n)\nmask = mr.HorizonMask(\n    station.lat_geod_rad,\n    station.lon_rad,\n    station.name,\n    mask_resolution=2000,\n)"
      ]
    },
    {
      "cell_type": "markdown",
      "metadata": {},
      "source": [
        "Build a tile from the raw tile data\n\n"
      ]
    },
    {
      "cell_type": "code",
      "execution_count": null,
      "metadata": {
        "collapsed": false
      },
      "outputs": [],
      "source": [
        "lat_grid, lon_grid = tile.lat_grid, tile.lon_grid\nelev_grid = tile.elev_grid / 1e3\nitrf_terrain = mr.lla_to_itrf(\n    np.deg2rad(lat_grid).flatten(),\n    np.deg2rad(lon_grid).flatten(),\n    elev_grid.flatten() + mr.geoid_height_at_lla(station.lat_geod_rad, station.lon_rad),\n)"
      ]
    },
    {
      "cell_type": "markdown",
      "metadata": {},
      "source": [
        "Convert the terrain data into East North Up (ENU) coordinates and plot the result\n\n"
      ]
    },
    {
      "cell_type": "code",
      "execution_count": null,
      "metadata": {
        "collapsed": false
      },
      "outputs": [],
      "source": [
        "enu_terrain = (mr.ecef_to_enu(station.itrf) @ (itrf_terrain - station.itrf).T).T\ndem = pv.StructuredGrid(\n    enu_terrain[:, 0].reshape(elev_grid.shape),\n    enu_terrain[:, 1].reshape(elev_grid.shape),\n    enu_terrain[:, 2].reshape(elev_grid.shape),\n)\ndem[\"Elevation [km]\"] = elev_grid.flatten(order=\"F\")\n\nenu_rays = mr.az_el_to_enu(mask.az, mask.el)\n\npl = pv.Plotter()\npl.set_background(\"black\")\npl.add_mesh(\n    dem,\n    smooth_shading=True,\n    scalars=\"Elevation [km]\",\n    cmap=\"terrain\",\n    opacity=1.0,\n    show_scalar_bar=True,\n)\n\nmrv.scatter3(pl, enu_rays, color=\"w\", show_scalar_bar=False)\npl.add_text(\"Katmandu Horizon Mask\", font=\"courier\")\n\npath = pv.Polygon(\n    center=(0.0, 0.0, 0.0),\n    radius=0.0001,\n    normal=(0.0, 0.0, 1.0),\n    n_sides=200,\n)\npl.open_gif(\"orbit_horizon.gif\", fps=30)\nfor campos in path.points:\n    pl.camera.position = campos\n    pl.camera.focal_point = (0.0, 0.0, 0.0)\n    pl.write_frame()\npl.close()"
      ]
    }
  ],
  "metadata": {
    "kernelspec": {
      "display_name": "Python 3",
      "language": "python",
      "name": "python3"
    },
    "language_info": {
      "codemirror_mode": {
        "name": "ipython",
        "version": 3
      },
      "file_extension": ".py",
      "mimetype": "text/x-python",
      "name": "python",
      "nbconvert_exporter": "python",
      "pygments_lexer": "ipython3",
      "version": "3.11.9"
    }
  },
  "nbformat": 4,
  "nbformat_minor": 0
}