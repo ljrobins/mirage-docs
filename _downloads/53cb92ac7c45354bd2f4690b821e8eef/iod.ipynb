{
  "cells": [
    {
      "cell_type": "markdown",
      "metadata": {},
      "source": [
        "\n# Classical IOD Methods\n"
      ]
    },
    {
      "cell_type": "code",
      "execution_count": null,
      "metadata": {
        "collapsed": false
      },
      "outputs": [],
      "source": [
        "import numpy as np\nimport pyvista as pv\n\nimport mirage as mr\nimport mirage.vis as mrv\n\nstation = mr.Station()\nobj = mr.SpaceObject('cube.obj', identifier=36411)\ndates = mr.date_linspace(mr.now(), mr.now() + mr.seconds(200), 3)\no_pos = obj.propagate(dates)\ns_pos = station.j2000_at_dates(dates)\n\nlook_dirs_eci = mr.hat(\n    o_pos\n    - s_pos\n    + np.random.multivariate_normal(\n        mean=[0.0, 0.0, 0.0], cov=1e-5 * np.eye(3), size=o_pos.shape\n    )\n)\n\nras, decs = mr.eci_to_ra_dec(look_dirs_eci)\n\n# Position vector methods\nmr.tic('Gibbs')\nstate2_gibbs = mr.gibbs_iod(o_pos)\nmr.toc()\nmr.tic('Herrick-Gibbs')\nstate2_herrick_gibbs = mr.herrick_gibbs_iod(o_pos, dates)\nmr.toc()\n# Angles-only methods\nmr.tic('Laplace')\nstate2_laplace = mr.laplace_iod(station, dates, ras, decs)\nmr.toc()\nmr.tic('Gauss')\nstate2_gauss = mr.gauss_iod(station, dates, ras, decs)\nmr.toc()\n\ndense_dates = mr.date_linspace(mr.now(), mr.now() + mr.days(1), 1_000)\nobj_pos = obj.propagate(dense_dates)\n\npl = pv.Plotter()\nmrv.plot3(pl, obj_pos, line_width=10, lighting=False, color='r')\n\niod_pos_gauss = mr.integrate_orbit_dynamics(state2_gauss, dense_dates)[:, :3]\nmrv.plot3(pl, iod_pos_gauss, line_width=10, lighting=False, color='lime')\n\niod_pos_gibbs = mr.integrate_orbit_dynamics(state2_gibbs, dense_dates)[:, :3]\nmrv.plot3(pl, iod_pos_gibbs, line_width=10, lighting=False, color='white')\n\niod_pos_herrick_gibbs = mr.integrate_orbit_dynamics(state2_herrick_gibbs, dense_dates)[\n    :, :3\n]\nmrv.plot3(pl, iod_pos_herrick_gibbs, line_width=10, lighting=False, color='b')\n\nmrv.plot_earth(pl)\npl.show()"
      ]
    }
  ],
  "metadata": {
    "kernelspec": {
      "display_name": "Python 3",
      "language": "python",
      "name": "python3"
    },
    "language_info": {
      "codemirror_mode": {
        "name": "ipython",
        "version": 3
      },
      "file_extension": ".py",
      "mimetype": "text/x-python",
      "name": "python",
      "nbconvert_exporter": "python",
      "pygments_lexer": "ipython3",
      "version": "3.11.9"
    }
  },
  "nbformat": 4,
  "nbformat_minor": 0
}