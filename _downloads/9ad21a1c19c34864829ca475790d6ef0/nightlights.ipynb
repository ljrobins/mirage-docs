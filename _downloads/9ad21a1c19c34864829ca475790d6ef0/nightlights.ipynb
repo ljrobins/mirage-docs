{
  "cells": [
    {
      "cell_type": "markdown",
      "metadata": {},
      "source": [
        "\n# Zenith Light Pollution\n\nPlotting and querying a large dataset of zenith light pollution from the [Light Pollution Map](https://www.lightpollutionmap.info/help.html#FAQ31), with the raw file [found here](https://www2.lightpollutionmap.info/data/viirs_2022_raw.zip)\n"
      ]
    },
    {
      "cell_type": "code",
      "execution_count": null,
      "metadata": {
        "collapsed": false
      },
      "outputs": [],
      "source": [
        "import os\n\nimport matplotlib.pyplot as plt\nimport numpy as np\nimport rasterio\n\nimport mirage as mr\nimport mirage.vis as mrv"
      ]
    },
    {
      "cell_type": "markdown",
      "metadata": {},
      "source": [
        "Let's plot the zenith sky radiances as reported by the World Atlas 2015 dataset.\n\n"
      ]
    },
    {
      "cell_type": "code",
      "execution_count": null,
      "metadata": {
        "collapsed": false
      },
      "outputs": [],
      "source": [
        "data_file = os.path.join(os.environ['DATADIR'], 'World_Atlas_2015.tif')\n\nif not os.path.exists(data_file):\n    mr.save_file_from_url(\n        'https://filebin.net/v3ja2gt5jrifqsc6/World_Atlas_2015.zip',\n        os.environ['DATADIR'],\n    )\n\n# from scipy.optimize import fsolve\n# x = 0.171168465\n# f = lambda lam_nm: mr.mcd_per_cm2_to_mpsas(x, lam_nm=lam_nm)-22\n# print(fsolve(f, x0=474))\n\nmcd_per_m2 = 0.171168465  # corresponds to mpsas=22\n\nprint(mr.mcd_per_m2_to_mpsas(mcd_per_m2))\nprint(mr.mpsas_to_mcd_per_m2(22))\nprint(mr.mpsas_to_mcd_per_m2(17.88))\nprint(mr.mcd_m2_to_watt_m2_sr(mcd_per_m2))\nprint(mr.candela_to_watt_per_sr(mcd_per_m2 / 1e3, lambdas=473.74960958))\nprint(mr.mpsas_to_irradiance_per_steradian(22))\n\n\nprint(-2.5 * np.log10(0.171 / 108000000))\nprint(108000000 * 10 ** (-22 / 2.5))\n\nprint(108000000 / 3600**2)\nprint(mr.AstroConstants.steradian_to_arcsecond2)\n\nassert mr.candela_to_watt_per_sr(mr.watt_per_sr_to_candela(0.5)) == 0.5\n\nwith rasterio.open(data_file, 'r') as f:\n    mr.tic()\n    art_brightness = f.read().squeeze()  # mcd / m^2\n    mr.toc()\n    art_brightness_cd = art_brightness / 1e3\n\n    artifical_radiance_spectrum = mr.candela_to_watt_per_sr(\n        art_brightness_cd, lambdas=473.74960958\n    )  # w / m^2 / sr\n\nz = art_brightness_cd"
      ]
    },
    {
      "cell_type": "markdown",
      "metadata": {},
      "source": [
        "Plotting zenith light pollution in MPSAS\n\n"
      ]
    },
    {
      "cell_type": "code",
      "execution_count": null,
      "metadata": {
        "collapsed": false
      },
      "outputs": [],
      "source": [
        "plt.xlim(-102, -65)\nplt.ylim(22, 54)\nplt.xlabel('Longitude [deg]')\nplt.ylabel('Latitude [deg]')\nmrv.plot_map_with_grid(\n    z,\n    'Light Pollution in Eastern US',\n    r'World Atlas 2015 Zenith Brightness $\\left[\\frac{cd}{m^2}\\right]$',\n    cmap=plt.get_cmap('gnuplot'),\n    borders=True,\n    border_color='w',\n    extent=(-180, 180, -60, 85),\n    set_plot_size=False,\n)\nplt.clim(*np.percentile(z, [0.1, 99.9]))\nplt.show()"
      ]
    },
    {
      "cell_type": "markdown",
      "metadata": {},
      "source": [
        "Let's plot the ground-level radiances as observed by the VIIRS satellite\n\n"
      ]
    },
    {
      "cell_type": "code",
      "execution_count": null,
      "metadata": {
        "collapsed": false
      },
      "outputs": [],
      "source": [
        "data_file = os.path.join(os.environ['DATADIR'], 'viirs_2022_raw.tif')\n\nif not os.path.exists(data_file):\n    mr.save_file_from_url(\n        'ps://www2.lightpollutionmap.info/data/viirs_2022_raw.zip',\n        os.environ['DATADIR'],\n    )\n\nwith rasterio.open(data_file, 'r') as f:\n    mr.tic()\n    x = f.read().squeeze()  # nW / cm^2 / sr\n    mr.toc()\n    x = x[::10, ::10] * 1e-9  # W / cm^2 / sr\n    x[np.isinf(np.abs(x))] = np.nan\n    x *= 1e4  # W / m^2 / sr\n    x = mr.irradiance_to_apparent_magnitude(\n        x / mr.AstroConstants.steradian_to_arcsecond2\n    )  # mag / arcsec^2\n    x[np.isnan(x) | np.isinf(x)] = 22.0"
      ]
    },
    {
      "cell_type": "markdown",
      "metadata": {},
      "source": [
        "Plotting ground light pollution sources\n\n"
      ]
    },
    {
      "cell_type": "code",
      "execution_count": null,
      "metadata": {
        "collapsed": false
      },
      "outputs": [],
      "source": [
        "plt.xlim(-102, -65)\nplt.ylim(22, 54)\nplt.xlabel('Longitude [deg]')\nplt.ylabel('Latitude [deg]')\nmrv.plot_map_with_grid(\n    x,\n    'Ground Light Sources in Eastern US',\n    r'VIIRS/NPP Lunar BRDF-Adjusted Zenith Radiance $\\left[\\frac{mag}{arcsec^2}\\right]$',\n    cmap=plt.get_cmap('gnuplot'),\n    borders=True,\n    border_color='w',\n    extent=(-180, 180, -65, 75),\n    set_plot_size=False,\n)\nplt.show()"
      ]
    }
  ],
  "metadata": {
    "kernelspec": {
      "display_name": "Python 3",
      "language": "python",
      "name": "python3"
    },
    "language_info": {
      "codemirror_mode": {
        "name": "ipython",
        "version": 3
      },
      "file_extension": ".py",
      "mimetype": "text/x-python",
      "name": "python",
      "nbconvert_exporter": "python",
      "pygments_lexer": "ipython3",
      "version": "3.11.10"
    }
  },
  "nbformat": 4,
  "nbformat_minor": 0
}