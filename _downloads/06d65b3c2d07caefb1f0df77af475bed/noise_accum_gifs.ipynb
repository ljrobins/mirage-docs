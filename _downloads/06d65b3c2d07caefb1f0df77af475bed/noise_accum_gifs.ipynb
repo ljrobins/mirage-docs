{
  "cells": [
    {
      "cell_type": "markdown",
      "metadata": {},
      "source": [
        "\n# Noise Sampling\n\nPlots the accumulation of noise in the CCD due to integration noise, readout noise, and truncation noise.\n"
      ]
    },
    {
      "cell_type": "code",
      "execution_count": null,
      "metadata": {
        "collapsed": false
      },
      "outputs": [],
      "source": [
        "import matplotlib.animation as animation\nimport matplotlib.pyplot as plt\nimport numpy as np"
      ]
    },
    {
      "cell_type": "markdown",
      "metadata": {},
      "source": [
        "Integration noise\n\n"
      ]
    },
    {
      "cell_type": "code",
      "execution_count": null,
      "metadata": {
        "collapsed": false
      },
      "outputs": [],
      "source": [
        "d = 10\nt = np.linspace(0, 1, 100)\ngrid = np.zeros((d, d))\n\nfig, ax = plt.subplots(figsize=(5, 5))\n\nactor = ax.imshow(grid, cmap='gray', vmin=0, vmax=255)\nplt.xticks([])\nplt.yticks([])\n\n\ndef animate(i):\n    global grid\n    grid += np.random.poisson(1, (d, d))\n    actor.set_data(grid)\n    plt.tight_layout()\n    actor.vmin = 0\n    plt.title(f'Integrating... {i / t.size * 100:.1f}%')\n    return (actor,)\n\n\nani = animation.FuncAnimation(fig, animate, repeat=True, frames=t.size, interval=50)\nplt.show()"
      ]
    },
    {
      "cell_type": "markdown",
      "metadata": {},
      "source": [
        "Readout noise\n\n"
      ]
    },
    {
      "cell_type": "code",
      "execution_count": null,
      "metadata": {
        "collapsed": false
      },
      "outputs": [],
      "source": [
        "t = np.linspace(0, 1, 10)\ngrid = np.zeros((d, d))\n\nfig, ax = plt.subplots(figsize=(5, 5))\n\nactor = ax.imshow(grid, cmap='gray', vmin=-2, vmax=2)\nplt.xticks([])\nplt.yticks([])\n\n\ndef animate(i):\n    global grid\n    grid = np.random.normal(0, 1, (d, d))\n    actor.set_data(grid)\n    plt.tight_layout()\n    plt.title(f'Readout Sample {i+1}/{t.size}')\n    return (actor,)\n\n\nani = animation.FuncAnimation(fig, animate, repeat=True, frames=t.size, interval=500)\nplt.show()"
      ]
    },
    {
      "cell_type": "markdown",
      "metadata": {},
      "source": [
        "Truncation noise\n\n"
      ]
    },
    {
      "cell_type": "code",
      "execution_count": null,
      "metadata": {
        "collapsed": false
      },
      "outputs": [],
      "source": [
        "t = np.linspace(0, 1, 10)\ngrid = np.zeros((d, d))\n\nfig, ax = plt.subplots(figsize=(5, 5))\n\nactor = ax.imshow(grid, cmap='gray', vmin=-0.5, vmax=0.5)\nplt.xticks([])\nplt.yticks([])\n\n\ndef animate(i):\n    global grid\n    grid = 0.5 - np.random.random((d, d))\n    actor.set_data(grid)\n    plt.tight_layout()\n    plt.title(f'Truncation Sample {i+1}/{t.size}')\n    return (actor,)\n\n\nani = animation.FuncAnimation(fig, animate, repeat=True, frames=t.size, interval=500)\nplt.show()"
      ]
    }
  ],
  "metadata": {
    "kernelspec": {
      "display_name": "Python 3",
      "language": "python",
      "name": "python3"
    },
    "language_info": {
      "codemirror_mode": {
        "name": "ipython",
        "version": 3
      },
      "file_extension": ".py",
      "mimetype": "text/x-python",
      "name": "python",
      "nbconvert_exporter": "python",
      "pygments_lexer": "ipython3",
      "version": "3.12.7"
    }
  },
  "nbformat": 4,
  "nbformat_minor": 0
}