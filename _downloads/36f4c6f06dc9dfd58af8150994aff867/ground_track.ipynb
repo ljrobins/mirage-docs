{
  "cells": [
    {
      "cell_type": "markdown",
      "metadata": {},
      "source": [
        "\n# Ground Tracks\n\nPlots the ground track for a GPS satellite\n"
      ]
    },
    {
      "cell_type": "code",
      "execution_count": null,
      "metadata": {
        "collapsed": false
      },
      "outputs": [],
      "source": [
        "import os\n\nimport matplotlib.pyplot as plt\nimport numpy as np\nfrom PIL import Image\n\nimport mirage as mr"
      ]
    },
    {
      "cell_type": "markdown",
      "metadata": {},
      "source": [
        "Let's set up a space of dates to operate on\n\n"
      ]
    },
    {
      "cell_type": "code",
      "execution_count": null,
      "metadata": {
        "collapsed": false
      },
      "outputs": [],
      "source": [
        "dates = mr.date_linspace(mr.now(), mr.now() + mr.days(1.0), 8640) - mr.days(100)"
      ]
    },
    {
      "cell_type": "markdown",
      "metadata": {},
      "source": [
        "And propagate one of the NAVSTAR satellites to all the dates\n\n"
      ]
    },
    {
      "cell_type": "code",
      "execution_count": null,
      "metadata": {
        "collapsed": false
      },
      "outputs": [],
      "source": [
        "obj = mr.SpaceObject('cube.obj', identifier='NAVSTAR 81 (USA 319)')\nr_eci = obj.propagate(dates)"
      ]
    },
    {
      "cell_type": "markdown",
      "metadata": {},
      "source": [
        "Converting the propagated result into ECEF, then LLA\n\n"
      ]
    },
    {
      "cell_type": "code",
      "execution_count": null,
      "metadata": {
        "collapsed": false
      },
      "outputs": [],
      "source": [
        "r_ecef = mr.stack_mat_mult_vec(mr.j2000_to_itrf(dates), r_eci)\nlla = mr.itrf_to_lla(r_ecef)"
      ]
    },
    {
      "cell_type": "markdown",
      "metadata": {},
      "source": [
        "Finally, plotting the resulting Earth-fixed trajectory with the Earth in the background\n\n"
      ]
    },
    {
      "cell_type": "code",
      "execution_count": null,
      "metadata": {
        "collapsed": false
      },
      "outputs": [],
      "source": [
        "im = Image.open(\n    os.path.join(os.environ['TEXDIR'], 'world.topo.bathy.200412.3x5400x2700.jpg')\n)\nplt.imshow(im, extent=(-180, 180, -90, 90))\nplt.scatter(np.rad2deg(lla[1]), np.rad2deg(lla[0]), s=1, c='m')\nplt.title(f'{obj.sat.satnum} Ground Track')\nplt.xlabel('Longitude [deg]')\nplt.ylabel('Latitude [deg]')\nplt.show()"
      ]
    }
  ],
  "metadata": {
    "kernelspec": {
      "display_name": "Python 3",
      "language": "python",
      "name": "python3"
    },
    "language_info": {
      "codemirror_mode": {
        "name": "ipython",
        "version": 3
      },
      "file_extension": ".py",
      "mimetype": "text/x-python",
      "name": "python",
      "nbconvert_exporter": "python",
      "pygments_lexer": "ipython3",
      "version": "3.12.7"
    }
  },
  "nbformat": 4,
  "nbformat_minor": 0
}